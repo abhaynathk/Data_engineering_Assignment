{
 "cells": [
  {
   "cell_type": "code",
   "execution_count": 123,
   "metadata": {},
   "outputs": [],
   "source": [
    "import pandas as pd"
   ]
  },
  {
   "cell_type": "code",
   "execution_count": 124,
   "metadata": {},
   "outputs": [],
   "source": [
    "df=pd.read_csv(r\"C:\\Users\\Abhay\\Downloads\\sales_data_with_nulls (1).csv\")\n",
    "df=pd.DataFrame(df)"
   ]
  },
  {
   "cell_type": "code",
   "execution_count": 125,
   "metadata": {},
   "outputs": [
    {
     "data": {
      "text/html": [
       "<div>\n",
       "<style scoped>\n",
       "    .dataframe tbody tr th:only-of-type {\n",
       "        vertical-align: middle;\n",
       "    }\n",
       "\n",
       "    .dataframe tbody tr th {\n",
       "        vertical-align: top;\n",
       "    }\n",
       "\n",
       "    .dataframe thead th {\n",
       "        text-align: right;\n",
       "    }\n",
       "</style>\n",
       "<table border=\"1\" class=\"dataframe\">\n",
       "  <thead>\n",
       "    <tr style=\"text-align: right;\">\n",
       "      <th></th>\n",
       "      <th>Date</th>\n",
       "      <th>Store_id</th>\n",
       "      <th>Product_id</th>\n",
       "      <th>Units_sold</th>\n",
       "      <th>Sales Amount</th>\n",
       "      <th>Discount Applied</th>\n",
       "      <th>Customer Segment</th>\n",
       "    </tr>\n",
       "  </thead>\n",
       "  <tbody>\n",
       "    <tr>\n",
       "      <th>0</th>\n",
       "      <td>09-11-2024</td>\n",
       "      <td>S002</td>\n",
       "      <td>NaN</td>\n",
       "      <td>76.0</td>\n",
       "      <td>199.57</td>\n",
       "      <td>15.45</td>\n",
       "      <td>NaN</td>\n",
       "    </tr>\n",
       "    <tr>\n",
       "      <th>1</th>\n",
       "      <td>21-11-2024</td>\n",
       "      <td>NaN</td>\n",
       "      <td>P005</td>\n",
       "      <td>52.0</td>\n",
       "      <td>1279.78</td>\n",
       "      <td>14.51</td>\n",
       "      <td>New</td>\n",
       "    </tr>\n",
       "    <tr>\n",
       "      <th>2</th>\n",
       "      <td>19-11-2024</td>\n",
       "      <td>S001</td>\n",
       "      <td>P007</td>\n",
       "      <td>33.0</td>\n",
       "      <td>755.12</td>\n",
       "      <td>3.80</td>\n",
       "      <td>Regular</td>\n",
       "    </tr>\n",
       "    <tr>\n",
       "      <th>3</th>\n",
       "      <td>19-11-2024</td>\n",
       "      <td>S005</td>\n",
       "      <td>P001</td>\n",
       "      <td>82.0</td>\n",
       "      <td>1316.87</td>\n",
       "      <td>3.32</td>\n",
       "      <td>New</td>\n",
       "    </tr>\n",
       "    <tr>\n",
       "      <th>4</th>\n",
       "      <td>03-11-2024</td>\n",
       "      <td>S006</td>\n",
       "      <td>P005</td>\n",
       "      <td>8869.0</td>\n",
       "      <td>160.09</td>\n",
       "      <td>15.70</td>\n",
       "      <td>Premium</td>\n",
       "    </tr>\n",
       "    <tr>\n",
       "      <th>5</th>\n",
       "      <td>30-11-2024</td>\n",
       "      <td>S006</td>\n",
       "      <td>P003</td>\n",
       "      <td>87.0</td>\n",
       "      <td>1404.44</td>\n",
       "      <td>14.30</td>\n",
       "      <td>New</td>\n",
       "    </tr>\n",
       "    <tr>\n",
       "      <th>6</th>\n",
       "      <td>17-11-2024</td>\n",
       "      <td>S006</td>\n",
       "      <td>P007</td>\n",
       "      <td>33.0</td>\n",
       "      <td>1414.32</td>\n",
       "      <td>16.62</td>\n",
       "      <td>Regular</td>\n",
       "    </tr>\n",
       "    <tr>\n",
       "      <th>7</th>\n",
       "      <td>19-11-2024</td>\n",
       "      <td>S003</td>\n",
       "      <td>P002</td>\n",
       "      <td>88.0</td>\n",
       "      <td>891.87</td>\n",
       "      <td>14.25</td>\n",
       "      <td>NaN</td>\n",
       "    </tr>\n",
       "    <tr>\n",
       "      <th>8</th>\n",
       "      <td>20-11-2024</td>\n",
       "      <td>S002</td>\n",
       "      <td>P003</td>\n",
       "      <td>0.0</td>\n",
       "      <td>1307.87</td>\n",
       "      <td>11.09</td>\n",
       "      <td>Regular</td>\n",
       "    </tr>\n",
       "    <tr>\n",
       "      <th>9</th>\n",
       "      <td>29-11-2024</td>\n",
       "      <td>S005</td>\n",
       "      <td>P003</td>\n",
       "      <td>31.0</td>\n",
       "      <td>500.71</td>\n",
       "      <td>1.62</td>\n",
       "      <td>Premium</td>\n",
       "    </tr>\n",
       "  </tbody>\n",
       "</table>\n",
       "</div>"
      ],
      "text/plain": [
       "         Date Store_id Product_id  Units_sold  Sales Amount  Discount Applied  \\\n",
       "0  09-11-2024     S002        NaN        76.0        199.57             15.45   \n",
       "1  21-11-2024      NaN       P005        52.0       1279.78             14.51   \n",
       "2  19-11-2024     S001       P007        33.0        755.12              3.80   \n",
       "3  19-11-2024     S005       P001        82.0       1316.87              3.32   \n",
       "4  03-11-2024     S006       P005      8869.0        160.09             15.70   \n",
       "5  30-11-2024     S006       P003        87.0       1404.44             14.30   \n",
       "6  17-11-2024     S006       P007        33.0       1414.32             16.62   \n",
       "7  19-11-2024     S003       P002        88.0        891.87             14.25   \n",
       "8  20-11-2024     S002       P003         0.0       1307.87             11.09   \n",
       "9  29-11-2024     S005       P003        31.0        500.71              1.62   \n",
       "\n",
       "  Customer Segment  \n",
       "0              NaN  \n",
       "1              New  \n",
       "2          Regular  \n",
       "3              New  \n",
       "4          Premium  \n",
       "5              New  \n",
       "6          Regular  \n",
       "7              NaN  \n",
       "8          Regular  \n",
       "9          Premium  "
      ]
     },
     "execution_count": 125,
     "metadata": {},
     "output_type": "execute_result"
    }
   ],
   "source": [
    "df.head(10)"
   ]
  },
  {
   "cell_type": "code",
   "execution_count": 126,
   "metadata": {},
   "outputs": [
    {
     "data": {
      "text/html": [
       "<div>\n",
       "<style scoped>\n",
       "    .dataframe tbody tr th:only-of-type {\n",
       "        vertical-align: middle;\n",
       "    }\n",
       "\n",
       "    .dataframe tbody tr th {\n",
       "        vertical-align: top;\n",
       "    }\n",
       "\n",
       "    .dataframe thead th {\n",
       "        text-align: right;\n",
       "    }\n",
       "</style>\n",
       "<table border=\"1\" class=\"dataframe\">\n",
       "  <thead>\n",
       "    <tr style=\"text-align: right;\">\n",
       "      <th></th>\n",
       "      <th>Date</th>\n",
       "      <th>Store_id</th>\n",
       "      <th>Product_id</th>\n",
       "      <th>Units_sold</th>\n",
       "      <th>Sales Amount</th>\n",
       "      <th>Discount Applied</th>\n",
       "      <th>Customer Segment</th>\n",
       "    </tr>\n",
       "  </thead>\n",
       "  <tbody>\n",
       "    <tr>\n",
       "      <th>990</th>\n",
       "      <td>01-11-2024</td>\n",
       "      <td>S003</td>\n",
       "      <td>P002</td>\n",
       "      <td>50.0</td>\n",
       "      <td>369.66</td>\n",
       "      <td>11.05</td>\n",
       "      <td>Regular</td>\n",
       "    </tr>\n",
       "    <tr>\n",
       "      <th>991</th>\n",
       "      <td>23-11-2024</td>\n",
       "      <td>S005</td>\n",
       "      <td>P003</td>\n",
       "      <td>56.0</td>\n",
       "      <td>998.53</td>\n",
       "      <td>5.66</td>\n",
       "      <td>NaN</td>\n",
       "    </tr>\n",
       "    <tr>\n",
       "      <th>992</th>\n",
       "      <td>18-11-2024</td>\n",
       "      <td>NaN</td>\n",
       "      <td>P004</td>\n",
       "      <td>NaN</td>\n",
       "      <td>1348.04</td>\n",
       "      <td>NaN</td>\n",
       "      <td>New</td>\n",
       "    </tr>\n",
       "    <tr>\n",
       "      <th>993</th>\n",
       "      <td>03-11-2024</td>\n",
       "      <td>S001</td>\n",
       "      <td>P003</td>\n",
       "      <td>98.0</td>\n",
       "      <td>1323.56</td>\n",
       "      <td>0.49</td>\n",
       "      <td>Premium</td>\n",
       "    </tr>\n",
       "    <tr>\n",
       "      <th>994</th>\n",
       "      <td>21-11-2024</td>\n",
       "      <td>S001</td>\n",
       "      <td>P006</td>\n",
       "      <td>99.0</td>\n",
       "      <td>1052.76</td>\n",
       "      <td>1.14</td>\n",
       "      <td>NaN</td>\n",
       "    </tr>\n",
       "    <tr>\n",
       "      <th>995</th>\n",
       "      <td>20-11-2024</td>\n",
       "      <td>S001</td>\n",
       "      <td>P007</td>\n",
       "      <td>18.0</td>\n",
       "      <td>697.75</td>\n",
       "      <td>10.19</td>\n",
       "      <td>Regular</td>\n",
       "    </tr>\n",
       "    <tr>\n",
       "      <th>996</th>\n",
       "      <td>24-11-2024</td>\n",
       "      <td>S002</td>\n",
       "      <td>P002</td>\n",
       "      <td>97.0</td>\n",
       "      <td>364.04</td>\n",
       "      <td>NaN</td>\n",
       "      <td>Regular</td>\n",
       "    </tr>\n",
       "    <tr>\n",
       "      <th>997</th>\n",
       "      <td>20-11-2024</td>\n",
       "      <td>S003</td>\n",
       "      <td>P005</td>\n",
       "      <td>56.0</td>\n",
       "      <td>391.80</td>\n",
       "      <td>10.22</td>\n",
       "      <td>Premium</td>\n",
       "    </tr>\n",
       "    <tr>\n",
       "      <th>998</th>\n",
       "      <td>24-11-2024</td>\n",
       "      <td>S003</td>\n",
       "      <td>P007</td>\n",
       "      <td>11.0</td>\n",
       "      <td>1474.29</td>\n",
       "      <td>14.26</td>\n",
       "      <td>Premium</td>\n",
       "    </tr>\n",
       "    <tr>\n",
       "      <th>999</th>\n",
       "      <td>15-11-2024</td>\n",
       "      <td>S003</td>\n",
       "      <td>P004</td>\n",
       "      <td>46.0</td>\n",
       "      <td>1249.33</td>\n",
       "      <td>14.10</td>\n",
       "      <td>Premium</td>\n",
       "    </tr>\n",
       "  </tbody>\n",
       "</table>\n",
       "</div>"
      ],
      "text/plain": [
       "           Date Store_id Product_id  Units_sold  Sales Amount  \\\n",
       "990  01-11-2024     S003       P002        50.0        369.66   \n",
       "991  23-11-2024     S005       P003        56.0        998.53   \n",
       "992  18-11-2024      NaN       P004         NaN       1348.04   \n",
       "993  03-11-2024     S001       P003        98.0       1323.56   \n",
       "994  21-11-2024     S001       P006        99.0       1052.76   \n",
       "995  20-11-2024     S001       P007        18.0        697.75   \n",
       "996  24-11-2024     S002       P002        97.0        364.04   \n",
       "997  20-11-2024     S003       P005        56.0        391.80   \n",
       "998  24-11-2024     S003       P007        11.0       1474.29   \n",
       "999  15-11-2024     S003       P004        46.0       1249.33   \n",
       "\n",
       "     Discount Applied Customer Segment  \n",
       "990             11.05          Regular  \n",
       "991              5.66              NaN  \n",
       "992               NaN              New  \n",
       "993              0.49          Premium  \n",
       "994              1.14              NaN  \n",
       "995             10.19          Regular  \n",
       "996               NaN          Regular  \n",
       "997             10.22          Premium  \n",
       "998             14.26          Premium  \n",
       "999             14.10          Premium  "
      ]
     },
     "execution_count": 126,
     "metadata": {},
     "output_type": "execute_result"
    }
   ],
   "source": [
    "df.tail(10)"
   ]
  },
  {
   "cell_type": "code",
   "execution_count": 127,
   "metadata": {},
   "outputs": [
    {
     "data": {
      "text/plain": [
       "<bound method NDFrame.describe of            Date Store_id Product_id  Units_sold  Sales Amount  \\\n",
       "0    09-11-2024     S002        NaN        76.0        199.57   \n",
       "1    21-11-2024      NaN       P005        52.0       1279.78   \n",
       "2    19-11-2024     S001       P007        33.0        755.12   \n",
       "3    19-11-2024     S005       P001        82.0       1316.87   \n",
       "4    03-11-2024     S006       P005      8869.0        160.09   \n",
       "..          ...      ...        ...         ...           ...   \n",
       "995  20-11-2024     S001       P007        18.0        697.75   \n",
       "996  24-11-2024     S002       P002        97.0        364.04   \n",
       "997  20-11-2024     S003       P005        56.0        391.80   \n",
       "998  24-11-2024     S003       P007        11.0       1474.29   \n",
       "999  15-11-2024     S003       P004        46.0       1249.33   \n",
       "\n",
       "     Discount Applied Customer Segment  \n",
       "0               15.45              NaN  \n",
       "1               14.51              New  \n",
       "2                3.80          Regular  \n",
       "3                3.32              New  \n",
       "4               15.70          Premium  \n",
       "..                ...              ...  \n",
       "995             10.19          Regular  \n",
       "996               NaN          Regular  \n",
       "997             10.22          Premium  \n",
       "998             14.26          Premium  \n",
       "999             14.10          Premium  \n",
       "\n",
       "[1000 rows x 7 columns]>"
      ]
     },
     "execution_count": 127,
     "metadata": {},
     "output_type": "execute_result"
    }
   ],
   "source": [
    "df.describe"
   ]
  },
  {
   "cell_type": "code",
   "execution_count": 128,
   "metadata": {},
   "outputs": [
    {
     "data": {
      "text/plain": [
       "(1000, 7)"
      ]
     },
     "execution_count": 128,
     "metadata": {},
     "output_type": "execute_result"
    }
   ],
   "source": [
    "df.shape"
   ]
  },
  {
   "cell_type": "code",
   "execution_count": 129,
   "metadata": {},
   "outputs": [
    {
     "data": {
      "text/plain": [
       "Date                 98\n",
       "Store_id            103\n",
       "Product_id          100\n",
       "Units_sold           96\n",
       "Sales Amount         95\n",
       "Discount Applied     82\n",
       "Customer Segment     98\n",
       "dtype: int64"
      ]
     },
     "execution_count": 129,
     "metadata": {},
     "output_type": "execute_result"
    }
   ],
   "source": [
    "#checking for null values\n",
    "df.isnull().sum()"
   ]
  },
  {
   "cell_type": "code",
   "execution_count": 130,
   "metadata": {},
   "outputs": [
    {
     "name": "stderr",
     "output_type": "stream",
     "text": [
      "C:\\Users\\Abhay\\AppData\\Local\\Temp\\ipykernel_50064\\1320109866.py:3: FutureWarning:\n",
      "\n",
      "A value is trying to be set on a copy of a DataFrame or Series through chained assignment using an inplace method.\n",
      "The behavior will change in pandas 3.0. This inplace method will never work because the intermediate object on which we are setting values always behaves as a copy.\n",
      "\n",
      "For example, when doing 'df[col].method(value, inplace=True)', try using 'df.method({col: value}, inplace=True)' or df[col] = df[col].method(value) instead, to perform the operation inplace on the original object.\n",
      "\n",
      "\n",
      "\n",
      "C:\\Users\\Abhay\\AppData\\Local\\Temp\\ipykernel_50064\\1320109866.py:4: FutureWarning:\n",
      "\n",
      "A value is trying to be set on a copy of a DataFrame or Series through chained assignment using an inplace method.\n",
      "The behavior will change in pandas 3.0. This inplace method will never work because the intermediate object on which we are setting values always behaves as a copy.\n",
      "\n",
      "For example, when doing 'df[col].method(value, inplace=True)', try using 'df.method({col: value}, inplace=True)' or df[col] = df[col].method(value) instead, to perform the operation inplace on the original object.\n",
      "\n",
      "\n",
      "\n",
      "C:\\Users\\Abhay\\AppData\\Local\\Temp\\ipykernel_50064\\1320109866.py:5: FutureWarning:\n",
      "\n",
      "A value is trying to be set on a copy of a DataFrame or Series through chained assignment using an inplace method.\n",
      "The behavior will change in pandas 3.0. This inplace method will never work because the intermediate object on which we are setting values always behaves as a copy.\n",
      "\n",
      "For example, when doing 'df[col].method(value, inplace=True)', try using 'df.method({col: value}, inplace=True)' or df[col] = df[col].method(value) instead, to perform the operation inplace on the original object.\n",
      "\n",
      "\n",
      "\n"
     ]
    }
   ],
   "source": [
    "#Handling missing values\n",
    "# Fill missing values for numerical columns with median values\n",
    "df['Units_sold'].fillna(df['Units_sold'].median(), inplace=True)\n",
    "df['Sales Amount'].fillna(df['Sales Amount'].median(), inplace=True)\n",
    "df['Discount Applied'].fillna(df['Discount Applied'].median(), inplace=True)"
   ]
  },
  {
   "cell_type": "code",
   "execution_count": 131,
   "metadata": {},
   "outputs": [
    {
     "name": "stderr",
     "output_type": "stream",
     "text": [
      "C:\\Users\\Abhay\\AppData\\Local\\Temp\\ipykernel_50064\\3540969044.py:2: FutureWarning:\n",
      "\n",
      "A value is trying to be set on a copy of a DataFrame or Series through chained assignment using an inplace method.\n",
      "The behavior will change in pandas 3.0. This inplace method will never work because the intermediate object on which we are setting values always behaves as a copy.\n",
      "\n",
      "For example, when doing 'df[col].method(value, inplace=True)', try using 'df.method({col: value}, inplace=True)' or df[col] = df[col].method(value) instead, to perform the operation inplace on the original object.\n",
      "\n",
      "\n",
      "\n",
      "C:\\Users\\Abhay\\AppData\\Local\\Temp\\ipykernel_50064\\3540969044.py:3: FutureWarning:\n",
      "\n",
      "A value is trying to be set on a copy of a DataFrame or Series through chained assignment using an inplace method.\n",
      "The behavior will change in pandas 3.0. This inplace method will never work because the intermediate object on which we are setting values always behaves as a copy.\n",
      "\n",
      "For example, when doing 'df[col].method(value, inplace=True)', try using 'df.method({col: value}, inplace=True)' or df[col] = df[col].method(value) instead, to perform the operation inplace on the original object.\n",
      "\n",
      "\n",
      "\n",
      "C:\\Users\\Abhay\\AppData\\Local\\Temp\\ipykernel_50064\\3540969044.py:4: FutureWarning:\n",
      "\n",
      "A value is trying to be set on a copy of a DataFrame or Series through chained assignment using an inplace method.\n",
      "The behavior will change in pandas 3.0. This inplace method will never work because the intermediate object on which we are setting values always behaves as a copy.\n",
      "\n",
      "For example, when doing 'df[col].method(value, inplace=True)', try using 'df.method({col: value}, inplace=True)' or df[col] = df[col].method(value) instead, to perform the operation inplace on the original object.\n",
      "\n",
      "\n",
      "\n"
     ]
    }
   ],
   "source": [
    "# Fill missing values for categorical columns with mode\n",
    "df['Store_id'].fillna(df['Store_id'].mode()[0], inplace=True)\n",
    "df['Product_id'].fillna(df['Product_id'].mode()[0], inplace=True)\n",
    "df['Customer Segment'].fillna(df['Customer Segment'].mode()[0], inplace=True)"
   ]
  },
  {
   "cell_type": "code",
   "execution_count": 132,
   "metadata": {},
   "outputs": [
    {
     "data": {
      "text/plain": [
       "Date                 object\n",
       "Store_id             object\n",
       "Product_id           object\n",
       "Units_sold          float64\n",
       "Sales Amount        float64\n",
       "Discount Applied    float64\n",
       "Customer Segment     object\n",
       "dtype: object"
      ]
     },
     "execution_count": 132,
     "metadata": {},
     "output_type": "execute_result"
    }
   ],
   "source": [
    "#checking the datatypes\n",
    "df.dtypes"
   ]
  },
  {
   "cell_type": "code",
   "execution_count": 152,
   "metadata": {},
   "outputs": [
    {
     "name": "stderr",
     "output_type": "stream",
     "text": [
      "C:\\Users\\Abhay\\AppData\\Local\\Temp\\ipykernel_50064\\804275293.py:2: SettingWithCopyWarning:\n",
      "\n",
      "\n",
      "A value is trying to be set on a copy of a slice from a DataFrame.\n",
      "Try using .loc[row_indexer,col_indexer] = value instead\n",
      "\n",
      "See the caveats in the documentation: https://pandas.pydata.org/pandas-docs/stable/user_guide/indexing.html#returning-a-view-versus-a-copy\n",
      "\n"
     ]
    }
   ],
   "source": [
    "# Convert the 'Date' column to datetime\n",
    "df['Date'] = pd.to_datetime(df['Date'], errors='coerce')"
   ]
  },
  {
   "cell_type": "code",
   "execution_count": 153,
   "metadata": {},
   "outputs": [
    {
     "data": {
      "text/plain": [
       "Date                datetime64[ns]\n",
       "Store_id                    object\n",
       "Product_id                  object\n",
       "Units_sold                 float64\n",
       "Sales Amount               float64\n",
       "Discount Applied           float64\n",
       "Customer Segment            object\n",
       "dtype: object"
      ]
     },
     "execution_count": 153,
     "metadata": {},
     "output_type": "execute_result"
    }
   ],
   "source": [
    "#checking the datatypes\n",
    "df.dtypes"
   ]
  },
  {
   "cell_type": "code",
   "execution_count": 133,
   "metadata": {},
   "outputs": [
    {
     "data": {
      "image/png": "[encoded data removed]",
      "text/plain": [
       "<Figure size 1000x600 with 1 Axes>"
      ]
     },
     "metadata": {},
     "output_type": "display_data"
    }
   ],
   "source": [
    "#Checking for outliers\n",
    "import matplotlib.pyplot as plt\n",
    "import seaborn as sns\n",
    "import numpy as np\n",
    "# Plotting\n",
    "plt.figure(figsize=(10, 6))\n",
    "sns.boxplot(df)\n",
    "\n",
    "# Displaying the plot\n",
    "plt.title(\"Box Plot for Outlier Detection\")\n",
    "plt.xlabel(\"Data\")\n",
    "plt.show()"
   ]
  },
  {
   "cell_type": "code",
   "execution_count": 134,
   "metadata": {},
   "outputs": [],
   "source": [
    "# Remove outliers based on the interquartile range (IQR)\n",
    "Q1 = df['Units_sold'].quantile(0.25)\n",
    "Q3 = df['Units_sold'].quantile(0.75)\n",
    "IQR = Q3 - Q1\n",
    "df = df[(df['Units_sold'] >= Q1 - 1.5 * IQR) & (df['Units_sold'] <= Q3 + 1.5 * IQR)]"
   ]
  },
  {
   "cell_type": "code",
   "execution_count": 135,
   "metadata": {},
   "outputs": [
    {
     "data": {
      "image/png": "[encoded data removed]",
      "text/plain": [
       "<Figure size 1000x600 with 1 Axes>"
      ]
     },
     "metadata": {},
     "output_type": "display_data"
    }
   ],
   "source": [
    "#Checking for outliers after outlier handling\n",
    "import matplotlib.pyplot as plt\n",
    "import seaborn as sns\n",
    "import numpy as np\n",
    "# Plotting\n",
    "plt.figure(figsize=(10, 6))\n",
    "sns.boxplot(df)\n",
    "\n",
    "# Displaying the plot\n",
    "plt.title(\"Box Plot for Outlier Detection\")\n",
    "plt.xlabel(\"Data\")\n",
    "plt.show()"
   ]
  },
  {
   "cell_type": "code",
   "execution_count": 136,
   "metadata": {},
   "outputs": [],
   "source": [
    "# Total sales by date\n",
    "sales_by_date = df.groupby('Date').agg({'Sales Amount': 'sum'}).reset_index()\n"
   ]
  },
  {
   "cell_type": "code",
   "execution_count": 137,
   "metadata": {},
   "outputs": [],
   "source": [
    "# Total sales and average units sold per product\n",
    "sales_by_product = df.groupby('Product_id').agg({\n",
    "    'Sales Amount': 'sum',\n",
    "    'Units_sold': 'mean'\n",
    "}).reset_index()"
   ]
  },
  {
   "cell_type": "code",
   "execution_count": 138,
   "metadata": {},
   "outputs": [],
   "source": [
    "# Total sales by store\n",
    "sales_by_store = df.groupby('Store_id').agg({'Sales Amount': 'sum'}).reset_index()"
   ]
  },
  {
   "cell_type": "code",
   "execution_count": 139,
   "metadata": {},
   "outputs": [],
   "source": [
    "# Store with highest sales performance\n",
    "top_store = sales_by_store[sales_by_store['Sales Amount'] == sales_by_store['Sales Amount'].max()]"
   ]
  },
  {
   "cell_type": "code",
   "execution_count": 140,
   "metadata": {},
   "outputs": [],
   "source": [
    "# Calculate average sales per product\n",
    "avg_sales_per_product = sales_by_product[['Product_id', 'Sales Amount']]\n"
   ]
  },
  {
   "cell_type": "code",
   "execution_count": 141,
   "metadata": {},
   "outputs": [
    {
     "name": "stdout",
     "output_type": "stream",
     "text": [
      "Correlation between Discount Applied and Sales Amount: -0.03076711076974015\n"
     ]
    }
   ],
   "source": [
    "# Check correlation between discount and sales amount to see impact\n",
    "correlation = df[['Discount Applied', 'Sales Amount']].corr()\n",
    "\n",
    "print(\"Correlation between Discount Applied and Sales Amount:\", correlation.loc['Discount Applied', 'Sales Amount'])"
   ]
  },
  {
   "cell_type": "markdown",
   "metadata": {},
   "source": [
    "Storing the preproccesed data to a csv file"
   ]
  },
  {
   "cell_type": "code",
   "execution_count": 154,
   "metadata": {},
   "outputs": [],
   "source": [
    "\n",
    "# Save the preprocessed DataFrame to a CSV file\n",
    "df.to_csv('preprocessed_sales_data.csv', index=False)"
   ]
  },
  {
   "cell_type": "markdown",
   "metadata": {},
   "source": [
    "Sales Trends Over Time:"
   ]
  },
  {
   "cell_type": "code",
   "execution_count": 142,
   "metadata": {},
   "outputs": [
    {
     "data": {
      "image/png": "[encoded data removed]",
      "text/plain": [
       "<Figure size 2000x600 with 1 Axes>"
      ]
     },
     "metadata": {},
     "output_type": "display_data"
    }
   ],
   "source": [
    "import matplotlib.pyplot as plt\n",
    "\n",
    "plt.figure(figsize=(20, 6))\n",
    "plt.plot(sales_by_date['Date'], sales_by_date['Sales Amount'], marker='o', color='b')\n",
    "plt.title(\"Sales Trends Over Time\")\n",
    "plt.xlabel(\"Date\")\n",
    "plt.ylabel(\"Total Sales Amount\")\n",
    "plt.show()"
   ]
  },
  {
   "cell_type": "markdown",
   "metadata": {},
   "source": [
    "Sales Distribution Across Different Stores:"
   ]
  },
  {
   "cell_type": "code",
   "execution_count": 143,
   "metadata": {},
   "outputs": [
    {
     "data": {
      "image/png": "[encoded data removed]",
      "text/plain": [
       "<Figure size 1000x600 with 1 Axes>"
      ]
     },
     "metadata": {},
     "output_type": "display_data"
    }
   ],
   "source": [
    "plt.figure(figsize=(10, 6))\n",
    "plt.bar(sales_by_store['Store_id'], sales_by_store['Sales Amount'], color='purple')\n",
    "plt.title(\"Sales Distribution Across Stores\")\n",
    "plt.xlabel(\"Store ID\")\n",
    "plt.ylabel(\"Total Sales Amount\")\n",
    "plt.show()\n"
   ]
  },
  {
   "cell_type": "markdown",
   "metadata": {},
   "source": [
    "Performance Comparison of Products:"
   ]
  },
  {
   "cell_type": "code",
   "execution_count": 144,
   "metadata": {},
   "outputs": [
    {
     "data": {
      "image/png": "[encoded data removed]",
      "text/plain": [
       "<Figure size 1000x600 with 1 Axes>"
      ]
     },
     "metadata": {},
     "output_type": "display_data"
    }
   ],
   "source": [
    "plt.figure(figsize=(10, 6))\n",
    "plt.bar(sales_by_product['Product_id'], sales_by_product['Sales Amount'], color='black')\n",
    "plt.title(\"Sales Performance Comparison by Product\")\n",
    "plt.xlabel(\"Product ID\")\n",
    "plt.ylabel(\"Total Sales Amount\")\n",
    "plt.show()\n"
   ]
  },
  {
   "cell_type": "markdown",
   "metadata": {},
   "source": [
    "Discount Impact on Sales Amount:"
   ]
  },
  {
   "cell_type": "code",
   "execution_count": 145,
   "metadata": {},
   "outputs": [
    {
     "data": {
      "image/png": "[encoded data removed]",
      "text/plain": [
       "<Figure size 1000x600 with 1 Axes>"
      ]
     },
     "metadata": {},
     "output_type": "display_data"
    }
   ],
   "source": [
    "plt.figure(figsize=(10, 6))\n",
    "plt.scatter(df['Discount Applied'], df['Sales Amount'], alpha=0.5)\n",
    "plt.title(\"Impact of Discounts on Sales Amount\")\n",
    "plt.xlabel(\"Discount Applied\")\n",
    "plt.ylabel(\"Sales Amount\")\n",
    "plt.show()\n"
   ]
  },
  {
   "cell_type": "markdown",
   "metadata": {},
   "source": [
    "Interactive graphs"
   ]
  },
  {
   "cell_type": "code",
   "execution_count": 146,
   "metadata": {},
   "outputs": [],
   "source": [
    "import plotly.express as px\n",
    "import plotly.graph_objects as go\n"
   ]
  },
  {
   "cell_type": "code",
   "execution_count": 147,
   "metadata": {},
   "outputs": [
    {
     "data": {
      "application/vnd.plotly.v1+json": {
       "config": {
        "plotlyServerURL": "https://plot.ly"
       },
       "data": [
        {
         "hovertemplate": "Date=%{x}<br>Sales Amount=%{y}<extra></extra>",
         "legendgroup": "",
         "line": {
          "color": "#636efa",
          "dash": "solid"
         },
         "marker": {
          "symbol": "circle"
         },
         "mode": "lines+markers",
         "name": "",
         "orientation": "v",
         "showlegend": false,
         "type": "scatter",
         "x": [
          "01-11-2024",
          "01-12-2024",
          "02-11-2024",
          "03-11-2024",
          "04-11-2024",
          "05-11-2024",
          "06-11-2024",
          "07-11-2024",
          "08-11-2024",
          "09-11-2024",
          "10-11-2024",
          "11-11-2024",
          "12-11-2024",
          "13-11-2024",
          "14-11-2024",
          "15-11-2024",
          "16-11-2024",
          "17-11-2024",
          "18-11-2024",
          "19-11-2024",
          "20-11-2024",
          "21-11-2024",
          "22-11-2024",
          "23-11-2024",
          "24-11-2024",
          "25-11-2024",
          "26-11-2024",
          "27-11-2024",
          "28-11-2024",
          "29-11-2024",
          "30-11-2024"
         ],
         "xaxis": "x",
         "y": [
          22814.33,
          16933.53,
          21888.39,
          27310.47,
          18996.08,
          22642.62,
          22801.09,
          26164.72,
          23339,
          17732.75,
          20485.02,
          28293.29,
          20369.16,
          23101.16,
          27163.07,
          15551.3,
          18074.7,
          26435.23,
          23020.54,
          26009.71,
          27196.55,
          18614.42,
          22526.33,
          23491.32,
          22043.010000000002,
          18675.42,
          19605.329999999998,
          34570.19,
          34741.840000000004,
          20821.76,
          24844.97
         ],
         "yaxis": "y"
        }
       ],
       "layout": {
        "legend": {
         "tracegroupgap": 0
        },
        "template": {
         "data": {
          "bar": [
           {
            "error_x": {
             "color": "#2a3f5f"
            },
            "error_y": {
             "color": "#2a3f5f"
            },
            "marker": {
             "line": {
              "color": "#E5ECF6",
              "width": 0.5
             },
             "pattern": {
              "fillmode": "overlay",
              "size": 10,
              "solidity": 0.2
             }
            },
            "type": "bar"
           }
          ],
          "barpolar": [
           {
            "marker": {
             "line": {
              "color": "#E5ECF6",
              "width": 0.5
             },
             "pattern": {
              "fillmode": "overlay",
              "size": 10,
              "solidity": 0.2
             }
            },
            "type": "barpolar"
           }
          ],
          "carpet": [
           {
            "aaxis": {
             "endlinecolor": "#2a3f5f",
             "gridcolor": "white",
             "linecolor": "white",
             "minorgridcolor": "white",
             "startlinecolor": "#2a3f5f"
            },
            "baxis": {
             "endlinecolor": "#2a3f5f",
             "gridcolor": "white",
             "linecolor": "white",
             "minorgridcolor": "white",
             "startlinecolor": "#2a3f5f"
            },
            "type": "carpet"
           }
          ],
          "choropleth": [
           {
            "colorbar": {
             "outlinewidth": 0,
             "ticks": ""
            },
            "type": "choropleth"
           }
          ],
          "contour": [
           {
            "colorbar": {
             "outlinewidth": 0,
             "ticks": ""
            },
            "colorscale": [
             [
              0,
              "#0d0887"
             ],
             [
              0.1111111111111111,
              "#46039f"
             ],
             [
              0.2222222222222222,
              "#7201a8"
             ],
             [
              0.3333333333333333,
              "#9c179e"
             ],
             [
              0.4444444444444444,
              "#bd3786"
             ],
             [
              0.5555555555555556,
              "#d8576b"
             ],
             [
              0.6666666666666666,
              "#ed7953"
             ],
             [
              0.7777777777777778,
              "#fb9f3a"
             ],
             [
              0.8888888888888888,
              "#fdca26"
             ],
             [
              1,
              "#f0f921"
             ]
            ],
            "type": "contour"
           }
          ],
          "contourcarpet": [
           {
            "colorbar": {
             "outlinewidth": 0,
             "ticks": ""
            },
            "type": "contourcarpet"
           }
          ],
          "heatmap": [
           {
            "colorbar": {
             "outlinewidth": 0,
             "ticks": ""
            },
            "colorscale": [
             [
              0,
              "#0d0887"
             ],
             [
              0.1111111111111111,
              "#46039f"
             ],
             [
              0.2222222222222222,
              "#7201a8"
             ],
             [
              0.3333333333333333,
              "#9c179e"
             ],
             [
              0.4444444444444444,
              "#bd3786"
             ],
             [
              0.5555555555555556,
              "#d8576b"
             ],
             [
              0.6666666666666666,
              "#ed7953"
             ],
             [
              0.7777777777777778,
              "#fb9f3a"
             ],
             [
              0.8888888888888888,
              "#fdca26"
             ],
             [
              1,
              "#f0f921"
             ]
            ],
            "type": "heatmap"
           }
          ],
          "heatmapgl": [
           {
            "colorbar": {
             "outlinewidth": 0,
             "ticks": ""
            },
            "colorscale": [
             [
              0,
              "#0d0887"
             ],
             [
              0.1111111111111111,
              "#46039f"
             ],
             [
              0.2222222222222222,
              "#7201a8"
             ],
             [
              0.3333333333333333,
              "#9c179e"
             ],
             [
              0.4444444444444444,
              "#bd3786"
             ],
             [
              0.5555555555555556,
              "#d8576b"
             ],
             [
              0.6666666666666666,
              "#ed7953"
             ],
             [
              0.7777777777777778,
              "#fb9f3a"
             ],
             [
              0.8888888888888888,
              "#fdca26"
             ],
             [
              1,
              "#f0f921"
             ]
            ],
            "type": "heatmapgl"
           }
          ],
          "histogram": [
           {
            "marker": {
             "pattern": {
              "fillmode": "overlay",
              "size": 10,
              "solidity": 0.2
             }
            },
            "type": "histogram"
           }
          ],
          "histogram2d": [
           {
            "colorbar": {
             "outlinewidth": 0,
             "ticks": ""
            },
            "colorscale": [
             [
              0,
              "#0d0887"
             ],
             [
              0.1111111111111111,
              "#46039f"
             ],
             [
              0.2222222222222222,
              "#7201a8"
             ],
             [
              0.3333333333333333,
              "#9c179e"
             ],
             [
              0.4444444444444444,
              "#bd3786"
             ],
             [
              0.5555555555555556,
              "#d8576b"
             ],
             [
              0.6666666666666666,
              "#ed7953"
             ],
             [
              0.7777777777777778,
              "#fb9f3a"
             ],
             [
              0.8888888888888888,
              "#fdca26"
             ],
             [
              1,
              "#f0f921"
             ]
            ],
            "type": "histogram2d"
           }
          ],
          "histogram2dcontour": [
           {
            "colorbar": {
             "outlinewidth": 0,
             "ticks": ""
            },
            "colorscale": [
             [
              0,
              "#0d0887"
             ],
             [
              0.1111111111111111,
              "#46039f"
             ],
             [
              0.2222222222222222,
              "#7201a8"
             ],
             [
              0.3333333333333333,
              "#9c179e"
             ],
             [
              0.4444444444444444,
              "#bd3786"
             ],
             [
              0.5555555555555556,
              "#d8576b"
             ],
             [
              0.6666666666666666,
              "#ed7953"
             ],
             [
              0.7777777777777778,
              "#fb9f3a"
             ],
             [
              0.8888888888888888,
              "#fdca26"
             ],
             [
              1,
              "#f0f921"
             ]
            ],
            "type": "histogram2dcontour"
           }
          ],
          "mesh3d": [
           {
            "colorbar": {
             "outlinewidth": 0,
             "ticks": ""
            },
            "type": "mesh3d"
           }
          ],
          "parcoords": [
           {
            "line": {
             "colorbar": {
              "outlinewidth": 0,
              "ticks": ""
             }
            },
            "type": "parcoords"
           }
          ],
          "pie": [
           {
            "automargin": true,
            "type": "pie"
           }
          ],
          "scatter": [
           {
            "fillpattern": {
             "fillmode": "overlay",
             "size": 10,
             "solidity": 0.2
            },
            "type": "scatter"
           }
          ],
          "scatter3d": [
           {
            "line": {
             "colorbar": {
              "outlinewidth": 0,
              "ticks": ""
             }
            },
            "marker": {
             "colorbar": {
              "outlinewidth": 0,
              "ticks": ""
             }
            },
            "type": "scatter3d"
           }
          ],
          "scattercarpet": [
           {
            "marker": {
             "colorbar": {
              "outlinewidth": 0,
              "ticks": ""
             }
            },
            "type": "scattercarpet"
           }
          ],
          "scattergeo": [
           {
            "marker": {
             "colorbar": {
              "outlinewidth": 0,
              "ticks": ""
             }
            },
            "type": "scattergeo"
           }
          ],
          "scattergl": [
           {
            "marker": {
             "colorbar": {
              "outlinewidth": 0,
              "ticks": ""
             }
            },
            "type": "scattergl"
           }
          ],
          "scattermapbox": [
           {
            "marker": {
             "colorbar": {
              "outlinewidth": 0,
              "ticks": ""
             }
            },
            "type": "scattermapbox"
           }
          ],
          "scatterpolar": [
           {
            "marker": {
             "colorbar": {
              "outlinewidth": 0,
              "ticks": ""
             }
            },
            "type": "scatterpolar"
           }
          ],
          "scatterpolargl": [
           {
            "marker": {
             "colorbar": {
              "outlinewidth": 0,
              "ticks": ""
             }
            },
            "type": "scatterpolargl"
           }
          ],
          "scatterternary": [
           {
            "marker": {
             "colorbar": {
              "outlinewidth": 0,
              "ticks": ""
             }
            },
            "type": "scatterternary"
           }
          ],
          "surface": [
           {
            "colorbar": {
             "outlinewidth": 0,
             "ticks": ""
            },
            "colorscale": [
             [
              0,
              "#0d0887"
             ],
             [
              0.1111111111111111,
              "#46039f"
             ],
             [
              0.2222222222222222,
              "#7201a8"
             ],
             [
              0.3333333333333333,
              "#9c179e"
             ],
             [
              0.4444444444444444,
              "#bd3786"
             ],
             [
              0.5555555555555556,
              "#d8576b"
             ],
             [
              0.6666666666666666,
              "#ed7953"
             ],
             [
              0.7777777777777778,
              "#fb9f3a"
             ],
             [
              0.8888888888888888,
              "#fdca26"
             ],
             [
              1,
              "#f0f921"
             ]
            ],
            "type": "surface"
           }
          ],
          "table": [
           {
            "cells": {
             "fill": {
              "color": "#EBF0F8"
             },
             "line": {
              "color": "white"
             }
            },
            "header": {
             "fill": {
              "color": "#C8D4E3"
             },
             "line": {
              "color": "white"
             }
            },
            "type": "table"
           }
          ]
         },
         "layout": {
          "annotationdefaults": {
           "arrowcolor": "#2a3f5f",
           "arrowhead": 0,
           "arrowwidth": 1
          },
          "autotypenumbers": "strict",
          "coloraxis": {
           "colorbar": {
            "outlinewidth": 0,
            "ticks": ""
           }
          },
          "colorscale": {
           "diverging": [
            [
             0,
             "#8e0152"
            ],
            [
             0.1,
             "#c51b7d"
            ],
            [
             0.2,
             "#de77ae"
            ],
            [
             0.3,
             "#f1b6da"
            ],
            [
             0.4,
             "#fde0ef"
            ],
            [
             0.5,
             "#f7f7f7"
            ],
            [
             0.6,
             "#e6f5d0"
            ],
            [
             0.7,
             "#b8e186"
            ],
            [
             0.8,
             "#7fbc41"
            ],
            [
             0.9,
             "#4d9221"
            ],
            [
             1,
             "#276419"
            ]
           ],
           "sequential": [
            [
             0,
             "#0d0887"
            ],
            [
             0.1111111111111111,
             "#46039f"
            ],
            [
             0.2222222222222222,
             "#7201a8"
            ],
            [
             0.3333333333333333,
             "#9c179e"
            ],
            [
             0.4444444444444444,
             "#bd3786"
            ],
            [
             0.5555555555555556,
             "#d8576b"
            ],
            [
             0.6666666666666666,
             "#ed7953"
            ],
            [
             0.7777777777777778,
             "#fb9f3a"
            ],
            [
             0.8888888888888888,
             "#fdca26"
            ],
            [
             1,
             "#f0f921"
            ]
           ],
           "sequentialminus": [
            [
             0,
             "#0d0887"
            ],
            [
             0.1111111111111111,
             "#46039f"
            ],
            [
             0.2222222222222222,
             "#7201a8"
            ],
            [
             0.3333333333333333,
             "#9c179e"
            ],
            [
             0.4444444444444444,
             "#bd3786"
            ],
            [
             0.5555555555555556,
             "#d8576b"
            ],
            [
             0.6666666666666666,
             "#ed7953"
            ],
            [
             0.7777777777777778,
             "#fb9f3a"
            ],
            [
             0.8888888888888888,
             "#fdca26"
            ],
            [
             1,
             "#f0f921"
            ]
           ]
          },
          "colorway": [
           "#636efa",
           "#EF553B",
           "#00cc96",
           "#ab63fa",
           "#FFA15A",
           "#19d3f3",
           "#FF6692",
           "#B6E880",
           "#FF97FF",
           "#FECB52"
          ],
          "font": {
           "color": "#2a3f5f"
          },
          "geo": {
           "bgcolor": "white",
           "lakecolor": "white",
           "landcolor": "#E5ECF6",
           "showlakes": true,
           "showland": true,
           "subunitcolor": "white"
          },
          "hoverlabel": {
           "align": "left"
          },
          "hovermode": "closest",
          "mapbox": {
           "style": "light"
          },
          "paper_bgcolor": "white",
          "plot_bgcolor": "#E5ECF6",
          "polar": {
           "angularaxis": {
            "gridcolor": "white",
            "linecolor": "white",
            "ticks": ""
           },
           "bgcolor": "#E5ECF6",
           "radialaxis": {
            "gridcolor": "white",
            "linecolor": "white",
            "ticks": ""
           }
          },
          "scene": {
           "xaxis": {
            "backgroundcolor": "#E5ECF6",
            "gridcolor": "white",
            "gridwidth": 2,
            "linecolor": "white",
            "showbackground": true,
            "ticks": "",
            "zerolinecolor": "white"
           },
           "yaxis": {
            "backgroundcolor": "#E5ECF6",
            "gridcolor": "white",
            "gridwidth": 2,
            "linecolor": "white",
            "showbackground": true,
            "ticks": "",
            "zerolinecolor": "white"
           },
           "zaxis": {
            "backgroundcolor": "#E5ECF6",
            "gridcolor": "white",
            "gridwidth": 2,
            "linecolor": "white",
            "showbackground": true,
            "ticks": "",
            "zerolinecolor": "white"
           }
          },
          "shapedefaults": {
           "line": {
            "color": "#2a3f5f"
           }
          },
          "ternary": {
           "aaxis": {
            "gridcolor": "white",
            "linecolor": "white",
            "ticks": ""
           },
           "baxis": {
            "gridcolor": "white",
            "linecolor": "white",
            "ticks": ""
           },
           "bgcolor": "#E5ECF6",
           "caxis": {
            "gridcolor": "white",
            "linecolor": "white",
            "ticks": ""
           }
          },
          "title": {
           "x": 0.05
          },
          "xaxis": {
           "automargin": true,
           "gridcolor": "white",
           "linecolor": "white",
           "ticks": "",
           "title": {
            "standoff": 15
           },
           "zerolinecolor": "white",
           "zerolinewidth": 2
          },
          "yaxis": {
           "automargin": true,
           "gridcolor": "white",
           "linecolor": "white",
           "ticks": "",
           "title": {
            "standoff": 15
           },
           "zerolinecolor": "white",
           "zerolinewidth": 2
          }
         }
        },
        "title": {
         "text": "Interactive Sales Trend Over Time"
        },
        "xaxis": {
         "anchor": "y",
         "domain": [
          0,
          1
         ],
         "title": {
          "text": "Date"
         }
        },
        "yaxis": {
         "anchor": "x",
         "domain": [
          0,
          1
         ],
         "title": {
          "text": "Sales Amount"
         }
        }
       }
      }
     },
     "metadata": {},
     "output_type": "display_data"
    }
   ],
   "source": [
    "fig = px.line(sales_by_date, x='Date', y='Sales Amount', title='Interactive Sales Trend Over Time')\n",
    "fig.update_traces(mode='lines+markers')\n",
    "fig.show()\n"
   ]
  },
  {
   "cell_type": "code",
   "execution_count": 148,
   "metadata": {},
   "outputs": [
    {
     "data": {
      "application/vnd.plotly.v1+json": {
       "config": {
        "plotlyServerURL": "https://plot.ly"
       },
       "data": [
        {
         "alignmentgroup": "True",
         "hovertemplate": "Store_id=%{x}<br>Sales Amount=%{text}<extra></extra>",
         "legendgroup": "",
         "marker": {
          "color": "#636efa",
          "pattern": {
           "shape": ""
          }
         },
         "name": "",
         "offsetgroup": "",
         "orientation": "v",
         "showlegend": false,
         "text": [
          96359.56999999999,
          217771.49,
          130863.67,
          112387.46,
          125448.11,
          114869.98
         ],
         "textposition": "outside",
         "texttemplate": "%{text:.2s}",
         "type": "bar",
         "x": [
          "S001",
          "S002",
          "S003",
          "S004",
          "S005",
          "S006"
         ],
         "xaxis": "x",
         "y": [
          96359.56999999999,
          217771.49,
          130863.67,
          112387.46,
          125448.11,
          114869.98
         ],
         "yaxis": "y"
        }
       ],
       "layout": {
        "barmode": "relative",
        "legend": {
         "tracegroupgap": 0
        },
        "template": {
         "data": {
          "bar": [
           {
            "error_x": {
             "color": "#2a3f5f"
            },
            "error_y": {
             "color": "#2a3f5f"
            },
            "marker": {
             "line": {
              "color": "#E5ECF6",
              "width": 0.5
             },
             "pattern": {
              "fillmode": "overlay",
              "size": 10,
              "solidity": 0.2
             }
            },
            "type": "bar"
           }
          ],
          "barpolar": [
           {
            "marker": {
             "line": {
              "color": "#E5ECF6",
              "width": 0.5
             },
             "pattern": {
              "fillmode": "overlay",
              "size": 10,
              "solidity": 0.2
             }
            },
            "type": "barpolar"
           }
          ],
          "carpet": [
           {
            "aaxis": {
             "endlinecolor": "#2a3f5f",
             "gridcolor": "white",
             "linecolor": "white",
             "minorgridcolor": "white",
             "startlinecolor": "#2a3f5f"
            },
            "baxis": {
             "endlinecolor": "#2a3f5f",
             "gridcolor": "white",
             "linecolor": "white",
             "minorgridcolor": "white",
             "startlinecolor": "#2a3f5f"
            },
            "type": "carpet"
           }
          ],
          "choropleth": [
           {
            "colorbar": {
             "outlinewidth": 0,
             "ticks": ""
            },
            "type": "choropleth"
           }
          ],
          "contour": [
           {
            "colorbar": {
             "outlinewidth": 0,
             "ticks": ""
            },
            "colorscale": [
             [
              0,
              "#0d0887"
             ],
             [
              0.1111111111111111,
              "#46039f"
             ],
             [
              0.2222222222222222,
              "#7201a8"
             ],
             [
              0.3333333333333333,
              "#9c179e"
             ],
             [
              0.4444444444444444,
              "#bd3786"
             ],
             [
              0.5555555555555556,
              "#d8576b"
             ],
             [
              0.6666666666666666,
              "#ed7953"
             ],
             [
              0.7777777777777778,
              "#fb9f3a"
             ],
             [
              0.8888888888888888,
              "#fdca26"
             ],
             [
              1,
              "#f0f921"
             ]
            ],
            "type": "contour"
           }
          ],
          "contourcarpet": [
           {
            "colorbar": {
             "outlinewidth": 0,
             "ticks": ""
            },
            "type": "contourcarpet"
           }
          ],
          "heatmap": [
           {
            "colorbar": {
             "outlinewidth": 0,
             "ticks": ""
            },
            "colorscale": [
             [
              0,
              "#0d0887"
             ],
             [
              0.1111111111111111,
              "#46039f"
             ],
             [
              0.2222222222222222,
              "#7201a8"
             ],
             [
              0.3333333333333333,
              "#9c179e"
             ],
             [
              0.4444444444444444,
              "#bd3786"
             ],
             [
              0.5555555555555556,
              "#d8576b"
             ],
             [
              0.6666666666666666,
              "#ed7953"
             ],
             [
              0.7777777777777778,
              "#fb9f3a"
             ],
             [
              0.8888888888888888,
              "#fdca26"
             ],
             [
              1,
              "#f0f921"
             ]
            ],
            "type": "heatmap"
           }
          ],
          "heatmapgl": [
           {
            "colorbar": {
             "outlinewidth": 0,
             "ticks": ""
            },
            "colorscale": [
             [
              0,
              "#0d0887"
             ],
             [
              0.1111111111111111,
              "#46039f"
             ],
             [
              0.2222222222222222,
              "#7201a8"
             ],
             [
              0.3333333333333333,
              "#9c179e"
             ],
             [
              0.4444444444444444,
              "#bd3786"
             ],
             [
              0.5555555555555556,
              "#d8576b"
             ],
             [
              0.6666666666666666,
              "#ed7953"
             ],
             [
              0.7777777777777778,
              "#fb9f3a"
             ],
             [
              0.8888888888888888,
              "#fdca26"
             ],
             [
              1,
              "#f0f921"
             ]
            ],
            "type": "heatmapgl"
           }
          ],
          "histogram": [
           {
            "marker": {
             "pattern": {
              "fillmode": "overlay",
              "size": 10,
              "solidity": 0.2
             }
            },
            "type": "histogram"
           }
          ],
          "histogram2d": [
           {
            "colorbar": {
             "outlinewidth": 0,
             "ticks": ""
            },
            "colorscale": [
             [
              0,
              "#0d0887"
             ],
             [
              0.1111111111111111,
              "#46039f"
             ],
             [
              0.2222222222222222,
              "#7201a8"
             ],
             [
              0.3333333333333333,
              "#9c179e"
             ],
             [
              0.4444444444444444,
              "#bd3786"
             ],
             [
              0.5555555555555556,
              "#d8576b"
             ],
             [
              0.6666666666666666,
              "#ed7953"
             ],
             [
              0.7777777777777778,
              "#fb9f3a"
             ],
             [
              0.8888888888888888,
              "#fdca26"
             ],
             [
              1,
              "#f0f921"
             ]
            ],
            "type": "histogram2d"
           }
          ],
          "histogram2dcontour": [
           {
            "colorbar": {
             "outlinewidth": 0,
             "ticks": ""
            },
            "colorscale": [
             [
              0,
              "#0d0887"
             ],
             [
              0.1111111111111111,
              "#46039f"
             ],
             [
              0.2222222222222222,
              "#7201a8"
             ],
             [
              0.3333333333333333,
              "#9c179e"
             ],
             [
              0.4444444444444444,
              "#bd3786"
             ],
             [
              0.5555555555555556,
              "#d8576b"
             ],
             [
              0.6666666666666666,
              "#ed7953"
             ],
             [
              0.7777777777777778,
              "#fb9f3a"
             ],
             [
              0.8888888888888888,
              "#fdca26"
             ],
             [
              1,
              "#f0f921"
             ]
            ],
            "type": "histogram2dcontour"
           }
          ],
          "mesh3d": [
           {
            "colorbar": {
             "outlinewidth": 0,
             "ticks": ""
            },
            "type": "mesh3d"
           }
          ],
          "parcoords": [
           {
            "line": {
             "colorbar": {
              "outlinewidth": 0,
              "ticks": ""
             }
            },
            "type": "parcoords"
           }
          ],
          "pie": [
           {
            "automargin": true,
            "type": "pie"
           }
          ],
          "scatter": [
           {
            "fillpattern": {
             "fillmode": "overlay",
             "size": 10,
             "solidity": 0.2
            },
            "type": "scatter"
           }
          ],
          "scatter3d": [
           {
            "line": {
             "colorbar": {
              "outlinewidth": 0,
              "ticks": ""
             }
            },
            "marker": {
             "colorbar": {
              "outlinewidth": 0,
              "ticks": ""
             }
            },
            "type": "scatter3d"
           }
          ],
          "scattercarpet": [
           {
            "marker": {
             "colorbar": {
              "outlinewidth": 0,
              "ticks": ""
             }
            },
            "type": "scattercarpet"
           }
          ],
          "scattergeo": [
           {
            "marker": {
             "colorbar": {
              "outlinewidth": 0,
              "ticks": ""
             }
            },
            "type": "scattergeo"
           }
          ],
          "scattergl": [
           {
            "marker": {
             "colorbar": {
              "outlinewidth": 0,
              "ticks": ""
             }
            },
            "type": "scattergl"
           }
          ],
          "scattermapbox": [
           {
            "marker": {
             "colorbar": {
              "outlinewidth": 0,
              "ticks": ""
             }
            },
            "type": "scattermapbox"
           }
          ],
          "scatterpolar": [
           {
            "marker": {
             "colorbar": {
              "outlinewidth": 0,
              "ticks": ""
             }
            },
            "type": "scatterpolar"
           }
          ],
          "scatterpolargl": [
           {
            "marker": {
             "colorbar": {
              "outlinewidth": 0,
              "ticks": ""
             }
            },
            "type": "scatterpolargl"
           }
          ],
          "scatterternary": [
           {
            "marker": {
             "colorbar": {
              "outlinewidth": 0,
              "ticks": ""
             }
            },
            "type": "scatterternary"
           }
          ],
          "surface": [
           {
            "colorbar": {
             "outlinewidth": 0,
             "ticks": ""
            },
            "colorscale": [
             [
              0,
              "#0d0887"
             ],
             [
              0.1111111111111111,
              "#46039f"
             ],
             [
              0.2222222222222222,
              "#7201a8"
             ],
             [
              0.3333333333333333,
              "#9c179e"
             ],
             [
              0.4444444444444444,
              "#bd3786"
             ],
             [
              0.5555555555555556,
              "#d8576b"
             ],
             [
              0.6666666666666666,
              "#ed7953"
             ],
             [
              0.7777777777777778,
              "#fb9f3a"
             ],
             [
              0.8888888888888888,
              "#fdca26"
             ],
             [
              1,
              "#f0f921"
             ]
            ],
            "type": "surface"
           }
          ],
          "table": [
           {
            "cells": {
             "fill": {
              "color": "#EBF0F8"
             },
             "line": {
              "color": "white"
             }
            },
            "header": {
             "fill": {
              "color": "#C8D4E3"
             },
             "line": {
              "color": "white"
             }
            },
            "type": "table"
           }
          ]
         },
         "layout": {
          "annotationdefaults": {
           "arrowcolor": "#2a3f5f",
           "arrowhead": 0,
           "arrowwidth": 1
          },
          "autotypenumbers": "strict",
          "coloraxis": {
           "colorbar": {
            "outlinewidth": 0,
            "ticks": ""
           }
          },
          "colorscale": {
           "diverging": [
            [
             0,
             "#8e0152"
            ],
            [
             0.1,
             "#c51b7d"
            ],
            [
             0.2,
             "#de77ae"
            ],
            [
             0.3,
             "#f1b6da"
            ],
            [
             0.4,
             "#fde0ef"
            ],
            [
             0.5,
             "#f7f7f7"
            ],
            [
             0.6,
             "#e6f5d0"
            ],
            [
             0.7,
             "#b8e186"
            ],
            [
             0.8,
             "#7fbc41"
            ],
            [
             0.9,
             "#4d9221"
            ],
            [
             1,
             "#276419"
            ]
           ],
           "sequential": [
            [
             0,
             "#0d0887"
            ],
            [
             0.1111111111111111,
             "#46039f"
            ],
            [
             0.2222222222222222,
             "#7201a8"
            ],
            [
             0.3333333333333333,
             "#9c179e"
            ],
            [
             0.4444444444444444,
             "#bd3786"
            ],
            [
             0.5555555555555556,
             "#d8576b"
            ],
            [
             0.6666666666666666,
             "#ed7953"
            ],
            [
             0.7777777777777778,
             "#fb9f3a"
            ],
            [
             0.8888888888888888,
             "#fdca26"
            ],
            [
             1,
             "#f0f921"
            ]
           ],
           "sequentialminus": [
            [
             0,
             "#0d0887"
            ],
            [
             0.1111111111111111,
             "#46039f"
            ],
            [
             0.2222222222222222,
             "#7201a8"
            ],
            [
             0.3333333333333333,
             "#9c179e"
            ],
            [
             0.4444444444444444,
             "#bd3786"
            ],
            [
             0.5555555555555556,
             "#d8576b"
            ],
            [
             0.6666666666666666,
             "#ed7953"
            ],
            [
             0.7777777777777778,
             "#fb9f3a"
            ],
            [
             0.8888888888888888,
             "#fdca26"
            ],
            [
             1,
             "#f0f921"
            ]
           ]
          },
          "colorway": [
           "#636efa",
           "#EF553B",
           "#00cc96",
           "#ab63fa",
           "#FFA15A",
           "#19d3f3",
           "#FF6692",
           "#B6E880",
           "#FF97FF",
           "#FECB52"
          ],
          "font": {
           "color": "#2a3f5f"
          },
          "geo": {
           "bgcolor": "white",
           "lakecolor": "white",
           "landcolor": "#E5ECF6",
           "showlakes": true,
           "showland": true,
           "subunitcolor": "white"
          },
          "hoverlabel": {
           "align": "left"
          },
          "hovermode": "closest",
          "mapbox": {
           "style": "light"
          },
          "paper_bgcolor": "white",
          "plot_bgcolor": "#E5ECF6",
          "polar": {
           "angularaxis": {
            "gridcolor": "white",
            "linecolor": "white",
            "ticks": ""
           },
           "bgcolor": "#E5ECF6",
           "radialaxis": {
            "gridcolor": "white",
            "linecolor": "white",
            "ticks": ""
           }
          },
          "scene": {
           "xaxis": {
            "backgroundcolor": "#E5ECF6",
            "gridcolor": "white",
            "gridwidth": 2,
            "linecolor": "white",
            "showbackground": true,
            "ticks": "",
            "zerolinecolor": "white"
           },
           "yaxis": {
            "backgroundcolor": "#E5ECF6",
            "gridcolor": "white",
            "gridwidth": 2,
            "linecolor": "white",
            "showbackground": true,
            "ticks": "",
            "zerolinecolor": "white"
           },
           "zaxis": {
            "backgroundcolor": "#E5ECF6",
            "gridcolor": "white",
            "gridwidth": 2,
            "linecolor": "white",
            "showbackground": true,
            "ticks": "",
            "zerolinecolor": "white"
           }
          },
          "shapedefaults": {
           "line": {
            "color": "#2a3f5f"
           }
          },
          "ternary": {
           "aaxis": {
            "gridcolor": "white",
            "linecolor": "white",
            "ticks": ""
           },
           "baxis": {
            "gridcolor": "white",
            "linecolor": "white",
            "ticks": ""
           },
           "bgcolor": "#E5ECF6",
           "caxis": {
            "gridcolor": "white",
            "linecolor": "white",
            "ticks": ""
           }
          },
          "title": {
           "x": 0.05
          },
          "xaxis": {
           "automargin": true,
           "gridcolor": "white",
           "linecolor": "white",
           "ticks": "",
           "title": {
            "standoff": 15
           },
           "zerolinecolor": "white",
           "zerolinewidth": 2
          },
          "yaxis": {
           "automargin": true,
           "gridcolor": "white",
           "linecolor": "white",
           "ticks": "",
           "title": {
            "standoff": 15
           },
           "zerolinecolor": "white",
           "zerolinewidth": 2
          }
         }
        },
        "title": {
         "text": "Sales Distribution Across Stores"
        },
        "uniformtext": {
         "minsize": 8,
         "mode": "hide"
        },
        "xaxis": {
         "anchor": "y",
         "domain": [
          0,
          1
         ],
         "title": {
          "text": "Store_id"
         }
        },
        "yaxis": {
         "anchor": "x",
         "domain": [
          0,
          1
         ],
         "title": {
          "text": "Sales Amount"
         }
        }
       }
      }
     },
     "metadata": {},
     "output_type": "display_data"
    }
   ],
   "source": [
    "fig = px.bar(sales_by_store, x='Store_id', y='Sales Amount', title='Sales Distribution Across Stores', text='Sales Amount')\n",
    "fig.update_traces(texttemplate='%{text:.2s}', textposition='outside')\n",
    "fig.update_layout(uniformtext_minsize=8, uniformtext_mode='hide')\n",
    "fig.show()\n"
   ]
  },
  {
   "cell_type": "markdown",
   "metadata": {},
   "source": [
    "Product Performance Over Time (Heatmap)"
   ]
  },
  {
   "cell_type": "code",
   "execution_count": 149,
   "metadata": {},
   "outputs": [
    {
     "data": {
      "application/vnd.plotly.v1+json": {
       "config": {
        "plotlyServerURL": "https://plot.ly"
       },
       "data": [
        {
         "coloraxis": "coloraxis",
         "histfunc": "sum",
         "hovertemplate": "Date=%{x}<br>Product_id=%{y}<br>sum of Sales Amount=%{z}<extra></extra>",
         "name": "",
         "type": "histogram2d",
         "x": [
          "01-11-2024",
          "01-11-2024",
          "01-11-2024",
          "01-11-2024",
          "01-11-2024",
          "01-11-2024",
          "01-11-2024",
          "01-11-2024",
          "01-12-2024",
          "01-12-2024",
          "01-12-2024",
          "01-12-2024",
          "01-12-2024",
          "01-12-2024",
          "01-12-2024",
          "02-11-2024",
          "02-11-2024",
          "02-11-2024",
          "02-11-2024",
          "02-11-2024",
          "02-11-2024",
          "02-11-2024",
          "02-11-2024",
          "03-11-2024",
          "03-11-2024",
          "03-11-2024",
          "03-11-2024",
          "03-11-2024",
          "03-11-2024",
          "03-11-2024",
          "03-11-2024",
          "04-11-2024",
          "04-11-2024",
          "04-11-2024",
          "04-11-2024",
          "04-11-2024",
          "04-11-2024",
          "04-11-2024",
          "05-11-2024",
          "05-11-2024",
          "05-11-2024",
          "05-11-2024",
          "05-11-2024",
          "05-11-2024",
          "05-11-2024",
          "06-11-2024",
          "06-11-2024",
          "06-11-2024",
          "06-11-2024",
          "06-11-2024",
          "06-11-2024",
          "06-11-2024",
          "07-11-2024",
          "07-11-2024",
          "07-11-2024",
          "07-11-2024",
          "07-11-2024",
          "07-11-2024",
          "07-11-2024",
          "07-11-2024",
          "08-11-2024",
          "08-11-2024",
          "08-11-2024",
          "08-11-2024",
          "08-11-2024",
          "08-11-2024",
          "08-11-2024",
          "08-11-2024",
          "09-11-2024",
          "09-11-2024",
          "09-11-2024",
          "09-11-2024",
          "09-11-2024",
          "09-11-2024",
          "09-11-2024",
          "10-11-2024",
          "10-11-2024",
          "10-11-2024",
          "10-11-2024",
          "10-11-2024",
          "10-11-2024",
          "10-11-2024",
          "10-11-2024",
          "11-11-2024",
          "11-11-2024",
          "11-11-2024",
          "11-11-2024",
          "11-11-2024",
          "11-11-2024",
          "11-11-2024",
          "11-11-2024",
          "12-11-2024",
          "12-11-2024",
          "12-11-2024",
          "12-11-2024",
          "12-11-2024",
          "12-11-2024",
          "12-11-2024",
          "12-11-2024",
          "13-11-2024",
          "13-11-2024",
          "13-11-2024",
          "13-11-2024",
          "13-11-2024",
          "13-11-2024",
          "13-11-2024",
          "13-11-2024",
          "14-11-2024",
          "14-11-2024",
          "14-11-2024",
          "14-11-2024",
          "14-11-2024",
          "14-11-2024",
          "14-11-2024",
          "15-11-2024",
          "15-11-2024",
          "15-11-2024",
          "15-11-2024",
          "15-11-2024",
          "15-11-2024",
          "15-11-2024",
          "15-11-2024",
          "16-11-2024",
          "16-11-2024",
          "16-11-2024",
          "16-11-2024",
          "16-11-2024",
          "16-11-2024",
          "16-11-2024",
          "16-11-2024",
          "17-11-2024",
          "17-11-2024",
          "17-11-2024",
          "17-11-2024",
          "17-11-2024",
          "17-11-2024",
          "17-11-2024",
          "17-11-2024",
          "18-11-2024",
          "18-11-2024",
          "18-11-2024",
          "18-11-2024",
          "18-11-2024",
          "18-11-2024",
          "18-11-2024",
          "18-11-2024",
          "19-11-2024",
          "19-11-2024",
          "19-11-2024",
          "19-11-2024",
          "19-11-2024",
          "19-11-2024",
          "19-11-2024",
          "20-11-2024",
          "20-11-2024",
          "20-11-2024",
          "20-11-2024",
          "20-11-2024",
          "20-11-2024",
          "20-11-2024",
          "21-11-2024",
          "21-11-2024",
          "21-11-2024",
          "21-11-2024",
          "21-11-2024",
          "21-11-2024",
          "21-11-2024",
          "21-11-2024",
          "22-11-2024",
          "22-11-2024",
          "22-11-2024",
          "22-11-2024",
          "22-11-2024",
          "22-11-2024",
          "22-11-2024",
          "22-11-2024",
          "23-11-2024",
          "23-11-2024",
          "23-11-2024",
          "23-11-2024",
          "23-11-2024",
          "23-11-2024",
          "23-11-2024",
          "23-11-2024",
          "24-11-2024",
          "24-11-2024",
          "24-11-2024",
          "24-11-2024",
          "24-11-2024",
          "24-11-2024",
          "24-11-2024",
          "24-11-2024",
          "25-11-2024",
          "25-11-2024",
          "25-11-2024",
          "25-11-2024",
          "25-11-2024",
          "25-11-2024",
          "25-11-2024",
          "25-11-2024",
          "26-11-2024",
          "26-11-2024",
          "26-11-2024",
          "26-11-2024",
          "26-11-2024",
          "26-11-2024",
          "26-11-2024",
          "26-11-2024",
          "27-11-2024",
          "27-11-2024",
          "27-11-2024",
          "27-11-2024",
          "27-11-2024",
          "27-11-2024",
          "27-11-2024",
          "27-11-2024",
          "28-11-2024",
          "28-11-2024",
          "28-11-2024",
          "28-11-2024",
          "28-11-2024",
          "28-11-2024",
          "28-11-2024",
          "28-11-2024",
          "29-11-2024",
          "29-11-2024",
          "29-11-2024",
          "29-11-2024",
          "29-11-2024",
          "29-11-2024",
          "29-11-2024",
          "29-11-2024",
          "30-11-2024",
          "30-11-2024",
          "30-11-2024",
          "30-11-2024",
          "30-11-2024",
          "30-11-2024",
          "30-11-2024",
          "30-11-2024"
         ],
         "xaxis": "x",
         "xbingroup": "x",
         "y": [
          "P001",
          "P002",
          "P003",
          "P004",
          "P005",
          "P006",
          "P007",
          "P008",
          "P001",
          "P002",
          "P003",
          "P004",
          "P005",
          "P007",
          "P008",
          "P001",
          "P002",
          "P003",
          "P004",
          "P005",
          "P006",
          "P007",
          "P008",
          "P001",
          "P002",
          "P003",
          "P004",
          "P005",
          "P006",
          "P007",
          "P008",
          "P001",
          "P002",
          "P003",
          "P004",
          "P005",
          "P006",
          "P008",
          "P001",
          "P002",
          "P004",
          "P005",
          "P006",
          "P007",
          "P008",
          "P001",
          "P002",
          "P003",
          "P004",
          "P005",
          "P007",
          "P008",
          "P001",
          "P002",
          "P003",
          "P004",
          "P005",
          "P006",
          "P007",
          "P008",
          "P001",
          "P002",
          "P003",
          "P004",
          "P005",
          "P006",
          "P007",
          "P008",
          "P001",
          "P002",
          "P003",
          "P005",
          "P006",
          "P007",
          "P008",
          "P001",
          "P002",
          "P003",
          "P004",
          "P005",
          "P006",
          "P007",
          "P008",
          "P001",
          "P002",
          "P003",
          "P004",
          "P005",
          "P006",
          "P007",
          "P008",
          "P001",
          "P002",
          "P003",
          "P004",
          "P005",
          "P006",
          "P007",
          "P008",
          "P001",
          "P002",
          "P003",
          "P004",
          "P005",
          "P006",
          "P007",
          "P008",
          "P001",
          "P002",
          "P003",
          "P004",
          "P006",
          "P007",
          "P008",
          "P001",
          "P002",
          "P003",
          "P004",
          "P005",
          "P006",
          "P007",
          "P008",
          "P001",
          "P002",
          "P003",
          "P004",
          "P005",
          "P006",
          "P007",
          "P008",
          "P001",
          "P002",
          "P003",
          "P004",
          "P005",
          "P006",
          "P007",
          "P008",
          "P001",
          "P002",
          "P003",
          "P004",
          "P005",
          "P006",
          "P007",
          "P008",
          "P001",
          "P002",
          "P003",
          "P004",
          "P006",
          "P007",
          "P008",
          "P001",
          "P002",
          "P003",
          "P004",
          "P005",
          "P007",
          "P008",
          "P001",
          "P002",
          "P003",
          "P004",
          "P005",
          "P006",
          "P007",
          "P008",
          "P001",
          "P002",
          "P003",
          "P004",
          "P005",
          "P006",
          "P007",
          "P008",
          "P001",
          "P002",
          "P003",
          "P004",
          "P005",
          "P006",
          "P007",
          "P008",
          "P001",
          "P002",
          "P003",
          "P004",
          "P005",
          "P006",
          "P007",
          "P008",
          "P001",
          "P002",
          "P003",
          "P004",
          "P005",
          "P006",
          "P007",
          "P008",
          "P001",
          "P002",
          "P003",
          "P004",
          "P005",
          "P006",
          "P007",
          "P008",
          "P001",
          "P002",
          "P003",
          "P004",
          "P005",
          "P006",
          "P007",
          "P008",
          "P001",
          "P002",
          "P003",
          "P004",
          "P005",
          "P006",
          "P007",
          "P008",
          "P001",
          "P002",
          "P003",
          "P004",
          "P005",
          "P006",
          "P007",
          "P008",
          "P001",
          "P002",
          "P003",
          "P004",
          "P005",
          "P006",
          "P007",
          "P008"
         ],
         "yaxis": "y",
         "ybingroup": "y",
         "z": [
          1367.01,
          6704.37,
          2588.69,
          358.91,
          4352.49,
          2812.86,
          3240.51,
          1389.49,
          1467.0500000000002,
          5428.139999999999,
          1535.5500000000002,
          3408.24,
          2433.25,
          588.96,
          2072.34,
          2388.65,
          4235.55,
          1234.93,
          2974.55,
          1623.1399999999999,
          4883.5599999999995,
          2979.33,
          1568.6799999999998,
          4365.6,
          3821.13,
          6793.54,
          483.72,
          2133.24,
          3252.93,
          2330.28,
          4130.03,
          2680.9300000000003,
          4446.93,
          1040.7,
          1844.15,
          813.67,
          4291.73,
          3877.97,
          2050.04,
          5160.59,
          1369.73,
          6173.87,
          2536.19,
          1157.08,
          4195.12,
          1472.33,
          7982.26,
          1420.78,
          1624.31,
          2501.57,
          5810.8099999999995,
          1989.0299999999997,
          2729.46,
          3469.29,
          1360.67,
          3189.18,
          3415.2799999999997,
          4910.09,
          1655.8,
          5434.95,
          2340.75,
          6288.32,
          1562.85,
          3062.29,
          1435.8,
          1427.14,
          3150.79,
          4071.0600000000004,
          1171.89,
          3600.98,
          3151.52,
          3330.0099999999998,
          3317.98,
          1801.1399999999999,
          1359.23,
          1576.67,
          6024.87,
          1523.58,
          3238.58,
          2341.44,
          1232.65,
          403.07,
          4144.16,
          1160.64,
          4746.6,
          1952.0499999999997,
          5272.18,
          4328.41,
          5633.11,
          3516.55,
          1683.75,
          2375.4300000000003,
          4140.01,
          1321.98,
          3569.1099999999997,
          2949.2200000000003,
          1730.48,
          1958.56,
          2324.37,
          2219.8,
          3660.39,
          2435.51,
          3952.33,
          2400.05,
          4663.71,
          2752.85,
          1016.52,
          3399.08,
          5171.6,
          3965.7700000000004,
          2052.37,
          8262.56,
          2413.66,
          1898.0299999999997,
          1704.23,
          4939.85,
          966.99,
          1674.12,
          1116.1999999999998,
          1124.81,
          1735.4599999999998,
          2289.6400000000003,
          1819.3,
          2418.79,
          859.85,
          3740.44,
          960.97,
          187.26,
          2963.58,
          5124.51,
          1199,
          4760.5599999999995,
          4048.34,
          2169.58,
          3817.84,
          2230.96,
          4806.68,
          3402.27,
          1223.36,
          11677.619999999999,
          1256.33,
          2512.41,
          1107.91,
          1743.67,
          578.77,
          2920.4700000000003,
          3048.5899999999997,
          7429.46,
          2052.09,
          2414.92,
          3370.87,
          4142.49,
          3551.29,
          1296.89,
          11736.1,
          4196.58,
          3107.62,
          3061.52,
          1683.67,
          2114.17,
          1475.71,
          4130.59,
          802.18,
          1705.72,
          3790.29,
          2394.8199999999997,
          2777.79,
          1537.3200000000002,
          1255,
          5984.85,
          332.3,
          5783.43,
          2285.74,
          2530.25,
          813.67,
          3541.09,
          224.1,
          7149.16,
          3030.79,
          3201.95,
          3954.22,
          2037.8700000000001,
          3234.96,
          658.27,
          874.55,
          1836.77,
          1687.65,
          2811.96,
          7283.05,
          1697.08,
          3745.5699999999997,
          2106.38,
          547.52,
          1909.3,
          2590.8999999999996,
          1659.62,
          2559.94,
          3717.35,
          3581.19,
          2109.6,
          477.46000000000004,
          4122.98,
          2357.9,
          1096.51,
          1504.48,
          1417.67,
          4020.7,
          4607.63,
          4611.32,
          5929.8,
          3918.65,
          4748.219999999999,
          2083.14,
          6407.3,
          2703.83,
          4167.93,
          2996.64,
          12345.91,
          3181.9700000000003,
          1650.8,
          5679.04,
          5455.21,
          2790.31,
          641.96,
          1154.2,
          3438.67,
          2190.1400000000003,
          3402.8599999999997,
          3786.9700000000003,
          931.06,
          3465.34,
          2452.52,
          2951.6099999999997,
          4995.78,
          5120.48,
          2090.6,
          551.43,
          3011.15,
          3923.8500000000004,
          2200.07
         ]
        }
       ],
       "layout": {
        "coloraxis": {
         "colorbar": {
          "title": {
           "text": "sum of Sales Amount"
          }
         },
         "colorscale": [
          [
           0,
           "#440154"
          ],
          [
           0.1111111111111111,
           "#482878"
          ],
          [
           0.2222222222222222,
           "#3e4989"
          ],
          [
           0.3333333333333333,
           "#31688e"
          ],
          [
           0.4444444444444444,
           "#26828e"
          ],
          [
           0.5555555555555556,
           "#1f9e89"
          ],
          [
           0.6666666666666666,
           "#35b779"
          ],
          [
           0.7777777777777778,
           "#6ece58"
          ],
          [
           0.8888888888888888,
           "#b5de2b"
          ],
          [
           1,
           "#fde725"
          ]
         ]
        },
        "legend": {
         "tracegroupgap": 0
        },
        "template": {
         "data": {
          "bar": [
           {
            "error_x": {
             "color": "#2a3f5f"
            },
            "error_y": {
             "color": "#2a3f5f"
            },
            "marker": {
             "line": {
              "color": "#E5ECF6",
              "width": 0.5
             },
             "pattern": {
              "fillmode": "overlay",
              "size": 10,
              "solidity": 0.2
             }
            },
            "type": "bar"
           }
          ],
          "barpolar": [
           {
            "marker": {
             "line": {
              "color": "#E5ECF6",
              "width": 0.5
             },
             "pattern": {
              "fillmode": "overlay",
              "size": 10,
              "solidity": 0.2
             }
            },
            "type": "barpolar"
           }
          ],
          "carpet": [
           {
            "aaxis": {
             "endlinecolor": "#2a3f5f",
             "gridcolor": "white",
             "linecolor": "white",
             "minorgridcolor": "white",
             "startlinecolor": "#2a3f5f"
            },
            "baxis": {
             "endlinecolor": "#2a3f5f",
             "gridcolor": "white",
             "linecolor": "white",
             "minorgridcolor": "white",
             "startlinecolor": "#2a3f5f"
            },
            "type": "carpet"
           }
          ],
          "choropleth": [
           {
            "colorbar": {
             "outlinewidth": 0,
             "ticks": ""
            },
            "type": "choropleth"
           }
          ],
          "contour": [
           {
            "colorbar": {
             "outlinewidth": 0,
             "ticks": ""
            },
            "colorscale": [
             [
              0,
              "#0d0887"
             ],
             [
              0.1111111111111111,
              "#46039f"
             ],
             [
              0.2222222222222222,
              "#7201a8"
             ],
             [
              0.3333333333333333,
              "#9c179e"
             ],
             [
              0.4444444444444444,
              "#bd3786"
             ],
             [
              0.5555555555555556,
              "#d8576b"
             ],
             [
              0.6666666666666666,
              "#ed7953"
             ],
             [
              0.7777777777777778,
              "#fb9f3a"
             ],
             [
              0.8888888888888888,
              "#fdca26"
             ],
             [
              1,
              "#f0f921"
             ]
            ],
            "type": "contour"
           }
          ],
          "contourcarpet": [
           {
            "colorbar": {
             "outlinewidth": 0,
             "ticks": ""
            },
            "type": "contourcarpet"
           }
          ],
          "heatmap": [
           {
            "colorbar": {
             "outlinewidth": 0,
             "ticks": ""
            },
            "colorscale": [
             [
              0,
              "#0d0887"
             ],
             [
              0.1111111111111111,
              "#46039f"
             ],
             [
              0.2222222222222222,
              "#7201a8"
             ],
             [
              0.3333333333333333,
              "#9c179e"
             ],
             [
              0.4444444444444444,
              "#bd3786"
             ],
             [
              0.5555555555555556,
              "#d8576b"
             ],
             [
              0.6666666666666666,
              "#ed7953"
             ],
             [
              0.7777777777777778,
              "#fb9f3a"
             ],
             [
              0.8888888888888888,
              "#fdca26"
             ],
             [
              1,
              "#f0f921"
             ]
            ],
            "type": "heatmap"
           }
          ],
          "heatmapgl": [
           {
            "colorbar": {
             "outlinewidth": 0,
             "ticks": ""
            },
            "colorscale": [
             [
              0,
              "#0d0887"
             ],
             [
              0.1111111111111111,
              "#46039f"
             ],
             [
              0.2222222222222222,
              "#7201a8"
             ],
             [
              0.3333333333333333,
              "#9c179e"
             ],
             [
              0.4444444444444444,
              "#bd3786"
             ],
             [
              0.5555555555555556,
              "#d8576b"
             ],
             [
              0.6666666666666666,
              "#ed7953"
             ],
             [
              0.7777777777777778,
              "#fb9f3a"
             ],
             [
              0.8888888888888888,
              "#fdca26"
             ],
             [
              1,
              "#f0f921"
             ]
            ],
            "type": "heatmapgl"
           }
          ],
          "histogram": [
           {
            "marker": {
             "pattern": {
              "fillmode": "overlay",
              "size": 10,
              "solidity": 0.2
             }
            },
            "type": "histogram"
           }
          ],
          "histogram2d": [
           {
            "colorbar": {
             "outlinewidth": 0,
             "ticks": ""
            },
            "colorscale": [
             [
              0,
              "#0d0887"
             ],
             [
              0.1111111111111111,
              "#46039f"
             ],
             [
              0.2222222222222222,
              "#7201a8"
             ],
             [
              0.3333333333333333,
              "#9c179e"
             ],
             [
              0.4444444444444444,
              "#bd3786"
             ],
             [
              0.5555555555555556,
              "#d8576b"
             ],
             [
              0.6666666666666666,
              "#ed7953"
             ],
             [
              0.7777777777777778,
              "#fb9f3a"
             ],
             [
              0.8888888888888888,
              "#fdca26"
             ],
             [
              1,
              "#f0f921"
             ]
            ],
            "type": "histogram2d"
           }
          ],
          "histogram2dcontour": [
           {
            "colorbar": {
             "outlinewidth": 0,
             "ticks": ""
            },
            "colorscale": [
             [
              0,
              "#0d0887"
             ],
             [
              0.1111111111111111,
              "#46039f"
             ],
             [
              0.2222222222222222,
              "#7201a8"
             ],
             [
              0.3333333333333333,
              "#9c179e"
             ],
             [
              0.4444444444444444,
              "#bd3786"
             ],
             [
              0.5555555555555556,
              "#d8576b"
             ],
             [
              0.6666666666666666,
              "#ed7953"
             ],
             [
              0.7777777777777778,
              "#fb9f3a"
             ],
             [
              0.8888888888888888,
              "#fdca26"
             ],
             [
              1,
              "#f0f921"
             ]
            ],
            "type": "histogram2dcontour"
           }
          ],
          "mesh3d": [
           {
            "colorbar": {
             "outlinewidth": 0,
             "ticks": ""
            },
            "type": "mesh3d"
           }
          ],
          "parcoords": [
           {
            "line": {
             "colorbar": {
              "outlinewidth": 0,
              "ticks": ""
             }
            },
            "type": "parcoords"
           }
          ],
          "pie": [
           {
            "automargin": true,
            "type": "pie"
           }
          ],
          "scatter": [
           {
            "fillpattern": {
             "fillmode": "overlay",
             "size": 10,
             "solidity": 0.2
            },
            "type": "scatter"
           }
          ],
          "scatter3d": [
           {
            "line": {
             "colorbar": {
              "outlinewidth": 0,
              "ticks": ""
             }
            },
            "marker": {
             "colorbar": {
              "outlinewidth": 0,
              "ticks": ""
             }
            },
            "type": "scatter3d"
           }
          ],
          "scattercarpet": [
           {
            "marker": {
             "colorbar": {
              "outlinewidth": 0,
              "ticks": ""
             }
            },
            "type": "scattercarpet"
           }
          ],
          "scattergeo": [
           {
            "marker": {
             "colorbar": {
              "outlinewidth": 0,
              "ticks": ""
             }
            },
            "type": "scattergeo"
           }
          ],
          "scattergl": [
           {
            "marker": {
             "colorbar": {
              "outlinewidth": 0,
              "ticks": ""
             }
            },
            "type": "scattergl"
           }
          ],
          "scattermapbox": [
           {
            "marker": {
             "colorbar": {
              "outlinewidth": 0,
              "ticks": ""
             }
            },
            "type": "scattermapbox"
           }
          ],
          "scatterpolar": [
           {
            "marker": {
             "colorbar": {
              "outlinewidth": 0,
              "ticks": ""
             }
            },
            "type": "scatterpolar"
           }
          ],
          "scatterpolargl": [
           {
            "marker": {
             "colorbar": {
              "outlinewidth": 0,
              "ticks": ""
             }
            },
            "type": "scatterpolargl"
           }
          ],
          "scatterternary": [
           {
            "marker": {
             "colorbar": {
              "outlinewidth": 0,
              "ticks": ""
             }
            },
            "type": "scatterternary"
           }
          ],
          "surface": [
           {
            "colorbar": {
             "outlinewidth": 0,
             "ticks": ""
            },
            "colorscale": [
             [
              0,
              "#0d0887"
             ],
             [
              0.1111111111111111,
              "#46039f"
             ],
             [
              0.2222222222222222,
              "#7201a8"
             ],
             [
              0.3333333333333333,
              "#9c179e"
             ],
             [
              0.4444444444444444,
              "#bd3786"
             ],
             [
              0.5555555555555556,
              "#d8576b"
             ],
             [
              0.6666666666666666,
              "#ed7953"
             ],
             [
              0.7777777777777778,
              "#fb9f3a"
             ],
             [
              0.8888888888888888,
              "#fdca26"
             ],
             [
              1,
              "#f0f921"
             ]
            ],
            "type": "surface"
           }
          ],
          "table": [
           {
            "cells": {
             "fill": {
              "color": "#EBF0F8"
             },
             "line": {
              "color": "white"
             }
            },
            "header": {
             "fill": {
              "color": "#C8D4E3"
             },
             "line": {
              "color": "white"
             }
            },
            "type": "table"
           }
          ]
         },
         "layout": {
          "annotationdefaults": {
           "arrowcolor": "#2a3f5f",
           "arrowhead": 0,
           "arrowwidth": 1
          },
          "autotypenumbers": "strict",
          "coloraxis": {
           "colorbar": {
            "outlinewidth": 0,
            "ticks": ""
           }
          },
          "colorscale": {
           "diverging": [
            [
             0,
             "#8e0152"
            ],
            [
             0.1,
             "#c51b7d"
            ],
            [
             0.2,
             "#de77ae"
            ],
            [
             0.3,
             "#f1b6da"
            ],
            [
             0.4,
             "#fde0ef"
            ],
            [
             0.5,
             "#f7f7f7"
            ],
            [
             0.6,
             "#e6f5d0"
            ],
            [
             0.7,
             "#b8e186"
            ],
            [
             0.8,
             "#7fbc41"
            ],
            [
             0.9,
             "#4d9221"
            ],
            [
             1,
             "#276419"
            ]
           ],
           "sequential": [
            [
             0,
             "#0d0887"
            ],
            [
             0.1111111111111111,
             "#46039f"
            ],
            [
             0.2222222222222222,
             "#7201a8"
            ],
            [
             0.3333333333333333,
             "#9c179e"
            ],
            [
             0.4444444444444444,
             "#bd3786"
            ],
            [
             0.5555555555555556,
             "#d8576b"
            ],
            [
             0.6666666666666666,
             "#ed7953"
            ],
            [
             0.7777777777777778,
             "#fb9f3a"
            ],
            [
             0.8888888888888888,
             "#fdca26"
            ],
            [
             1,
             "#f0f921"
            ]
           ],
           "sequentialminus": [
            [
             0,
             "#0d0887"
            ],
            [
             0.1111111111111111,
             "#46039f"
            ],
            [
             0.2222222222222222,
             "#7201a8"
            ],
            [
             0.3333333333333333,
             "#9c179e"
            ],
            [
             0.4444444444444444,
             "#bd3786"
            ],
            [
             0.5555555555555556,
             "#d8576b"
            ],
            [
             0.6666666666666666,
             "#ed7953"
            ],
            [
             0.7777777777777778,
             "#fb9f3a"
            ],
            [
             0.8888888888888888,
             "#fdca26"
            ],
            [
             1,
             "#f0f921"
            ]
           ]
          },
          "colorway": [
           "#636efa",
           "#EF553B",
           "#00cc96",
           "#ab63fa",
           "#FFA15A",
           "#19d3f3",
           "#FF6692",
           "#B6E880",
           "#FF97FF",
           "#FECB52"
          ],
          "font": {
           "color": "#2a3f5f"
          },
          "geo": {
           "bgcolor": "white",
           "lakecolor": "white",
           "landcolor": "#E5ECF6",
           "showlakes": true,
           "showland": true,
           "subunitcolor": "white"
          },
          "hoverlabel": {
           "align": "left"
          },
          "hovermode": "closest",
          "mapbox": {
           "style": "light"
          },
          "paper_bgcolor": "white",
          "plot_bgcolor": "#E5ECF6",
          "polar": {
           "angularaxis": {
            "gridcolor": "white",
            "linecolor": "white",
            "ticks": ""
           },
           "bgcolor": "#E5ECF6",
           "radialaxis": {
            "gridcolor": "white",
            "linecolor": "white",
            "ticks": ""
           }
          },
          "scene": {
           "xaxis": {
            "backgroundcolor": "#E5ECF6",
            "gridcolor": "white",
            "gridwidth": 2,
            "linecolor": "white",
            "showbackground": true,
            "ticks": "",
            "zerolinecolor": "white"
           },
           "yaxis": {
            "backgroundcolor": "#E5ECF6",
            "gridcolor": "white",
            "gridwidth": 2,
            "linecolor": "white",
            "showbackground": true,
            "ticks": "",
            "zerolinecolor": "white"
           },
           "zaxis": {
            "backgroundcolor": "#E5ECF6",
            "gridcolor": "white",
            "gridwidth": 2,
            "linecolor": "white",
            "showbackground": true,
            "ticks": "",
            "zerolinecolor": "white"
           }
          },
          "shapedefaults": {
           "line": {
            "color": "#2a3f5f"
           }
          },
          "ternary": {
           "aaxis": {
            "gridcolor": "white",
            "linecolor": "white",
            "ticks": ""
           },
           "baxis": {
            "gridcolor": "white",
            "linecolor": "white",
            "ticks": ""
           },
           "bgcolor": "#E5ECF6",
           "caxis": {
            "gridcolor": "white",
            "linecolor": "white",
            "ticks": ""
           }
          },
          "title": {
           "x": 0.05
          },
          "xaxis": {
           "automargin": true,
           "gridcolor": "white",
           "linecolor": "white",
           "ticks": "",
           "title": {
            "standoff": 15
           },
           "zerolinecolor": "white",
           "zerolinewidth": 2
          },
          "yaxis": {
           "automargin": true,
           "gridcolor": "white",
           "linecolor": "white",
           "ticks": "",
           "title": {
            "standoff": 15
           },
           "zerolinecolor": "white",
           "zerolinewidth": 2
          }
         }
        },
        "title": {
         "text": "Product Performance Over Time"
        },
        "xaxis": {
         "anchor": "y",
         "domain": [
          0,
          1
         ],
         "title": {
          "text": "Date"
         }
        },
        "yaxis": {
         "anchor": "x",
         "domain": [
          0,
          1
         ],
         "title": {
          "text": "Product_id"
         }
        }
       }
      }
     },
     "metadata": {},
     "output_type": "display_data"
    }
   ],
   "source": [
    "# Aggregate sales by date and product for a heatmap\n",
    "sales_by_date_product = df.groupby(['Date', 'Product_id']).agg({'Sales Amount': 'sum'}).reset_index()\n",
    "\n",
    "fig = px.density_heatmap(\n",
    "    sales_by_date_product, \n",
    "    x='Date', y='Product_id', z='Sales Amount', \n",
    "    title='Product Performance Over Time',\n",
    "    color_continuous_scale='Viridis'\n",
    ")\n",
    "fig.show()\n"
   ]
  },
  {
   "cell_type": "markdown",
   "metadata": {},
   "source": [
    "Impact of Discount on Sales Amount (Bubble Plot)"
   ]
  },
  {
   "cell_type": "code",
   "execution_count": 150,
   "metadata": {},
   "outputs": [
    {
     "name": "stderr",
     "output_type": "stream",
     "text": [
      "c:\\Users\\Abhay\\anaconda3\\envs\\EDA\\lib\\site-packages\\plotly\\express\\_core.py:1985: FutureWarning:\n",
      "\n",
      "When grouping with a length-1 list-like, you will need to pass a length-1 tuple to get_group in a future version of pandas. Pass `(name,)` instead of `name` to silence this warning.\n",
      "\n"
     ]
    },
    {
     "data": {
      "application/vnd.plotly.v1+json": {
       "config": {
        "plotlyServerURL": "https://plot.ly"
       },
       "data": [
        {
         "hovertemplate": "<b>%{hovertext}</b><br><br>Customer Segment=New<br>Discount Applied=%{x}<br>Sales Amount=%{y}<br>Units_sold=%{marker.size}<extra></extra>",
         "hovertext": [
          "P002",
          "P005",
          "P001",
          "P003",
          "P002",
          "P006",
          "P002",
          "P002",
          "P007",
          "P005",
          "P004",
          "P002",
          "P002",
          "P002",
          "P004",
          "P003",
          "P002",
          "P001",
          "P002",
          "P002",
          "P008",
          "P004",
          "P007",
          "P007",
          "P004",
          "P008",
          "P004",
          "P003",
          "P001",
          "P003",
          "P005",
          "P004",
          "P003",
          "P004",
          "P004",
          "P002",
          "P004",
          "P005",
          "P004",
          "P002",
          "P006",
          "P003",
          "P007",
          "P002",
          "P003",
          "P007",
          "P001",
          "P003",
          "P001",
          "P008",
          "P006",
          "P002",
          "P003",
          "P007",
          "P006",
          "P006",
          "P006",
          "P001",
          "P001",
          "P004",
          "P008",
          "P002",
          "P004",
          "P002",
          "P001",
          "P006",
          "P002",
          "P002",
          "P003",
          "P006",
          "P008",
          "P005",
          "P006",
          "P004",
          "P007",
          "P002",
          "P001",
          "P006",
          "P008",
          "P008",
          "P007",
          "P006",
          "P001",
          "P006",
          "P006",
          "P002",
          "P005",
          "P008",
          "P004",
          "P002",
          "P003",
          "P007",
          "P002",
          "P002",
          "P004",
          "P002",
          "P006",
          "P001",
          "P003",
          "P008",
          "P008",
          "P002",
          "P008",
          "P008",
          "P004",
          "P002",
          "P003",
          "P005",
          "P007",
          "P001",
          "P002",
          "P006",
          "P001",
          "P004",
          "P002",
          "P002",
          "P002",
          "P002",
          "P002",
          "P002",
          "P003",
          "P002",
          "P008",
          "P008",
          "P002",
          "P006",
          "P001",
          "P002",
          "P006",
          "P002",
          "P002",
          "P003",
          "P005",
          "P006",
          "P002",
          "P008",
          "P007",
          "P002",
          "P004",
          "P007",
          "P008",
          "P005",
          "P007",
          "P001",
          "P005",
          "P001",
          "P005",
          "P005",
          "P003",
          "P008",
          "P001",
          "P007",
          "P005",
          "P002",
          "P008",
          "P004",
          "P002",
          "P001",
          "P004",
          "P008",
          "P005",
          "P006",
          "P003",
          "P004",
          "P003",
          "P002",
          "P002",
          "P003",
          "P002",
          "P007",
          "P002",
          "P002",
          "P002",
          "P005",
          "P006",
          "P002",
          "P002",
          "P003",
          "P007",
          "P007",
          "P002",
          "P004",
          "P001",
          "P007",
          "P002",
          "P004",
          "P005",
          "P002",
          "P004",
          "P006",
          "P002",
          "P008",
          "P005",
          "P003",
          "P002",
          "P005",
          "P008",
          "P002",
          "P003",
          "P002",
          "P003",
          "P008",
          "P008",
          "P004",
          "P003",
          "P002",
          "P007",
          "P008",
          "P002",
          "P004",
          "P008",
          "P001",
          "P004",
          "P004",
          "P003",
          "P002",
          "P007",
          "P006",
          "P003",
          "P004",
          "P007",
          "P002",
          "P008",
          "P006",
          "P004",
          "P007",
          "P001",
          "P001",
          "P002",
          "P001",
          "P002",
          "P005",
          "P006",
          "P004",
          "P008",
          "P004",
          "P008",
          "P006",
          "P005",
          "P002",
          "P004",
          "P003",
          "P003",
          "P003",
          "P008",
          "P002",
          "P008",
          "P002",
          "P001",
          "P002",
          "P004",
          "P001",
          "P004",
          "P003",
          "P007",
          "P004",
          "P007",
          "P006",
          "P004",
          "P003",
          "P002",
          "P008",
          "P004",
          "P004",
          "P006",
          "P001",
          "P007",
          "P007",
          "P007",
          "P007",
          "P008",
          "P004",
          "P004",
          "P007",
          "P004",
          "P006",
          "P002",
          "P005",
          "P002",
          "P004",
          "P002",
          "P002",
          "P006",
          "P003",
          "P005",
          "P006",
          "P004",
          "P002",
          "P005",
          "P005",
          "P008",
          "P003",
          "P007",
          "P006",
          "P005",
          "P001",
          "P007",
          "P002",
          "P003",
          "P002",
          "P008",
          "P003",
          "P004",
          "P004",
          "P001",
          "P007",
          "P005",
          "P005",
          "P004",
          "P002",
          "P007",
          "P004",
          "P005",
          "P006",
          "P003",
          "P005",
          "P003",
          "P002",
          "P007",
          "P001",
          "P007",
          "P004",
          "P005",
          "P006",
          "P004",
          "P008",
          "P002",
          "P003",
          "P002",
          "P008",
          "P006",
          "P007",
          "P002",
          "P002",
          "P005",
          "P006",
          "P007",
          "P006",
          "P006",
          "P008",
          "P002",
          "P004",
          "P007",
          "P001",
          "P007",
          "P002",
          "P004",
          "P008",
          "P008",
          "P007",
          "P006",
          "P007",
          "P001",
          "P002",
          "P002",
          "P002",
          "P001",
          "P008",
          "P003",
          "P004",
          "P002",
          "P001",
          "P003",
          "P002",
          "P005",
          "P002",
          "P002",
          "P001",
          "P007",
          "P001",
          "P002",
          "P005",
          "P006",
          "P005",
          "P007",
          "P002",
          "P006",
          "P004",
          "P002",
          "P006",
          "P004",
          "P008",
          "P008",
          "P002",
          "P002",
          "P003",
          "P008",
          "P002",
          "P002",
          "P003",
          "P008",
          "P008",
          "P002",
          "P002",
          "P005",
          "P004",
          "P006",
          "P003",
          "P008",
          "P003",
          "P004",
          "P002",
          "P005",
          "P003",
          "P002",
          "P002",
          "P002",
          "P007",
          "P005",
          "P008",
          "P007",
          "P006",
          "P002",
          "P002",
          "P006",
          "P006",
          "P003",
          "P003",
          "P007",
          "P008",
          "P003",
          "P004",
          "P006"
         ],
         "legendgroup": "New",
         "marker": {
          "color": "#636efa",
          "size": [
           76,
           52,
           82,
           87,
           88,
           31,
           17,
           27,
           97,
           28,
           51,
           20,
           93,
           1,
           84,
           53,
           2,
           8,
           26,
           61,
           75,
           29,
           8,
           32,
           75,
           71,
           3,
           8,
           41,
           88,
           78,
           27,
           48,
           8,
           16,
           47,
           13,
           13,
           28,
           81,
           53,
           69,
           51,
           92,
           56,
           51,
           64,
           51,
           51,
           83,
           58,
           61,
           79,
           82,
           51,
           91,
           62,
           25,
           51,
           36,
           90,
           30,
           51,
           75,
           53,
           63,
           55,
           51,
           85,
           51,
           1,
           84,
           19,
           59,
           55,
           42,
           22,
           48,
           9,
           13,
           65,
           25,
           44,
           26,
           83,
           24,
           10,
           75,
           93,
           1,
           82,
           7,
           73,
           15,
           40,
           27,
           72,
           87,
           8,
           71,
           44,
           47,
           98,
           93,
           27,
           51,
           44,
           60,
           1,
           16,
           70,
           84,
           98,
           90,
           97,
           75,
           51,
           51,
           7,
           65,
           93,
           51,
           49,
           11,
           0,
           9,
           71,
           81,
           51,
           24,
           85,
           13,
           8,
           90,
           38,
           79,
           51,
           98,
           97,
           1,
           54,
           34,
           24,
           51,
           22,
           83,
           92,
           12,
           5,
           5,
           25,
           66,
           92,
           95,
           51,
           25,
           67,
           69,
           18,
           82,
           18,
           75,
           20,
           67,
           97,
           99,
           36,
           73,
           4,
           75,
           70,
           99,
           60,
           100,
           25,
           57,
           84,
           7,
           85,
           65,
           19,
           8,
           62,
           23,
           8,
           66,
           99,
           60,
           14,
           51,
           31,
           51,
           100,
           86,
           39,
           9,
           25,
           11,
           70,
           51,
           31,
           52,
           94,
           64,
           81,
           73,
           65,
           14,
           36,
           26,
           21,
           24,
           42,
           22,
           51,
           76,
           100,
           51,
           74,
           45,
           1,
           27,
           19,
           38,
           95,
           11,
           7,
           84,
           85,
           58,
           23,
           25,
           51,
           81,
           48,
           2,
           23,
           94,
           62,
           95,
           73,
           65,
           68,
           48,
           51,
           40,
           7,
           81,
           51,
           55,
           22,
           54,
           33,
           100,
           31,
           62,
           35,
           84,
           7,
           44,
           100,
           23,
           76,
           37,
           11,
           15,
           46,
           86,
           28,
           65,
           16,
           51,
           54,
           51,
           87,
           44,
           40,
           41,
           6,
           51,
           23,
           92,
           54,
           16,
           79,
           38,
           58,
           15,
           91,
           51,
           51,
           88,
           61,
           51,
           33,
           69,
           16,
           66,
           22,
           51,
           63,
           56,
           13,
           67,
           41,
           51,
           51,
           51,
           27,
           3,
           62,
           54,
           49,
           48,
           51,
           15,
           15,
           47,
           51,
           10,
           38,
           62,
           70,
           35,
           13,
           57,
           51,
           23,
           76,
           15,
           97,
           97,
           61,
           90,
           99,
           50,
           7,
           60,
           68,
           27,
           89,
           43,
           7,
           15,
           82,
           78,
           65,
           99,
           99,
           4,
           99,
           66,
           29,
           51,
           51,
           74,
           64,
           72,
           50,
           16,
           79,
           75,
           47,
           7,
           86,
           5,
           78,
           95,
           18,
           24,
           51,
           6,
           26,
           40,
           82,
           24,
           76,
           30,
           22,
           36,
           38,
           59,
           18,
           51,
           90,
           36,
           52,
           28,
           64,
           57,
           18,
           11,
           51,
           99,
           91,
           80,
           70,
           92,
           25,
           72,
           79,
           94,
           31,
           24,
           49,
           95,
           9,
           54,
           69,
           84,
           40,
           46,
           86,
           52,
           62,
           2,
           16,
           43,
           73,
           79,
           56,
           51,
           99
          ],
          "sizemode": "area",
          "sizeref": 0.027777777777777776,
          "symbol": "circle"
         },
         "mode": "markers",
         "name": "New",
         "orientation": "v",
         "showlegend": true,
         "type": "scatter",
         "x": [
          15.45,
          14.51,
          3.32,
          14.3,
          14.25,
          10.02,
          14.5,
          5.17,
          17.38,
          12.84,
          10.62,
          14.13,
          12.88,
          0.32,
          11.57,
          0.94,
          6.51,
          12.91,
          19.13,
          15.87,
          17.68,
          17.21,
          2.7,
          9.95,
          9.614999999999998,
          5.56,
          7.34,
          5.03,
          6.19,
          15.82,
          19.06,
          3.55,
          0.85,
          9.29,
          19.29,
          17.13,
          7.82,
          9.614999999999998,
          1.96,
          17.41,
          14.95,
          3,
          3.11,
          13.05,
          17.39,
          8.77,
          5.97,
          8.23,
          6.33,
          9.614999999999998,
          12.98,
          17.03,
          19.16,
          1.62,
          19.98,
          19.11,
          9.614999999999998,
          17.41,
          10.27,
          18.6,
          19.11,
          6.26,
          8.29,
          6.52,
          5.08,
          3.11,
          0.18,
          8.01,
          10.6,
          8.68,
          14.24,
          11.06,
          6.69,
          8.4,
          13.21,
          6.35,
          17.33,
          17.03,
          18.03,
          2.94,
          9.65,
          19.08,
          9.53,
          8.41,
          1.92,
          10.9,
          12.15,
          11.95,
          5.76,
          14.63,
          8.56,
          18.4,
          2.9,
          9.614999999999998,
          16.81,
          19.49,
          11.1,
          9.614999999999998,
          1.87,
          2.18,
          9.614999999999998,
          18.08,
          11.83,
          16.37,
          18.37,
          4.71,
          4.22,
          5.49,
          11.77,
          12.74,
          14.64,
          10.36,
          17.25,
          14.21,
          13.28,
          5.86,
          6.18,
          19.87,
          17.82,
          19.07,
          13.86,
          7.89,
          9.614999999999998,
          4.59,
          4.3,
          17.23,
          12.15,
          1.22,
          17.83,
          3.51,
          0.34,
          11.69,
          11.69,
          1.1,
          12.48,
          6.34,
          0.17,
          1.64,
          4.97,
          5.85,
          7.82,
          15.73,
          14.46,
          7.44,
          13.51,
          13.15,
          11.08,
          9.614999999999998,
          9.614999999999998,
          5.13,
          9.5,
          12.39,
          7.81,
          9.8,
          11.79,
          2.82,
          18.33,
          14.42,
          18.21,
          14.45,
          19.23,
          1.33,
          10.95,
          18.8,
          8.9,
          16.6,
          9.65,
          11.16,
          15.09,
          18.01,
          3.54,
          12.34,
          0.56,
          9.614999999999998,
          16.85,
          8.96,
          10.97,
          11.65,
          9.614999999999998,
          3.09,
          7.14,
          2.78,
          13.08,
          9.614999999999998,
          4.16,
          3.67,
          9.27,
          4.83,
          8.87,
          13.91,
          15.67,
          10.19,
          7.46,
          5.07,
          10.34,
          18.47,
          8.21,
          9.57,
          2.75,
          0.51,
          16.92,
          18.25,
          3.08,
          3.54,
          15.57,
          13,
          0.41,
          12.72,
          3.14,
          4.42,
          16.5,
          18.62,
          9.614999999999998,
          1.31,
          10.78,
          4.94,
          18.05,
          2.45,
          14.05,
          13.8,
          1.54,
          9.614999999999998,
          1.04,
          0.36,
          9.79,
          10.15,
          13.43,
          0.95,
          12.24,
          3.11,
          0.35,
          11.53,
          2.75,
          1.71,
          4.86,
          2.2,
          9.614999999999998,
          12.33,
          9.52,
          9.614999999999998,
          7.33,
          9.11,
          4.6,
          1.81,
          6.67,
          0.05,
          10.45,
          18.1,
          18.81,
          0.42,
          5.78,
          8.66,
          17.9,
          6.06,
          19.94,
          1.86,
          19.44,
          5.26,
          9.614999999999998,
          7.06,
          5.66,
          9.6,
          12.71,
          17.43,
          15.04,
          1.96,
          12.35,
          9.614999999999998,
          18.25,
          13.17,
          8.85,
          9.614999999999998,
          10.26,
          12.7,
          11.76,
          18.89,
          4.59,
          7.54,
          11.41,
          9.11,
          9.614999999999998,
          8.74,
          6.9,
          17.9,
          7.96,
          6.71,
          15.25,
          2.53,
          18.39,
          6.55,
          14.19,
          18.2,
          11.32,
          15.77,
          16.14,
          10.55,
          15.4,
          4.25,
          2.82,
          6.87,
          5.16,
          16.5,
          10.12,
          19.93,
          1.07,
          7.74,
          19.3,
          10.85,
          4.18,
          19.11,
          0.23,
          13.22,
          9.56,
          16.24,
          2.3,
          0.94,
          7.46,
          1.17,
          13.26,
          6.69,
          0.71,
          9.92,
          15.93,
          8.66,
          9.72,
          10.69,
          0.17,
          18.05,
          12.73,
          11.09,
          12.1,
          14.78,
          8.01,
          16.42,
          17.91,
          9.69,
          8.45,
          15.92,
          11.87,
          3.78,
          12.41,
          9.614999999999998,
          1.17,
          2.7,
          4.5,
          18.61,
          3.12,
          8.42,
          17.98,
          1.94,
          17.76,
          19.72,
          16.63,
          3.1,
          2.15,
          17.08,
          9.54,
          7.11,
          9.35,
          6.32,
          6.75,
          9.614999999999998,
          14.31,
          9.614999999999998,
          6.46,
          3.32,
          2.41,
          18.06,
          13.27,
          2.89,
          10.49,
          12.08,
          7.87,
          18.39,
          19.24,
          9.94,
          6.92,
          11.54,
          17.49,
          13.24,
          6.69,
          6.82,
          1.52,
          17.96,
          9.614999999999998,
          17.53,
          10.83,
          10.27,
          8.39,
          1.44,
          13.35,
          14.61,
          17.28,
          8.86,
          5.21,
          10.83,
          4.71,
          3.44,
          5.09,
          2.16,
          6.01,
          2.5,
          11.36,
          14.54,
          1.62,
          9.25,
          16.97,
          15.73,
          9.614999999999998,
          11.35,
          3.4,
          1.1,
          5.65,
          0.7,
          5.96,
          4.43,
          10.54,
          4.3,
          9.614999999999998,
          18.4,
          5.66,
          9.614999999999998,
          1.14
         ],
         "xaxis": "x",
         "y": [
          199.57,
          1279.78,
          1316.87,
          1404.44,
          891.87,
          674.88,
          1281.82,
          385.23,
          1348.09,
          438.41,
          837.13,
          1317.45,
          813.67,
          813.67,
          585.31,
          1194.64,
          212.69,
          1483.87,
          1497.49,
          872.92,
          897.22,
          674.2,
          910.15,
          1394.34,
          1117.71,
          251.99,
          701.51,
          917.71,
          308.8,
          630.61,
          1153.9,
          813.67,
          413.82,
          813.67,
          365.05,
          813.67,
          458.64,
          968.53,
          340.01,
          813.67,
          860.36,
          998.21,
          1333.28,
          1434.73,
          1169.43,
          1286.08,
          1278.68,
          938.15,
          1327.67,
          1400.37,
          236.43,
          519.42,
          1115.2,
          1017.93,
          1187.94,
          1225.52,
          813.67,
          909.59,
          813.67,
          1052.26,
          235.73,
          855.53,
          1299.13,
          1390.71,
          515.29,
          102.29,
          813.67,
          1398.07,
          1255.91,
          1397.66,
          1003.85,
          1107.91,
          328.41,
          1238.7,
          1106.84,
          813.67,
          1100.19,
          1219.58,
          1251.9,
          547.97,
          1370.01,
          767.8,
          1160.64,
          1086.47,
          564.25,
          1025.59,
          196.87,
          226.17,
          979.46,
          1456.08,
          919.26,
          777.24,
          1107.4,
          444.7,
          698.49,
          241.38,
          770.75,
          321.5,
          442.29,
          456.69,
          1226.71,
          967.95,
          1450.42,
          946.35,
          331.14,
          1215.8,
          966.99,
          445.74,
          335.13,
          941.45,
          1196.37,
          511.98,
          598.3,
          1057.96,
          478.75,
          1040.85,
          1440.91,
          160.36,
          404.06,
          974.72,
          1264.79,
          813.67,
          423.82,
          680.31,
          1371.52,
          855.75,
          110.7,
          823.64,
          334.31,
          994.79,
          1289.36,
          911.37,
          1299.4,
          298.75,
          467.52,
          1375.02,
          978.24,
          1383.85,
          1355.91,
          622.57,
          1287.05,
          659.76,
          638.79,
          547.52,
          1323.43,
          583.37,
          1076.33,
          701.45,
          794.68,
          999.1,
          464.06,
          455.14,
          1332.05,
          705.18,
          1486.82,
          774.58,
          435.16,
          494.02,
          1353.2,
          100.99,
          144.09,
          1419.86,
          377.87,
          783.63,
          123.76,
          730.21,
          1351.81,
          406.96,
          691.86,
          749.6,
          672.19,
          413.23,
          670.69,
          813.67,
          659.63,
          321.72,
          1087.62,
          384.63,
          1228.59,
          686.4,
          1166.7,
          813.67,
          181.34,
          578.77,
          1050.44,
          1479.12,
          1013.86,
          501.94,
          1350.57,
          702.72,
          978.73,
          570.4,
          912.97,
          1030.44,
          421.25,
          1160.99,
          1032.34,
          813.67,
          598.69,
          605.95,
          794.81,
          622.82,
          488.22,
          861.08,
          757.06,
          1024.32,
          347.17,
          261.55,
          685.17,
          813.67,
          1171.13,
          1307.03,
          168.48,
          813.67,
          736.49,
          813.67,
          1298.84,
          515.61,
          553.09,
          381.24,
          813.67,
          813.67,
          857.57,
          102.93,
          813.67,
          309.24,
          527.37,
          946.74,
          982.16,
          608.42,
          215.89,
          262.87,
          451.86,
          138.54,
          813.67,
          1309.94,
          1105.01,
          1324.47,
          397.81,
          1076.13,
          813.67,
          1162.07,
          285.75,
          1211.75,
          1380.99,
          1009.38,
          380.34,
          463.87,
          1472.33,
          813.67,
          193.05,
          1277.64,
          549.78,
          585.1,
          562.19,
          1478.48,
          246.46,
          776.51,
          1018.85,
          493.01,
          813.67,
          788.83,
          673.35,
          596.68,
          1114.79,
          460.88,
          813.67,
          403.07,
          421.54,
          813.67,
          536.57,
          751.6,
          813.67,
          144.9,
          662.25,
          1119.18,
          611.26,
          1004.24,
          1094.46,
          334.91,
          1245.89,
          1360.56,
          1329.48,
          889.85,
          709.78,
          1064.65,
          444.95,
          1069.5,
          135.64,
          806.52,
          1262.59,
          311.26,
          816.03,
          813.67,
          813.67,
          638.57,
          1355.21,
          813.67,
          1151.46,
          813.67,
          729.4,
          134.97,
          171.57,
          725.15,
          1152.5,
          1070.58,
          1097.21,
          1122.05,
          1120.51,
          607.62,
          585.44,
          703.01,
          1333.22,
          1338.57,
          1396.19,
          1489.05,
          226.8,
          189.4,
          586.9,
          287.46,
          908.29,
          1008.99,
          1337.2,
          1137.07,
          1394.28,
          555.68,
          1299.27,
          239.91,
          1498.36,
          658.27,
          298.23,
          813.67,
          323.35,
          318.89,
          1321.88,
          997.04,
          1343.29,
          1126.76,
          849.1,
          813.67,
          418.98,
          1437.16,
          900.5,
          775.66,
          749.79,
          1049.87,
          998.29,
          813.67,
          834.18,
          153.66,
          813.67,
          1272.38,
          361.71,
          526.71,
          1144.37,
          759.5,
          409.69,
          866.29,
          387.97,
          384.57,
          813.67,
          962.82,
          1046.34,
          1472.73,
          1143.81,
          934.34,
          813.67,
          425.56,
          999.63,
          728.11,
          321.04,
          226.17,
          813.67,
          166,
          670.19,
          1496.7,
          319.65,
          612.36,
          879.98,
          187.26,
          813.67,
          680.03,
          989.35,
          1293.79,
          813.67,
          952.98,
          1262,
          349.42,
          409.34,
          500.26,
          969.15,
          512.19,
          1340.78,
          759.17,
          1446.64,
          737.9,
          1424.61,
          332.3,
          813.67,
          382.31,
          813.67,
          820.8,
          999.23,
          485.64,
          858.35,
          910.61,
          585.92,
          485.33,
          865.1,
          534.57,
          476.64,
          1432.55,
          1228.92,
          683.51,
          581.96,
          710.33,
          402.92,
          387.18,
          705.55,
          897.42,
          998.53,
          1348.04,
          1052.76
         ],
         "yaxis": "y"
        },
        {
         "hovertemplate": "<b>%{hovertext}</b><br><br>Customer Segment=Regular<br>Discount Applied=%{x}<br>Sales Amount=%{y}<br>Units_sold=%{marker.size}<extra></extra>",
         "hovertext": [
          "P007",
          "P007",
          "P003",
          "P007",
          "P006",
          "P007",
          "P008",
          "P001",
          "P004",
          "P004",
          "P002",
          "P008",
          "P004",
          "P006",
          "P002",
          "P007",
          "P004",
          "P002",
          "P005",
          "P003",
          "P008",
          "P006",
          "P001",
          "P001",
          "P008",
          "P002",
          "P002",
          "P006",
          "P008",
          "P008",
          "P002",
          "P006",
          "P003",
          "P008",
          "P005",
          "P002",
          "P002",
          "P003",
          "P004",
          "P006",
          "P005",
          "P002",
          "P008",
          "P007",
          "P002",
          "P002",
          "P002",
          "P008",
          "P008",
          "P005",
          "P004",
          "P006",
          "P007",
          "P002",
          "P003",
          "P005",
          "P004",
          "P002",
          "P005",
          "P007",
          "P008",
          "P007",
          "P005",
          "P002",
          "P007",
          "P001",
          "P008",
          "P001",
          "P008",
          "P002",
          "P002",
          "P003",
          "P005",
          "P008",
          "P008",
          "P002",
          "P002",
          "P007",
          "P007",
          "P002",
          "P002",
          "P001",
          "P008",
          "P005",
          "P007",
          "P001",
          "P006",
          "P001",
          "P005",
          "P007",
          "P007",
          "P002",
          "P008",
          "P006",
          "P005",
          "P004",
          "P008",
          "P001",
          "P006",
          "P005",
          "P006",
          "P003",
          "P004",
          "P008",
          "P005",
          "P002",
          "P004",
          "P007",
          "P004",
          "P002",
          "P002",
          "P002",
          "P006",
          "P004",
          "P005",
          "P004",
          "P006",
          "P007",
          "P002",
          "P002",
          "P002",
          "P001",
          "P007",
          "P008",
          "P005",
          "P002",
          "P007",
          "P001",
          "P007",
          "P006",
          "P004",
          "P005",
          "P002",
          "P006",
          "P003",
          "P007",
          "P003",
          "P002",
          "P003",
          "P008",
          "P004",
          "P007",
          "P006",
          "P006",
          "P005",
          "P004",
          "P001",
          "P001",
          "P006",
          "P008",
          "P007",
          "P005",
          "P004",
          "P001",
          "P005",
          "P001",
          "P008",
          "P003",
          "P007",
          "P002",
          "P003",
          "P002",
          "P007",
          "P008",
          "P003",
          "P003",
          "P005",
          "P005",
          "P003",
          "P005",
          "P003",
          "P001",
          "P002",
          "P006",
          "P003",
          "P008",
          "P003",
          "P006",
          "P002",
          "P008",
          "P008",
          "P001",
          "P002",
          "P003",
          "P005",
          "P007",
          "P004",
          "P002",
          "P001",
          "P003",
          "P008",
          "P007",
          "P003",
          "P002",
          "P005",
          "P008",
          "P002",
          "P007",
          "P004",
          "P006",
          "P007",
          "P006",
          "P002",
          "P001",
          "P007",
          "P006",
          "P004",
          "P006",
          "P002",
          "P001",
          "P006",
          "P003",
          "P002",
          "P004",
          "P005",
          "P008",
          "P002",
          "P001",
          "P002",
          "P002",
          "P001",
          "P008",
          "P007",
          "P004",
          "P006",
          "P006",
          "P002",
          "P004",
          "P007",
          "P006",
          "P007",
          "P008",
          "P003",
          "P006",
          "P002",
          "P001",
          "P002",
          "P002",
          "P004",
          "P005",
          "P001",
          "P002",
          "P002",
          "P002",
          "P007",
          "P001",
          "P003",
          "P006",
          "P006",
          "P008",
          "P007",
          "P001",
          "P005",
          "P004",
          "P006",
          "P003",
          "P007",
          "P008",
          "P005",
          "P002",
          "P005",
          "P004",
          "P002",
          "P008",
          "P002",
          "P002",
          "P007",
          "P002"
         ],
         "legendgroup": "Regular",
         "marker": {
          "color": "#EF553B",
          "size": [
           33,
           33,
           0,
           51,
           69,
           6,
           83,
           79,
           34,
           80,
           85,
           64,
           76,
           70,
           98,
           51,
           35,
           48,
           86,
           56,
           19,
           8,
           26,
           87,
           81,
           80,
           59,
           76,
           92,
           11,
           82,
           51,
           84,
           55,
           49,
           89,
           4,
           42,
           38,
           19,
           98,
           67,
           37,
           62,
           51,
           38,
           51,
           5,
           26,
           36,
           36,
           31,
           76,
           5,
           33,
           96,
           48,
           52,
           47,
           86,
           51,
           25,
           11,
           21,
           16,
           77,
           82,
           96,
           29,
           48,
           61,
           51,
           65,
           77,
           31,
           84,
           37,
           41,
           91,
           33,
           51,
           72,
           71,
           13,
           65,
           14,
           19,
           2,
           49,
           80,
           65,
           51,
           29,
           6,
           63,
           64,
           26,
           30,
           95,
           21,
           37,
           3,
           51,
           51,
           3,
           25,
           83,
           64,
           26,
           12,
           51,
           40,
           85,
           40,
           79,
           37,
           51,
           64,
           16,
           91,
           8,
           51,
           51,
           99,
           41,
           4,
           79,
           8,
           63,
           64,
           57,
           51,
           73,
           92,
           73,
           25,
           11,
           55,
           51,
           6,
           22,
           34,
           84,
           57,
           11,
           85,
           27,
           0,
           1,
           99,
           69,
           20,
           37,
           34,
           15,
           86,
           41,
           9,
           2,
           20,
           44,
           27,
           65,
           92,
           72,
           15,
           63,
           8,
           51,
           60,
           98,
           10,
           43,
           89,
           79,
           70,
           63,
           16,
           10,
           51,
           11,
           86,
           19,
           6,
           51,
           20,
           25,
           38,
           4,
           9,
           11,
           24,
           3,
           26,
           8,
           10,
           33,
           15,
           47,
           73,
           14,
           9,
           63,
           59,
           98,
           51,
           65,
           14,
           60,
           72,
           51,
           12,
           12,
           43,
           13,
           51,
           24,
           69,
           39,
           13,
           30,
           22,
           6,
           73,
           93,
           25,
           51,
           51,
           30,
           90,
           11,
           22,
           51,
           54,
           50,
           75,
           48,
           38,
           97,
           5,
           67,
           60,
           76,
           87,
           91,
           71,
           62,
           57,
           79,
           51,
           23,
           89,
           100,
           48,
           39,
           71,
           87,
           52,
           49,
           38,
           92,
           62,
           19,
           0,
           37,
           50,
           18,
           97
          ],
          "sizemode": "area",
          "sizeref": 0.027777777777777776,
          "symbol": "circle"
         },
         "mode": "markers",
         "name": "Regular",
         "orientation": "v",
         "showlegend": true,
         "type": "scatter",
         "x": [
          3.8,
          16.62,
          11.09,
          11.29,
          16.48,
          5.96,
          2.43,
          5.81,
          12.38,
          15.2,
          16.38,
          5.94,
          16.4,
          4.18,
          16.29,
          16.02,
          9.23,
          9.614999999999998,
          13.38,
          6.22,
          17.93,
          7.26,
          6.36,
          2.37,
          16.05,
          11.56,
          17.81,
          5.18,
          1.55,
          13.44,
          8.3,
          10.52,
          11.78,
          7.35,
          0.99,
          11.06,
          19.47,
          17.01,
          2.74,
          12.58,
          5.34,
          9.614999999999998,
          14.75,
          9.7,
          7.89,
          9.614999999999998,
          12.09,
          19.48,
          17.89,
          18.55,
          3.98,
          8.02,
          6.69,
          14,
          9.39,
          18.67,
          13.16,
          10.72,
          9.614999999999998,
          10.53,
          16.64,
          19.7,
          5,
          15,
          19.66,
          13.03,
          9.614999999999998,
          15.06,
          18.25,
          17.01,
          9.614999999999998,
          2.45,
          3.64,
          7.19,
          15.56,
          12.11,
          0.92,
          9.69,
          9.614999999999998,
          8.18,
          18.24,
          6.78,
          8.73,
          9.614999999999998,
          3.42,
          13.53,
          5.28,
          10.01,
          15.5,
          17.7,
          3.17,
          6.96,
          9.65,
          4.46,
          3.94,
          9.614999999999998,
          18.45,
          11.19,
          15.25,
          16.72,
          8.17,
          19.21,
          3.77,
          0.35,
          13.23,
          5.08,
          3.51,
          3.29,
          17.16,
          19.18,
          9.614999999999998,
          15.65,
          17.97,
          8.59,
          16.81,
          3.91,
          9.614999999999998,
          3.96,
          5.51,
          14.46,
          7.4,
          6.22,
          14.84,
          19.22,
          18.26,
          16.99,
          18.51,
          3.07,
          9.614999999999998,
          7.28,
          9.614999999999998,
          15.96,
          1.9,
          7.95,
          13.91,
          17.35,
          15.81,
          18.19,
          18.69,
          15.17,
          10.62,
          6.46,
          1.57,
          9.28,
          7.84,
          7.17,
          2.23,
          1.2,
          2.03,
          6.15,
          17.42,
          15.01,
          9.36,
          12.14,
          4.01,
          17.7,
          16.6,
          6.33,
          8.85,
          15.3,
          9.614999999999998,
          15.53,
          11.22,
          8.11,
          4.47,
          2.42,
          2.97,
          9.36,
          1.94,
          0.24,
          15.52,
          7.5,
          13.42,
          9.614999999999998,
          16.23,
          9.68,
          17.67,
          9.614999999999998,
          10.45,
          10.83,
          17.5,
          19.94,
          7.91,
          7.49,
          5.63,
          5.41,
          9.614999999999998,
          1.23,
          10.94,
          19.52,
          13.41,
          11.21,
          19.28,
          3.92,
          0.92,
          14.56,
          12.96,
          3.62,
          19.7,
          0.7,
          6.15,
          17.49,
          9.614999999999998,
          9.32,
          19.84,
          12.29,
          16.8,
          9.614999999999998,
          3.31,
          3.05,
          9.614999999999998,
          6.74,
          17.21,
          3,
          11.16,
          0.37,
          5.43,
          8.96,
          12.15,
          4.34,
          0.07,
          9.614999999999998,
          13.17,
          14.23,
          1.98,
          9.614999999999998,
          8.69,
          1.97,
          18.73,
          9.614999999999998,
          8.72,
          9.614999999999998,
          0.69,
          4.87,
          8.27,
          9.68,
          14.38,
          6.89,
          12.92,
          18.13,
          13.42,
          16.72,
          9.15,
          0.6,
          0.27,
          1.52,
          8.88,
          9.614999999999998,
          13.08,
          9.614999999999998,
          2.28,
          4.99,
          19.41,
          8.6,
          14.62,
          17.55,
          13.74,
          2.38,
          9.614999999999998,
          18.94,
          16.51,
          17.01,
          1.38,
          0.03,
          7.59,
          11.05,
          10.19,
          9.614999999999998
         ],
         "xaxis": "x",
         "y": [
          755.12,
          1414.32,
          1307.87,
          215.77,
          608.73,
          258.17,
          818.48,
          1278.29,
          683.1,
          1109.35,
          1180.64,
          1475.44,
          1399.78,
          1390.63,
          1038.84,
          145.52,
          1009.56,
          794.77,
          894.43,
          1071.56,
          852.58,
          1481.79,
          181.83,
          246.79,
          909.88,
          813.67,
          813.67,
          813.67,
          133.13,
          261.66,
          258.77,
          734.89,
          1415.3,
          1083.12,
          1026.98,
          998.33,
          305.17,
          1418.61,
          1401.93,
          979.73,
          1063.61,
          1389.59,
          436.75,
          1430.4,
          904.88,
          813.67,
          1167.57,
          569.09,
          734.5,
          246.25,
          662.69,
          1442.4,
          843.57,
          799.18,
          404.05,
          1185.29,
          1170.54,
          166.65,
          795.66,
          1284.75,
          939.93,
          588.96,
          1094.63,
          1468.97,
          550.22,
          813.67,
          1289.1,
          1051.49,
          943.04,
          1163.76,
          1003.3,
          815.82,
          955.88,
          1064.36,
          1415.12,
          1430.23,
          813.67,
          335.69,
          337.14,
          1248.95,
          813.67,
          813.67,
          286.89,
          647.72,
          1081.5,
          219.72,
          1141.85,
          169.12,
          813.67,
          174.84,
          1390.5,
          732.37,
          511.41,
          110.73,
          1490.84,
          1201.09,
          251.65,
          874.13,
          719.78,
          782.73,
          941.86,
          1202.61,
          813.67,
          773.96,
          1472.07,
          1099.48,
          301.53,
          215.13,
          146.67,
          863.63,
          1342.53,
          436.47,
          1224.91,
          236.37,
          1461.48,
          813.67,
          220.11,
          801.59,
          690.93,
          126.18,
          1330.9,
          930.44,
          813.67,
          813.67,
          154.28,
          415.6,
          1316.05,
          289.94,
          1440.19,
          249.38,
          930.72,
          1369.52,
          1414.54,
          663.52,
          140.24,
          1120.47,
          499.27,
          813.67,
          1453.44,
          1392.32,
          187.46,
          1207.93,
          489.84,
          922.85,
          514.91,
          813.67,
          797.71,
          380.87,
          686,
          553.82,
          1237.17,
          302.53,
          1261.23,
          1084.35,
          1129.01,
          269.64,
          1044.23,
          1184.98,
          813.67,
          640.65,
          814.72,
          277.46,
          813.67,
          275.59,
          859.85,
          1040.7,
          1008.65,
          1234.55,
          830.63,
          413.6,
          594.26,
          1289.26,
          896.8,
          869.71,
          229.83,
          570.18,
          713.62,
          207.8,
          209.75,
          657.03,
          1119.88,
          1033.8,
          284.45,
          272.06,
          1453.58,
          1190.99,
          1318.14,
          564.52,
          1199,
          846.35,
          401.13,
          813.67,
          174.4,
          1391.5,
          1313.53,
          452.93,
          813.67,
          440.25,
          584.29,
          1225.17,
          282.22,
          1130.1,
          165.26,
          1373.13,
          1147.34,
          1324.34,
          367.42,
          1395.42,
          228.28,
          682.72,
          386.3,
          1420.78,
          679.2,
          1303.55,
          1390.88,
          1103.76,
          591.88,
          1136.58,
          528.84,
          960.47,
          566.13,
          1275.99,
          1228.92,
          561.76,
          144.55,
          1198.24,
          813.67,
          900.05,
          1390.89,
          813.67,
          918.76,
          187.87,
          925.17,
          609.19,
          827.54,
          224.1,
          456.85,
          997.35,
          286.25,
          927.41,
          299.57,
          935.96,
          661.15,
          813.67,
          523.45,
          359.26,
          899.05,
          434.16,
          1433.85,
          641.96,
          113.05,
          249.76,
          813.67,
          630.17,
          708.16,
          806.55,
          563.42,
          645.02,
          253.39,
          1439.37,
          1069.28,
          379.02,
          1209.25,
          1149.63,
          266.62,
          369.66,
          697.75,
          364.04
         ],
         "yaxis": "y"
        },
        {
         "hovertemplate": "<b>%{hovertext}</b><br><br>Customer Segment=Premium<br>Discount Applied=%{x}<br>Sales Amount=%{y}<br>Units_sold=%{marker.size}<extra></extra>",
         "hovertext": [
          "P003",
          "P003",
          "P005",
          "P002",
          "P004",
          "P002",
          "P007",
          "P007",
          "P002",
          "P003",
          "P006",
          "P006",
          "P001",
          "P001",
          "P006",
          "P001",
          "P008",
          "P004",
          "P007",
          "P008",
          "P008",
          "P008",
          "P006",
          "P008",
          "P003",
          "P001",
          "P008",
          "P008",
          "P002",
          "P007",
          "P001",
          "P004",
          "P005",
          "P001",
          "P005",
          "P004",
          "P008",
          "P001",
          "P006",
          "P004",
          "P002",
          "P002",
          "P007",
          "P001",
          "P006",
          "P002",
          "P008",
          "P005",
          "P006",
          "P001",
          "P008",
          "P004",
          "P004",
          "P003",
          "P005",
          "P002",
          "P001",
          "P004",
          "P002",
          "P007",
          "P002",
          "P003",
          "P005",
          "P003",
          "P005",
          "P005",
          "P002",
          "P005",
          "P003",
          "P004",
          "P006",
          "P002",
          "P008",
          "P002",
          "P005",
          "P007",
          "P002",
          "P002",
          "P003",
          "P005",
          "P004",
          "P008",
          "P002",
          "P006",
          "P001",
          "P006",
          "P003",
          "P008",
          "P002",
          "P002",
          "P006",
          "P005",
          "P004",
          "P006",
          "P006",
          "P002",
          "P003",
          "P004",
          "P002",
          "P006",
          "P005",
          "P004",
          "P005",
          "P001",
          "P003",
          "P007",
          "P007",
          "P001",
          "P005",
          "P007",
          "P004",
          "P006",
          "P008",
          "P007",
          "P008",
          "P004",
          "P001",
          "P004",
          "P003",
          "P005",
          "P002",
          "P008",
          "P006",
          "P002",
          "P008",
          "P002",
          "P002",
          "P003",
          "P002",
          "P002",
          "P002",
          "P006",
          "P008",
          "P008",
          "P002",
          "P001",
          "P005",
          "P004",
          "P005",
          "P006",
          "P003",
          "P007",
          "P003",
          "P006",
          "P005",
          "P003",
          "P004",
          "P004",
          "P002",
          "P008",
          "P005",
          "P002",
          "P006",
          "P004",
          "P007",
          "P004",
          "P007",
          "P002",
          "P002",
          "P002",
          "P002",
          "P007",
          "P003",
          "P006",
          "P005",
          "P006",
          "P003",
          "P007",
          "P006",
          "P008",
          "P001",
          "P004",
          "P002",
          "P006",
          "P002",
          "P002",
          "P005",
          "P002",
          "P004",
          "P003",
          "P008",
          "P007",
          "P002",
          "P006",
          "P005",
          "P007",
          "P007",
          "P006",
          "P002",
          "P002",
          "P001",
          "P002",
          "P008",
          "P001",
          "P005",
          "P008",
          "P002",
          "P008",
          "P001",
          "P005",
          "P004",
          "P007",
          "P008",
          "P003",
          "P008",
          "P002",
          "P005",
          "P004",
          "P006",
          "P006",
          "P003",
          "P002",
          "P003",
          "P002",
          "P008",
          "P001",
          "P004",
          "P008",
          "P004",
          "P008",
          "P001",
          "P003",
          "P008",
          "P004",
          "P002",
          "P003",
          "P008",
          "P008",
          "P004",
          "P002",
          "P004",
          "P007",
          "P001",
          "P005",
          "P002",
          "P007",
          "P003",
          "P008",
          "P002",
          "P001",
          "P006",
          "P007",
          "P002",
          "P002",
          "P001",
          "P008",
          "P002",
          "P005",
          "P003",
          "P002",
          "P006",
          "P007",
          "P004",
          "P002",
          "P005",
          "P005",
          "P007",
          "P001",
          "P006",
          "P008",
          "P002",
          "P001",
          "P006",
          "P002",
          "P007",
          "P003",
          "P001",
          "P004",
          "P004",
          "P007",
          "P006",
          "P007",
          "P005",
          "P001",
          "P007",
          "P004",
          "P004",
          "P003",
          "P006",
          "P005",
          "P002",
          "P007",
          "P003",
          "P003",
          "P002",
          "P008",
          "P002",
          "P005",
          "P003",
          "P004",
          "P006",
          "P007",
          "P003",
          "P002",
          "P006",
          "P002",
          "P003",
          "P005",
          "P007",
          "P004"
         ],
         "legendgroup": "Premium",
         "marker": {
          "color": "#00cc96",
          "size": [
           31,
           71,
           7,
           90,
           96,
           68,
           8,
           23,
           54,
           33,
           18,
           83,
           2,
           24,
           54,
           32,
           94,
           39,
           31,
           31,
           73,
           75,
           66,
           87,
           8,
           94,
           99,
           99,
           9,
           56,
           51,
           56,
           70,
           74,
           22,
           47,
           55,
           51,
           28,
           51,
           70,
           44,
           28,
           51,
           20,
           80,
           48,
           65,
           85,
           51,
           72,
           35,
           8,
           19,
           25,
           59,
           38,
           60,
           12,
           99,
           100,
           1,
           85,
           86,
           31,
           56,
           51,
           21,
           53,
           42,
           34,
           51,
           62,
           92,
           29,
           77,
           14,
           35,
           59,
           55,
           45,
           51,
           47,
           44,
           85,
           51,
           8,
           51,
           5,
           65,
           76,
           92,
           42,
           53,
           21,
           51,
           51,
           3,
           60,
           33,
           87,
           85,
           63,
           18,
           71,
           89,
           55,
           47,
           91,
           70,
           70,
           91,
           23,
           38,
           91,
           51,
           39,
           62,
           93,
           92,
           27,
           47,
           17,
           32,
           83,
           70,
           94,
           14,
           15,
           56,
           29,
           52,
           72,
           78,
           12,
           60,
           41,
           6,
           59,
           57,
           46,
           41,
           70,
           0,
           35,
           89,
           8,
           30,
           13,
           4,
           83,
           27,
           51,
           54,
           6,
           43,
           87,
           37,
           57,
           26,
           24,
           79,
           11,
           35,
           51,
           84,
           45,
           6,
           56,
           79,
           51,
           41,
           24,
           97,
           70,
           0,
           39,
           14,
           51,
           51,
           51,
           31,
           86,
           100,
           8,
           94,
           13,
           60,
           22,
           45,
           59,
           51,
           67,
           30,
           89,
           18,
           2,
           51,
           58,
           63,
           69,
           88,
           100,
           78,
           84,
           71,
           51,
           86,
           19,
           91,
           58,
           51,
           65,
           91,
           2,
           43,
           51,
           14,
           51,
           87,
           62,
           62,
           100,
           18,
           17,
           54,
           97,
           16,
           35,
           23,
           35,
           79,
           87,
           53,
           79,
           24,
           59,
           98,
           51,
           53,
           92,
           75,
           96,
           10,
           22,
           80,
           7,
           1,
           34,
           100,
           96,
           41,
           17,
           67,
           83,
           4,
           47,
           10,
           58,
           75,
           81,
           86,
           61,
           38,
           51,
           19,
           51,
           57,
           12,
           49,
           88,
           68,
           58,
           51,
           91,
           5,
           59,
           29,
           86,
           9,
           51,
           84,
           41,
           88,
           50,
           8,
           18,
           93,
           89,
           51,
           34,
           90,
           35,
           32,
           37,
           98,
           98,
           56,
           11,
           46
          ],
          "sizemode": "area",
          "sizeref": 0.027777777777777776,
          "symbol": "circle"
         },
         "mode": "markers",
         "name": "Premium",
         "orientation": "v",
         "showlegend": true,
         "type": "scatter",
         "x": [
          1.62,
          12.17,
          17.56,
          8.4,
          9.614999999999998,
          11.38,
          4.05,
          0.3,
          1.71,
          12.57,
          4.15,
          12.69,
          4.06,
          2.2,
          18.19,
          8.8,
          1.96,
          6,
          18.83,
          6.87,
          7,
          18.31,
          3.45,
          7.67,
          6.3,
          17.62,
          5.36,
          3.38,
          9.614999999999998,
          11.12,
          8.73,
          9.614999999999998,
          11.82,
          15.58,
          9.614999999999998,
          9.614999999999998,
          13.36,
          9.614999999999998,
          14.45,
          3.24,
          18.58,
          8.05,
          2.28,
          7.41,
          11.44,
          0.39,
          11.96,
          12.12,
          13.8,
          7.74,
          6.43,
          11.63,
          2.78,
          18.73,
          17.64,
          8.13,
          9.07,
          5.32,
          12.59,
          10.07,
          14.56,
          16.38,
          9.614999999999998,
          9.614999999999998,
          9.614999999999998,
          16.88,
          3.53,
          9.56,
          16.54,
          19.48,
          15.41,
          4.93,
          15.44,
          9.614999999999998,
          19.22,
          8.47,
          8.37,
          2.72,
          2.4,
          8.87,
          11.12,
          9.84,
          18.62,
          10.47,
          0.9,
          19.82,
          4.16,
          13.45,
          1.02,
          19.55,
          16.24,
          16.37,
          9.614999999999998,
          3.92,
          10.67,
          19.8,
          15.17,
          2.57,
          19.57,
          1.26,
          16.4,
          6.68,
          12.6,
          18.63,
          13.45,
          19.71,
          9.84,
          3.81,
          2.46,
          9.614999999999998,
          10.78,
          17.78,
          13.31,
          1.72,
          9.56,
          0.73,
          7.76,
          16.54,
          6.02,
          5.21,
          13.26,
          17.43,
          16.64,
          0.9,
          11.92,
          9.614999999999998,
          9.614999999999998,
          14.87,
          5.56,
          19.49,
          12.12,
          10.72,
          9.614999999999998,
          5.74,
          5.47,
          17.54,
          5.14,
          14.19,
          0.83,
          9.614999999999998,
          8.57,
          9.614999999999998,
          17.84,
          4.97,
          14.03,
          14.7,
          19.72,
          1.09,
          9.07,
          13.4,
          12.14,
          2.44,
          9.614999999999998,
          12.98,
          18.17,
          9.614999999999998,
          3.59,
          7.56,
          2.76,
          16.48,
          3.75,
          0.49,
          9.614999999999998,
          9.34,
          14.42,
          14.96,
          19.93,
          13.89,
          19.07,
          5.08,
          5.23,
          17.81,
          5.1,
          13.67,
          15.22,
          6.21,
          17.52,
          2.8,
          3.59,
          5.87,
          1.32,
          19.61,
          2.87,
          16.34,
          5.65,
          1.61,
          8.35,
          6.61,
          5.91,
          9.62,
          11.42,
          16.65,
          4.95,
          11.8,
          19.63,
          2.5,
          8.6,
          17.16,
          5.35,
          19.23,
          4.24,
          9.614999999999998,
          9.04,
          4.83,
          3.68,
          3.44,
          9.614999999999998,
          4.07,
          2.08,
          5.54,
          8.69,
          0.27,
          7.86,
          10.06,
          0.97,
          1.56,
          7.61,
          6.76,
          13.12,
          1.98,
          0.36,
          8.49,
          3.16,
          9.5,
          9.614999999999998,
          17.38,
          7.2,
          9.614999999999998,
          13.67,
          18.15,
          2.59,
          4.79,
          7.34,
          2.34,
          0.13,
          8,
          0.51,
          2.63,
          9.614999999999998,
          17.62,
          2.03,
          5.47,
          8.34,
          17.25,
          6.7,
          3.71,
          18.7,
          5.44,
          4.94,
          15.81,
          5.92,
          18.3,
          7.28,
          5.14,
          6.43,
          0.72,
          3.07,
          1.13,
          14.78,
          13.9,
          4.79,
          1.12,
          12.75,
          3.67,
          11.49,
          15.51,
          3.53,
          4.42,
          14.14,
          7.11,
          17.23,
          5.94,
          13.94,
          2.01,
          19.25,
          3.29,
          16.96,
          14.4,
          8.06,
          6.49,
          1.93,
          5.92,
          16.26,
          1.33,
          9.5,
          11.09,
          14.48,
          10.97,
          1.78,
          16.42,
          11.62,
          13.1,
          0.99,
          11.25,
          16.1,
          16.51,
          0.49,
          10.22,
          14.26,
          14.1
         ],
         "xaxis": "x",
         "y": [
          500.71,
          1473.68,
          837.98,
          561.26,
          868.24,
          813.67,
          1317.86,
          488.95,
          1272.1,
          320.72,
          612.83,
          813.67,
          535.9,
          1104.38,
          989.42,
          1428.69,
          437.96,
          1294.33,
          839.77,
          1184.66,
          221.48,
          482.09,
          643.67,
          1255.56,
          802.18,
          351.92,
          305.62,
          924,
          915.45,
          1252.91,
          722.72,
          170.34,
          515.23,
          1206.75,
          577.18,
          411.34,
          909.97,
          387.3,
          902.91,
          917.88,
          573.83,
          898.5,
          915.49,
          734.96,
          813.67,
          676.01,
          714.85,
          1003.36,
          813.67,
          859.35,
          632.22,
          1466.35,
          638.93,
          217.62,
          1193.15,
          1204.12,
          559.47,
          982.25,
          627.28,
          1324.92,
          413.93,
          813.67,
          1005.54,
          493.02,
          197.49,
          279.65,
          1377.13,
          430.18,
          283.58,
          1167.45,
          111.55,
          666.01,
          1084.36,
          1003.62,
          1032.06,
          813.67,
          644.73,
          512.28,
          246.14,
          813.67,
          813.67,
          371.11,
          954.68,
          923.12,
          245.11,
          931.06,
          877.6,
          146.88,
          1109.79,
          556.9,
          813.67,
          520.61,
          123.11,
          1362.77,
          541.7,
          249.32,
          365.54,
          892.21,
          953.56,
          702.19,
          868.52,
          603.42,
          642.34,
          509.2,
          308.14,
          422.5,
          1223.48,
          813.67,
          551.43,
          1265.18,
          1292.07,
          1464.75,
          1051.35,
          623.65,
          1016.52,
          813.67,
          257.74,
          792.65,
          1356.9,
          813.67,
          408.19,
          168.25,
          813.67,
          371.6,
          181.59,
          1196.35,
          499.57,
          856.96,
          189.24,
          264.1,
          1468.56,
          614.75,
          1037.6,
          1103.3,
          1451.58,
          925.1,
          1349.22,
          358.91,
          1451.14,
          859.54,
          868.71,
          813.67,
          529.78,
          573.65,
          547.5,
          813.67,
          899.17,
          990.71,
          106.06,
          813.67,
          1126.82,
          420.16,
          681.24,
          1183.86,
          1439.48,
          1166.79,
          813.67,
          466.97,
          1432.67,
          1030.91,
          184.68,
          1425.32,
          1199.4,
          462.19,
          271.16,
          339.9,
          904.94,
          853.86,
          1366.23,
          1294.72,
          440.23,
          813.67,
          1254.81,
          1112.08,
          1463.54,
          1322.42,
          930.75,
          590.77,
          320.78,
          176.87,
          924.08,
          113.21,
          1452.91,
          120.75,
          1425.13,
          343.41,
          999.55,
          974.29,
          813.67,
          880.34,
          1084.5,
          1018.93,
          656.72,
          993.4,
          728.9,
          981.14,
          1194.12,
          1446.79,
          290.45,
          726.7,
          942.91,
          1045.94,
          302.88,
          636.93,
          172.16,
          813.67,
          159.39,
          489.85,
          624.49,
          1087.19,
          415.79,
          1097.55,
          1173.56,
          1386.19,
          355.85,
          310.04,
          441.6,
          843.72,
          721.73,
          143.73,
          1407.43,
          1278.99,
          1449.66,
          1472.78,
          806.26,
          206.78,
          1445.86,
          292.17,
          350.7,
          1380.25,
          1455.83,
          815.71,
          637.04,
          813.67,
          257.15,
          202.47,
          300.86,
          851.29,
          813.67,
          473.36,
          1383.49,
          1373.03,
          903.62,
          587.93,
          1002.35,
          234.58,
          774.22,
          1435.8,
          635.77,
          341.98,
          1449,
          213.77,
          483.49,
          813.67,
          813.67,
          813.67,
          405.55,
          391.24,
          579.45,
          813.67,
          622.46,
          848.85,
          596.16,
          1383.71,
          1018.65,
          895.62,
          1043.5,
          1012.96,
          381.47,
          813.67,
          972.88,
          557.04,
          1108.56,
          813.67,
          291.27,
          308.53,
          212.52,
          559.71,
          377.04,
          1487.08,
          813.67,
          675.04,
          295.7,
          470.35,
          813.67,
          840.03,
          1211.37,
          813.67,
          1267.21,
          483.72,
          1242.78,
          191.67,
          389.85,
          788.48,
          755.5,
          1345.25,
          1323.56,
          391.8,
          1474.29,
          1249.33
         ],
         "yaxis": "y"
        }
       ],
       "layout": {
        "legend": {
         "itemsizing": "constant",
         "title": {
          "text": "Customer Segment"
         },
         "tracegroupgap": 0
        },
        "template": {
         "data": {
          "bar": [
           {
            "error_x": {
             "color": "#2a3f5f"
            },
            "error_y": {
             "color": "#2a3f5f"
            },
            "marker": {
             "line": {
              "color": "#E5ECF6",
              "width": 0.5
             },
             "pattern": {
              "fillmode": "overlay",
              "size": 10,
              "solidity": 0.2
             }
            },
            "type": "bar"
           }
          ],
          "barpolar": [
           {
            "marker": {
             "line": {
              "color": "#E5ECF6",
              "width": 0.5
             },
             "pattern": {
              "fillmode": "overlay",
              "size": 10,
              "solidity": 0.2
             }
            },
            "type": "barpolar"
           }
          ],
          "carpet": [
           {
            "aaxis": {
             "endlinecolor": "#2a3f5f",
             "gridcolor": "white",
             "linecolor": "white",
             "minorgridcolor": "white",
             "startlinecolor": "#2a3f5f"
            },
            "baxis": {
             "endlinecolor": "#2a3f5f",
             "gridcolor": "white",
             "linecolor": "white",
             "minorgridcolor": "white",
             "startlinecolor": "#2a3f5f"
            },
            "type": "carpet"
           }
          ],
          "choropleth": [
           {
            "colorbar": {
             "outlinewidth": 0,
             "ticks": ""
            },
            "type": "choropleth"
           }
          ],
          "contour": [
           {
            "colorbar": {
             "outlinewidth": 0,
             "ticks": ""
            },
            "colorscale": [
             [
              0,
              "#0d0887"
             ],
             [
              0.1111111111111111,
              "#46039f"
             ],
             [
              0.2222222222222222,
              "#7201a8"
             ],
             [
              0.3333333333333333,
              "#9c179e"
             ],
             [
              0.4444444444444444,
              "#bd3786"
             ],
             [
              0.5555555555555556,
              "#d8576b"
             ],
             [
              0.6666666666666666,
              "#ed7953"
             ],
             [
              0.7777777777777778,
              "#fb9f3a"
             ],
             [
              0.8888888888888888,
              "#fdca26"
             ],
             [
              1,
              "#f0f921"
             ]
            ],
            "type": "contour"
           }
          ],
          "contourcarpet": [
           {
            "colorbar": {
             "outlinewidth": 0,
             "ticks": ""
            },
            "type": "contourcarpet"
           }
          ],
          "heatmap": [
           {
            "colorbar": {
             "outlinewidth": 0,
             "ticks": ""
            },
            "colorscale": [
             [
              0,
              "#0d0887"
             ],
             [
              0.1111111111111111,
              "#46039f"
             ],
             [
              0.2222222222222222,
              "#7201a8"
             ],
             [
              0.3333333333333333,
              "#9c179e"
             ],
             [
              0.4444444444444444,
              "#bd3786"
             ],
             [
              0.5555555555555556,
              "#d8576b"
             ],
             [
              0.6666666666666666,
              "#ed7953"
             ],
             [
              0.7777777777777778,
              "#fb9f3a"
             ],
             [
              0.8888888888888888,
              "#fdca26"
             ],
             [
              1,
              "#f0f921"
             ]
            ],
            "type": "heatmap"
           }
          ],
          "heatmapgl": [
           {
            "colorbar": {
             "outlinewidth": 0,
             "ticks": ""
            },
            "colorscale": [
             [
              0,
              "#0d0887"
             ],
             [
              0.1111111111111111,
              "#46039f"
             ],
             [
              0.2222222222222222,
              "#7201a8"
             ],
             [
              0.3333333333333333,
              "#9c179e"
             ],
             [
              0.4444444444444444,
              "#bd3786"
             ],
             [
              0.5555555555555556,
              "#d8576b"
             ],
             [
              0.6666666666666666,
              "#ed7953"
             ],
             [
              0.7777777777777778,
              "#fb9f3a"
             ],
             [
              0.8888888888888888,
              "#fdca26"
             ],
             [
              1,
              "#f0f921"
             ]
            ],
            "type": "heatmapgl"
           }
          ],
          "histogram": [
           {
            "marker": {
             "pattern": {
              "fillmode": "overlay",
              "size": 10,
              "solidity": 0.2
             }
            },
            "type": "histogram"
           }
          ],
          "histogram2d": [
           {
            "colorbar": {
             "outlinewidth": 0,
             "ticks": ""
            },
            "colorscale": [
             [
              0,
              "#0d0887"
             ],
             [
              0.1111111111111111,
              "#46039f"
             ],
             [
              0.2222222222222222,
              "#7201a8"
             ],
             [
              0.3333333333333333,
              "#9c179e"
             ],
             [
              0.4444444444444444,
              "#bd3786"
             ],
             [
              0.5555555555555556,
              "#d8576b"
             ],
             [
              0.6666666666666666,
              "#ed7953"
             ],
             [
              0.7777777777777778,
              "#fb9f3a"
             ],
             [
              0.8888888888888888,
              "#fdca26"
             ],
             [
              1,
              "#f0f921"
             ]
            ],
            "type": "histogram2d"
           }
          ],
          "histogram2dcontour": [
           {
            "colorbar": {
             "outlinewidth": 0,
             "ticks": ""
            },
            "colorscale": [
             [
              0,
              "#0d0887"
             ],
             [
              0.1111111111111111,
              "#46039f"
             ],
             [
              0.2222222222222222,
              "#7201a8"
             ],
             [
              0.3333333333333333,
              "#9c179e"
             ],
             [
              0.4444444444444444,
              "#bd3786"
             ],
             [
              0.5555555555555556,
              "#d8576b"
             ],
             [
              0.6666666666666666,
              "#ed7953"
             ],
             [
              0.7777777777777778,
              "#fb9f3a"
             ],
             [
              0.8888888888888888,
              "#fdca26"
             ],
             [
              1,
              "#f0f921"
             ]
            ],
            "type": "histogram2dcontour"
           }
          ],
          "mesh3d": [
           {
            "colorbar": {
             "outlinewidth": 0,
             "ticks": ""
            },
            "type": "mesh3d"
           }
          ],
          "parcoords": [
           {
            "line": {
             "colorbar": {
              "outlinewidth": 0,
              "ticks": ""
             }
            },
            "type": "parcoords"
           }
          ],
          "pie": [
           {
            "automargin": true,
            "type": "pie"
           }
          ],
          "scatter": [
           {
            "fillpattern": {
             "fillmode": "overlay",
             "size": 10,
             "solidity": 0.2
            },
            "type": "scatter"
           }
          ],
          "scatter3d": [
           {
            "line": {
             "colorbar": {
              "outlinewidth": 0,
              "ticks": ""
             }
            },
            "marker": {
             "colorbar": {
              "outlinewidth": 0,
              "ticks": ""
             }
            },
            "type": "scatter3d"
           }
          ],
          "scattercarpet": [
           {
            "marker": {
             "colorbar": {
              "outlinewidth": 0,
              "ticks": ""
             }
            },
            "type": "scattercarpet"
           }
          ],
          "scattergeo": [
           {
            "marker": {
             "colorbar": {
              "outlinewidth": 0,
              "ticks": ""
             }
            },
            "type": "scattergeo"
           }
          ],
          "scattergl": [
           {
            "marker": {
             "colorbar": {
              "outlinewidth": 0,
              "ticks": ""
             }
            },
            "type": "scattergl"
           }
          ],
          "scattermapbox": [
           {
            "marker": {
             "colorbar": {
              "outlinewidth": 0,
              "ticks": ""
             }
            },
            "type": "scattermapbox"
           }
          ],
          "scatterpolar": [
           {
            "marker": {
             "colorbar": {
              "outlinewidth": 0,
              "ticks": ""
             }
            },
            "type": "scatterpolar"
           }
          ],
          "scatterpolargl": [
           {
            "marker": {
             "colorbar": {
              "outlinewidth": 0,
              "ticks": ""
             }
            },
            "type": "scatterpolargl"
           }
          ],
          "scatterternary": [
           {
            "marker": {
             "colorbar": {
              "outlinewidth": 0,
              "ticks": ""
             }
            },
            "type": "scatterternary"
           }
          ],
          "surface": [
           {
            "colorbar": {
             "outlinewidth": 0,
             "ticks": ""
            },
            "colorscale": [
             [
              0,
              "#0d0887"
             ],
             [
              0.1111111111111111,
              "#46039f"
             ],
             [
              0.2222222222222222,
              "#7201a8"
             ],
             [
              0.3333333333333333,
              "#9c179e"
             ],
             [
              0.4444444444444444,
              "#bd3786"
             ],
             [
              0.5555555555555556,
              "#d8576b"
             ],
             [
              0.6666666666666666,
              "#ed7953"
             ],
             [
              0.7777777777777778,
              "#fb9f3a"
             ],
             [
              0.8888888888888888,
              "#fdca26"
             ],
             [
              1,
              "#f0f921"
             ]
            ],
            "type": "surface"
           }
          ],
          "table": [
           {
            "cells": {
             "fill": {
              "color": "#EBF0F8"
             },
             "line": {
              "color": "white"
             }
            },
            "header": {
             "fill": {
              "color": "#C8D4E3"
             },
             "line": {
              "color": "white"
             }
            },
            "type": "table"
           }
          ]
         },
         "layout": {
          "annotationdefaults": {
           "arrowcolor": "#2a3f5f",
           "arrowhead": 0,
           "arrowwidth": 1
          },
          "autotypenumbers": "strict",
          "coloraxis": {
           "colorbar": {
            "outlinewidth": 0,
            "ticks": ""
           }
          },
          "colorscale": {
           "diverging": [
            [
             0,
             "#8e0152"
            ],
            [
             0.1,
             "#c51b7d"
            ],
            [
             0.2,
             "#de77ae"
            ],
            [
             0.3,
             "#f1b6da"
            ],
            [
             0.4,
             "#fde0ef"
            ],
            [
             0.5,
             "#f7f7f7"
            ],
            [
             0.6,
             "#e6f5d0"
            ],
            [
             0.7,
             "#b8e186"
            ],
            [
             0.8,
             "#7fbc41"
            ],
            [
             0.9,
             "#4d9221"
            ],
            [
             1,
             "#276419"
            ]
           ],
           "sequential": [
            [
             0,
             "#0d0887"
            ],
            [
             0.1111111111111111,
             "#46039f"
            ],
            [
             0.2222222222222222,
             "#7201a8"
            ],
            [
             0.3333333333333333,
             "#9c179e"
            ],
            [
             0.4444444444444444,
             "#bd3786"
            ],
            [
             0.5555555555555556,
             "#d8576b"
            ],
            [
             0.6666666666666666,
             "#ed7953"
            ],
            [
             0.7777777777777778,
             "#fb9f3a"
            ],
            [
             0.8888888888888888,
             "#fdca26"
            ],
            [
             1,
             "#f0f921"
            ]
           ],
           "sequentialminus": [
            [
             0,
             "#0d0887"
            ],
            [
             0.1111111111111111,
             "#46039f"
            ],
            [
             0.2222222222222222,
             "#7201a8"
            ],
            [
             0.3333333333333333,
             "#9c179e"
            ],
            [
             0.4444444444444444,
             "#bd3786"
            ],
            [
             0.5555555555555556,
             "#d8576b"
            ],
            [
             0.6666666666666666,
             "#ed7953"
            ],
            [
             0.7777777777777778,
             "#fb9f3a"
            ],
            [
             0.8888888888888888,
             "#fdca26"
            ],
            [
             1,
             "#f0f921"
            ]
           ]
          },
          "colorway": [
           "#636efa",
           "#EF553B",
           "#00cc96",
           "#ab63fa",
           "#FFA15A",
           "#19d3f3",
           "#FF6692",
           "#B6E880",
           "#FF97FF",
           "#FECB52"
          ],
          "font": {
           "color": "#2a3f5f"
          },
          "geo": {
           "bgcolor": "white",
           "lakecolor": "white",
           "landcolor": "#E5ECF6",
           "showlakes": true,
           "showland": true,
           "subunitcolor": "white"
          },
          "hoverlabel": {
           "align": "left"
          },
          "hovermode": "closest",
          "mapbox": {
           "style": "light"
          },
          "paper_bgcolor": "white",
          "plot_bgcolor": "#E5ECF6",
          "polar": {
           "angularaxis": {
            "gridcolor": "white",
            "linecolor": "white",
            "ticks": ""
           },
           "bgcolor": "#E5ECF6",
           "radialaxis": {
            "gridcolor": "white",
            "linecolor": "white",
            "ticks": ""
           }
          },
          "scene": {
           "xaxis": {
            "backgroundcolor": "#E5ECF6",
            "gridcolor": "white",
            "gridwidth": 2,
            "linecolor": "white",
            "showbackground": true,
            "ticks": "",
            "zerolinecolor": "white"
           },
           "yaxis": {
            "backgroundcolor": "#E5ECF6",
            "gridcolor": "white",
            "gridwidth": 2,
            "linecolor": "white",
            "showbackground": true,
            "ticks": "",
            "zerolinecolor": "white"
           },
           "zaxis": {
            "backgroundcolor": "#E5ECF6",
            "gridcolor": "white",
            "gridwidth": 2,
            "linecolor": "white",
            "showbackground": true,
            "ticks": "",
            "zerolinecolor": "white"
           }
          },
          "shapedefaults": {
           "line": {
            "color": "#2a3f5f"
           }
          },
          "ternary": {
           "aaxis": {
            "gridcolor": "white",
            "linecolor": "white",
            "ticks": ""
           },
           "baxis": {
            "gridcolor": "white",
            "linecolor": "white",
            "ticks": ""
           },
           "bgcolor": "#E5ECF6",
           "caxis": {
            "gridcolor": "white",
            "linecolor": "white",
            "ticks": ""
           }
          },
          "title": {
           "x": 0.05
          },
          "xaxis": {
           "automargin": true,
           "gridcolor": "white",
           "linecolor": "white",
           "ticks": "",
           "title": {
            "standoff": 15
           },
           "zerolinecolor": "white",
           "zerolinewidth": 2
          },
          "yaxis": {
           "automargin": true,
           "gridcolor": "white",
           "linecolor": "white",
           "ticks": "",
           "title": {
            "standoff": 15
           },
           "zerolinecolor": "white",
           "zerolinewidth": 2
          }
         }
        },
        "title": {
         "text": "Impact of Discount on Sales Amount by Customer Segment"
        },
        "xaxis": {
         "anchor": "y",
         "domain": [
          0,
          1
         ],
         "title": {
          "text": "Discount Applied"
         },
         "type": "log"
        },
        "yaxis": {
         "anchor": "x",
         "domain": [
          0,
          1
         ],
         "title": {
          "text": "Sales Amount"
         }
        }
       }
      }
     },
     "metadata": {},
     "output_type": "display_data"
    }
   ],
   "source": [
    "fig = px.scatter(\n",
    "    df, x='Discount Applied', y='Sales Amount', size='Units_sold', color='Customer Segment',\n",
    "    title='Impact of Discount on Sales Amount by Customer Segment',\n",
    "    hover_name='Product_id', log_x=True, size_max=60\n",
    ")\n",
    "fig.show()\n"
   ]
  },
  {
   "cell_type": "markdown",
   "metadata": {},
   "source": [
    "Store-Level Sales Comparison Over Time (Faceted Line Plot)"
   ]
  },
  {
   "cell_type": "code",
   "execution_count": 155,
   "metadata": {},
   "outputs": [
    {
     "name": "stderr",
     "output_type": "stream",
     "text": [
      "C:\\Users\\Abhay\\AppData\\Local\\Temp\\ipykernel_50064\\4112548992.py:2: SettingWithCopyWarning:\n",
      "\n",
      "\n",
      "A value is trying to be set on a copy of a slice from a DataFrame.\n",
      "Try using .loc[row_indexer,col_indexer] = value instead\n",
      "\n",
      "See the caveats in the documentation: https://pandas.pydata.org/pandas-docs/stable/user_guide/indexing.html#returning-a-view-versus-a-copy\n",
      "\n",
      "c:\\Users\\Abhay\\anaconda3\\envs\\EDA\\lib\\site-packages\\_plotly_utils\\basevalidators.py:106: FutureWarning:\n",
      "\n",
      "The behavior of DatetimeProperties.to_pydatetime is deprecated, in a future version this will return a Series containing python datetime objects instead of an ndarray. To retain the old behavior, call `np.array` on the result\n",
      "\n"
     ]
    },
    {
     "data": {
      "application/vnd.plotly.v1+json": {
       "config": {
        "plotlyServerURL": "https://plot.ly"
       },
       "data": [
        {
         "hovertemplate": "Store_id=S001<br>Date=%{x}<br>Sales Amount=%{y}<extra></extra>",
         "legendgroup": "S001",
         "line": {
          "color": "#636efa",
          "dash": "solid"
         },
         "marker": {
          "symbol": "circle"
         },
         "mode": "lines+markers",
         "name": "S001",
         "orientation": "v",
         "showlegend": true,
         "type": "scatter",
         "x": [
          "2024-01-11T00:00:00",
          "2024-01-12T00:00:00",
          "2024-02-11T00:00:00",
          "2024-03-11T00:00:00",
          "2024-04-11T00:00:00",
          "2024-05-11T00:00:00",
          "2024-06-11T00:00:00",
          "2024-07-11T00:00:00",
          "2024-08-11T00:00:00",
          "2024-09-11T00:00:00",
          "2024-10-11T00:00:00",
          "2024-11-11T00:00:00",
          "2024-12-11T00:00:00"
         ],
         "xaxis": "x5",
         "y": [
          3143.72,
          4352.5,
          2763.36,
          6653.639999999999,
          2254.7200000000003,
          3585.96,
          4262.59,
          4317.17,
          1947.8200000000002,
          1725.8000000000002,
          3738.31,
          1311.54,
          924
         ],
         "yaxis": "y5"
        },
        {
         "hovertemplate": "Store_id=S002<br>Date=%{x}<br>Sales Amount=%{y}<extra></extra>",
         "legendgroup": "S002",
         "line": {
          "color": "#EF553B",
          "dash": "solid"
         },
         "marker": {
          "symbol": "circle"
         },
         "mode": "lines+markers",
         "name": "S002",
         "orientation": "v",
         "showlegend": true,
         "type": "scatter",
         "x": [
          "2024-01-11T00:00:00",
          "2024-01-12T00:00:00",
          "2024-02-11T00:00:00",
          "2024-03-11T00:00:00",
          "2024-04-11T00:00:00",
          "2024-05-11T00:00:00",
          "2024-06-11T00:00:00",
          "2024-07-11T00:00:00",
          "2024-08-11T00:00:00",
          "2024-09-11T00:00:00",
          "2024-10-11T00:00:00",
          "2024-11-11T00:00:00",
          "2024-12-11T00:00:00"
         ],
         "xaxis": "x6",
         "y": [
          5091.7699999999995,
          3180.91,
          7438.55,
          8279.92,
          2758.8,
          4985.54,
          9967.84,
          5969.150000000001,
          8514.26,
          4245.16,
          3882.54,
          5944.46,
          8153.2699999999995
         ],
         "yaxis": "y6"
        },
        {
         "hovertemplate": "Store_id=S003<br>Date=%{x}<br>Sales Amount=%{y}<extra></extra>",
         "legendgroup": "S003",
         "line": {
          "color": "#00cc96",
          "dash": "solid"
         },
         "marker": {
          "symbol": "circle"
         },
         "mode": "lines+markers",
         "name": "S003",
         "orientation": "v",
         "showlegend": true,
         "type": "scatter",
         "x": [
          "2024-01-11T00:00:00",
          "2024-01-12T00:00:00",
          "2024-02-11T00:00:00",
          "2024-03-11T00:00:00",
          "2024-04-11T00:00:00",
          "2024-05-11T00:00:00",
          "2024-06-11T00:00:00",
          "2024-07-11T00:00:00",
          "2024-08-11T00:00:00",
          "2024-09-11T00:00:00",
          "2024-10-11T00:00:00",
          "2024-11-11T00:00:00",
          "2024-12-11T00:00:00"
         ],
         "xaxis": "x7",
         "y": [
          3980.13,
          4026.92,
          1783.47,
          1819.16,
          5801.16,
          2947.7300000000005,
          3824.68,
          3995.1099999999997,
          3211.86,
          4435.64,
          6996.28,
          8058.46,
          1796.68
         ],
         "yaxis": "y7"
        },
        {
         "hovertemplate": "Store_id=S004<br>Date=%{x}<br>Sales Amount=%{y}<extra></extra>",
         "legendgroup": "S004",
         "line": {
          "color": "#ab63fa",
          "dash": "solid"
         },
         "marker": {
          "symbol": "circle"
         },
         "mode": "lines+markers",
         "name": "S004",
         "orientation": "v",
         "showlegend": true,
         "type": "scatter",
         "x": [
          "2024-01-11T00:00:00",
          "2024-01-12T00:00:00",
          "2024-02-11T00:00:00",
          "2024-03-11T00:00:00",
          "2024-04-11T00:00:00",
          "2024-05-11T00:00:00",
          "2024-07-11T00:00:00",
          "2024-08-11T00:00:00",
          "2024-09-11T00:00:00",
          "2024-10-11T00:00:00",
          "2024-11-11T00:00:00",
          "2024-12-11T00:00:00"
         ],
         "xaxis": "x8",
         "y": [
          2263.76,
          1119.9,
          3762.65,
          2782.38,
          813.67,
          3008.17,
          2886.5,
          4904.14,
          801.59,
          1111.9,
          5770.31,
          5566.5
         ],
         "yaxis": "y8"
        },
        {
         "hovertemplate": "Store_id=S005<br>Date=%{x}<br>Sales Amount=%{y}<extra></extra>",
         "legendgroup": "S005",
         "line": {
          "color": "#FFA15A",
          "dash": "solid"
         },
         "marker": {
          "symbol": "circle"
         },
         "mode": "lines+markers",
         "name": "S005",
         "orientation": "v",
         "showlegend": true,
         "type": "scatter",
         "x": [
          "2024-01-11T00:00:00",
          "2024-01-12T00:00:00",
          "2024-02-11T00:00:00",
          "2024-03-11T00:00:00",
          "2024-04-11T00:00:00",
          "2024-05-11T00:00:00",
          "2024-06-11T00:00:00",
          "2024-07-11T00:00:00",
          "2024-08-11T00:00:00",
          "2024-09-11T00:00:00",
          "2024-10-11T00:00:00",
          "2024-11-11T00:00:00",
          "2024-12-11T00:00:00"
         ],
         "xaxis": "x",
         "y": [
          7204.69,
          2801.06,
          870.14,
          5378.19,
          4109.46,
          5256.84,
          2789.51,
          5919.95,
          1601.69,
          2752.2,
          1207.56,
          4502.55,
          1882.92
         ],
         "yaxis": "y"
        },
        {
         "hovertemplate": "Store_id=S006<br>Date=%{x}<br>Sales Amount=%{y}<extra></extra>",
         "legendgroup": "S006",
         "line": {
          "color": "#19d3f3",
          "dash": "solid"
         },
         "marker": {
          "symbol": "circle"
         },
         "mode": "lines+markers",
         "name": "S006",
         "orientation": "v",
         "showlegend": true,
         "type": "scatter",
         "x": [
          "2024-01-11T00:00:00",
          "2024-01-12T00:00:00",
          "2024-02-11T00:00:00",
          "2024-03-11T00:00:00",
          "2024-04-11T00:00:00",
          "2024-05-11T00:00:00",
          "2024-06-11T00:00:00",
          "2024-07-11T00:00:00",
          "2024-08-11T00:00:00",
          "2024-09-11T00:00:00",
          "2024-10-11T00:00:00",
          "2024-11-11T00:00:00",
          "2024-12-11T00:00:00"
         ],
         "xaxis": "x2",
         "y": [
          1130.26,
          1452.24,
          5270.22,
          2397.1800000000003,
          3258.27,
          2858.38,
          1956.4699999999998,
          3076.84,
          3159.23,
          3772.3599999999997,
          3548.4300000000003,
          2705.97,
          2045.79
         ],
         "yaxis": "y2"
        }
       ],
       "layout": {
        "annotations": [
         {
          "font": {},
          "showarrow": false,
          "text": "Store_id=S005",
          "x": 0.1175,
          "xanchor": "center",
          "xref": "paper",
          "y": 0.46499999999999997,
          "yanchor": "bottom",
          "yref": "paper"
         },
         {
          "font": {},
          "showarrow": false,
          "text": "Store_id=S006",
          "x": 0.3725,
          "xanchor": "center",
          "xref": "paper",
          "y": 0.46499999999999997,
          "yanchor": "bottom",
          "yref": "paper"
         },
         {
          "font": {},
          "showarrow": false,
          "text": "Store_id=S001",
          "x": 0.1175,
          "xanchor": "center",
          "xref": "paper",
          "y": 0.9999999999999999,
          "yanchor": "bottom",
          "yref": "paper"
         },
         {
          "font": {},
          "showarrow": false,
          "text": "Store_id=S002",
          "x": 0.3725,
          "xanchor": "center",
          "xref": "paper",
          "y": 0.9999999999999999,
          "yanchor": "bottom",
          "yref": "paper"
         },
         {
          "font": {},
          "showarrow": false,
          "text": "Store_id=S003",
          "x": 0.6275,
          "xanchor": "center",
          "xref": "paper",
          "y": 0.9999999999999999,
          "yanchor": "bottom",
          "yref": "paper"
         },
         {
          "font": {},
          "showarrow": false,
          "text": "Store_id=S004",
          "x": 0.8824999999999998,
          "xanchor": "center",
          "xref": "paper",
          "y": 0.9999999999999999,
          "yanchor": "bottom",
          "yref": "paper"
         }
        ],
        "legend": {
         "title": {
          "text": "Store_id"
         },
         "tracegroupgap": 0
        },
        "template": {
         "data": {
          "bar": [
           {
            "error_x": {
             "color": "#2a3f5f"
            },
            "error_y": {
             "color": "#2a3f5f"
            },
            "marker": {
             "line": {
              "color": "#E5ECF6",
              "width": 0.5
             },
             "pattern": {
              "fillmode": "overlay",
              "size": 10,
              "solidity": 0.2
             }
            },
            "type": "bar"
           }
          ],
          "barpolar": [
           {
            "marker": {
             "line": {
              "color": "#E5ECF6",
              "width": 0.5
             },
             "pattern": {
              "fillmode": "overlay",
              "size": 10,
              "solidity": 0.2
             }
            },
            "type": "barpolar"
           }
          ],
          "carpet": [
           {
            "aaxis": {
             "endlinecolor": "#2a3f5f",
             "gridcolor": "white",
             "linecolor": "white",
             "minorgridcolor": "white",
             "startlinecolor": "#2a3f5f"
            },
            "baxis": {
             "endlinecolor": "#2a3f5f",
             "gridcolor": "white",
             "linecolor": "white",
             "minorgridcolor": "white",
             "startlinecolor": "#2a3f5f"
            },
            "type": "carpet"
           }
          ],
          "choropleth": [
           {
            "colorbar": {
             "outlinewidth": 0,
             "ticks": ""
            },
            "type": "choropleth"
           }
          ],
          "contour": [
           {
            "colorbar": {
             "outlinewidth": 0,
             "ticks": ""
            },
            "colorscale": [
             [
              0,
              "#0d0887"
             ],
             [
              0.1111111111111111,
              "#46039f"
             ],
             [
              0.2222222222222222,
              "#7201a8"
             ],
             [
              0.3333333333333333,
              "#9c179e"
             ],
             [
              0.4444444444444444,
              "#bd3786"
             ],
             [
              0.5555555555555556,
              "#d8576b"
             ],
             [
              0.6666666666666666,
              "#ed7953"
             ],
             [
              0.7777777777777778,
              "#fb9f3a"
             ],
             [
              0.8888888888888888,
              "#fdca26"
             ],
             [
              1,
              "#f0f921"
             ]
            ],
            "type": "contour"
           }
          ],
          "contourcarpet": [
           {
            "colorbar": {
             "outlinewidth": 0,
             "ticks": ""
            },
            "type": "contourcarpet"
           }
          ],
          "heatmap": [
           {
            "colorbar": {
             "outlinewidth": 0,
             "ticks": ""
            },
            "colorscale": [
             [
              0,
              "#0d0887"
             ],
             [
              0.1111111111111111,
              "#46039f"
             ],
             [
              0.2222222222222222,
              "#7201a8"
             ],
             [
              0.3333333333333333,
              "#9c179e"
             ],
             [
              0.4444444444444444,
              "#bd3786"
             ],
             [
              0.5555555555555556,
              "#d8576b"
             ],
             [
              0.6666666666666666,
              "#ed7953"
             ],
             [
              0.7777777777777778,
              "#fb9f3a"
             ],
             [
              0.8888888888888888,
              "#fdca26"
             ],
             [
              1,
              "#f0f921"
             ]
            ],
            "type": "heatmap"
           }
          ],
          "heatmapgl": [
           {
            "colorbar": {
             "outlinewidth": 0,
             "ticks": ""
            },
            "colorscale": [
             [
              0,
              "#0d0887"
             ],
             [
              0.1111111111111111,
              "#46039f"
             ],
             [
              0.2222222222222222,
              "#7201a8"
             ],
             [
              0.3333333333333333,
              "#9c179e"
             ],
             [
              0.4444444444444444,
              "#bd3786"
             ],
             [
              0.5555555555555556,
              "#d8576b"
             ],
             [
              0.6666666666666666,
              "#ed7953"
             ],
             [
              0.7777777777777778,
              "#fb9f3a"
             ],
             [
              0.8888888888888888,
              "#fdca26"
             ],
             [
              1,
              "#f0f921"
             ]
            ],
            "type": "heatmapgl"
           }
          ],
          "histogram": [
           {
            "marker": {
             "pattern": {
              "fillmode": "overlay",
              "size": 10,
              "solidity": 0.2
             }
            },
            "type": "histogram"
           }
          ],
          "histogram2d": [
           {
            "colorbar": {
             "outlinewidth": 0,
             "ticks": ""
            },
            "colorscale": [
             [
              0,
              "#0d0887"
             ],
             [
              0.1111111111111111,
              "#46039f"
             ],
             [
              0.2222222222222222,
              "#7201a8"
             ],
             [
              0.3333333333333333,
              "#9c179e"
             ],
             [
              0.4444444444444444,
              "#bd3786"
             ],
             [
              0.5555555555555556,
              "#d8576b"
             ],
             [
              0.6666666666666666,
              "#ed7953"
             ],
             [
              0.7777777777777778,
              "#fb9f3a"
             ],
             [
              0.8888888888888888,
              "#fdca26"
             ],
             [
              1,
              "#f0f921"
             ]
            ],
            "type": "histogram2d"
           }
          ],
          "histogram2dcontour": [
           {
            "colorbar": {
             "outlinewidth": 0,
             "ticks": ""
            },
            "colorscale": [
             [
              0,
              "#0d0887"
             ],
             [
              0.1111111111111111,
              "#46039f"
             ],
             [
              0.2222222222222222,
              "#7201a8"
             ],
             [
              0.3333333333333333,
              "#9c179e"
             ],
             [
              0.4444444444444444,
              "#bd3786"
             ],
             [
              0.5555555555555556,
              "#d8576b"
             ],
             [
              0.6666666666666666,
              "#ed7953"
             ],
             [
              0.7777777777777778,
              "#fb9f3a"
             ],
             [
              0.8888888888888888,
              "#fdca26"
             ],
             [
              1,
              "#f0f921"
             ]
            ],
            "type": "histogram2dcontour"
           }
          ],
          "mesh3d": [
           {
            "colorbar": {
             "outlinewidth": 0,
             "ticks": ""
            },
            "type": "mesh3d"
           }
          ],
          "parcoords": [
           {
            "line": {
             "colorbar": {
              "outlinewidth": 0,
              "ticks": ""
             }
            },
            "type": "parcoords"
           }
          ],
          "pie": [
           {
            "automargin": true,
            "type": "pie"
           }
          ],
          "scatter": [
           {
            "fillpattern": {
             "fillmode": "overlay",
             "size": 10,
             "solidity": 0.2
            },
            "type": "scatter"
           }
          ],
          "scatter3d": [
           {
            "line": {
             "colorbar": {
              "outlinewidth": 0,
              "ticks": ""
             }
            },
            "marker": {
             "colorbar": {
              "outlinewidth": 0,
              "ticks": ""
             }
            },
            "type": "scatter3d"
           }
          ],
          "scattercarpet": [
           {
            "marker": {
             "colorbar": {
              "outlinewidth": 0,
              "ticks": ""
             }
            },
            "type": "scattercarpet"
           }
          ],
          "scattergeo": [
           {
            "marker": {
             "colorbar": {
              "outlinewidth": 0,
              "ticks": ""
             }
            },
            "type": "scattergeo"
           }
          ],
          "scattergl": [
           {
            "marker": {
             "colorbar": {
              "outlinewidth": 0,
              "ticks": ""
             }
            },
            "type": "scattergl"
           }
          ],
          "scattermapbox": [
           {
            "marker": {
             "colorbar": {
              "outlinewidth": 0,
              "ticks": ""
             }
            },
            "type": "scattermapbox"
           }
          ],
          "scatterpolar": [
           {
            "marker": {
             "colorbar": {
              "outlinewidth": 0,
              "ticks": ""
             }
            },
            "type": "scatterpolar"
           }
          ],
          "scatterpolargl": [
           {
            "marker": {
             "colorbar": {
              "outlinewidth": 0,
              "ticks": ""
             }
            },
            "type": "scatterpolargl"
           }
          ],
          "scatterternary": [
           {
            "marker": {
             "colorbar": {
              "outlinewidth": 0,
              "ticks": ""
             }
            },
            "type": "scatterternary"
           }
          ],
          "surface": [
           {
            "colorbar": {
             "outlinewidth": 0,
             "ticks": ""
            },
            "colorscale": [
             [
              0,
              "#0d0887"
             ],
             [
              0.1111111111111111,
              "#46039f"
             ],
             [
              0.2222222222222222,
              "#7201a8"
             ],
             [
              0.3333333333333333,
              "#9c179e"
             ],
             [
              0.4444444444444444,
              "#bd3786"
             ],
             [
              0.5555555555555556,
              "#d8576b"
             ],
             [
              0.6666666666666666,
              "#ed7953"
             ],
             [
              0.7777777777777778,
              "#fb9f3a"
             ],
             [
              0.8888888888888888,
              "#fdca26"
             ],
             [
              1,
              "#f0f921"
             ]
            ],
            "type": "surface"
           }
          ],
          "table": [
           {
            "cells": {
             "fill": {
              "color": "#EBF0F8"
             },
             "line": {
              "color": "white"
             }
            },
            "header": {
             "fill": {
              "color": "#C8D4E3"
             },
             "line": {
              "color": "white"
             }
            },
            "type": "table"
           }
          ]
         },
         "layout": {
          "annotationdefaults": {
           "arrowcolor": "#2a3f5f",
           "arrowhead": 0,
           "arrowwidth": 1
          },
          "autotypenumbers": "strict",
          "coloraxis": {
           "colorbar": {
            "outlinewidth": 0,
            "ticks": ""
           }
          },
          "colorscale": {
           "diverging": [
            [
             0,
             "#8e0152"
            ],
            [
             0.1,
             "#c51b7d"
            ],
            [
             0.2,
             "#de77ae"
            ],
            [
             0.3,
             "#f1b6da"
            ],
            [
             0.4,
             "#fde0ef"
            ],
            [
             0.5,
             "#f7f7f7"
            ],
            [
             0.6,
             "#e6f5d0"
            ],
            [
             0.7,
             "#b8e186"
            ],
            [
             0.8,
             "#7fbc41"
            ],
            [
             0.9,
             "#4d9221"
            ],
            [
             1,
             "#276419"
            ]
           ],
           "sequential": [
            [
             0,
             "#0d0887"
            ],
            [
             0.1111111111111111,
             "#46039f"
            ],
            [
             0.2222222222222222,
             "#7201a8"
            ],
            [
             0.3333333333333333,
             "#9c179e"
            ],
            [
             0.4444444444444444,
             "#bd3786"
            ],
            [
             0.5555555555555556,
             "#d8576b"
            ],
            [
             0.6666666666666666,
             "#ed7953"
            ],
            [
             0.7777777777777778,
             "#fb9f3a"
            ],
            [
             0.8888888888888888,
             "#fdca26"
            ],
            [
             1,
             "#f0f921"
            ]
           ],
           "sequentialminus": [
            [
             0,
             "#0d0887"
            ],
            [
             0.1111111111111111,
             "#46039f"
            ],
            [
             0.2222222222222222,
             "#7201a8"
            ],
            [
             0.3333333333333333,
             "#9c179e"
            ],
            [
             0.4444444444444444,
             "#bd3786"
            ],
            [
             0.5555555555555556,
             "#d8576b"
            ],
            [
             0.6666666666666666,
             "#ed7953"
            ],
            [
             0.7777777777777778,
             "#fb9f3a"
            ],
            [
             0.8888888888888888,
             "#fdca26"
            ],
            [
             1,
             "#f0f921"
            ]
           ]
          },
          "colorway": [
           "#636efa",
           "#EF553B",
           "#00cc96",
           "#ab63fa",
           "#FFA15A",
           "#19d3f3",
           "#FF6692",
           "#B6E880",
           "#FF97FF",
           "#FECB52"
          ],
          "font": {
           "color": "#2a3f5f"
          },
          "geo": {
           "bgcolor": "white",
           "lakecolor": "white",
           "landcolor": "#E5ECF6",
           "showlakes": true,
           "showland": true,
           "subunitcolor": "white"
          },
          "hoverlabel": {
           "align": "left"
          },
          "hovermode": "closest",
          "mapbox": {
           "style": "light"
          },
          "paper_bgcolor": "white",
          "plot_bgcolor": "#E5ECF6",
          "polar": {
           "angularaxis": {
            "gridcolor": "white",
            "linecolor": "white",
            "ticks": ""
           },
           "bgcolor": "#E5ECF6",
           "radialaxis": {
            "gridcolor": "white",
            "linecolor": "white",
            "ticks": ""
           }
          },
          "scene": {
           "xaxis": {
            "backgroundcolor": "#E5ECF6",
            "gridcolor": "white",
            "gridwidth": 2,
            "linecolor": "white",
            "showbackground": true,
            "ticks": "",
            "zerolinecolor": "white"
           },
           "yaxis": {
            "backgroundcolor": "#E5ECF6",
            "gridcolor": "white",
            "gridwidth": 2,
            "linecolor": "white",
            "showbackground": true,
            "ticks": "",
            "zerolinecolor": "white"
           },
           "zaxis": {
            "backgroundcolor": "#E5ECF6",
            "gridcolor": "white",
            "gridwidth": 2,
            "linecolor": "white",
            "showbackground": true,
            "ticks": "",
            "zerolinecolor": "white"
           }
          },
          "shapedefaults": {
           "line": {
            "color": "#2a3f5f"
           }
          },
          "ternary": {
           "aaxis": {
            "gridcolor": "white",
            "linecolor": "white",
            "ticks": ""
           },
           "baxis": {
            "gridcolor": "white",
            "linecolor": "white",
            "ticks": ""
           },
           "bgcolor": "#E5ECF6",
           "caxis": {
            "gridcolor": "white",
            "linecolor": "white",
            "ticks": ""
           }
          },
          "title": {
           "x": 0.05
          },
          "xaxis": {
           "automargin": true,
           "gridcolor": "white",
           "linecolor": "white",
           "ticks": "",
           "title": {
            "standoff": 15
           },
           "zerolinecolor": "white",
           "zerolinewidth": 2
          },
          "yaxis": {
           "automargin": true,
           "gridcolor": "white",
           "linecolor": "white",
           "ticks": "",
           "title": {
            "standoff": 15
           },
           "zerolinecolor": "white",
           "zerolinewidth": 2
          }
         }
        },
        "title": {
         "text": "Sales Performance of Each Store Over Time"
        },
        "xaxis": {
         "anchor": "y",
         "domain": [
          0,
          0.235
         ],
         "title": {
          "text": "Date"
         }
        },
        "xaxis2": {
         "anchor": "y2",
         "domain": [
          0.255,
          0.49
         ],
         "matches": "x",
         "title": {
          "text": "Date"
         }
        },
        "xaxis3": {
         "anchor": "y3",
         "domain": [
          0.51,
          0.745
         ],
         "matches": "x",
         "title": {
          "text": "Date"
         }
        },
        "xaxis4": {
         "anchor": "y4",
         "domain": [
          0.7649999999999999,
          0.9999999999999999
         ],
         "matches": "x",
         "title": {
          "text": "Date"
         }
        },
        "xaxis5": {
         "anchor": "y5",
         "domain": [
          0,
          0.235
         ],
         "matches": "x",
         "showticklabels": false
        },
        "xaxis6": {
         "anchor": "y6",
         "domain": [
          0.255,
          0.49
         ],
         "matches": "x",
         "showticklabels": false
        },
        "xaxis7": {
         "anchor": "y7",
         "domain": [
          0.51,
          0.745
         ],
         "matches": "x",
         "showticklabels": false
        },
        "xaxis8": {
         "anchor": "y8",
         "domain": [
          0.7649999999999999,
          0.9999999999999999
         ],
         "matches": "x",
         "showticklabels": false
        },
        "yaxis": {
         "anchor": "x",
         "domain": [
          0,
          0.46499999999999997
         ],
         "title": {
          "text": "Sales Amount"
         }
        },
        "yaxis2": {
         "anchor": "x2",
         "domain": [
          0,
          0.46499999999999997
         ],
         "matches": "y",
         "showticklabels": false
        },
        "yaxis3": {
         "anchor": "x3",
         "domain": [
          0,
          0.46499999999999997
         ],
         "matches": "y",
         "showticklabels": false
        },
        "yaxis4": {
         "anchor": "x4",
         "domain": [
          0,
          0.46499999999999997
         ],
         "matches": "y",
         "showticklabels": false
        },
        "yaxis5": {
         "anchor": "x5",
         "domain": [
          0.5349999999999999,
          0.9999999999999999
         ],
         "matches": "y",
         "title": {
          "text": "Sales Amount"
         }
        },
        "yaxis6": {
         "anchor": "x6",
         "domain": [
          0.5349999999999999,
          0.9999999999999999
         ],
         "matches": "y",
         "showticklabels": false
        },
        "yaxis7": {
         "anchor": "x7",
         "domain": [
          0.5349999999999999,
          0.9999999999999999
         ],
         "matches": "y",
         "showticklabels": false
        },
        "yaxis8": {
         "anchor": "x8",
         "domain": [
          0.5349999999999999,
          0.9999999999999999
         ],
         "matches": "y",
         "showticklabels": false
        }
       }
      }
     },
     "metadata": {},
     "output_type": "display_data"
    }
   ],
   "source": [
    "# Ensure the Date column is in datetime format for proper plotting\n",
    "df['Date'] = pd.to_datetime(df['Date'])\n",
    "\n",
    "# Group by Date and Store ID\n",
    "sales_by_date_store = df.groupby(['Date', 'Store_id']).agg({'Sales Amount': 'sum'}).reset_index()\n",
    "\n",
    "fig = px.line(\n",
    "    sales_by_date_store, x='Date', y='Sales Amount', color='Store_id',\n",
    "    facet_col='Store_id', facet_col_wrap=4,\n",
    "    title=\"Sales Performance of Each Store Over Time\",\n",
    ")\n",
    "fig.update_traces(mode='lines+markers')\n",
    "fig.show()\n"
   ]
  },
  {
   "cell_type": "markdown",
   "metadata": {},
   "source": [
    "Cumulative Sales Over Time (Animated Bar Chart)"
   ]
  },
  {
   "cell_type": "code",
   "execution_count": null,
   "metadata": {},
   "outputs": [
    {
     "data": {
      "application/vnd.plotly.v1+json": {
       "config": {
        "plotlyServerURL": "https://plot.ly"
       },
       "data": [
        {
         "alignmentgroup": "True",
         "hovertemplate": "Product_id=%{x}<br>Date=2024-11-09 00:00:00<br>Cumulative Sales=%{y}<extra></extra>",
         "legendgroup": "P002",
         "marker": {
          "color": "#636efa",
          "pattern": {
           "shape": ""
          }
         },
         "name": "P002",
         "offsetgroup": "P002",
         "orientation": "v",
         "showlegend": true,
         "textposition": "auto",
         "type": "bar",
         "x": [
          "P002",
          "P002",
          "P002",
          "P002",
          "P002"
         ],
         "xaxis": "x",
         "y": [
          199.57,
          89979.81,
          103680.1,
          144120.34,
          170781.81
         ],
         "yaxis": "y"
        },
        {
         "alignmentgroup": "True",
         "hovertemplate": "Product_id=%{x}<br>Date=2024-11-09 00:00:00<br>Cumulative Sales=%{y}<extra></extra>",
         "legendgroup": "P005",
         "marker": {
          "color": "#EF553B",
          "pattern": {
           "shape": ""
          }
         },
         "name": "P005",
         "offsetgroup": "P005",
         "orientation": "v",
         "showlegend": true,
         "textposition": "auto",
         "type": "bar",
         "x": [
          "P005",
          "P005",
          "P005"
         ],
         "xaxis": "x",
         "y": [
          4764.59,
          65460.35,
          69596.15
         ],
         "yaxis": "y"
        },
        {
         "alignmentgroup": "True",
         "hovertemplate": "Product_id=%{x}<br>Date=2024-11-09 00:00:00<br>Cumulative Sales=%{y}<extra></extra>",
         "legendgroup": "P007",
         "marker": {
          "color": "#00cc96",
          "pattern": {
           "shape": ""
          }
         },
         "name": "P007",
         "offsetgroup": "P007",
         "orientation": "v",
         "showlegend": true,
         "textposition": "auto",
         "type": "bar",
         "x": [
          "P007",
          "P007"
         ],
         "xaxis": "x",
         "y": [
          39128.76,
          57457.65
         ],
         "yaxis": "y"
        },
        {
         "alignmentgroup": "True",
         "hovertemplate": "Product_id=%{x}<br>Date=2024-11-09 00:00:00<br>Cumulative Sales=%{y}<extra></extra>",
         "legendgroup": "P001",
         "marker": {
          "color": "#ab63fa",
          "pattern": {
           "shape": ""
          }
         },
         "name": "P001",
         "offsetgroup": "P001",
         "orientation": "v",
         "showlegend": true,
         "textposition": "auto",
         "type": "bar",
         "x": [
          "P001",
          "P001"
         ],
         "xaxis": "x",
         "y": [
          8237.34,
          31327.19
         ],
         "yaxis": "y"
        },
        {
         "alignmentgroup": "True",
         "hovertemplate": "Product_id=%{x}<br>Date=2024-11-09 00:00:00<br>Cumulative Sales=%{y}<extra></extra>",
         "legendgroup": "P003",
         "marker": {
          "color": "#FFA15A",
          "pattern": {
           "shape": ""
          }
         },
         "name": "P003",
         "offsetgroup": "P003",
         "orientation": "v",
         "showlegend": true,
         "textposition": "auto",
         "type": "bar",
         "x": [
          "P003",
          "P003",
          "P003"
         ],
         "xaxis": "x",
         "y": [
          12311.32,
          53471.88,
          57999.09
         ],
         "yaxis": "y"
        },
        {
         "alignmentgroup": "True",
         "hovertemplate": "Product_id=%{x}<br>Date=2024-11-09 00:00:00<br>Cumulative Sales=%{y}<extra></extra>",
         "legendgroup": "P006",
         "marker": {
          "color": "#19d3f3",
          "pattern": {
           "shape": ""
          }
         },
         "name": "P006",
         "offsetgroup": "P006",
         "orientation": "v",
         "showlegend": true,
         "textposition": "auto",
         "type": "bar",
         "x": [
          "P006",
          "P006",
          "P006",
          "P006",
          "P006"
         ],
         "xaxis": "x",
         "y": [
          44726.49,
          59869.81,
          73424.76,
          78643.62,
          81831.14
         ],
         "yaxis": "y"
        },
        {
         "alignmentgroup": "True",
         "hovertemplate": "Product_id=%{x}<br>Date=2024-11-09 00:00:00<br>Cumulative Sales=%{y}<extra></extra>",
         "legendgroup": "P008",
         "marker": {
          "color": "#B6E880",
          "pattern": {
           "shape": ""
          }
         },
         "name": "P008",
         "offsetgroup": "P008",
         "orientation": "v",
         "showlegend": true,
         "textposition": "auto",
         "type": "bar",
         "x": [
          "P008",
          "P008"
         ],
         "xaxis": "x",
         "y": [
          46241.29,
          61980.270000000004
         ],
         "yaxis": "y"
        }
       ],
       "frames": [
        {
         "data": [
          {
           "alignmentgroup": "True",
           "hovertemplate": "Product_id=%{x}<br>Date=2024-11-09 00:00:00<br>Cumulative Sales=%{y}<extra></extra>",
           "legendgroup": "P002",
           "marker": {
            "color": "#636efa",
            "pattern": {
             "shape": ""
            }
           },
           "name": "P002",
           "offsetgroup": "P002",
           "orientation": "v",
           "showlegend": true,
           "textposition": "auto",
           "type": "bar",
           "x": [
            "P002",
            "P002",
            "P002",
            "P002",
            "P002"
           ],
           "xaxis": "x",
           "y": [
            199.57,
            89979.81,
            103680.1,
            144120.34,
            170781.81
           ],
           "yaxis": "y"
          },
          {
           "alignmentgroup": "True",
           "hovertemplate": "Product_id=%{x}<br>Date=2024-11-09 00:00:00<br>Cumulative Sales=%{y}<extra></extra>",
           "legendgroup": "P005",
           "marker": {
            "color": "#EF553B",
            "pattern": {
             "shape": ""
            }
           },
           "name": "P005",
           "offsetgroup": "P005",
           "orientation": "v",
           "showlegend": true,
           "textposition": "auto",
           "type": "bar",
           "x": [
            "P005",
            "P005",
            "P005"
           ],
           "xaxis": "x",
           "y": [
            4764.59,
            65460.35,
            69596.15
           ],
           "yaxis": "y"
          },
          {
           "alignmentgroup": "True",
           "hovertemplate": "Product_id=%{x}<br>Date=2024-11-09 00:00:00<br>Cumulative Sales=%{y}<extra></extra>",
           "legendgroup": "P007",
           "marker": {
            "color": "#00cc96",
            "pattern": {
             "shape": ""
            }
           },
           "name": "P007",
           "offsetgroup": "P007",
           "orientation": "v",
           "showlegend": true,
           "textposition": "auto",
           "type": "bar",
           "x": [
            "P007",
            "P007"
           ],
           "xaxis": "x",
           "y": [
            39128.76,
            57457.65
           ],
           "yaxis": "y"
          },
          {
           "alignmentgroup": "True",
           "hovertemplate": "Product_id=%{x}<br>Date=2024-11-09 00:00:00<br>Cumulative Sales=%{y}<extra></extra>",
           "legendgroup": "P001",
           "marker": {
            "color": "#ab63fa",
            "pattern": {
             "shape": ""
            }
           },
           "name": "P001",
           "offsetgroup": "P001",
           "orientation": "v",
           "showlegend": true,
           "textposition": "auto",
           "type": "bar",
           "x": [
            "P001",
            "P001"
           ],
           "xaxis": "x",
           "y": [
            8237.34,
            31327.19
           ],
           "yaxis": "y"
          },
          {
           "alignmentgroup": "True",
           "hovertemplate": "Product_id=%{x}<br>Date=2024-11-09 00:00:00<br>Cumulative Sales=%{y}<extra></extra>",
           "legendgroup": "P003",
           "marker": {
            "color": "#FFA15A",
            "pattern": {
             "shape": ""
            }
           },
           "name": "P003",
           "offsetgroup": "P003",
           "orientation": "v",
           "showlegend": true,
           "textposition": "auto",
           "type": "bar",
           "x": [
            "P003",
            "P003",
            "P003"
           ],
           "xaxis": "x",
           "y": [
            12311.32,
            53471.88,
            57999.09
           ],
           "yaxis": "y"
          },
          {
           "alignmentgroup": "True",
           "hovertemplate": "Product_id=%{x}<br>Date=2024-11-09 00:00:00<br>Cumulative Sales=%{y}<extra></extra>",
           "legendgroup": "P006",
           "marker": {
            "color": "#19d3f3",
            "pattern": {
             "shape": ""
            }
           },
           "name": "P006",
           "offsetgroup": "P006",
           "orientation": "v",
           "showlegend": true,
           "textposition": "auto",
           "type": "bar",
           "x": [
            "P006",
            "P006",
            "P006",
            "P006",
            "P006"
           ],
           "xaxis": "x",
           "y": [
            44726.49,
            59869.81,
            73424.76,
            78643.62,
            81831.14
           ],
           "yaxis": "y"
          },
          {
           "alignmentgroup": "True",
           "hovertemplate": "Product_id=%{x}<br>Date=2024-11-09 00:00:00<br>Cumulative Sales=%{y}<extra></extra>",
           "legendgroup": "P008",
           "marker": {
            "color": "#B6E880",
            "pattern": {
             "shape": ""
            }
           },
           "name": "P008",
           "offsetgroup": "P008",
           "orientation": "v",
           "showlegend": true,
           "textposition": "auto",
           "type": "bar",
           "x": [
            "P008",
            "P008"
           ],
           "xaxis": "x",
           "y": [
            46241.29,
            61980.270000000004
           ],
           "yaxis": "y"
          }
         ],
         "name": "2024-11-09 00:00:00"
        },
        {
         "data": [
          {
           "alignmentgroup": "True",
           "hovertemplate": "Product_id=%{x}<br>Date=2024-11-21 00:00:00<br>Cumulative Sales=%{y}<extra></extra>",
           "legendgroup": "P002",
           "marker": {
            "color": "#636efa",
            "pattern": {
             "shape": ""
            }
           },
           "name": "P002",
           "offsetgroup": "P002",
           "orientation": "v",
           "showlegend": true,
           "textposition": "auto",
           "type": "bar",
           "x": [
            "P002",
            "P002",
            "P002",
            "P002",
            "P002"
           ],
           "xaxis": "x",
           "y": [
            19258.27,
            74091.81,
            111515.56,
            121613.3,
            130922.98
           ],
           "yaxis": "y"
          },
          {
           "alignmentgroup": "True",
           "hovertemplate": "Product_id=%{x}<br>Date=2024-11-21 00:00:00<br>Cumulative Sales=%{y}<extra></extra>",
           "legendgroup": "P005",
           "marker": {
            "color": "#EF553B",
            "pattern": {
             "shape": ""
            }
           },
           "name": "P005",
           "offsetgroup": "P005",
           "orientation": "v",
           "showlegend": true,
           "textposition": "auto",
           "type": "bar",
           "x": [
            "P005",
            "P005",
            "P005",
            "P005"
           ],
           "xaxis": "x",
           "y": [
            1279.78,
            15761.81,
            50258.45,
            79986.31
           ],
           "yaxis": "y"
          },
          {
           "alignmentgroup": "True",
           "hovertemplate": "Product_id=%{x}<br>Date=2024-11-21 00:00:00<br>Cumulative Sales=%{y}<extra></extra>",
           "legendgroup": "P007",
           "marker": {
            "color": "#00cc96",
            "pattern": {
             "shape": ""
            }
           },
           "name": "P007",
           "offsetgroup": "P007",
           "orientation": "v",
           "showlegend": true,
           "textposition": "auto",
           "type": "bar",
           "x": [
            "P007",
            "P007",
            "P007",
            "P007"
           ],
           "xaxis": "x",
           "y": [
            5798.28,
            27248.63,
            47718.3,
            61914.11
           ],
           "yaxis": "y"
          },
          {
           "alignmentgroup": "True",
           "hovertemplate": "Product_id=%{x}<br>Date=2024-11-21 00:00:00<br>Cumulative Sales=%{y}<extra></extra>",
           "legendgroup": "P001",
           "marker": {
            "color": "#ab63fa",
            "pattern": {
             "shape": ""
            }
           },
           "name": "P001",
           "offsetgroup": "P001",
           "orientation": "v",
           "showlegend": true,
           "textposition": "auto",
           "type": "bar",
           "x": [
            "P001",
            "P001"
           ],
           "xaxis": "x",
           "y": [
            54973.44,
            55975.79
           ],
           "yaxis": "y"
          },
          {
           "alignmentgroup": "True",
           "hovertemplate": "Product_id=%{x}<br>Date=2024-11-21 00:00:00<br>Cumulative Sales=%{y}<extra></extra>",
           "legendgroup": "P003",
           "marker": {
            "color": "#FFA15A",
            "pattern": {
             "shape": ""
            }
           },
           "name": "P003",
           "offsetgroup": "P003",
           "orientation": "v",
           "showlegend": true,
           "textposition": "auto",
           "type": "bar",
           "x": [
            "P003"
           ],
           "xaxis": "x",
           "y": [
            8658.3
           ],
           "yaxis": "y"
          },
          {
           "alignmentgroup": "True",
           "hovertemplate": "Product_id=%{x}<br>Date=2024-11-21 00:00:00<br>Cumulative Sales=%{y}<extra></extra>",
           "legendgroup": "P006",
           "marker": {
            "color": "#19d3f3",
            "pattern": {
             "shape": ""
            }
           },
           "name": "P006",
           "offsetgroup": "P006",
           "orientation": "v",
           "showlegend": true,
           "textposition": "auto",
           "type": "bar",
           "x": [
            "P006",
            "P006",
            "P006",
            "P006"
           ],
           "xaxis": "x",
           "y": [
            674.88,
            22064.54,
            45807.22,
            94887.49
           ],
           "yaxis": "y"
          },
          {
           "alignmentgroup": "True",
           "hovertemplate": "Product_id=%{x}<br>Date=2024-11-21 00:00:00<br>Cumulative Sales=%{y}<extra></extra>",
           "legendgroup": "P004",
           "marker": {
            "color": "#FF6692",
            "pattern": {
             "shape": ""
            }
           },
           "name": "P004",
           "offsetgroup": "P004",
           "orientation": "v",
           "showlegend": true,
           "textposition": "auto",
           "type": "bar",
           "x": [
            "P004",
            "P004",
            "P004"
           ],
           "xaxis": "x",
           "y": [
            13071.26,
            81851.93,
            85590.93
           ],
           "yaxis": "y"
          },
          {
           "alignmentgroup": "True",
           "hovertemplate": "Product_id=%{x}<br>Date=2024-11-21 00:00:00<br>Cumulative Sales=%{y}<extra></extra>",
           "legendgroup": "P008",
           "marker": {
            "color": "#B6E880",
            "pattern": {
             "shape": ""
            }
           },
           "name": "P008",
           "offsetgroup": "P008",
           "orientation": "v",
           "showlegend": true,
           "textposition": "auto",
           "type": "bar",
           "x": [
            "P008",
            "P008"
           ],
           "xaxis": "x",
           "y": [
            19197.57,
            86754.55
           ],
           "yaxis": "y"
          }
         ],
         "name": "2024-11-21 00:00:00"
        },
        {
         "data": [
          {
           "alignmentgroup": "True",
           "hovertemplate": "Product_id=%{x}<br>Date=2024-11-19 00:00:00<br>Cumulative Sales=%{y}<extra></extra>",
           "legendgroup": "P002",
           "marker": {
            "color": "#636efa",
            "pattern": {
             "shape": ""
            }
           },
           "name": "P002",
           "offsetgroup": "P002",
           "orientation": "v",
           "showlegend": true,
           "textposition": "auto",
           "type": "bar",
           "x": [
            "P002",
            "P002",
            "P002",
            "P002",
            "P002",
            "P002",
            "P002",
            "P002"
           ],
           "xaxis": "x",
           "y": [
            1091.44,
            39963.49,
            56111.69,
            96294.99,
            156057.2,
            163246.36,
            177760.68,
            184608.86
           ],
           "yaxis": "y"
          },
          {
           "alignmentgroup": "True",
           "hovertemplate": "Product_id=%{x}<br>Date=2024-11-19 00:00:00<br>Cumulative Sales=%{y}<extra></extra>",
           "legendgroup": "P007",
           "marker": {
            "color": "#00cc96",
            "pattern": {
             "shape": ""
            }
           },
           "name": "P007",
           "offsetgroup": "P007",
           "orientation": "v",
           "showlegend": true,
           "textposition": "auto",
           "type": "bar",
           "x": [
            "P007",
            "P007",
            "P007",
            "P007",
            "P007"
           ],
           "xaxis": "x",
           "y": [
            755.12,
            10340.97,
            34413.54,
            37062,
            69963.69
           ],
           "yaxis": "y"
          },
          {
           "alignmentgroup": "True",
           "hovertemplate": "Product_id=%{x}<br>Date=2024-11-19 00:00:00<br>Cumulative Sales=%{y}<extra></extra>",
           "legendgroup": "P001",
           "marker": {
            "color": "#ab63fa",
            "pattern": {
             "shape": ""
            }
           },
           "name": "P001",
           "offsetgroup": "P001",
           "orientation": "v",
           "showlegend": true,
           "textposition": "auto",
           "type": "bar",
           "x": [
            "P001",
            "P001",
            "P001",
            "P001"
           ],
           "xaxis": "x",
           "y": [
            1316.87,
            7808.72,
            14883.72,
            58454.16
           ],
           "yaxis": "y"
          },
          {
           "alignmentgroup": "True",
           "hovertemplate": "Product_id=%{x}<br>Date=2024-11-19 00:00:00<br>Cumulative Sales=%{y}<extra></extra>",
           "legendgroup": "P003",
           "marker": {
            "color": "#FFA15A",
            "pattern": {
             "shape": ""
            }
           },
           "name": "P003",
           "offsetgroup": "P003",
           "orientation": "v",
           "showlegend": true,
           "textposition": "auto",
           "type": "bar",
           "x": [
            "P003",
            "P003",
            "P003"
           ],
           "xaxis": "x",
           "y": [
            15779.97,
            32704.829999999998,
            54932.9
           ],
           "yaxis": "y"
          },
          {
           "alignmentgroup": "True",
           "hovertemplate": "Product_id=%{x}<br>Date=2024-11-19 00:00:00<br>Cumulative Sales=%{y}<extra></extra>",
           "legendgroup": "P006",
           "marker": {
            "color": "#19d3f3",
            "pattern": {
             "shape": ""
            }
           },
           "name": "P006",
           "offsetgroup": "P006",
           "orientation": "v",
           "showlegend": true,
           "textposition": "auto",
           "type": "bar",
           "x": [
            "P006",
            "P006",
            "P006",
            "P006"
           ],
           "xaxis": "x",
           "y": [
            9500.35,
            20413.82,
            38936.67,
            92542.44
           ],
           "yaxis": "y"
          },
          {
           "alignmentgroup": "True",
           "hovertemplate": "Product_id=%{x}<br>Date=2024-11-19 00:00:00<br>Cumulative Sales=%{y}<extra></extra>",
           "legendgroup": "P004",
           "marker": {
            "color": "#FF6692",
            "pattern": {
             "shape": ""
            }
           },
           "name": "P004",
           "offsetgroup": "P004",
           "orientation": "v",
           "showlegend": true,
           "textposition": "auto",
           "type": "bar",
           "x": [
            "P004",
            "P004",
            "P004"
           ],
           "xaxis": "x",
           "y": [
            31150.51,
            38194.15,
            64305.76
           ],
           "yaxis": "y"
          },
          {
           "alignmentgroup": "True",
           "hovertemplate": "Product_id=%{x}<br>Date=2024-11-19 00:00:00<br>Cumulative Sales=%{y}<extra></extra>",
           "legendgroup": "P008",
           "marker": {
            "color": "#B6E880",
            "pattern": {
             "shape": ""
            }
           },
           "name": "P008",
           "offsetgroup": "P008",
           "orientation": "v",
           "showlegend": true,
           "textposition": "auto",
           "type": "bar",
           "x": [
            "P008",
            "P008",
            "P008",
            "P008"
           ],
           "xaxis": "x",
           "y": [
            4813.76,
            8183.08,
            37499.76,
            43180.15
           ],
           "yaxis": "y"
          }
         ],
         "name": "2024-11-19 00:00:00"
        },
        {
         "data": [
          {
           "alignmentgroup": "True",
           "hovertemplate": "Product_id=%{x}<br>Date=2024-11-03 00:00:00<br>Cumulative Sales=%{y}<extra></extra>",
           "legendgroup": "P002",
           "marker": {
            "color": "#636efa",
            "pattern": {
             "shape": ""
            }
           },
           "name": "P002",
           "offsetgroup": "P002",
           "orientation": "v",
           "showlegend": true,
           "textposition": "auto",
           "type": "bar",
           "x": [
            "P002",
            "P002",
            "P002",
            "P002",
            "P002",
            "P002",
            "P002"
           ],
           "xaxis": "x",
           "y": [
            18444.6,
            21803.04,
            43827.31,
            112524.94,
            135866.38,
            146260.47,
            175267.86
           ],
           "yaxis": "y"
          },
          {
           "alignmentgroup": "True",
           "hovertemplate": "Product_id=%{x}<br>Date=2024-11-03 00:00:00<br>Cumulative Sales=%{y}<extra></extra>",
           "legendgroup": "P005",
           "marker": {
            "color": "#EF553B",
            "pattern": {
             "shape": ""
            }
           },
           "name": "P005",
           "offsetgroup": "P005",
           "orientation": "v",
           "showlegend": true,
           "textposition": "auto",
           "type": "bar",
           "x": [
            "P005",
            "P005",
            "P005",
            "P005"
           ],
           "xaxis": "x",
           "y": [
            1439.87,
            14146.34,
            59872.29,
            78666.73
           ],
           "yaxis": "y"
          },
          {
           "alignmentgroup": "True",
           "hovertemplate": "Product_id=%{x}<br>Date=2024-11-03 00:00:00<br>Cumulative Sales=%{y}<extra></extra>",
           "legendgroup": "P007",
           "marker": {
            "color": "#00cc96",
            "pattern": {
             "shape": ""
            }
           },
           "name": "P007",
           "offsetgroup": "P007",
           "orientation": "v",
           "showlegend": true,
           "textposition": "auto",
           "type": "bar",
           "x": [
            "P007",
            "P007",
            "P007"
           ],
           "xaxis": "x",
           "y": [
            23031.48,
            53141.99,
            89709.05
           ],
           "yaxis": "y"
          },
          {
           "alignmentgroup": "True",
           "hovertemplate": "Product_id=%{x}<br>Date=2024-11-03 00:00:00<br>Cumulative Sales=%{y}<extra></extra>",
           "legendgroup": "P001",
           "marker": {
            "color": "#ab63fa",
            "pattern": {
             "shape": ""
            }
           },
           "name": "P001",
           "offsetgroup": "P001",
           "orientation": "v",
           "showlegend": true,
           "textposition": "auto",
           "type": "bar",
           "x": [
            "P001",
            "P001",
            "P001",
            "P001",
            "P001"
           ],
           "xaxis": "x",
           "y": [
            8960.06,
            36377.36,
            40112.62,
            42744.4,
            47450.76
           ],
           "yaxis": "y"
          },
          {
           "alignmentgroup": "True",
           "hovertemplate": "Product_id=%{x}<br>Date=2024-11-03 00:00:00<br>Cumulative Sales=%{y}<extra></extra>",
           "legendgroup": "P003",
           "marker": {
            "color": "#FFA15A",
            "pattern": {
             "shape": ""
            }
           },
           "name": "P003",
           "offsetgroup": "P003",
           "orientation": "v",
           "showlegend": true,
           "textposition": "auto",
           "type": "bar",
           "x": [
            "P003",
            "P003",
            "P003",
            "P003",
            "P003",
            "P003",
            "P003",
            "P003"
           ],
           "xaxis": "x",
           "y": [
            5007.42,
            7225.51,
            9072.12,
            10143.68,
            20898.06,
            33561.79,
            62238.01,
            80431.5
           ],
           "yaxis": "y"
          },
          {
           "alignmentgroup": "True",
           "hovertemplate": "Product_id=%{x}<br>Date=2024-11-03 00:00:00<br>Cumulative Sales=%{y}<extra></extra>",
           "legendgroup": "P006",
           "marker": {
            "color": "#19d3f3",
            "pattern": {
             "shape": ""
            }
           },
           "name": "P006",
           "offsetgroup": "P006",
           "orientation": "v",
           "showlegend": true,
           "textposition": "auto",
           "type": "bar",
           "x": [
            "P006",
            "P006",
            "P006"
           ],
           "xaxis": "x",
           "y": [
            51814.45,
            55486.79,
            60891.28
           ],
           "yaxis": "y"
          },
          {
           "alignmentgroup": "True",
           "hovertemplate": "Product_id=%{x}<br>Date=2024-11-03 00:00:00<br>Cumulative Sales=%{y}<extra></extra>",
           "legendgroup": "P004",
           "marker": {
            "color": "#FF6692",
            "pattern": {
             "shape": ""
            }
           },
           "name": "P004",
           "offsetgroup": "P004",
           "orientation": "v",
           "showlegend": true,
           "textposition": "auto",
           "type": "bar",
           "x": [
            "P004"
           ],
           "xaxis": "x",
           "y": [
            93583.85
           ],
           "yaxis": "y"
          },
          {
           "alignmentgroup": "True",
           "hovertemplate": "Product_id=%{x}<br>Date=2024-11-03 00:00:00<br>Cumulative Sales=%{y}<extra></extra>",
           "legendgroup": "P008",
           "marker": {
            "color": "#B6E880",
            "pattern": {
             "shape": ""
            }
           },
           "name": "P008",
           "offsetgroup": "P008",
           "orientation": "v",
           "showlegend": true,
           "textposition": "auto",
           "type": "bar",
           "x": [
            "P008",
            "P008",
            "P008",
            "P008",
            "P008"
           ],
           "xaxis": "x",
           "y": [
            21601.19,
            28994.75,
            52302.26,
            63449.15,
            65877.08
           ],
           "yaxis": "y"
          }
         ],
         "name": "2024-11-03 00:00:00"
        },
        {
         "data": [
          {
           "alignmentgroup": "True",
           "hovertemplate": "Product_id=%{x}<br>Date=2024-11-30 00:00:00<br>Cumulative Sales=%{y}<extra></extra>",
           "legendgroup": "P002",
           "marker": {
            "color": "#636efa",
            "pattern": {
             "shape": ""
            }
           },
           "name": "P002",
           "offsetgroup": "P002",
           "orientation": "v",
           "showlegend": true,
           "textposition": "auto",
           "type": "bar",
           "x": [
            "P002",
            "P002",
            "P002",
            "P002",
            "P002",
            "P002"
           ],
           "xaxis": "x",
           "y": [
            66851.75,
            108975.89,
            119503.24,
            148343.9,
            152525.99,
            182485.98
           ],
           "yaxis": "y"
          },
          {
           "alignmentgroup": "True",
           "hovertemplate": "Product_id=%{x}<br>Date=2024-11-30 00:00:00<br>Cumulative Sales=%{y}<extra></extra>",
           "legendgroup": "P005",
           "marker": {
            "color": "#EF553B",
            "pattern": {
             "shape": ""
            }
           },
           "name": "P005",
           "offsetgroup": "P005",
           "orientation": "v",
           "showlegend": true,
           "textposition": "auto",
           "type": "bar",
           "x": [
            "P005"
           ],
           "xaxis": "x",
           "y": [
            27653.83
           ],
           "yaxis": "y"
          },
          {
           "alignmentgroup": "True",
           "hovertemplate": "Product_id=%{x}<br>Date=2024-11-30 00:00:00<br>Cumulative Sales=%{y}<extra></extra>",
           "legendgroup": "P007",
           "marker": {
            "color": "#00cc96",
            "pattern": {
             "shape": ""
            }
           },
           "name": "P007",
           "offsetgroup": "P007",
           "orientation": "v",
           "showlegend": true,
           "textposition": "auto",
           "type": "bar",
           "x": [
            "P007",
            "P007",
            "P007"
           ],
           "xaxis": "x",
           "y": [
            18801,
            20125.92,
            78538.41
           ],
           "yaxis": "y"
          },
          {
           "alignmentgroup": "True",
           "hovertemplate": "Product_id=%{x}<br>Date=2024-11-30 00:00:00<br>Cumulative Sales=%{y}<extra></extra>",
           "legendgroup": "P001",
           "marker": {
            "color": "#ab63fa",
            "pattern": {
             "shape": ""
            }
           },
           "name": "P001",
           "offsetgroup": "P001",
           "orientation": "v",
           "showlegend": true,
           "textposition": "auto",
           "type": "bar",
           "x": [
            "P001",
            "P001",
            "P001",
            "P001"
           ],
           "xaxis": "x",
           "y": [
            7148,
            20713.81,
            26186.24,
            53817.36
           ],
           "yaxis": "y"
          },
          {
           "alignmentgroup": "True",
           "hovertemplate": "Product_id=%{x}<br>Date=2024-11-30 00:00:00<br>Cumulative Sales=%{y}<extra></extra>",
           "legendgroup": "P003",
           "marker": {
            "color": "#FFA15A",
            "pattern": {
             "shape": ""
            }
           },
           "name": "P003",
           "offsetgroup": "P003",
           "orientation": "v",
           "showlegend": true,
           "textposition": "auto",
           "type": "bar",
           "x": [
            "P003",
            "P003",
            "P003",
            "P003",
            "P003",
            "P003"
           ],
           "xaxis": "x",
           "y": [
            1404.44,
            18672.11,
            26199.32,
            31796.239999999998,
            40076.07,
            40216.31
           ],
           "yaxis": "y"
          },
          {
           "alignmentgroup": "True",
           "hovertemplate": "Product_id=%{x}<br>Date=2024-11-30 00:00:00<br>Cumulative Sales=%{y}<extra></extra>",
           "legendgroup": "P006",
           "marker": {
            "color": "#19d3f3",
            "pattern": {
             "shape": ""
            }
           },
           "name": "P006",
           "offsetgroup": "P006",
           "orientation": "v",
           "showlegend": true,
           "textposition": "auto",
           "type": "bar",
           "x": [
            "P006",
            "P006",
            "P006",
            "P006",
            "P006"
           ],
           "xaxis": "x",
           "y": [
            1283.6100000000001,
            5733.83,
            44062.97,
            56356.5,
            60077.61
           ],
           "yaxis": "y"
          },
          {
           "alignmentgroup": "True",
           "hovertemplate": "Product_id=%{x}<br>Date=2024-11-30 00:00:00<br>Cumulative Sales=%{y}<extra></extra>",
           "legendgroup": "P004",
           "marker": {
            "color": "#FF6692",
            "pattern": {
             "shape": ""
            }
           },
           "name": "P004",
           "offsetgroup": "P004",
           "orientation": "v",
           "showlegend": true,
           "textposition": "auto",
           "type": "bar",
           "x": [
            "P004",
            "P004",
            "P004"
           ],
           "xaxis": "x",
           "y": [
            3497.8199999999997,
            65575.79,
            87920.8
           ],
           "yaxis": "y"
          },
          {
           "alignmentgroup": "True",
           "hovertemplate": "Product_id=%{x}<br>Date=2024-11-30 00:00:00<br>Cumulative Sales=%{y}<extra></extra>",
           "legendgroup": "P008",
           "marker": {
            "color": "#B6E880",
            "pattern": {
             "shape": ""
            }
           },
           "name": "P008",
           "offsetgroup": "P008",
           "orientation": "v",
           "showlegend": true,
           "textposition": "auto",
           "type": "bar",
           "x": [
            "P008",
            "P008"
           ],
           "xaxis": "x",
           "y": [
            60147.21,
            81569.49
           ],
           "yaxis": "y"
          }
         ],
         "name": "2024-11-30 00:00:00"
        },
        {
         "data": [
          {
           "alignmentgroup": "True",
           "hovertemplate": "Product_id=%{x}<br>Date=2024-11-17 00:00:00<br>Cumulative Sales=%{y}<extra></extra>",
           "legendgroup": "P002",
           "marker": {
            "color": "#636efa",
            "pattern": {
             "shape": ""
            }
           },
           "name": "P002",
           "offsetgroup": "P002",
           "orientation": "v",
           "showlegend": true,
           "textposition": "auto",
           "type": "bar",
           "x": [
            "P002",
            "P002",
            "P002",
            "P002",
            "P002",
            "P002",
            "P002"
           ],
           "xaxis": "x",
           "y": [
            33366.46,
            42026.7,
            42994.65,
            74822.02,
            84251.01,
            97422.6,
            155243.53
           ],
           "yaxis": "y"
          },
          {
           "alignmentgroup": "True",
           "hovertemplate": "Product_id=%{x}<br>Date=2024-11-17 00:00:00<br>Cumulative Sales=%{y}<extra></extra>",
           "legendgroup": "P005",
           "marker": {
            "color": "#EF553B",
            "pattern": {
             "shape": ""
            }
           },
           "name": "P005",
           "offsetgroup": "P005",
           "orientation": "v",
           "showlegend": true,
           "textposition": "auto",
           "type": "bar",
           "x": [
            "P005",
            "P005",
            "P005",
            "P005"
           ],
           "xaxis": "x",
           "y": [
            32905.64,
            38263.92,
            61787.51,
            68282.62
           ],
           "yaxis": "y"
          },
          {
           "alignmentgroup": "True",
           "hovertemplate": "Product_id=%{x}<br>Date=2024-11-17 00:00:00<br>Cumulative Sales=%{y}<extra></extra>",
           "legendgroup": "P007",
           "marker": {
            "color": "#00cc96",
            "pattern": {
             "shape": ""
            }
           },
           "name": "P007",
           "offsetgroup": "P007",
           "orientation": "v",
           "showlegend": true,
           "textposition": "auto",
           "type": "bar",
           "x": [
            "P007",
            "P007",
            "P007",
            "P007"
           ],
           "xaxis": "x",
           "y": [
            2169.44,
            28894.61,
            64085.35,
            72740.41
           ],
           "yaxis": "y"
          },
          {
           "alignmentgroup": "True",
           "hovertemplate": "Product_id=%{x}<br>Date=2024-11-17 00:00:00<br>Cumulative Sales=%{y}<extra></extra>",
           "legendgroup": "P001",
           "marker": {
            "color": "#ab63fa",
            "pattern": {
             "shape": ""
            }
           },
           "name": "P001",
           "offsetgroup": "P001",
           "orientation": "v",
           "showlegend": true,
           "textposition": "auto",
           "type": "bar",
           "x": [
            "P001"
           ],
           "xaxis": "x",
           "y": [
            49802.26
           ],
           "yaxis": "y"
          },
          {
           "alignmentgroup": "True",
           "hovertemplate": "Product_id=%{x}<br>Date=2024-11-17 00:00:00<br>Cumulative Sales=%{y}<extra></extra>",
           "legendgroup": "P003",
           "marker": {
            "color": "#FFA15A",
            "pattern": {
             "shape": ""
            }
           },
           "name": "P003",
           "offsetgroup": "P003",
           "orientation": "v",
           "showlegend": true,
           "textposition": "auto",
           "type": "bar",
           "x": [
            "P003",
            "P003",
            "P003",
            "P003"
           ],
           "xaxis": "x",
           "y": [
            11141.89,
            30439.34,
            47486.02,
            66722.3
           ],
           "yaxis": "y"
          },
          {
           "alignmentgroup": "True",
           "hovertemplate": "Product_id=%{x}<br>Date=2024-11-17 00:00:00<br>Cumulative Sales=%{y}<extra></extra>",
           "legendgroup": "P006",
           "marker": {
            "color": "#19d3f3",
            "pattern": {
             "shape": ""
            }
           },
           "name": "P006",
           "offsetgroup": "P006",
           "orientation": "v",
           "showlegend": true,
           "textposition": "auto",
           "type": "bar",
           "x": [
            "P006",
            "P006",
            "P006"
           ],
           "xaxis": "x",
           "y": [
            21500.29,
            85544.99,
            93834.73
           ],
           "yaxis": "y"
          },
          {
           "alignmentgroup": "True",
           "hovertemplate": "Product_id=%{x}<br>Date=2024-11-17 00:00:00<br>Cumulative Sales=%{y}<extra></extra>",
           "legendgroup": "P004",
           "marker": {
            "color": "#FF6692",
            "pattern": {
             "shape": ""
            }
           },
           "name": "P004",
           "offsetgroup": "P004",
           "orientation": "v",
           "showlegend": true,
           "textposition": "auto",
           "type": "bar",
           "x": [
            "P004",
            "P004"
           ],
           "xaxis": "x",
           "y": [
            32506.42,
            55594.1
           ],
           "yaxis": "y"
          },
          {
           "alignmentgroup": "True",
           "hovertemplate": "Product_id=%{x}<br>Date=2024-11-17 00:00:00<br>Cumulative Sales=%{y}<extra></extra>",
           "legendgroup": "P008",
           "marker": {
            "color": "#B6E880",
            "pattern": {
             "shape": ""
            }
           },
           "name": "P008",
           "offsetgroup": "P008",
           "orientation": "v",
           "showlegend": true,
           "textposition": "auto",
           "type": "bar",
           "x": [
            "P008",
            "P008",
            "P008",
            "P008",
            "P008"
           ],
           "xaxis": "x",
           "y": [
            12957.82,
            31520.14,
            53694.58,
            82383.16,
            85085.17
           ],
           "yaxis": "y"
          }
         ],
         "name": "2024-11-17 00:00:00"
        },
        {
         "data": [
          {
           "alignmentgroup": "True",
           "hovertemplate": "Product_id=%{x}<br>Date=2024-11-20 00:00:00<br>Cumulative Sales=%{y}<extra></extra>",
           "legendgroup": "P002",
           "marker": {
            "color": "#636efa",
            "pattern": {
             "shape": ""
            }
           },
           "name": "P002",
           "offsetgroup": "P002",
           "orientation": "v",
           "showlegend": true,
           "textposition": "auto",
           "type": "bar",
           "x": [
            "P002",
            "P002",
            "P002",
            "P002",
            "P002",
            "P002",
            "P002",
            "P002",
            "P002",
            "P002",
            "P002",
            "P002",
            "P002",
            "P002",
            "P002"
           ],
           "xaxis": "x",
           "y": [
            21544.27,
            45987.94,
            57625.54,
            69959.54,
            70427.06,
            114311.23,
            134504.84,
            138071.55,
            141722.59,
            144348.62,
            149833.21,
            151999.28,
            170120.66,
            176088.66,
            181697.5
           ],
           "yaxis": "y"
          },
          {
           "alignmentgroup": "True",
           "hovertemplate": "Product_id=%{x}<br>Date=2024-11-20 00:00:00<br>Cumulative Sales=%{y}<extra></extra>",
           "legendgroup": "P005",
           "marker": {
            "color": "#EF553B",
            "pattern": {
             "shape": ""
            }
           },
           "name": "P005",
           "offsetgroup": "P005",
           "orientation": "v",
           "showlegend": true,
           "textposition": "auto",
           "type": "bar",
           "x": [
            "P005",
            "P005",
            "P005",
            "P005"
           ],
           "xaxis": "x",
           "y": [
            13669.2,
            16557.47,
            24346.99,
            89234.73
           ],
           "yaxis": "y"
          },
          {
           "alignmentgroup": "True",
           "hovertemplate": "Product_id=%{x}<br>Date=2024-11-20 00:00:00<br>Cumulative Sales=%{y}<extra></extra>",
           "legendgroup": "P007",
           "marker": {
            "color": "#00cc96",
            "pattern": {
             "shape": ""
            }
           },
           "name": "P007",
           "offsetgroup": "P007",
           "orientation": "v",
           "showlegend": true,
           "textposition": "auto",
           "type": "bar",
           "x": [
            "P007",
            "P007",
            "P007"
           ],
           "xaxis": "x",
           "y": [
            27671.13,
            90272.47,
            91675.77
           ],
           "yaxis": "y"
          },
          {
           "alignmentgroup": "True",
           "hovertemplate": "Product_id=%{x}<br>Date=2024-11-20 00:00:00<br>Cumulative Sales=%{y}<extra></extra>",
           "legendgroup": "P001",
           "marker": {
            "color": "#ab63fa",
            "pattern": {
             "shape": ""
            }
           },
           "name": "P001",
           "offsetgroup": "P001",
           "orientation": "v",
           "showlegend": true,
           "textposition": "auto",
           "type": "bar",
           "x": [
            "P001",
            "P001"
           ],
           "xaxis": "x",
           "y": [
            13160.460000000001,
            14070.05
           ],
           "yaxis": "y"
          },
          {
           "alignmentgroup": "True",
           "hovertemplate": "Product_id=%{x}<br>Date=2024-11-20 00:00:00<br>Cumulative Sales=%{y}<extra></extra>",
           "legendgroup": "P003",
           "marker": {
            "color": "#FFA15A",
            "pattern": {
             "shape": ""
            }
           },
           "name": "P003",
           "offsetgroup": "P003",
           "orientation": "v",
           "showlegend": true,
           "textposition": "auto",
           "type": "bar",
           "x": [
            "P003",
            "P003",
            "P003",
            "P003",
            "P003"
           ],
           "xaxis": "x",
           "y": [
            2712.31,
            20405.04,
            22027.98,
            26564.86,
            76122.91
           ],
           "yaxis": "y"
          },
          {
           "alignmentgroup": "True",
           "hovertemplate": "Product_id=%{x}<br>Date=2024-11-20 00:00:00<br>Cumulative Sales=%{y}<extra></extra>",
           "legendgroup": "P004",
           "marker": {
            "color": "#FF6692",
            "pattern": {
             "shape": ""
            }
           },
           "name": "P004",
           "offsetgroup": "P004",
           "orientation": "v",
           "showlegend": true,
           "textposition": "auto",
           "type": "bar",
           "x": [
            "P004",
            "P004",
            "P004",
            "P004",
            "P004"
           ],
           "xaxis": "x",
           "y": [
            13241.6,
            36587.83,
            41184.6,
            57042.58,
            57856.25
           ],
           "yaxis": "y"
          },
          {
           "alignmentgroup": "True",
           "hovertemplate": "Product_id=%{x}<br>Date=2024-11-20 00:00:00<br>Cumulative Sales=%{y}<extra></extra>",
           "legendgroup": "P008",
           "marker": {
            "color": "#B6E880",
            "pattern": {
             "shape": ""
            }
           },
           "name": "P008",
           "offsetgroup": "P008",
           "orientation": "v",
           "showlegend": true,
           "textposition": "auto",
           "type": "bar",
           "x": [
            "P008",
            "P008"
           ],
           "xaxis": "x",
           "y": [
            30308.9,
            51444.69
           ],
           "yaxis": "y"
          }
         ],
         "name": "2024-11-20 00:00:00"
        },
        {
         "data": [
          {
           "alignmentgroup": "True",
           "hovertemplate": "Product_id=%{x}<br>Date=2024-11-29 00:00:00<br>Cumulative Sales=%{y}<extra></extra>",
           "legendgroup": "P002",
           "marker": {
            "color": "#636efa",
            "pattern": {
             "shape": ""
            }
           },
           "name": "P002",
           "offsetgroup": "P002",
           "orientation": "v",
           "showlegend": true,
           "textposition": "auto",
           "type": "bar",
           "x": [
            "P002",
            "P002",
            "P002"
           ],
           "xaxis": "x",
           "y": [
            32552.79,
            113847.36,
            180468.58
           ],
           "yaxis": "y"
          },
          {
           "alignmentgroup": "True",
           "hovertemplate": "Product_id=%{x}<br>Date=2024-11-29 00:00:00<br>Cumulative Sales=%{y}<extra></extra>",
           "legendgroup": "P005",
           "marker": {
            "color": "#EF553B",
            "pattern": {
             "shape": ""
            }
           },
           "name": "P005",
           "offsetgroup": "P005",
           "orientation": "v",
           "showlegend": true,
           "textposition": "auto",
           "type": "bar",
           "x": [
            "P005",
            "P005",
            "P005",
            "P005"
           ],
           "xaxis": "x",
           "y": [
            8855.87,
            13866.69,
            44162.44,
            54045.87
           ],
           "yaxis": "y"
          },
          {
           "alignmentgroup": "True",
           "hovertemplate": "Product_id=%{x}<br>Date=2024-11-29 00:00:00<br>Cumulative Sales=%{y}<extra></extra>",
           "legendgroup": "P007",
           "marker": {
            "color": "#00cc96",
            "pattern": {
             "shape": ""
            }
           },
           "name": "P007",
           "offsetgroup": "P007",
           "orientation": "v",
           "showlegend": true,
           "textposition": "auto",
           "type": "bar",
           "x": [
            "P007",
            "P007",
            "P007",
            "P007"
           ],
           "xaxis": "x",
           "y": [
            13978.26,
            25655.149999999998,
            37748.4,
            49957.29
           ],
           "yaxis": "y"
          },
          {
           "alignmentgroup": "True",
           "hovertemplate": "Product_id=%{x}<br>Date=2024-11-29 00:00:00<br>Cumulative Sales=%{y}<extra></extra>",
           "legendgroup": "P001",
           "marker": {
            "color": "#ab63fa",
            "pattern": {
             "shape": ""
            }
           },
           "name": "P001",
           "offsetgroup": "P001",
           "orientation": "v",
           "showlegend": true,
           "textposition": "auto",
           "type": "bar",
           "x": [
            "P001",
            "P001"
           ],
           "xaxis": "x",
           "y": [
            25288.2,
            63849.74
           ],
           "yaxis": "y"
          },
          {
           "alignmentgroup": "True",
           "hovertemplate": "Product_id=%{x}<br>Date=2024-11-29 00:00:00<br>Cumulative Sales=%{y}<extra></extra>",
           "legendgroup": "P003",
           "marker": {
            "color": "#FFA15A",
            "pattern": {
             "shape": ""
            }
           },
           "name": "P003",
           "offsetgroup": "P003",
           "orientation": "v",
           "showlegend": true,
           "textposition": "auto",
           "type": "bar",
           "x": [
            "P003",
            "P003",
            "P003",
            "P003"
           ],
           "xaxis": "x",
           "y": [
            3213.02,
            24056.93,
            67110.27,
            74855.7
           ],
           "yaxis": "y"
          },
          {
           "alignmentgroup": "True",
           "hovertemplate": "Product_id=%{x}<br>Date=2024-11-29 00:00:00<br>Cumulative Sales=%{y}<extra></extra>",
           "legendgroup": "P006",
           "marker": {
            "color": "#19d3f3",
            "pattern": {
             "shape": ""
            }
           },
           "name": "P006",
           "offsetgroup": "P006",
           "orientation": "v",
           "showlegend": true,
           "textposition": "auto",
           "type": "bar",
           "x": [
            "P006"
           ],
           "xaxis": "x",
           "y": [
            26755.4
           ],
           "yaxis": "y"
          },
          {
           "alignmentgroup": "True",
           "hovertemplate": "Product_id=%{x}<br>Date=2024-11-29 00:00:00<br>Cumulative Sales=%{y}<extra></extra>",
           "legendgroup": "P004",
           "marker": {
            "color": "#FF6692",
            "pattern": {
             "shape": ""
            }
           },
           "name": "P004",
           "offsetgroup": "P004",
           "orientation": "v",
           "showlegend": true,
           "textposition": "auto",
           "type": "bar",
           "x": [
            "P004",
            "P004",
            "P004",
            "P004"
           ],
           "xaxis": "x",
           "y": [
            53044.94,
            54592.97,
            59483.59,
            80028.68
           ],
           "yaxis": "y"
          },
          {
           "alignmentgroup": "True",
           "hovertemplate": "Product_id=%{x}<br>Date=2024-11-29 00:00:00<br>Cumulative Sales=%{y}<extra></extra>",
           "legendgroup": "P008",
           "marker": {
            "color": "#B6E880",
            "pattern": {
             "shape": ""
            }
           },
           "name": "P008",
           "offsetgroup": "P008",
           "orientation": "v",
           "showlegend": true,
           "textposition": "auto",
           "type": "bar",
           "x": [
            "P008",
            "P008",
            "P008",
            "P008",
            "P008",
            "P008"
           ],
           "xaxis": "x",
           "y": [
            5287.2300000000005,
            15388.01,
            20158.24,
            29365.86,
            50012.01,
            84271.5
           ],
           "yaxis": "y"
          }
         ],
         "name": "2024-11-29 00:00:00"
        },
        {
         "data": [
          {
           "alignmentgroup": "True",
           "hovertemplate": "Product_id=%{x}<br>Date=2024-11-14 00:00:00<br>Cumulative Sales=%{y}<extra></extra>",
           "legendgroup": "P002",
           "marker": {
            "color": "#636efa",
            "pattern": {
             "shape": ""
            }
           },
           "name": "P002",
           "offsetgroup": "P002",
           "orientation": "v",
           "showlegend": true,
           "textposition": "auto",
           "type": "bar",
           "x": [
            "P002",
            "P002",
            "P002",
            "P002",
            "P002"
           ],
           "xaxis": "x",
           "y": [
            64526.67,
            71810.91,
            106523.03,
            134220.38999999998,
            151657.3
           ],
           "yaxis": "y"
          },
          {
           "alignmentgroup": "True",
           "hovertemplate": "Product_id=%{x}<br>Date=2024-11-14 00:00:00<br>Cumulative Sales=%{y}<extra></extra>",
           "legendgroup": "P007",
           "marker": {
            "color": "#00cc96",
            "pattern": {
             "shape": ""
            }
           },
           "name": "P007",
           "offsetgroup": "P007",
           "orientation": "v",
           "showlegend": true,
           "textposition": "auto",
           "type": "bar",
           "x": [
            "P007",
            "P007",
            "P007",
            "P007"
           ],
           "xaxis": "x",
           "y": [
            12960.33,
            25319.46,
            33789.89,
            78692.06999999999
           ],
           "yaxis": "y"
          },
          {
           "alignmentgroup": "True",
           "hovertemplate": "Product_id=%{x}<br>Date=2024-11-14 00:00:00<br>Cumulative Sales=%{y}<extra></extra>",
           "legendgroup": "P001",
           "marker": {
            "color": "#ab63fa",
            "pattern": {
             "shape": ""
            }
           },
           "name": "P001",
           "offsetgroup": "P001",
           "orientation": "v",
           "showlegend": true,
           "textposition": "auto",
           "type": "bar",
           "x": [
            "P001",
            "P001",
            "P001",
            "P001",
            "P001"
           ],
           "xaxis": "x",
           "y": [
            18131.48,
            51807.19,
            56751.45,
            60188.38,
            64962.98
           ],
           "yaxis": "y"
          },
          {
           "alignmentgroup": "True",
           "hovertemplate": "Product_id=%{x}<br>Date=2024-11-14 00:00:00<br>Cumulative Sales=%{y}<extra></extra>",
           "legendgroup": "P003",
           "marker": {
            "color": "#FFA15A",
            "pattern": {
             "shape": ""
            }
           },
           "name": "P003",
           "offsetgroup": "P003",
           "orientation": "v",
           "showlegend": true,
           "textposition": "auto",
           "type": "bar",
           "x": [
            "P003",
            "P003",
            "P003",
            "P003",
            "P003"
           ],
           "xaxis": "x",
           "y": [
            4686.7,
            35575.55,
            56536.37,
            62464.81,
            70930.38
           ],
           "yaxis": "y"
          },
          {
           "alignmentgroup": "True",
           "hovertemplate": "Product_id=%{x}<br>Date=2024-11-14 00:00:00<br>Cumulative Sales=%{y}<extra></extra>",
           "legendgroup": "P006",
           "marker": {
            "color": "#19d3f3",
            "pattern": {
             "shape": ""
            }
           },
           "name": "P006",
           "offsetgroup": "P006",
           "orientation": "v",
           "showlegend": true,
           "textposition": "auto",
           "type": "bar",
           "x": [
            "P006",
            "P006",
            "P006",
            "P006",
            "P006",
            "P006",
            "P006",
            "P006"
           ],
           "xaxis": "x",
           "y": [
            30329.29,
            35101.65,
            37463.37,
            42558.7,
            48003.19,
            48926.04,
            52500.45,
            89836
           ],
           "yaxis": "y"
          },
          {
           "alignmentgroup": "True",
           "hovertemplate": "Product_id=%{x}<br>Date=2024-11-14 00:00:00<br>Cumulative Sales=%{y}<extra></extra>",
           "legendgroup": "P004",
           "marker": {
            "color": "#FF6692",
            "pattern": {
             "shape": ""
            }
           },
           "name": "P004",
           "offsetgroup": "P004",
           "orientation": "v",
           "showlegend": true,
           "textposition": "auto",
           "type": "bar",
           "x": [
            "P004",
            "P004"
           ],
           "xaxis": "x",
           "y": [
            21668.12,
            42144.94
           ],
           "yaxis": "y"
          },
          {
           "alignmentgroup": "True",
           "hovertemplate": "Product_id=%{x}<br>Date=2024-11-14 00:00:00<br>Cumulative Sales=%{y}<extra></extra>",
           "legendgroup": "P008",
           "marker": {
            "color": "#B6E880",
            "pattern": {
             "shape": ""
            }
           },
           "name": "P008",
           "offsetgroup": "P008",
           "orientation": "v",
           "showlegend": true,
           "textposition": "auto",
           "type": "bar",
           "x": [
            "P008",
            "P008"
           ],
           "xaxis": "x",
           "y": [
            24368.95,
            90311.56
           ],
           "yaxis": "y"
          }
         ],
         "name": "2024-11-14 00:00:00"
        },
        {
         "data": [
          {
           "alignmentgroup": "True",
           "hovertemplate": "Product_id=%{x}<br>Date=2024-11-05 00:00:00<br>Cumulative Sales=%{y}<extra></extra>",
           "legendgroup": "P002",
           "marker": {
            "color": "#636efa",
            "pattern": {
             "shape": ""
            }
           },
           "name": "P002",
           "offsetgroup": "P002",
           "orientation": "v",
           "showlegend": true,
           "textposition": "auto",
           "type": "bar",
           "x": [
            "P002",
            "P002",
            "P002",
            "P002",
            "P002",
            "P002"
           ],
           "xaxis": "x",
           "y": [
            30443.79,
            55951.33,
            82110.52,
            97316.54,
            98446.92,
            153670.36
           ],
           "yaxis": "y"
          },
          {
           "alignmentgroup": "True",
           "hovertemplate": "Product_id=%{x}<br>Date=2024-11-05 00:00:00<br>Cumulative Sales=%{y}<extra></extra>",
           "legendgroup": "P005",
           "marker": {
            "color": "#EF553B",
            "pattern": {
             "shape": ""
            }
           },
           "name": "P005",
           "offsetgroup": "P005",
           "orientation": "v",
           "showlegend": true,
           "textposition": "auto",
           "type": "bar",
           "x": [
            "P005",
            "P005",
            "P005",
            "P005",
            "P005",
            "P005",
            "P005"
           ],
           "xaxis": "x",
           "y": [
            2277.85,
            6825.53,
            28313.59,
            42088.48,
            47442.18,
            48811.7,
            87773.65
           ],
           "yaxis": "y"
          },
          {
           "alignmentgroup": "True",
           "hovertemplate": "Product_id=%{x}<br>Date=2024-11-05 00:00:00<br>Cumulative Sales=%{y}<extra></extra>",
           "legendgroup": "P007",
           "marker": {
            "color": "#00cc96",
            "pattern": {
             "shape": ""
            }
           },
           "name": "P007",
           "offsetgroup": "P007",
           "orientation": "v",
           "showlegend": true,
           "textposition": "auto",
           "type": "bar",
           "x": [
            "P007",
            "P007"
           ],
           "xaxis": "x",
           "y": [
            55644.43,
            86395.56
           ],
           "yaxis": "y"
          },
          {
           "alignmentgroup": "True",
           "hovertemplate": "Product_id=%{x}<br>Date=2024-11-05 00:00:00<br>Cumulative Sales=%{y}<extra></extra>",
           "legendgroup": "P001",
           "marker": {
            "color": "#ab63fa",
            "pattern": {
             "shape": ""
            }
           },
           "name": "P001",
           "offsetgroup": "P001",
           "orientation": "v",
           "showlegend": true,
           "textposition": "auto",
           "type": "bar",
           "x": [
            "P001",
            "P001",
            "P001",
            "P001"
           ],
           "xaxis": "x",
           "y": [
            11445.49,
            30402.09,
            45778.39,
            64149.31
           ],
           "yaxis": "y"
          },
          {
           "alignmentgroup": "True",
           "hovertemplate": "Product_id=%{x}<br>Date=2024-11-05 00:00:00<br>Cumulative Sales=%{y}<extra></extra>",
           "legendgroup": "P006",
           "marker": {
            "color": "#19d3f3",
            "pattern": {
             "shape": ""
            }
           },
           "name": "P006",
           "offsetgroup": "P006",
           "orientation": "v",
           "showlegend": true,
           "textposition": "auto",
           "type": "bar",
           "x": [
            "P006",
            "P006"
           ],
           "xaxis": "x",
           "y": [
            62602.96,
            78499.06999999999
           ],
           "yaxis": "y"
          },
          {
           "alignmentgroup": "True",
           "hovertemplate": "Product_id=%{x}<br>Date=2024-11-05 00:00:00<br>Cumulative Sales=%{y}<extra></extra>",
           "legendgroup": "P004",
           "marker": {
            "color": "#FF6692",
            "pattern": {
             "shape": ""
            }
           },
           "name": "P004",
           "offsetgroup": "P004",
           "orientation": "v",
           "showlegend": true,
           "textposition": "auto",
           "type": "bar",
           "x": [
            "P004",
            "P004"
           ],
           "xaxis": "x",
           "y": [
            49134.54,
            94593.04
           ],
           "yaxis": "y"
          },
          {
           "alignmentgroup": "True",
           "hovertemplate": "Product_id=%{x}<br>Date=2024-11-05 00:00:00<br>Cumulative Sales=%{y}<extra></extra>",
           "legendgroup": "P008",
           "marker": {
            "color": "#B6E880",
            "pattern": {
             "shape": ""
            }
           },
           "name": "P008",
           "offsetgroup": "P008",
           "orientation": "v",
           "showlegend": true,
           "textposition": "auto",
           "type": "bar",
           "x": [
            "P008",
            "P008",
            "P008",
            "P008",
            "P008",
            "P008"
           ],
           "xaxis": "x",
           "y": [
            10016.960000000001,
            22057.88,
            31373.260000000002,
            59223.13,
            66750.14,
            78955.16
           ],
           "yaxis": "y"
          }
         ],
         "name": "2024-11-05 00:00:00"
        },
        {
         "data": [
          {
           "alignmentgroup": "True",
           "hovertemplate": "Product_id=%{x}<br>Date=2024-11-25 00:00:00<br>Cumulative Sales=%{y}<extra></extra>",
           "legendgroup": "P002",
           "marker": {
            "color": "#636efa",
            "pattern": {
             "shape": ""
            }
           },
           "name": "P002",
           "offsetgroup": "P002",
           "orientation": "v",
           "showlegend": true,
           "textposition": "auto",
           "type": "bar",
           "x": [
            "P002",
            "P002",
            "P002",
            "P002"
           ],
           "xaxis": "x",
           "y": [
            9743.64,
            23334.579999999998,
            124315.48,
            171540.57
           ],
           "yaxis": "y"
          },
          {
           "alignmentgroup": "True",
           "hovertemplate": "Product_id=%{x}<br>Date=2024-11-25 00:00:00<br>Cumulative Sales=%{y}<extra></extra>",
           "legendgroup": "P005",
           "marker": {
            "color": "#EF553B",
            "pattern": {
             "shape": ""
            }
           },
           "name": "P005",
           "offsetgroup": "P005",
           "orientation": "v",
           "showlegend": true,
           "textposition": "auto",
           "type": "bar",
           "x": [
            "P005",
            "P005",
            "P005",
            "P005"
           ],
           "xaxis": "x",
           "y": [
            22830.75,
            33688.37,
            60973.84,
            64338.3
           ],
           "yaxis": "y"
          },
          {
           "alignmentgroup": "True",
           "hovertemplate": "Product_id=%{x}<br>Date=2024-11-25 00:00:00<br>Cumulative Sales=%{y}<extra></extra>",
           "legendgroup": "P007",
           "marker": {
            "color": "#00cc96",
            "pattern": {
             "shape": ""
            }
           },
           "name": "P007",
           "offsetgroup": "P007",
           "orientation": "v",
           "showlegend": true,
           "textposition": "auto",
           "type": "bar",
           "x": [
            "P007",
            "P007",
            "P007",
            "P007"
           ],
           "xaxis": "x",
           "y": [
            17430.989999999998,
            24434.11,
            60723.27,
            87767.32
           ],
           "yaxis": "y"
          },
          {
           "alignmentgroup": "True",
           "hovertemplate": "Product_id=%{x}<br>Date=2024-11-25 00:00:00<br>Cumulative Sales=%{y}<extra></extra>",
           "legendgroup": "P001",
           "marker": {
            "color": "#ab63fa",
            "pattern": {
             "shape": ""
            }
           },
           "name": "P001",
           "offsetgroup": "P001",
           "orientation": "v",
           "showlegend": true,
           "textposition": "auto",
           "type": "bar",
           "x": [
            "P001"
           ],
           "xaxis": "x",
           "y": [
            27547.43
           ],
           "yaxis": "y"
          },
          {
           "alignmentgroup": "True",
           "hovertemplate": "Product_id=%{x}<br>Date=2024-11-25 00:00:00<br>Cumulative Sales=%{y}<extra></extra>",
           "legendgroup": "P003",
           "marker": {
            "color": "#FFA15A",
            "pattern": {
             "shape": ""
            }
           },
           "name": "P003",
           "offsetgroup": "P003",
           "orientation": "v",
           "showlegend": true,
           "textposition": "auto",
           "type": "bar",
           "x": [
            "P003",
            "P003",
            "P003"
           ],
           "xaxis": "x",
           "y": [
            37768.85,
            45988.52,
            73185.1
           ],
           "yaxis": "y"
          },
          {
           "alignmentgroup": "True",
           "hovertemplate": "Product_id=%{x}<br>Date=2024-11-25 00:00:00<br>Cumulative Sales=%{y}<extra></extra>",
           "legendgroup": "P006",
           "marker": {
            "color": "#19d3f3",
            "pattern": {
             "shape": ""
            }
           },
           "name": "P006",
           "offsetgroup": "P006",
           "orientation": "v",
           "showlegend": true,
           "textposition": "auto",
           "type": "bar",
           "x": [
            "P006",
            "P006",
            "P006"
           ],
           "xaxis": "x",
           "y": [
            25824.34,
            34381.87,
            58805.159999999996
           ],
           "yaxis": "y"
          },
          {
           "alignmentgroup": "True",
           "hovertemplate": "Product_id=%{x}<br>Date=2024-11-25 00:00:00<br>Cumulative Sales=%{y}<extra></extra>",
           "legendgroup": "P004",
           "marker": {
            "color": "#FF6692",
            "pattern": {
             "shape": ""
            }
           },
           "name": "P004",
           "offsetgroup": "P004",
           "orientation": "v",
           "showlegend": true,
           "textposition": "auto",
           "type": "bar",
           "x": [
            "P004",
            "P004",
            "P004"
           ],
           "xaxis": "x",
           "y": [
            868.24,
            40632.51,
            70015.93
           ],
           "yaxis": "y"
          },
          {
           "alignmentgroup": "True",
           "hovertemplate": "Product_id=%{x}<br>Date=2024-11-25 00:00:00<br>Cumulative Sales=%{y}<extra></extra>",
           "legendgroup": "P008",
           "marker": {
            "color": "#B6E880",
            "pattern": {
             "shape": ""
            }
           },
           "name": "P008",
           "offsetgroup": "P008",
           "orientation": "v",
           "showlegend": true,
           "textposition": "auto",
           "type": "bar",
           "x": [
            "P008",
            "P008",
            "P008"
           ],
           "xaxis": "x",
           "y": [
            16828.61,
            18649.6,
            80058.92
           ],
           "yaxis": "y"
          }
         ],
         "name": "2024-11-25 00:00:00"
        },
        {
         "data": [
          {
           "alignmentgroup": "True",
           "hovertemplate": "Product_id=%{x}<br>Date=2024-11-23 00:00:00<br>Cumulative Sales=%{y}<extra></extra>",
           "legendgroup": "P002",
           "marker": {
            "color": "#636efa",
            "pattern": {
             "shape": ""
            }
           },
           "name": "P002",
           "offsetgroup": "P002",
           "orientation": "v",
           "showlegend": true,
           "textposition": "auto",
           "type": "bar",
           "x": [
            "P002",
            "P002",
            "P002",
            "P002",
            "P002",
            "P002",
            "P002"
           ],
           "xaxis": "x",
           "y": [
            2466.37,
            20071.94,
            36186.9,
            67675.39,
            128016.39,
            143220.95,
            169184.7
           ],
           "yaxis": "y"
          },
          {
           "alignmentgroup": "True",
           "hovertemplate": "Product_id=%{x}<br>Date=2024-11-23 00:00:00<br>Cumulative Sales=%{y}<extra></extra>",
           "legendgroup": "P005",
           "marker": {
            "color": "#EF553B",
            "pattern": {
             "shape": ""
            }
           },
           "name": "P005",
           "offsetgroup": "P005",
           "orientation": "v",
           "showlegend": true,
           "textposition": "auto",
           "type": "bar",
           "x": [
            "P005",
            "P005",
            "P005",
            "P005"
           ],
           "xaxis": "x",
           "y": [
            11027.39,
            46161.08,
            57017.97,
            81094.87
           ],
           "yaxis": "y"
          },
          {
           "alignmentgroup": "True",
           "hovertemplate": "Product_id=%{x}<br>Date=2024-11-23 00:00:00<br>Cumulative Sales=%{y}<extra></extra>",
           "legendgroup": "P007",
           "marker": {
            "color": "#00cc96",
            "pattern": {
             "shape": ""
            }
           },
           "name": "P007",
           "offsetgroup": "P007",
           "orientation": "v",
           "showlegend": true,
           "textposition": "auto",
           "type": "bar",
           "x": [
            "P007",
            "P007",
            "P007",
            "P007",
            "P007"
           ],
           "xaxis": "x",
           "y": [
            76559.7,
            79964.45,
            80178.22,
            86952.6,
            87243.87
           ],
           "yaxis": "y"
          },
          {
           "alignmentgroup": "True",
           "hovertemplate": "Product_id=%{x}<br>Date=2024-11-23 00:00:00<br>Cumulative Sales=%{y}<extra></extra>",
           "legendgroup": "P001",
           "marker": {
            "color": "#ab63fa",
            "pattern": {
             "shape": ""
            }
           },
           "name": "P001",
           "offsetgroup": "P001",
           "orientation": "v",
           "showlegend": true,
           "textposition": "auto",
           "type": "bar",
           "x": [
            "P001"
           ],
           "xaxis": "x",
           "y": [
            62806.24
           ],
           "yaxis": "y"
          },
          {
           "alignmentgroup": "True",
           "hovertemplate": "Product_id=%{x}<br>Date=2024-11-23 00:00:00<br>Cumulative Sales=%{y}<extra></extra>",
           "legendgroup": "P003",
           "marker": {
            "color": "#FFA15A",
            "pattern": {
             "shape": ""
            }
           },
           "name": "P003",
           "offsetgroup": "P003",
           "orientation": "v",
           "showlegend": true,
           "textposition": "auto",
           "type": "bar",
           "x": [
            "P003",
            "P003",
            "P003",
            "P003",
            "P003"
           ],
           "xaxis": "x",
           "y": [
            56847.63,
            62639.21,
            68156.61,
            71430.64,
            79107.94
           ],
           "yaxis": "y"
          },
          {
           "alignmentgroup": "True",
           "hovertemplate": "Product_id=%{x}<br>Date=2024-11-23 00:00:00<br>Cumulative Sales=%{y}<extra></extra>",
           "legendgroup": "P006",
           "marker": {
            "color": "#19d3f3",
            "pattern": {
             "shape": ""
            }
           },
           "name": "P006",
           "offsetgroup": "P006",
           "orientation": "v",
           "showlegend": true,
           "textposition": "auto",
           "type": "bar",
           "x": [
            "P006",
            "P006",
            "P006",
            "P006"
           ],
           "xaxis": "x",
           "y": [
            24389.24,
            40996.44,
            72575.66,
            81234.98
           ],
           "yaxis": "y"
          },
          {
           "alignmentgroup": "True",
           "hovertemplate": "Product_id=%{x}<br>Date=2024-11-23 00:00:00<br>Cumulative Sales=%{y}<extra></extra>",
           "legendgroup": "P004",
           "marker": {
            "color": "#FF6692",
            "pattern": {
             "shape": ""
            }
           },
           "name": "P004",
           "offsetgroup": "P004",
           "orientation": "v",
           "showlegend": true,
           "textposition": "auto",
           "type": "bar",
           "x": [
            "P004",
            "P004",
            "P004",
            "P004"
           ],
           "xaxis": "x",
           "y": [
            9270.66,
            14570.82,
            33707.51,
            91027.51
           ],
           "yaxis": "y"
          },
          {
           "alignmentgroup": "True",
           "hovertemplate": "Product_id=%{x}<br>Date=2024-11-23 00:00:00<br>Cumulative Sales=%{y}<extra></extra>",
           "legendgroup": "P008",
           "marker": {
            "color": "#B6E880",
            "pattern": {
             "shape": ""
            }
           },
           "name": "P008",
           "offsetgroup": "P008",
           "orientation": "v",
           "showlegend": true,
           "textposition": "auto",
           "type": "bar",
           "x": [
            "P008"
           ],
           "xaxis": "x",
           "y": [
            77290.2
           ],
           "yaxis": "y"
          }
         ],
         "name": "2024-11-23 00:00:00"
        },
        {
         "data": [
          {
           "alignmentgroup": "True",
           "hovertemplate": "Product_id=%{x}<br>Date=2024-11-15 00:00:00<br>Cumulative Sales=%{y}<extra></extra>",
           "legendgroup": "P002",
           "marker": {
            "color": "#636efa",
            "pattern": {
             "shape": ""
            }
           },
           "name": "P002",
           "offsetgroup": "P002",
           "orientation": "v",
           "showlegend": true,
           "textposition": "auto",
           "type": "bar",
           "x": [
            "P002",
            "P002",
            "P002",
            "P002",
            "P002",
            "P002"
           ],
           "xaxis": "x",
           "y": [
            7536.639999999999,
            49627.39,
            56515.75,
            82974.15,
            132834.2,
            138877.81
           ],
           "yaxis": "y"
          },
          {
           "alignmentgroup": "True",
           "hovertemplate": "Product_id=%{x}<br>Date=2024-11-15 00:00:00<br>Cumulative Sales=%{y}<extra></extra>",
           "legendgroup": "P005",
           "marker": {
            "color": "#EF553B",
            "pattern": {
             "shape": ""
            }
           },
           "name": "P005",
           "offsetgroup": "P005",
           "orientation": "v",
           "showlegend": true,
           "textposition": "auto",
           "type": "bar",
           "x": [
            "P005",
            "P005"
           ],
           "xaxis": "x",
           "y": [
            51491.73,
            77522.92
           ],
           "yaxis": "y"
          },
          {
           "alignmentgroup": "True",
           "hovertemplate": "Product_id=%{x}<br>Date=2024-11-15 00:00:00<br>Cumulative Sales=%{y}<extra></extra>",
           "legendgroup": "P007",
           "marker": {
            "color": "#00cc96",
            "pattern": {
             "shape": ""
            }
           },
           "name": "P007",
           "offsetgroup": "P007",
           "orientation": "v",
           "showlegend": true,
           "textposition": "auto",
           "type": "bar",
           "x": [
            "P007",
            "P007",
            "P007"
           ],
           "xaxis": "x",
           "y": [
            3487.2999999999997,
            35833.41,
            72942.88
           ],
           "yaxis": "y"
          },
          {
           "alignmentgroup": "True",
           "hovertemplate": "Product_id=%{x}<br>Date=2024-11-15 00:00:00<br>Cumulative Sales=%{y}<extra></extra>",
           "legendgroup": "P001",
           "marker": {
            "color": "#ab63fa",
            "pattern": {
             "shape": ""
            }
           },
           "name": "P001",
           "offsetgroup": "P001",
           "orientation": "v",
           "showlegend": true,
           "textposition": "auto",
           "type": "bar",
           "x": [
            "P001",
            "P001",
            "P001",
            "P001",
            "P001"
           ],
           "xaxis": "x",
           "y": [
            7456.8,
            30220.75,
            32547.57,
            58815.87,
            66593.91
           ],
           "yaxis": "y"
          },
          {
           "alignmentgroup": "True",
           "hovertemplate": "Product_id=%{x}<br>Date=2024-11-15 00:00:00<br>Cumulative Sales=%{y}<extra></extra>",
           "legendgroup": "P003",
           "marker": {
            "color": "#FFA15A",
            "pattern": {
             "shape": ""
            }
           },
           "name": "P003",
           "offsetgroup": "P003",
           "orientation": "v",
           "showlegend": true,
           "textposition": "auto",
           "type": "bar",
           "x": [
            "P003"
           ],
           "xaxis": "x",
           "y": [
            23241.11
           ],
           "yaxis": "y"
          },
          {
           "alignmentgroup": "True",
           "hovertemplate": "Product_id=%{x}<br>Date=2024-11-15 00:00:00<br>Cumulative Sales=%{y}<extra></extra>",
           "legendgroup": "P006",
           "marker": {
            "color": "#19d3f3",
            "pattern": {
             "shape": ""
            }
           },
           "name": "P006",
           "offsetgroup": "P006",
           "orientation": "v",
           "showlegend": true,
           "textposition": "auto",
           "type": "bar",
           "x": [
            "P006",
            "P006"
           ],
           "xaxis": "x",
           "y": [
            1896.44,
            24901.22
           ],
           "yaxis": "y"
          },
          {
           "alignmentgroup": "True",
           "hovertemplate": "Product_id=%{x}<br>Date=2024-11-15 00:00:00<br>Cumulative Sales=%{y}<extra></extra>",
           "legendgroup": "P004",
           "marker": {
            "color": "#FF6692",
            "pattern": {
             "shape": ""
            }
           },
           "name": "P004",
           "offsetgroup": "P004",
           "orientation": "v",
           "showlegend": true,
           "textposition": "auto",
           "type": "bar",
           "x": [
            "P004",
            "P004",
            "P004"
           ],
           "xaxis": "x",
           "y": [
            55732.64,
            90646.04,
            97190.41
           ],
           "yaxis": "y"
          },
          {
           "alignmentgroup": "True",
           "hovertemplate": "Product_id=%{x}<br>Date=2024-11-15 00:00:00<br>Cumulative Sales=%{y}<extra></extra>",
           "legendgroup": "P008",
           "marker": {
            "color": "#B6E880",
            "pattern": {
             "shape": ""
            }
           },
           "name": "P008",
           "offsetgroup": "P008",
           "orientation": "v",
           "showlegend": true,
           "textposition": "auto",
           "type": "bar",
           "x": [
            "P008",
            "P008",
            "P008"
           ],
           "xaxis": "x",
           "y": [
            2731.88,
            7877.46,
            39801.86
           ],
           "yaxis": "y"
          }
         ],
         "name": "2024-11-15 00:00:00"
        },
        {
         "data": [
          {
           "alignmentgroup": "True",
           "hovertemplate": "Product_id=%{x}<br>Date=2024-11-16 00:00:00<br>Cumulative Sales=%{y}<extra></extra>",
           "legendgroup": "P002",
           "marker": {
            "color": "#636efa",
            "pattern": {
             "shape": ""
            }
           },
           "name": "P002",
           "offsetgroup": "P002",
           "orientation": "v",
           "showlegend": true,
           "textposition": "auto",
           "type": "bar",
           "x": [
            "P002",
            "P002",
            "P002",
            "P002"
           ],
           "xaxis": "x",
           "y": [
            72543.28,
            83163.39,
            131736.65,
            183169.49
           ],
           "yaxis": "y"
          },
          {
           "alignmentgroup": "True",
           "hovertemplate": "Product_id=%{x}<br>Date=2024-11-16 00:00:00<br>Cumulative Sales=%{y}<extra></extra>",
           "legendgroup": "P005",
           "marker": {
            "color": "#EF553B",
            "pattern": {
             "shape": ""
            }
           },
           "name": "P005",
           "offsetgroup": "P005",
           "orientation": "v",
           "showlegend": true,
           "textposition": "auto",
           "type": "bar",
           "x": [
            "P005",
            "P005"
           ],
           "xaxis": "x",
           "y": [
            6248.35,
            19943.57
           ],
           "yaxis": "y"
          },
          {
           "alignmentgroup": "True",
           "hovertemplate": "Product_id=%{x}<br>Date=2024-11-16 00:00:00<br>Cumulative Sales=%{y}<extra></extra>",
           "legendgroup": "P007",
           "marker": {
            "color": "#00cc96",
            "pattern": {
             "shape": ""
            }
           },
           "name": "P007",
           "offsetgroup": "P007",
           "orientation": "v",
           "showlegend": true,
           "textposition": "auto",
           "type": "bar",
           "x": [
            "P007",
            "P007",
            "P007",
            "P007"
           ],
           "xaxis": "x",
           "y": [
            3703.0699999999997,
            14893.75,
            39942.43,
            84911.7
           ],
           "yaxis": "y"
          },
          {
           "alignmentgroup": "True",
           "hovertemplate": "Product_id=%{x}<br>Date=2024-11-16 00:00:00<br>Cumulative Sales=%{y}<extra></extra>",
           "legendgroup": "P001",
           "marker": {
            "color": "#ab63fa",
            "pattern": {
             "shape": ""
            }
           },
           "name": "P001",
           "offsetgroup": "P001",
           "orientation": "v",
           "showlegend": true,
           "textposition": "auto",
           "type": "bar",
           "x": [
            "P001",
            "P001"
           ],
           "xaxis": "x",
           "y": [
            54500.08,
            57888.03
           ],
           "yaxis": "y"
          },
          {
           "alignmentgroup": "True",
           "hovertemplate": "Product_id=%{x}<br>Date=2024-11-16 00:00:00<br>Cumulative Sales=%{y}<extra></extra>",
           "legendgroup": "P003",
           "marker": {
            "color": "#FFA15A",
            "pattern": {
             "shape": ""
            }
           },
           "name": "P003",
           "offsetgroup": "P003",
           "orientation": "v",
           "showlegend": true,
           "textposition": "auto",
           "type": "bar",
           "x": [
            "P003"
           ],
           "xaxis": "x",
           "y": [
            51600.55
           ],
           "yaxis": "y"
          },
          {
           "alignmentgroup": "True",
           "hovertemplate": "Product_id=%{x}<br>Date=2024-11-16 00:00:00<br>Cumulative Sales=%{y}<extra></extra>",
           "legendgroup": "P006",
           "marker": {
            "color": "#19d3f3",
            "pattern": {
             "shape": ""
            }
           },
           "name": "P006",
           "offsetgroup": "P006",
           "orientation": "v",
           "showlegend": true,
           "textposition": "auto",
           "type": "bar",
           "x": [
            "P006"
           ],
           "xaxis": "x",
           "y": [
            83760.91
           ],
           "yaxis": "y"
          },
          {
           "alignmentgroup": "True",
           "hovertemplate": "Product_id=%{x}<br>Date=2024-11-16 00:00:00<br>Cumulative Sales=%{y}<extra></extra>",
           "legendgroup": "P004",
           "marker": {
            "color": "#FF6692",
            "pattern": {
             "shape": ""
            }
           },
           "name": "P004",
           "offsetgroup": "P004",
           "orientation": "v",
           "showlegend": true,
           "textposition": "auto",
           "type": "bar",
           "x": [
            "P004",
            "P004",
            "P004",
            "P004",
            "P004",
            "P004"
           ],
           "xaxis": "x",
           "y": [
            10280.22,
            12272.61,
            47244.659999999996,
            70187.5,
            74495.91,
            94214.02
           ],
           "yaxis": "y"
          },
          {
           "alignmentgroup": "True",
           "hovertemplate": "Product_id=%{x}<br>Date=2024-11-16 00:00:00<br>Cumulative Sales=%{y}<extra></extra>",
           "legendgroup": "P008",
           "marker": {
            "color": "#B6E880",
            "pattern": {
             "shape": ""
            }
           },
           "name": "P008",
           "offsetgroup": "P008",
           "orientation": "v",
           "showlegend": true,
           "textposition": "auto",
           "type": "bar",
           "x": [
            "P008",
            "P008",
            "P008",
            "P008"
           ],
           "xaxis": "x",
           "y": [
            18080.510000000002,
            27705.65,
            41288.68,
            75784.08
           ],
           "yaxis": "y"
          }
         ],
         "name": "2024-11-16 00:00:00"
        },
        {
         "data": [
          {
           "alignmentgroup": "True",
           "hovertemplate": "Product_id=%{x}<br>Date=2024-11-02 00:00:00<br>Cumulative Sales=%{y}<extra></extra>",
           "legendgroup": "P002",
           "marker": {
            "color": "#636efa",
            "pattern": {
             "shape": ""
            }
           },
           "name": "P002",
           "offsetgroup": "P002",
           "orientation": "v",
           "showlegend": true,
           "textposition": "auto",
           "type": "bar",
           "x": [
            "P002",
            "P002",
            "P002",
            "P002",
            "P002"
           ],
           "xaxis": "x",
           "y": [
            104895.69,
            110439.43,
            125409.94,
            145841.49,
            174508.69
           ],
           "yaxis": "y"
          },
          {
           "alignmentgroup": "True",
           "hovertemplate": "Product_id=%{x}<br>Date=2024-11-02 00:00:00<br>Cumulative Sales=%{y}<extra></extra>",
           "legendgroup": "P005",
           "marker": {
            "color": "#EF553B",
            "pattern": {
             "shape": ""
            }
           },
           "name": "P005",
           "offsetgroup": "P005",
           "orientation": "v",
           "showlegend": true,
           "textposition": "auto",
           "type": "bar",
           "x": [
            "P005",
            "P005",
            "P005"
           ],
           "xaxis": "x",
           "y": [
            46315.36,
            60007.93,
            66793.57
           ],
           "yaxis": "y"
          },
          {
           "alignmentgroup": "True",
           "hovertemplate": "Product_id=%{x}<br>Date=2024-11-02 00:00:00<br>Cumulative Sales=%{y}<extra></extra>",
           "legendgroup": "P007",
           "marker": {
            "color": "#00cc96",
            "pattern": {
             "shape": ""
            }
           },
           "name": "P007",
           "offsetgroup": "P007",
           "orientation": "v",
           "showlegend": true,
           "textposition": "auto",
           "type": "bar",
           "x": [
            "P007",
            "P007",
            "P007",
            "P007"
           ],
           "xaxis": "x",
           "y": [
            4192.0199999999995,
            71926.74,
            83893.05,
            88442.36
           ],
           "yaxis": "y"
          },
          {
           "alignmentgroup": "True",
           "hovertemplate": "Product_id=%{x}<br>Date=2024-11-02 00:00:00<br>Cumulative Sales=%{y}<extra></extra>",
           "legendgroup": "P001",
           "marker": {
            "color": "#ab63fa",
            "pattern": {
             "shape": ""
            }
           },
           "name": "P001",
           "offsetgroup": "P001",
           "orientation": "v",
           "showlegend": true,
           "textposition": "auto",
           "type": "bar",
           "x": [
            "P001",
            "P001",
            "P001"
           ],
           "xaxis": "x",
           "y": [
            3131.06,
            17572.010000000002,
            44198.68
           ],
           "yaxis": "y"
          },
          {
           "alignmentgroup": "True",
           "hovertemplate": "Product_id=%{x}<br>Date=2024-11-02 00:00:00<br>Cumulative Sales=%{y}<extra></extra>",
           "legendgroup": "P003",
           "marker": {
            "color": "#FFA15A",
            "pattern": {
             "shape": ""
            }
           },
           "name": "P003",
           "offsetgroup": "P003",
           "orientation": "v",
           "showlegend": true,
           "textposition": "auto",
           "type": "bar",
           "x": [
            "P003",
            "P003",
            "P003",
            "P003"
           ],
           "xaxis": "x",
           "y": [
            21585.69,
            33946.42,
            47662.89,
            77319.31
           ],
           "yaxis": "y"
          },
          {
           "alignmentgroup": "True",
           "hovertemplate": "Product_id=%{x}<br>Date=2024-11-02 00:00:00<br>Cumulative Sales=%{y}<extra></extra>",
           "legendgroup": "P006",
           "marker": {
            "color": "#19d3f3",
            "pattern": {
             "shape": ""
            }
           },
           "name": "P006",
           "offsetgroup": "P006",
           "orientation": "v",
           "showlegend": true,
           "textposition": "auto",
           "type": "bar",
           "x": [
            "P006",
            "P006",
            "P006",
            "P006",
            "P006"
           ],
           "xaxis": "x",
           "y": [
            5090.16,
            45704.29,
            54372,
            83254,
            91078.78
           ],
           "yaxis": "y"
          },
          {
           "alignmentgroup": "True",
           "hovertemplate": "Product_id=%{x}<br>Date=2024-11-02 00:00:00<br>Cumulative Sales=%{y}<extra></extra>",
           "legendgroup": "P004",
           "marker": {
            "color": "#FF6692",
            "pattern": {
             "shape": ""
            }
           },
           "name": "P004",
           "offsetgroup": "P004",
           "orientation": "v",
           "showlegend": true,
           "textposition": "auto",
           "type": "bar",
           "x": [
            "P004",
            "P004",
            "P004"
           ],
           "xaxis": "x",
           "y": [
            39547.35,
            77699.41,
            89546.12
           ],
           "yaxis": "y"
          },
          {
           "alignmentgroup": "True",
           "hovertemplate": "Product_id=%{x}<br>Date=2024-11-02 00:00:00<br>Cumulative Sales=%{y}<extra></extra>",
           "legendgroup": "P008",
           "marker": {
            "color": "#B6E880",
            "pattern": {
             "shape": ""
            }
           },
           "name": "P008",
           "offsetgroup": "P008",
           "orientation": "v",
           "showlegend": true,
           "textposition": "auto",
           "type": "bar",
           "x": [
            "P008",
            "P008"
           ],
           "xaxis": "x",
           "y": [
            19932.07,
            83217.34
           ],
           "yaxis": "y"
          }
         ],
         "name": "2024-11-02 00:00:00"
        },
        {
         "data": [
          {
           "alignmentgroup": "True",
           "hovertemplate": "Product_id=%{x}<br>Date=2024-12-01 00:00:00<br>Cumulative Sales=%{y}<extra></extra>",
           "legendgroup": "P002",
           "marker": {
            "color": "#636efa",
            "pattern": {
             "shape": ""
            }
           },
           "name": "P002",
           "offsetgroup": "P002",
           "orientation": "v",
           "showlegend": true,
           "textposition": "auto",
           "type": "bar",
           "x": [
            "P002",
            "P002",
            "P002",
            "P002",
            "P002",
            "P002",
            "P002"
           ],
           "xaxis": "x",
           "y": [
            5020.29,
            54510.42,
            62464.049999999996,
            68670.18,
            148872.74,
            161035.11,
            163703.21
           ],
           "yaxis": "y"
          },
          {
           "alignmentgroup": "True",
           "hovertemplate": "Product_id=%{x}<br>Date=2024-12-01 00:00:00<br>Cumulative Sales=%{y}<extra></extra>",
           "legendgroup": "P005",
           "marker": {
            "color": "#EF553B",
            "pattern": {
             "shape": ""
            }
           },
           "name": "P005",
           "offsetgroup": "P005",
           "orientation": "v",
           "showlegend": true,
           "textposition": "auto",
           "type": "bar",
           "x": [
            "P005",
            "P005",
            "P005"
           ],
           "xaxis": "x",
           "y": [
            63241.09,
            76709.25,
            79058.9
           ],
           "yaxis": "y"
          },
          {
           "alignmentgroup": "True",
           "hovertemplate": "Product_id=%{x}<br>Date=2024-12-01 00:00:00<br>Cumulative Sales=%{y}<extra></extra>",
           "legendgroup": "P007",
           "marker": {
            "color": "#00cc96",
            "pattern": {
             "shape": ""
            }
           },
           "name": "P007",
           "offsetgroup": "P007",
           "orientation": "v",
           "showlegend": true,
           "textposition": "auto",
           "type": "bar",
           "x": [
            "P007"
           ],
           "xaxis": "x",
           "y": [
            23620.44
           ],
           "yaxis": "y"
          },
          {
           "alignmentgroup": "True",
           "hovertemplate": "Product_id=%{x}<br>Date=2024-12-01 00:00:00<br>Cumulative Sales=%{y}<extra></extra>",
           "legendgroup": "P001",
           "marker": {
            "color": "#ab63fa",
            "pattern": {
             "shape": ""
            }
           },
           "name": "P001",
           "offsetgroup": "P001",
           "orientation": "v",
           "showlegend": true,
           "textposition": "auto",
           "type": "bar",
           "x": [
            "P001",
            "P001",
            "P001"
           ],
           "xaxis": "x",
           "y": [
            24363.83,
            29004.93,
            46416.96
           ],
           "yaxis": "y"
          },
          {
           "alignmentgroup": "True",
           "hovertemplate": "Product_id=%{x}<br>Date=2024-12-01 00:00:00<br>Cumulative Sales=%{y}<extra></extra>",
           "legendgroup": "P003",
           "marker": {
            "color": "#FFA15A",
            "pattern": {
             "shape": ""
            }
           },
           "name": "P003",
           "offsetgroup": "P003",
           "orientation": "v",
           "showlegend": true,
           "textposition": "auto",
           "type": "bar",
           "x": [
            "P003",
            "P003"
           ],
           "xaxis": "x",
           "y": [
            7856.12,
            44826.45
           ],
           "yaxis": "y"
          },
          {
           "alignmentgroup": "True",
           "hovertemplate": "Product_id=%{x}<br>Date=2024-12-01 00:00:00<br>Cumulative Sales=%{y}<extra></extra>",
           "legendgroup": "P004",
           "marker": {
            "color": "#FF6692",
            "pattern": {
             "shape": ""
            }
           },
           "name": "P004",
           "offsetgroup": "P004",
           "orientation": "v",
           "showlegend": true,
           "textposition": "auto",
           "type": "bar",
           "x": [
            "P004",
            "P004",
            "P004"
           ],
           "xaxis": "x",
           "y": [
            52062.79,
            66327.39,
            76690.42
           ],
           "yaxis": "y"
          },
          {
           "alignmentgroup": "True",
           "hovertemplate": "Product_id=%{x}<br>Date=2024-12-01 00:00:00<br>Cumulative Sales=%{y}<extra></extra>",
           "legendgroup": "P008",
           "marker": {
            "color": "#B6E880",
            "pattern": {
             "shape": ""
            }
           },
           "name": "P008",
           "offsetgroup": "P008",
           "orientation": "v",
           "showlegend": true,
           "textposition": "auto",
           "type": "bar",
           "x": [
            "P008",
            "P008",
            "P008",
            "P008"
           ],
           "xaxis": "x",
           "y": [
            34326.28,
            43348.4,
            56907.98,
            89497.89
           ],
           "yaxis": "y"
          }
         ],
         "name": "2024-12-01 00:00:00"
        },
        {
         "data": [
          {
           "alignmentgroup": "True",
           "hovertemplate": "Product_id=%{x}<br>Date=2024-11-27 00:00:00<br>Cumulative Sales=%{y}<extra></extra>",
           "legendgroup": "P002",
           "marker": {
            "color": "#636efa",
            "pattern": {
             "shape": ""
            }
           },
           "name": "P002",
           "offsetgroup": "P002",
           "orientation": "v",
           "showlegend": true,
           "textposition": "auto",
           "type": "bar",
           "x": [
            "P002",
            "P002",
            "P002",
            "P002",
            "P002",
            "P002",
            "P002"
           ],
           "xaxis": "x",
           "y": [
            5405.5199999999995,
            24725.29,
            37642.979999999996,
            78336.77,
            115715.67,
            126655.83,
            187429.98
           ],
           "yaxis": "y"
          },
          {
           "alignmentgroup": "True",
           "hovertemplate": "Product_id=%{x}<br>Date=2024-11-27 00:00:00<br>Cumulative Sales=%{y}<extra></extra>",
           "legendgroup": "P005",
           "marker": {
            "color": "#EF553B",
            "pattern": {
             "shape": ""
            }
           },
           "name": "P005",
           "offsetgroup": "P005",
           "orientation": "v",
           "showlegend": true,
           "textposition": "auto",
           "type": "bar",
           "x": [
            "P005",
            "P005"
           ],
           "xaxis": "x",
           "y": [
            40739.26,
            88842.93
           ],
           "yaxis": "y"
          },
          {
           "alignmentgroup": "True",
           "hovertemplate": "Product_id=%{x}<br>Date=2024-11-27 00:00:00<br>Cumulative Sales=%{y}<extra></extra>",
           "legendgroup": "P007",
           "marker": {
            "color": "#00cc96",
            "pattern": {
             "shape": ""
            }
           },
           "name": "P007",
           "offsetgroup": "P007",
           "orientation": "v",
           "showlegend": true,
           "textposition": "auto",
           "type": "bar",
           "x": [
            "P007",
            "P007",
            "P007",
            "P007"
           ],
           "xaxis": "x",
           "y": [
            9088.06,
            52288.13,
            54379.16,
            55301.02
           ],
           "yaxis": "y"
          },
          {
           "alignmentgroup": "True",
           "hovertemplate": "Product_id=%{x}<br>Date=2024-11-27 00:00:00<br>Cumulative Sales=%{y}<extra></extra>",
           "legendgroup": "P001",
           "marker": {
            "color": "#ab63fa",
            "pattern": {
             "shape": ""
            }
           },
           "name": "P001",
           "offsetgroup": "P001",
           "orientation": "v",
           "showlegend": true,
           "textposition": "auto",
           "type": "bar",
           "x": [
            "P001",
            "P001",
            "P001",
            "P001",
            "P001"
           ],
           "xaxis": "x",
           "y": [
            2595.16,
            10166.81,
            15618.68,
            32257.63,
            43205.28
           ],
           "yaxis": "y"
          },
          {
           "alignmentgroup": "True",
           "hovertemplate": "Product_id=%{x}<br>Date=2024-11-27 00:00:00<br>Cumulative Sales=%{y}<extra></extra>",
           "legendgroup": "P003",
           "marker": {
            "color": "#FFA15A",
            "pattern": {
             "shape": ""
            }
           },
           "name": "P003",
           "offsetgroup": "P003",
           "orientation": "v",
           "showlegend": true,
           "textposition": "auto",
           "type": "bar",
           "x": [
            "P003",
            "P003",
            "P003",
            "P003",
            "P003",
            "P003"
           ],
           "xaxis": "x",
           "y": [
            41268.67,
            43921.51,
            54703.07,
            60841.82,
            72286.05,
            78109.41
           ],
           "yaxis": "y"
          },
          {
           "alignmentgroup": "True",
           "hovertemplate": "Product_id=%{x}<br>Date=2024-11-27 00:00:00<br>Cumulative Sales=%{y}<extra></extra>",
           "legendgroup": "P006",
           "marker": {
            "color": "#19d3f3",
            "pattern": {
             "shape": ""
            }
           },
           "name": "P006",
           "offsetgroup": "P006",
           "orientation": "v",
           "showlegend": true,
           "textposition": "auto",
           "type": "bar",
           "x": [
            "P006",
            "P006",
            "P006",
            "P006",
            "P006",
            "P006",
            "P006"
           ],
           "xaxis": "x",
           "y": [
            13991.01,
            18098.03,
            23506.94,
            31031.48,
            36043.51,
            71448.9,
            82440.33
           ],
           "yaxis": "y"
          },
          {
           "alignmentgroup": "True",
           "hovertemplate": "Product_id=%{x}<br>Date=2024-11-27 00:00:00<br>Cumulative Sales=%{y}<extra></extra>",
           "legendgroup": "P004",
           "marker": {
            "color": "#FF6692",
            "pattern": {
             "shape": ""
            }
           },
           "name": "P004",
           "offsetgroup": "P004",
           "orientation": "v",
           "showlegend": true,
           "textposition": "auto",
           "type": "bar",
           "x": [
            "P004",
            "P004",
            "P004",
            "P004",
            "P004",
            "P004"
           ],
           "xaxis": "x",
           "y": [
            24991.01,
            28473.81,
            48143.83,
            54211.729999999996,
            69526.08,
            70912.65
           ],
           "yaxis": "y"
          },
          {
           "alignmentgroup": "True",
           "hovertemplate": "Product_id=%{x}<br>Date=2024-11-27 00:00:00<br>Cumulative Sales=%{y}<extra></extra>",
           "legendgroup": "P008",
           "marker": {
            "color": "#B6E880",
            "pattern": {
             "shape": ""
            }
           },
           "name": "P008",
           "offsetgroup": "P008",
           "orientation": "v",
           "showlegend": true,
           "textposition": "auto",
           "type": "bar",
           "x": [
            "P008",
            "P008",
            "P008",
            "P008",
            "P008"
           ],
           "xaxis": "x",
           "y": [
            23284.59,
            66922.3,
            69961.8,
            85765.2,
            88985.7
           ],
           "yaxis": "y"
          }
         ],
         "name": "2024-11-27 00:00:00"
        },
        {
         "data": [
          {
           "alignmentgroup": "True",
           "hovertemplate": "Product_id=%{x}<br>Date=2024-11-06 00:00:00<br>Cumulative Sales=%{y}<extra></extra>",
           "legendgroup": "P002",
           "marker": {
            "color": "#636efa",
            "pattern": {
             "shape": ""
            }
           },
           "name": "P002",
           "offsetgroup": "P002",
           "orientation": "v",
           "showlegend": true,
           "textposition": "auto",
           "type": "bar",
           "x": [
            "P002",
            "P002",
            "P002",
            "P002",
            "P002",
            "P002",
            "P002",
            "P002"
           ],
           "xaxis": "x",
           "y": [
            9530.95,
            11241.13,
            13152.89,
            81289.23,
            94150.42,
            118622.9,
            137257.88,
            178671.29
           ],
           "yaxis": "y"
          },
          {
           "alignmentgroup": "True",
           "hovertemplate": "Product_id=%{x}<br>Date=2024-11-06 00:00:00<br>Cumulative Sales=%{y}<extra></extra>",
           "legendgroup": "P005",
           "marker": {
            "color": "#EF553B",
            "pattern": {
             "shape": ""
            }
           },
           "name": "P005",
           "offsetgroup": "P005",
           "orientation": "v",
           "showlegend": true,
           "textposition": "auto",
           "type": "bar",
           "x": [
            "P005",
            "P005",
            "P005"
           ],
           "xaxis": "x",
           "y": [
            2716.26,
            5733.12,
            18684.16
           ],
           "yaxis": "y"
          },
          {
           "alignmentgroup": "True",
           "hovertemplate": "Product_id=%{x}<br>Date=2024-11-06 00:00:00<br>Cumulative Sales=%{y}<extra></extra>",
           "legendgroup": "P007",
           "marker": {
            "color": "#00cc96",
            "pattern": {
             "shape": ""
            }
           },
           "name": "P007",
           "offsetgroup": "P007",
           "orientation": "v",
           "showlegend": true,
           "textposition": "auto",
           "type": "bar",
           "x": [
            "P007",
            "P007",
            "P007",
            "P007",
            "P007"
           ],
           "xaxis": "x",
           "y": [
            8102.7699999999995,
            42072.15,
            54941.35,
            71111.03,
            81569.11
           ],
           "yaxis": "y"
          },
          {
           "alignmentgroup": "True",
           "hovertemplate": "Product_id=%{x}<br>Date=2024-11-06 00:00:00<br>Cumulative Sales=%{y}<extra></extra>",
           "legendgroup": "P001",
           "marker": {
            "color": "#ab63fa",
            "pattern": {
             "shape": ""
            }
           },
           "name": "P001",
           "offsetgroup": "P001",
           "orientation": "v",
           "showlegend": true,
           "textposition": "auto",
           "type": "bar",
           "x": [
            "P001"
           ],
           "xaxis": "x",
           "y": [
            39028.27
           ],
           "yaxis": "y"
          },
          {
           "alignmentgroup": "True",
           "hovertemplate": "Product_id=%{x}<br>Date=2024-11-06 00:00:00<br>Cumulative Sales=%{y}<extra></extra>",
           "legendgroup": "P003",
           "marker": {
            "color": "#FFA15A",
            "pattern": {
             "shape": ""
            }
           },
           "name": "P003",
           "offsetgroup": "P003",
           "orientation": "v",
           "showlegend": true,
           "textposition": "auto",
           "type": "bar",
           "x": [
            "P003"
           ],
           "xaxis": "x",
           "y": [
            66086.53
           ],
           "yaxis": "y"
          },
          {
           "alignmentgroup": "True",
           "hovertemplate": "Product_id=%{x}<br>Date=2024-11-06 00:00:00<br>Cumulative Sales=%{y}<extra></extra>",
           "legendgroup": "P006",
           "marker": {
            "color": "#19d3f3",
            "pattern": {
             "shape": ""
            }
           },
           "name": "P006",
           "offsetgroup": "P006",
           "orientation": "v",
           "showlegend": true,
           "textposition": "auto",
           "type": "bar",
           "x": [
            "P006"
           ],
           "xaxis": "x",
           "y": [
            76236.4
           ],
           "yaxis": "y"
          },
          {
           "alignmentgroup": "True",
           "hovertemplate": "Product_id=%{x}<br>Date=2024-11-06 00:00:00<br>Cumulative Sales=%{y}<extra></extra>",
           "legendgroup": "P004",
           "marker": {
            "color": "#FF6692",
            "pattern": {
             "shape": ""
            }
           },
           "name": "P004",
           "offsetgroup": "P004",
           "orientation": "v",
           "showlegend": true,
           "textposition": "auto",
           "type": "bar",
           "x": [
            "P004",
            "P004"
           ],
           "xaxis": "x",
           "y": [
            52231.27,
            81484.51
           ],
           "yaxis": "y"
          },
          {
           "alignmentgroup": "True",
           "hovertemplate": "Product_id=%{x}<br>Date=2024-11-06 00:00:00<br>Cumulative Sales=%{y}<extra></extra>",
           "legendgroup": "P008",
           "marker": {
            "color": "#B6E880",
            "pattern": {
             "shape": ""
            }
           },
           "name": "P008",
           "offsetgroup": "P008",
           "orientation": "v",
           "showlegend": true,
           "textposition": "auto",
           "type": "bar",
           "x": [
            "P008",
            "P008",
            "P008"
           ],
           "xaxis": "x",
           "y": [
            5769.32,
            14755.79,
            33359.08
           ],
           "yaxis": "y"
          }
         ],
         "name": "2024-11-06 00:00:00"
        },
        {
         "data": [
          {
           "alignmentgroup": "True",
           "hovertemplate": "Product_id=%{x}<br>Date=2024-11-10 00:00:00<br>Cumulative Sales=%{y}<extra></extra>",
           "legendgroup": "P002",
           "marker": {
            "color": "#636efa",
            "pattern": {
             "shape": ""
            }
           },
           "name": "P002",
           "offsetgroup": "P002",
           "orientation": "v",
           "showlegend": true,
           "textposition": "auto",
           "type": "bar",
           "x": [
            "P002",
            "P002",
            "P002",
            "P002",
            "P002",
            "P002",
            "P002"
           ],
           "xaxis": "x",
           "y": [
            12114.05,
            79422.19,
            86030.01,
            91933.33,
            100966.79,
            160714.07,
            176902.33
           ],
           "yaxis": "y"
          },
          {
           "alignmentgroup": "True",
           "hovertemplate": "Product_id=%{x}<br>Date=2024-11-10 00:00:00<br>Cumulative Sales=%{y}<extra></extra>",
           "legendgroup": "P005",
           "marker": {
            "color": "#EF553B",
            "pattern": {
             "shape": ""
            }
           },
           "name": "P005",
           "offsetgroup": "P005",
           "orientation": "v",
           "showlegend": true,
           "textposition": "auto",
           "type": "bar",
           "x": [
            "P005",
            "P005"
           ],
           "xaxis": "x",
           "y": [
            59162.51,
            70933.35
           ],
           "yaxis": "y"
          },
          {
           "alignmentgroup": "True",
           "hovertemplate": "Product_id=%{x}<br>Date=2024-11-10 00:00:00<br>Cumulative Sales=%{y}<extra></extra>",
           "legendgroup": "P007",
           "marker": {
            "color": "#00cc96",
            "pattern": {
             "shape": ""
            }
           },
           "name": "P007",
           "offsetgroup": "P007",
           "orientation": "v",
           "showlegend": true,
           "textposition": "auto",
           "type": "bar",
           "x": [
            "P007"
           ],
           "xaxis": "x",
           "y": [
            59488.06
           ],
           "yaxis": "y"
          },
          {
           "alignmentgroup": "True",
           "hovertemplate": "Product_id=%{x}<br>Date=2024-11-10 00:00:00<br>Cumulative Sales=%{y}<extra></extra>",
           "legendgroup": "P001",
           "marker": {
            "color": "#ab63fa",
            "pattern": {
             "shape": ""
            }
           },
           "name": "P001",
           "offsetgroup": "P001",
           "orientation": "v",
           "showlegend": true,
           "textposition": "auto",
           "type": "bar",
           "x": [
            "P001",
            "P001",
            "P001"
           ],
           "xaxis": "x",
           "y": [
            33854.6,
            41659.9,
            66344.15
           ],
           "yaxis": "y"
          },
          {
           "alignmentgroup": "True",
           "hovertemplate": "Product_id=%{x}<br>Date=2024-11-10 00:00:00<br>Cumulative Sales=%{y}<extra></extra>",
           "legendgroup": "P003",
           "marker": {
            "color": "#FFA15A",
            "pattern": {
             "shape": ""
            }
           },
           "name": "P003",
           "offsetgroup": "P003",
           "orientation": "v",
           "showlegend": true,
           "textposition": "auto",
           "type": "bar",
           "x": [
            "P003",
            "P003",
            "P003"
           ],
           "xaxis": "x",
           "y": [
            32297.87,
            48247.99,
            50740.7
           ],
           "yaxis": "y"
          },
          {
           "alignmentgroup": "True",
           "hovertemplate": "Product_id=%{x}<br>Date=2024-11-10 00:00:00<br>Cumulative Sales=%{y}<extra></extra>",
           "legendgroup": "P006",
           "marker": {
            "color": "#19d3f3",
            "pattern": {
             "shape": ""
            }
           },
           "name": "P006",
           "offsetgroup": "P006",
           "orientation": "v",
           "showlegend": true,
           "textposition": "auto",
           "type": "bar",
           "x": [
            "P006",
            "P006",
            "P006"
           ],
           "xaxis": "x",
           "y": [
            14804.68,
            53397.71,
            69056.44
           ],
           "yaxis": "y"
          },
          {
           "alignmentgroup": "True",
           "hovertemplate": "Product_id=%{x}<br>Date=2024-11-10 00:00:00<br>Cumulative Sales=%{y}<extra></extra>",
           "legendgroup": "P004",
           "marker": {
            "color": "#FF6692",
            "pattern": {
             "shape": ""
            }
           },
           "name": "P004",
           "offsetgroup": "P004",
           "orientation": "v",
           "showlegend": true,
           "textposition": "auto",
           "type": "bar",
           "x": [
            "P004",
            "P004",
            "P004",
            "P004"
           ],
           "xaxis": "x",
           "y": [
            7451.44,
            30547.09,
            43860.43,
            61258.65
           ],
           "yaxis": "y"
          },
          {
           "alignmentgroup": "True",
           "hovertemplate": "Product_id=%{x}<br>Date=2024-11-10 00:00:00<br>Cumulative Sales=%{y}<extra></extra>",
           "legendgroup": "P008",
           "marker": {
            "color": "#B6E880",
            "pattern": {
             "shape": ""
            }
           },
           "name": "P008",
           "offsetgroup": "P008",
           "orientation": "v",
           "showlegend": true,
           "textposition": "auto",
           "type": "bar",
           "x": [
            "P008",
            "P008",
            "P008",
            "P008",
            "P008"
           ],
           "xaxis": "x",
           "y": [
            818.48,
            13672.67,
            48087.3,
            68184.89,
            91488.09
           ],
           "yaxis": "y"
          }
         ],
         "name": "2024-11-10 00:00:00"
        },
        {
         "data": [
          {
           "alignmentgroup": "True",
           "hovertemplate": "Product_id=%{x}<br>Date=2024-11-22 00:00:00<br>Cumulative Sales=%{y}<extra></extra>",
           "legendgroup": "P002",
           "marker": {
            "color": "#636efa",
            "pattern": {
             "shape": ""
            }
           },
           "name": "P002",
           "offsetgroup": "P002",
           "orientation": "v",
           "showlegend": true,
           "textposition": "auto",
           "type": "bar",
           "x": [
            "P002",
            "P002",
            "P002",
            "P002",
            "P002",
            "P002",
            "P002",
            "P002",
            "P002"
           ],
           "xaxis": "x",
           "y": [
            6722.969999999999,
            26028.79,
            43161.299999999996,
            65898.19,
            114902,
            135676.98,
            143544.3,
            154429.86,
            179257.21
           ],
           "yaxis": "y"
          },
          {
           "alignmentgroup": "True",
           "hovertemplate": "Product_id=%{x}<br>Date=2024-11-22 00:00:00<br>Cumulative Sales=%{y}<extra></extra>",
           "legendgroup": "P005",
           "marker": {
            "color": "#EF553B",
            "pattern": {
             "shape": ""
            }
           },
           "name": "P005",
           "offsetgroup": "P005",
           "orientation": "v",
           "showlegend": true,
           "textposition": "auto",
           "type": "bar",
           "x": [
            "P005",
            "P005"
           ],
           "xaxis": "x",
           "y": [
            37450.25,
            86706.59
           ],
           "yaxis": "y"
          },
          {
           "alignmentgroup": "True",
           "hovertemplate": "Product_id=%{x}<br>Date=2024-11-22 00:00:00<br>Cumulative Sales=%{y}<extra></extra>",
           "legendgroup": "P007",
           "marker": {
            "color": "#00cc96",
            "pattern": {
             "shape": ""
            }
           },
           "name": "P007",
           "offsetgroup": "P007",
           "orientation": "v",
           "showlegend": true,
           "textposition": "auto",
           "type": "bar",
           "x": [
            "P007"
           ],
           "xaxis": "x",
           "y": [
            67746.03
           ],
           "yaxis": "y"
          },
          {
           "alignmentgroup": "True",
           "hovertemplate": "Product_id=%{x}<br>Date=2024-11-22 00:00:00<br>Cumulative Sales=%{y}<extra></extra>",
           "legendgroup": "P001",
           "marker": {
            "color": "#ab63fa",
            "pattern": {
             "shape": ""
            }
           },
           "name": "P001",
           "offsetgroup": "P001",
           "orientation": "v",
           "showlegend": true,
           "textposition": "auto",
           "type": "bar",
           "x": [
            "P001",
            "P001"
           ],
           "xaxis": "x",
           "y": [
            28421.56,
            37555.94
           ],
           "yaxis": "y"
          },
          {
           "alignmentgroup": "True",
           "hovertemplate": "Product_id=%{x}<br>Date=2024-11-22 00:00:00<br>Cumulative Sales=%{y}<extra></extra>",
           "legendgroup": "P003",
           "marker": {
            "color": "#FFA15A",
            "pattern": {
             "shape": ""
            }
           },
           "name": "P003",
           "offsetgroup": "P003",
           "orientation": "v",
           "showlegend": true,
           "textposition": "auto",
           "type": "bar",
           "x": [
            "P003"
           ],
           "xaxis": "x",
           "y": [
            73517.4
           ],
           "yaxis": "y"
          },
          {
           "alignmentgroup": "True",
           "hovertemplate": "Product_id=%{x}<br>Date=2024-11-22 00:00:00<br>Cumulative Sales=%{y}<extra></extra>",
           "legendgroup": "P006",
           "marker": {
            "color": "#19d3f3",
            "pattern": {
             "shape": ""
            }
           },
           "name": "P006",
           "offsetgroup": "P006",
           "orientation": "v",
           "showlegend": true,
           "textposition": "auto",
           "type": "bar",
           "x": [
            "P006",
            "P006",
            "P006"
           ],
           "xaxis": "x",
           "y": [
            2710.11,
            10403.26,
            13256.119999999999
           ],
           "yaxis": "y"
          },
          {
           "alignmentgroup": "True",
           "hovertemplate": "Product_id=%{x}<br>Date=2024-11-22 00:00:00<br>Cumulative Sales=%{y}<extra></extra>",
           "legendgroup": "P004",
           "marker": {
            "color": "#FF6692",
            "pattern": {
             "shape": ""
            }
           },
           "name": "P004",
           "offsetgroup": "P004",
           "orientation": "v",
           "showlegend": true,
           "textposition": "auto",
           "type": "bar",
           "x": [
            "P004",
            "P004",
            "P004",
            "P004",
            "P004"
           ],
           "xaxis": "x",
           "y": [
            8569.15,
            20429.42,
            44674.1,
            84592.64,
            88933.76
           ],
           "yaxis": "y"
          },
          {
           "alignmentgroup": "True",
           "hovertemplate": "Product_id=%{x}<br>Date=2024-11-22 00:00:00<br>Cumulative Sales=%{y}<extra></extra>",
           "legendgroup": "P008",
           "marker": {
            "color": "#B6E880",
            "pattern": {
             "shape": ""
            }
           },
           "name": "P008",
           "offsetgroup": "P008",
           "orientation": "v",
           "showlegend": true,
           "textposition": "auto",
           "type": "bar",
           "x": [
            "P008",
            "P008",
            "P008",
            "P008"
           ],
           "xaxis": "x",
           "y": [
            12327.3,
            54989.3,
            61191.44,
            76076.25
           ],
           "yaxis": "y"
          }
         ],
         "name": "2024-11-22 00:00:00"
        },
        {
         "data": [
          {
           "alignmentgroup": "True",
           "hovertemplate": "Product_id=%{x}<br>Date=2024-11-28 00:00:00<br>Cumulative Sales=%{y}<extra></extra>",
           "legendgroup": "P002",
           "marker": {
            "color": "#636efa",
            "pattern": {
             "shape": ""
            }
           },
           "name": "P002",
           "offsetgroup": "P002",
           "orientation": "v",
           "showlegend": true,
           "textposition": "auto",
           "type": "bar",
           "x": [
            "P002",
            "P002",
            "P002",
            "P002",
            "P002",
            "P002",
            "P002",
            "P002",
            "P002",
            "P002",
            "P002",
            "P002"
           ],
           "xaxis": "x",
           "y": [
            13947.66,
            17925.18,
            20645.77,
            28240.53,
            52990.82,
            63713,
            85593.54,
            117982.25,
            122807.42,
            139043.07,
            165199.91,
            166079.88999999998
           ],
           "yaxis": "y"
          },
          {
           "alignmentgroup": "True",
           "hovertemplate": "Product_id=%{x}<br>Date=2024-11-28 00:00:00<br>Cumulative Sales=%{y}<extra></extra>",
           "legendgroup": "P005",
           "marker": {
            "color": "#EF553B",
            "pattern": {
             "shape": ""
            }
           },
           "name": "P005",
           "offsetgroup": "P005",
           "orientation": "v",
           "showlegend": true,
           "textposition": "auto",
           "type": "bar",
           "x": [
            "P005",
            "P005",
            "P005",
            "P005",
            "P005"
           ],
           "xaxis": "x",
           "y": [
            12220.54,
            27102.4,
            45613.58,
            55783.42,
            58158.27
           ],
           "yaxis": "y"
          },
          {
           "alignmentgroup": "True",
           "hovertemplate": "Product_id=%{x}<br>Date=2024-11-28 00:00:00<br>Cumulative Sales=%{y}<extra></extra>",
           "legendgroup": "P007",
           "marker": {
            "color": "#00cc96",
            "pattern": {
             "shape": ""
            }
           },
           "name": "P007",
           "offsetgroup": "P007",
           "orientation": "v",
           "showlegend": true,
           "textposition": "auto",
           "type": "bar",
           "x": [
            "P007",
            "P007",
            "P007"
           ],
           "xaxis": "x",
           "y": [
            21746.73,
            31263.35,
            31885.92
           ],
           "yaxis": "y"
          },
          {
           "alignmentgroup": "True",
           "hovertemplate": "Product_id=%{x}<br>Date=2024-11-28 00:00:00<br>Cumulative Sales=%{y}<extra></extra>",
           "legendgroup": "P001",
           "marker": {
            "color": "#ab63fa",
            "pattern": {
             "shape": ""
            }
           },
           "name": "P001",
           "offsetgroup": "P001",
           "orientation": "v",
           "showlegend": true,
           "textposition": "auto",
           "type": "bar",
           "x": [
            "P001",
            "P001",
            "P001",
            "P001"
           ],
           "xaxis": "x",
           "y": [
            12773.16,
            21527.48,
            29468.99,
            60579.62
           ],
           "yaxis": "y"
          },
          {
           "alignmentgroup": "True",
           "hovertemplate": "Product_id=%{x}<br>Date=2024-11-28 00:00:00<br>Cumulative Sales=%{y}<extra></extra>",
           "legendgroup": "P003",
           "marker": {
            "color": "#FFA15A",
            "pattern": {
             "shape": ""
            }
           },
           "name": "P003",
           "offsetgroup": "P003",
           "orientation": "v",
           "showlegend": true,
           "textposition": "auto",
           "type": "bar",
           "x": [
            "P003",
            "P003",
            "P003",
            "P003"
           ],
           "xaxis": "x",
           "y": [
            18454.49,
            29236.73,
            34976.86,
            69977.4
           ],
           "yaxis": "y"
          },
          {
           "alignmentgroup": "True",
           "hovertemplate": "Product_id=%{x}<br>Date=2024-11-28 00:00:00<br>Cumulative Sales=%{y}<extra></extra>",
           "legendgroup": "P006",
           "marker": {
            "color": "#19d3f3",
            "pattern": {
             "shape": ""
            }
           },
           "name": "P006",
           "offsetgroup": "P006",
           "orientation": "v",
           "showlegend": true,
           "textposition": "auto",
           "type": "bar",
           "x": [
            "P006",
            "P006",
            "P006",
            "P006",
            "P006",
            "P006"
           ],
           "xaxis": "x",
           "y": [
            19646.02,
            32173.329999999998,
            32917.12,
            40776.33,
            70451.86,
            84733.79
           ],
           "yaxis": "y"
          },
          {
           "alignmentgroup": "True",
           "hovertemplate": "Product_id=%{x}<br>Date=2024-11-28 00:00:00<br>Cumulative Sales=%{y}<extra></extra>",
           "legendgroup": "P004",
           "marker": {
            "color": "#FF6692",
            "pattern": {
             "shape": ""
            }
           },
           "name": "P004",
           "offsetgroup": "P004",
           "orientation": "v",
           "showlegend": true,
           "textposition": "auto",
           "type": "bar",
           "x": [
            "P004",
            "P004"
           ],
           "xaxis": "x",
           "y": [
            1705.37,
            11907.56
           ],
           "yaxis": "y"
          },
          {
           "alignmentgroup": "True",
           "hovertemplate": "Product_id=%{x}<br>Date=2024-11-28 00:00:00<br>Cumulative Sales=%{y}<extra></extra>",
           "legendgroup": "P008",
           "marker": {
            "color": "#B6E880",
            "pattern": {
             "shape": ""
            }
           },
           "name": "P008",
           "offsetgroup": "P008",
           "orientation": "v",
           "showlegend": true,
           "textposition": "auto",
           "type": "bar",
           "x": [
            "P008"
           ],
           "xaxis": "x",
           "y": [
            90953.52
           ],
           "yaxis": "y"
          }
         ],
         "name": "2024-11-28 00:00:00"
        },
        {
         "data": [
          {
           "alignmentgroup": "True",
           "hovertemplate": "Product_id=%{x}<br>Date=2024-11-13 00:00:00<br>Cumulative Sales=%{y}<extra></extra>",
           "legendgroup": "P002",
           "marker": {
            "color": "#636efa",
            "pattern": {
             "shape": ""
            }
           },
           "name": "P002",
           "offsetgroup": "P002",
           "orientation": "v",
           "showlegend": true,
           "textposition": "auto",
           "type": "bar",
           "x": [
            "P002",
            "P002",
            "P002",
            "P002"
           ],
           "xaxis": "x",
           "y": [
            25723.62,
            61401.06,
            73248.45999999999,
            107505.19
           ],
           "yaxis": "y"
          },
          {
           "alignmentgroup": "True",
           "hovertemplate": "Product_id=%{x}<br>Date=2024-11-13 00:00:00<br>Cumulative Sales=%{y}<extra></extra>",
           "legendgroup": "P005",
           "marker": {
            "color": "#EF553B",
            "pattern": {
             "shape": ""
            }
           },
           "name": "P005",
           "offsetgroup": "P005",
           "orientation": "v",
           "showlegend": true,
           "textposition": "auto",
           "type": "bar",
           "x": [
            "P005",
            "P005"
           ],
           "xaxis": "x",
           "y": [
            43001.45,
            82581.95
           ],
           "yaxis": "y"
          },
          {
           "alignmentgroup": "True",
           "hovertemplate": "Product_id=%{x}<br>Date=2024-11-13 00:00:00<br>Cumulative Sales=%{y}<extra></extra>",
           "legendgroup": "P007",
           "marker": {
            "color": "#00cc96",
            "pattern": {
             "shape": ""
            }
           },
           "name": "P007",
           "offsetgroup": "P007",
           "orientation": "v",
           "showlegend": true,
           "textposition": "auto",
           "type": "bar",
           "x": [
            "P007",
            "P007",
            "P007"
           ],
           "xaxis": "x",
           "y": [
            51080.2,
            65155.93,
            75659.2
           ],
           "yaxis": "y"
          },
          {
           "alignmentgroup": "True",
           "hovertemplate": "Product_id=%{x}<br>Date=2024-11-13 00:00:00<br>Cumulative Sales=%{y}<extra></extra>",
           "legendgroup": "P001",
           "marker": {
            "color": "#ab63fa",
            "pattern": {
             "shape": ""
            }
           },
           "name": "P001",
           "offsetgroup": "P001",
           "orientation": "v",
           "showlegend": true,
           "textposition": "auto",
           "type": "bar",
           "x": [
            "P001",
            "P001",
            "P001"
           ],
           "xaxis": "x",
           "y": [
            26999.91,
            35937.13,
            37175.07
           ],
           "yaxis": "y"
          },
          {
           "alignmentgroup": "True",
           "hovertemplate": "Product_id=%{x}<br>Date=2024-11-13 00:00:00<br>Cumulative Sales=%{y}<extra></extra>",
           "legendgroup": "P003",
           "marker": {
            "color": "#FFA15A",
            "pattern": {
             "shape": ""
            }
           },
           "name": "P003",
           "offsetgroup": "P003",
           "orientation": "v",
           "showlegend": true,
           "textposition": "auto",
           "type": "bar",
           "x": [
            "P003",
            "P003",
            "P003",
            "P003"
           ],
           "xaxis": "x",
           "y": [
            24934.53,
            46274.27,
            55822.75,
            73899.71
           ],
           "yaxis": "y"
          },
          {
           "alignmentgroup": "True",
           "hovertemplate": "Product_id=%{x}<br>Date=2024-11-13 00:00:00<br>Cumulative Sales=%{y}<extra></extra>",
           "legendgroup": "P006",
           "marker": {
            "color": "#19d3f3",
            "pattern": {
             "shape": ""
            }
           },
           "name": "P006",
           "offsetgroup": "P006",
           "orientation": "v",
           "showlegend": true,
           "textposition": "auto",
           "type": "bar",
           "x": [
            "P006",
            "P006",
            "P006",
            "P006",
            "P006"
           ],
           "xaxis": "x",
           "y": [
            8075.98,
            15720.64,
            46147.12,
            65166.7,
            88403.45
           ],
           "yaxis": "y"
          },
          {
           "alignmentgroup": "True",
           "hovertemplate": "Product_id=%{x}<br>Date=2024-11-13 00:00:00<br>Cumulative Sales=%{y}<extra></extra>",
           "legendgroup": "P004",
           "marker": {
            "color": "#FF6692",
            "pattern": {
             "shape": ""
            }
           },
           "name": "P004",
           "offsetgroup": "P004",
           "orientation": "v",
           "showlegend": true,
           "textposition": "auto",
           "type": "bar",
           "x": [
            "P004",
            "P004",
            "P004",
            "P004",
            "P004"
           ],
           "xaxis": "x",
           "y": [
            2388.4700000000003,
            15623.08,
            27329,
            91336.04,
            92286.45999999999
           ],
           "yaxis": "y"
          },
          {
           "alignmentgroup": "True",
           "hovertemplate": "Product_id=%{x}<br>Date=2024-11-13 00:00:00<br>Cumulative Sales=%{y}<extra></extra>",
           "legendgroup": "P008",
           "marker": {
            "color": "#B6E880",
            "pattern": {
             "shape": ""
            }
           },
           "name": "P008",
           "offsetgroup": "P008",
           "orientation": "v",
           "showlegend": true,
           "textposition": "auto",
           "type": "bar",
           "x": [
            "P008"
           ],
           "xaxis": "x",
           "y": [
            42305.2
           ],
           "yaxis": "y"
          }
         ],
         "name": "2024-11-13 00:00:00"
        },
        {
         "data": [
          {
           "alignmentgroup": "True",
           "hovertemplate": "Product_id=%{x}<br>Date=2024-11-04 00:00:00<br>Cumulative Sales=%{y}<extra></extra>",
           "legendgroup": "P002",
           "marker": {
            "color": "#636efa",
            "pattern": {
             "shape": ""
            }
           },
           "name": "P002",
           "offsetgroup": "P002",
           "orientation": "v",
           "showlegend": true,
           "textposition": "auto",
           "type": "bar",
           "x": [
            "P002",
            "P002",
            "P002",
            "P002",
            "P002"
           ],
           "xaxis": "x",
           "y": [
            8350.31,
            29630.12,
            77965.17,
            90481.75,
            150883.08
           ],
           "yaxis": "y"
          },
          {
           "alignmentgroup": "True",
           "hovertemplate": "Product_id=%{x}<br>Date=2024-11-04 00:00:00<br>Cumulative Sales=%{y}<extra></extra>",
           "legendgroup": "P005",
           "marker": {
            "color": "#EF553B",
            "pattern": {
             "shape": ""
            }
           },
           "name": "P005",
           "offsetgroup": "P005",
           "orientation": "v",
           "showlegend": true,
           "textposition": "auto",
           "type": "bar",
           "x": [
            "P005",
            "P005"
           ],
           "xaxis": "x",
           "y": [
            21354.260000000002,
            35978.18
           ],
           "yaxis": "y"
          },
          {
           "alignmentgroup": "True",
           "hovertemplate": "Product_id=%{x}<br>Date=2024-11-04 00:00:00<br>Cumulative Sales=%{y}<extra></extra>",
           "legendgroup": "P001",
           "marker": {
            "color": "#ab63fa",
            "pattern": {
             "shape": ""
            }
           },
           "name": "P001",
           "offsetgroup": "P001",
           "orientation": "v",
           "showlegend": true,
           "textposition": "auto",
           "type": "bar",
           "x": [
            "P001",
            "P001",
            "P001"
           ],
           "xaxis": "x",
           "y": [
            4235.4400000000005,
            25677.04,
            51519.73
           ],
           "yaxis": "y"
          },
          {
           "alignmentgroup": "True",
           "hovertemplate": "Product_id=%{x}<br>Date=2024-11-04 00:00:00<br>Cumulative Sales=%{y}<extra></extra>",
           "legendgroup": "P003",
           "marker": {
            "color": "#FFA15A",
            "pattern": {
             "shape": ""
            }
           },
           "name": "P003",
           "offsetgroup": "P003",
           "orientation": "v",
           "showlegend": true,
           "textposition": "auto",
           "type": "bar",
           "x": [
            "P003"
           ],
           "xaxis": "x",
           "y": [
            52641.25
           ],
           "yaxis": "y"
          },
          {
           "alignmentgroup": "True",
           "hovertemplate": "Product_id=%{x}<br>Date=2024-11-04 00:00:00<br>Cumulative Sales=%{y}<extra></extra>",
           "legendgroup": "P006",
           "marker": {
            "color": "#19d3f3",
            "pattern": {
             "shape": ""
            }
           },
           "name": "P006",
           "offsetgroup": "P006",
           "orientation": "v",
           "showlegend": true,
           "textposition": "auto",
           "type": "bar",
           "x": [
            "P006",
            "P006",
            "P006",
            "P006"
           ],
           "xaxis": "x",
           "y": [
            7215.62,
            11628.779999999999,
            24277.69,
            27569.07
           ],
           "yaxis": "y"
          },
          {
           "alignmentgroup": "True",
           "hovertemplate": "Product_id=%{x}<br>Date=2024-11-04 00:00:00<br>Cumulative Sales=%{y}<extra></extra>",
           "legendgroup": "P004",
           "marker": {
            "color": "#FF6692",
            "pattern": {
             "shape": ""
            }
           },
           "name": "P004",
           "offsetgroup": "P004",
           "orientation": "v",
           "showlegend": true,
           "textposition": "auto",
           "type": "bar",
           "x": [
            "P004",
            "P004",
            "P004"
           ],
           "xaxis": "x",
           "y": [
            19027.489999999998,
            75217.64,
            86636.18
           ],
           "yaxis": "y"
          },
          {
           "alignmentgroup": "True",
           "hovertemplate": "Product_id=%{x}<br>Date=2024-11-04 00:00:00<br>Cumulative Sales=%{y}<extra></extra>",
           "legendgroup": "P008",
           "marker": {
            "color": "#B6E880",
            "pattern": {
             "shape": ""
            }
           },
           "name": "P008",
           "offsetgroup": "P008",
           "orientation": "v",
           "showlegend": true,
           "textposition": "auto",
           "type": "bar",
           "x": [
            "P008",
            "P008",
            "P008",
            "P008",
            "P008"
           ],
           "xaxis": "x",
           "y": [
            36212.71,
            71047.05,
            78141.49,
            88016.55,
            95020.19
           ],
           "yaxis": "y"
          }
         ],
         "name": "2024-11-04 00:00:00"
        },
        {
         "data": [
          {
           "alignmentgroup": "True",
           "hovertemplate": "Product_id=%{x}<br>Date=2024-11-11 00:00:00<br>Cumulative Sales=%{y}<extra></extra>",
           "legendgroup": "P002",
           "marker": {
            "color": "#636efa",
            "pattern": {
             "shape": ""
            }
           },
           "name": "P002",
           "offsetgroup": "P002",
           "orientation": "v",
           "showlegend": true,
           "textposition": "auto",
           "type": "bar",
           "x": [
            "P002",
            "P002",
            "P002",
            "P002",
            "P002",
            "P002",
            "P002"
           ],
           "xaxis": "x",
           "y": [
            31647.91,
            38056.909999999996,
            53469.57,
            60426.34,
            120594.37,
            171131.23,
            185818.11
           ],
           "yaxis": "y"
          },
          {
           "alignmentgroup": "True",
           "hovertemplate": "Product_id=%{x}<br>Date=2024-11-11 00:00:00<br>Cumulative Sales=%{y}<extra></extra>",
           "legendgroup": "P005",
           "marker": {
            "color": "#EF553B",
            "pattern": {
             "shape": ""
            }
           },
           "name": "P005",
           "offsetgroup": "P005",
           "orientation": "v",
           "showlegend": true,
           "textposition": "auto",
           "type": "bar",
           "x": [
            "P005",
            "P005",
            "P005",
            "P005",
            "P005"
           ],
           "xaxis": "x",
           "y": [
            32204.19,
            49860.64,
            54774.77,
            84028.59,
            87520.26
           ],
           "yaxis": "y"
          },
          {
           "alignmentgroup": "True",
           "hovertemplate": "Product_id=%{x}<br>Date=2024-11-11 00:00:00<br>Cumulative Sales=%{y}<extra></extra>",
           "legendgroup": "P007",
           "marker": {
            "color": "#00cc96",
            "pattern": {
             "shape": ""
            }
           },
           "name": "P007",
           "offsetgroup": "P007",
           "orientation": "v",
           "showlegend": true,
           "textposition": "auto",
           "type": "bar",
           "x": [
            "P007",
            "P007",
            "P007",
            "P007",
            "P007"
           ],
           "xaxis": "x",
           "y": [
            11674.25,
            29872.85,
            40756.1,
            55187.81,
            60868.17
           ],
           "yaxis": "y"
          },
          {
           "alignmentgroup": "True",
           "hovertemplate": "Product_id=%{x}<br>Date=2024-11-11 00:00:00<br>Cumulative Sales=%{y}<extra></extra>",
           "legendgroup": "P001",
           "marker": {
            "color": "#ab63fa",
            "pattern": {
             "shape": ""
            }
           },
           "name": "P001",
           "offsetgroup": "P001",
           "orientation": "v",
           "showlegend": true,
           "textposition": "auto",
           "type": "bar",
           "x": [
            "P001"
           ],
           "xaxis": "x",
           "y": [
            20392.31
           ],
           "yaxis": "y"
          },
          {
           "alignmentgroup": "True",
           "hovertemplate": "Product_id=%{x}<br>Date=2024-11-11 00:00:00<br>Cumulative Sales=%{y}<extra></extra>",
           "legendgroup": "P003",
           "marker": {
            "color": "#FFA15A",
            "pattern": {
             "shape": ""
            }
           },
           "name": "P003",
           "offsetgroup": "P003",
           "orientation": "v",
           "showlegend": true,
           "textposition": "auto",
           "type": "bar",
           "x": [
            "P003",
            "P003",
            "P003"
           ],
           "xaxis": "x",
           "y": [
            27784.37,
            59723.41,
            74370.06
           ],
           "yaxis": "y"
          },
          {
           "alignmentgroup": "True",
           "hovertemplate": "Product_id=%{x}<br>Date=2024-11-11 00:00:00<br>Cumulative Sales=%{y}<extra></extra>",
           "legendgroup": "P006",
           "marker": {
            "color": "#19d3f3",
            "pattern": {
             "shape": ""
            }
           },
           "name": "P006",
           "offsetgroup": "P006",
           "orientation": "v",
           "showlegend": true,
           "textposition": "auto",
           "type": "bar",
           "x": [
            "P006",
            "P006",
            "P006",
            "P006",
            "P006",
            "P006",
            "P006"
           ],
           "xaxis": "x",
           "y": [
            3699.5299999999997,
            14906.97,
            17118.3,
            38277.04,
            66296.8,
            75194.55,
            80655.53
           ],
           "yaxis": "y"
          },
          {
           "alignmentgroup": "True",
           "hovertemplate": "Product_id=%{x}<br>Date=2024-11-11 00:00:00<br>Cumulative Sales=%{y}<extra></extra>",
           "legendgroup": "P004",
           "marker": {
            "color": "#FF6692",
            "pattern": {
             "shape": ""
            }
           },
           "name": "P004",
           "offsetgroup": "P004",
           "orientation": "v",
           "showlegend": true,
           "textposition": "auto",
           "type": "bar",
           "x": [
            "P004",
            "P004",
            "P004",
            "P004",
            "P004",
            "P004",
            "P004"
           ],
           "xaxis": "x",
           "y": [
            29531.77,
            40330.98,
            42381.31,
            50065.26,
            58669.92,
            61808.43,
            87536.23
           ],
           "yaxis": "y"
          },
          {
           "alignmentgroup": "True",
           "hovertemplate": "Product_id=%{x}<br>Date=2024-11-11 00:00:00<br>Cumulative Sales=%{y}<extra></extra>",
           "legendgroup": "P008",
           "marker": {
            "color": "#B6E880",
            "pattern": {
             "shape": ""
            }
           },
           "name": "P008",
           "offsetgroup": "P008",
           "orientation": "v",
           "showlegend": true,
           "textposition": "auto",
           "type": "bar",
           "x": [
            "P008",
            "P008"
           ],
           "xaxis": "x",
           "y": [
            72291.9,
            92328.12
           ],
           "yaxis": "y"
          }
         ],
         "name": "2024-11-11 00:00:00"
        },
        {
         "data": [
          {
           "alignmentgroup": "True",
           "hovertemplate": "Product_id=%{x}<br>Date=2024-11-18 00:00:00<br>Cumulative Sales=%{y}<extra></extra>",
           "legendgroup": "P002",
           "marker": {
            "color": "#636efa",
            "pattern": {
             "shape": ""
            }
           },
           "name": "P002",
           "offsetgroup": "P002",
           "orientation": "v",
           "showlegend": true,
           "textposition": "auto",
           "type": "bar",
           "x": [
            "P002",
            "P002",
            "P002",
            "P002",
            "P002",
            "P002",
            "P002",
            "P002",
            "P002",
            "P002",
            "P002",
            "P002"
           ],
           "xaxis": "x",
           "y": [
            35161.31,
            59612.67,
            79008.95999999999,
            88929.37,
            92912.06,
            96900.94,
            105709.36,
            128830.06,
            129899.56,
            172354.24,
            173695.02,
            187163.36
           ],
           "yaxis": "y"
          },
          {
           "alignmentgroup": "True",
           "hovertemplate": "Product_id=%{x}<br>Date=2024-11-18 00:00:00<br>Cumulative Sales=%{y}<extra></extra>",
           "legendgroup": "P005",
           "marker": {
            "color": "#EF553B",
            "pattern": {
             "shape": ""
            }
           },
           "name": "P005",
           "offsetgroup": "P005",
           "orientation": "v",
           "showlegend": true,
           "textposition": "auto",
           "type": "bar",
           "x": [
            "P005"
           ],
           "xaxis": "x",
           "y": [
            9963.78
           ],
           "yaxis": "y"
          },
          {
           "alignmentgroup": "True",
           "hovertemplate": "Product_id=%{x}<br>Date=2024-11-18 00:00:00<br>Cumulative Sales=%{y}<extra></extra>",
           "legendgroup": "P007",
           "marker": {
            "color": "#00cc96",
            "pattern": {
             "shape": ""
            }
           },
           "name": "P007",
           "offsetgroup": "P007",
           "orientation": "v",
           "showlegend": true,
           "textposition": "auto",
           "type": "bar",
           "x": [
            "P007"
           ],
           "xaxis": "x",
           "y": [
            38327.17
           ],
           "yaxis": "y"
          },
          {
           "alignmentgroup": "True",
           "hovertemplate": "Product_id=%{x}<br>Date=2024-11-18 00:00:00<br>Cumulative Sales=%{y}<extra></extra>",
           "legendgroup": "P001",
           "marker": {
            "color": "#ab63fa",
            "pattern": {
             "shape": ""
            }
           },
           "name": "P001",
           "offsetgroup": "P001",
           "orientation": "v",
           "showlegend": true,
           "textposition": "auto",
           "type": "bar",
           "x": [
            "P001",
            "P001"
           ],
           "xaxis": "x",
           "y": [
            25177.5,
            59225.56
           ],
           "yaxis": "y"
          },
          {
           "alignmentgroup": "True",
           "hovertemplate": "Product_id=%{x}<br>Date=2024-11-18 00:00:00<br>Cumulative Sales=%{y}<extra></extra>",
           "legendgroup": "P003",
           "marker": {
            "color": "#FFA15A",
            "pattern": {
             "shape": ""
            }
           },
           "name": "P003",
           "offsetgroup": "P003",
           "orientation": "v",
           "showlegend": true,
           "textposition": "auto",
           "type": "bar",
           "x": [
            "P003",
            "P003"
           ],
           "xaxis": "x",
           "y": [
            39339.58,
            40715.58
           ],
           "yaxis": "y"
          },
          {
           "alignmentgroup": "True",
           "hovertemplate": "Product_id=%{x}<br>Date=2024-11-18 00:00:00<br>Cumulative Sales=%{y}<extra></extra>",
           "legendgroup": "P006",
           "marker": {
            "color": "#19d3f3",
            "pattern": {
             "shape": ""
            }
           },
           "name": "P006",
           "offsetgroup": "P006",
           "orientation": "v",
           "showlegend": true,
           "textposition": "auto",
           "type": "bar",
           "x": [
            "P006",
            "P006"
           ],
           "xaxis": "x",
           "y": [
            57475.68,
            61515.77
           ],
           "yaxis": "y"
          },
          {
           "alignmentgroup": "True",
           "hovertemplate": "Product_id=%{x}<br>Date=2024-11-18 00:00:00<br>Cumulative Sales=%{y}<extra></extra>",
           "legendgroup": "P004",
           "marker": {
            "color": "#FF6692",
            "pattern": {
             "shape": ""
            }
           },
           "name": "P004",
           "offsetgroup": "P004",
           "orientation": "v",
           "showlegend": true,
           "textposition": "auto",
           "type": "bar",
           "x": [
            "P004",
            "P004",
            "P004"
           ],
           "xaxis": "x",
           "y": [
            37401.5,
            78634.4,
            95941.08
           ],
           "yaxis": "y"
          },
          {
           "alignmentgroup": "True",
           "hovertemplate": "Product_id=%{x}<br>Date=2024-11-18 00:00:00<br>Cumulative Sales=%{y}<extra></extra>",
           "legendgroup": "P008",
           "marker": {
            "color": "#B6E880",
            "pattern": {
             "shape": ""
            }
           },
           "name": "P008",
           "offsetgroup": "P008",
           "orientation": "v",
           "showlegend": true,
           "textposition": "auto",
           "type": "bar",
           "x": [
            "P008",
            "P008",
            "P008",
            "P008"
           ],
           "xaxis": "x",
           "y": [
            2293.92,
            49198.34,
            71448.18000000001,
            76631.93000000001
           ],
           "yaxis": "y"
          }
         ],
         "name": "2024-11-18 00:00:00"
        },
        {
         "data": [
          {
           "alignmentgroup": "True",
           "hovertemplate": "Product_id=%{x}<br>Date=2024-11-24 00:00:00<br>Cumulative Sales=%{y}<extra></extra>",
           "legendgroup": "P002",
           "marker": {
            "color": "#636efa",
            "pattern": {
             "shape": ""
            }
           },
           "name": "P002",
           "offsetgroup": "P002",
           "orientation": "v",
           "showlegend": true,
           "textposition": "auto",
           "type": "bar",
           "x": [
            "P002",
            "P002"
           ],
           "xaxis": "x",
           "y": [
            158343.6,
            188163.68
           ],
           "yaxis": "y"
          },
          {
           "alignmentgroup": "True",
           "hovertemplate": "Product_id=%{x}<br>Date=2024-11-24 00:00:00<br>Cumulative Sales=%{y}<extra></extra>",
           "legendgroup": "P005",
           "marker": {
            "color": "#EF553B",
            "pattern": {
             "shape": ""
            }
           },
           "name": "P005",
           "offsetgroup": "P005",
           "orientation": "v",
           "showlegend": true,
           "textposition": "auto",
           "type": "bar",
           "x": [
            "P005",
            "P005",
            "P005",
            "P005",
            "P005",
            "P005",
            "P005"
           ],
           "xaxis": "x",
           "y": [
            3870.16,
            7852.51,
            35020.42,
            49597.77,
            74459.78,
            85027.82,
            85892.92
           ],
           "yaxis": "y"
          },
          {
           "alignmentgroup": "True",
           "hovertemplate": "Product_id=%{x}<br>Date=2024-11-24 00:00:00<br>Cumulative Sales=%{y}<extra></extra>",
           "legendgroup": "P007",
           "marker": {
            "color": "#00cc96",
            "pattern": {
             "shape": ""
            }
           },
           "name": "P007",
           "offsetgroup": "P007",
           "orientation": "v",
           "showlegend": true,
           "textposition": "auto",
           "type": "bar",
           "x": [
            "P007",
            "P007",
            "P007",
            "P007"
           ],
           "xaxis": "x",
           "y": [
            25992.29,
            46419.46,
            48531.97,
            93150.06
           ],
           "yaxis": "y"
          },
          {
           "alignmentgroup": "True",
           "hovertemplate": "Product_id=%{x}<br>Date=2024-11-24 00:00:00<br>Cumulative Sales=%{y}<extra></extra>",
           "legendgroup": "P001",
           "marker": {
            "color": "#ab63fa",
            "pattern": {
             "shape": ""
            }
           },
           "name": "P001",
           "offsetgroup": "P001",
           "orientation": "v",
           "showlegend": true,
           "textposition": "auto",
           "type": "bar",
           "x": [
            "P001",
            "P001"
           ],
           "xaxis": "x",
           "y": [
            16133.97,
            65322.24
           ],
           "yaxis": "y"
          },
          {
           "alignmentgroup": "True",
           "hovertemplate": "Product_id=%{x}<br>Date=2024-11-24 00:00:00<br>Cumulative Sales=%{y}<extra></extra>",
           "legendgroup": "P003",
           "marker": {
            "color": "#FFA15A",
            "pattern": {
             "shape": ""
            }
           },
           "name": "P003",
           "offsetgroup": "P003",
           "orientation": "v",
           "showlegend": true,
           "textposition": "auto",
           "type": "bar",
           "x": [
            "P003",
            "P003"
           ],
           "xaxis": "x",
           "y": [
            6202.06,
            49925.98
           ],
           "yaxis": "y"
          },
          {
           "alignmentgroup": "True",
           "hovertemplate": "Product_id=%{x}<br>Date=2024-11-24 00:00:00<br>Cumulative Sales=%{y}<extra></extra>",
           "legendgroup": "P006",
           "marker": {
            "color": "#19d3f3",
            "pattern": {
             "shape": ""
            }
           },
           "name": "P006",
           "offsetgroup": "P006",
           "orientation": "v",
           "showlegend": true,
           "textposition": "auto",
           "type": "bar",
           "x": [
            "P006",
            "P006"
           ],
           "xaxis": "x",
           "y": [
            28931.84,
            32507.64
           ],
           "yaxis": "y"
          },
          {
           "alignmentgroup": "True",
           "hovertemplate": "Product_id=%{x}<br>Date=2024-11-24 00:00:00<br>Cumulative Sales=%{y}<extra></extra>",
           "legendgroup": "P004",
           "marker": {
            "color": "#FF6692",
            "pattern": {
             "shape": ""
            }
           },
           "name": "P004",
           "offsetgroup": "P004",
           "orientation": "v",
           "showlegend": true,
           "textposition": "auto",
           "type": "bar",
           "x": [
            "P004",
            "P004",
            "P004",
            "P004"
           ],
           "xaxis": "x",
           "y": [
            23313.06,
            64979.11,
            67141.06,
            67803.31
           ],
           "yaxis": "y"
          },
          {
           "alignmentgroup": "True",
           "hovertemplate": "Product_id=%{x}<br>Date=2024-11-24 00:00:00<br>Cumulative Sales=%{y}<extra></extra>",
           "legendgroup": "P008",
           "marker": {
            "color": "#B6E880",
            "pattern": {
             "shape": ""
            }
           },
           "name": "P008",
           "offsetgroup": "P008",
           "orientation": "v",
           "showlegend": true,
           "textposition": "auto",
           "type": "bar",
           "x": [
            "P008",
            "P008"
           ],
           "xaxis": "x",
           "y": [
            62912.58,
            73885.29
           ],
           "yaxis": "y"
          }
         ],
         "name": "2024-11-24 00:00:00"
        },
        {
         "data": [
          {
           "alignmentgroup": "True",
           "hovertemplate": "Product_id=%{x}<br>Date=2024-11-12 00:00:00<br>Cumulative Sales=%{y}<extra></extra>",
           "legendgroup": "P002",
           "marker": {
            "color": "#636efa",
            "pattern": {
             "shape": ""
            }
           },
           "name": "P002",
           "offsetgroup": "P002",
           "orientation": "v",
           "showlegend": true,
           "textposition": "auto",
           "type": "bar",
           "x": [
            "P002",
            "P002",
            "P002",
            "P002",
            "P002",
            "P002"
           ],
           "xaxis": "x",
           "y": [
            14761.33,
            41785.32,
            86294.11,
            98867.08,
            156870.87,
            162418.82
           ],
           "yaxis": "y"
          },
          {
           "alignmentgroup": "True",
           "hovertemplate": "Product_id=%{x}<br>Date=2024-11-12 00:00:00<br>Cumulative Sales=%{y}<extra></extra>",
           "legendgroup": "P005",
           "marker": {
            "color": "#EF553B",
            "pattern": {
             "shape": ""
            }
           },
           "name": "P005",
           "offsetgroup": "P005",
           "orientation": "v",
           "showlegend": true,
           "textposition": "auto",
           "type": "bar",
           "x": [
            "P005",
            "P005",
            "P005"
           ],
           "xaxis": "x",
           "y": [
            19497.83,
            71747.02,
            73068.9
           ],
           "yaxis": "y"
          },
          {
           "alignmentgroup": "True",
           "hovertemplate": "Product_id=%{x}<br>Date=2024-11-12 00:00:00<br>Cumulative Sales=%{y}<extra></extra>",
           "legendgroup": "P007",
           "marker": {
            "color": "#00cc96",
            "pattern": {
             "shape": ""
            }
           },
           "name": "P007",
           "offsetgroup": "P007",
           "orientation": "v",
           "showlegend": true,
           "textposition": "auto",
           "type": "bar",
           "x": [
            "P007",
            "P007",
            "P007",
            "P007"
           ],
           "xaxis": "x",
           "y": [
            35618.28,
            43859.51,
            59909.6,
            69681.47
           ],
           "yaxis": "y"
          },
          {
           "alignmentgroup": "True",
           "hovertemplate": "Product_id=%{x}<br>Date=2024-11-12 00:00:00<br>Cumulative Sales=%{y}<extra></extra>",
           "legendgroup": "P001",
           "marker": {
            "color": "#ab63fa",
            "pattern": {
             "shape": ""
            }
           },
           "name": "P001",
           "offsetgroup": "P001",
           "orientation": "v",
           "showlegend": true,
           "textposition": "auto",
           "type": "bar",
           "x": [
            "P001",
            "P001"
           ],
           "xaxis": "x",
           "y": [
            5664.13,
            35328.71
           ],
           "yaxis": "y"
          },
          {
           "alignmentgroup": "True",
           "hovertemplate": "Product_id=%{x}<br>Date=2024-11-12 00:00:00<br>Cumulative Sales=%{y}<extra></extra>",
           "legendgroup": "P003",
           "marker": {
            "color": "#FFA15A",
            "pattern": {
             "shape": ""
            }
           },
           "name": "P003",
           "offsetgroup": "P003",
           "orientation": "v",
           "showlegend": true,
           "textposition": "auto",
           "type": "bar",
           "x": [
            "P003",
            "P003"
           ],
           "xaxis": "x",
           "y": [
            14364.67,
            64124.98
           ],
           "yaxis": "y"
          },
          {
           "alignmentgroup": "True",
           "hovertemplate": "Product_id=%{x}<br>Date=2024-11-12 00:00:00<br>Cumulative Sales=%{y}<extra></extra>",
           "legendgroup": "P006",
           "marker": {
            "color": "#19d3f3",
            "pattern": {
             "shape": ""
            }
           },
           "name": "P006",
           "offsetgroup": "P006",
           "orientation": "v",
           "showlegend": true,
           "textposition": "auto",
           "type": "bar",
           "x": [
            "P006",
            "P006",
            "P006"
           ],
           "xaxis": "x",
           "y": [
            32806.39,
            50489.979999999996,
            83573.65
           ],
           "yaxis": "y"
          },
          {
           "alignmentgroup": "True",
           "hovertemplate": "Product_id=%{x}<br>Date=2024-11-12 00:00:00<br>Cumulative Sales=%{y}<extra></extra>",
           "legendgroup": "P004",
           "marker": {
            "color": "#FF6692",
            "pattern": {
             "shape": ""
            }
           },
           "name": "P004",
           "offsetgroup": "P004",
           "orientation": "v",
           "showlegend": true,
           "textposition": "auto",
           "type": "bar",
           "x": [
            "P004",
            "P004",
            "P004"
           ],
           "xaxis": "x",
           "y": [
            18388.56,
            22650.37,
            72033.16
           ],
           "yaxis": "y"
          },
          {
           "alignmentgroup": "True",
           "hovertemplate": "Product_id=%{x}<br>Date=2024-11-12 00:00:00<br>Cumulative Sales=%{y}<extra></extra>",
           "legendgroup": "P008",
           "marker": {
            "color": "#B6E880",
            "pattern": {
             "shape": ""
            }
           },
           "name": "P008",
           "offsetgroup": "P008",
           "orientation": "v",
           "showlegend": true,
           "textposition": "auto",
           "type": "bar",
           "x": [
            "P008",
            "P008"
           ],
           "xaxis": "x",
           "y": [
            9107.08,
            11417.33
           ],
           "yaxis": "y"
          }
         ],
         "name": "2024-11-12 00:00:00"
        },
        {
         "data": [
          {
           "alignmentgroup": "True",
           "hovertemplate": "Product_id=%{x}<br>Date=2024-11-01 00:00:00<br>Cumulative Sales=%{y}<extra></extra>",
           "legendgroup": "P002",
           "marker": {
            "color": "#636efa",
            "pattern": {
             "shape": ""
            }
           },
           "name": "P002",
           "offsetgroup": "P002",
           "orientation": "v",
           "showlegend": true,
           "textposition": "auto",
           "type": "bar",
           "x": [
            "P002",
            "P002",
            "P002",
            "P002",
            "P002",
            "P002",
            "P002",
            "P002",
            "P002",
            "P002"
           ],
           "xaxis": "x",
           "y": [
            44830.93,
            61650.38,
            73683.62,
            76173.83,
            80092.88,
            143863.19,
            145162.29,
            147164.09,
            147752.02,
            187799.63999999998
           ],
           "yaxis": "y"
          },
          {
           "alignmentgroup": "True",
           "hovertemplate": "Product_id=%{x}<br>Date=2024-11-01 00:00:00<br>Cumulative Sales=%{y}<extra></extra>",
           "legendgroup": "P005",
           "marker": {
            "color": "#EF553B",
            "pattern": {
             "shape": ""
            }
           },
           "name": "P005",
           "offsetgroup": "P005",
           "orientation": "v",
           "showlegend": true,
           "textposition": "auto",
           "type": "bar",
           "x": [
            "P005",
            "P005",
            "P005",
            "P005"
           ],
           "xaxis": "x",
           "y": [
            29804.43,
            39725.4,
            49082.86,
            52620.74
           ],
           "yaxis": "y"
          },
          {
           "alignmentgroup": "True",
           "hovertemplate": "Product_id=%{x}<br>Date=2024-11-01 00:00:00<br>Cumulative Sales=%{y}<extra></extra>",
           "legendgroup": "P007",
           "marker": {
            "color": "#00cc96",
            "pattern": {
             "shape": ""
            }
           },
           "name": "P007",
           "offsetgroup": "P007",
           "orientation": "v",
           "showlegend": true,
           "textposition": "auto",
           "type": "bar",
           "x": [
            "P007",
            "P007",
            "P007",
            "P007"
           ],
           "xaxis": "x",
           "y": [
            6708.429999999999,
            45298.99,
            82893.42,
            89040.74
           ],
           "yaxis": "y"
          },
          {
           "alignmentgroup": "True",
           "hovertemplate": "Product_id=%{x}<br>Date=2024-11-01 00:00:00<br>Cumulative Sales=%{y}<extra></extra>",
           "legendgroup": "P001",
           "marker": {
            "color": "#ab63fa",
            "pattern": {
             "shape": ""
            }
           },
           "name": "P001",
           "offsetgroup": "P001",
           "orientation": "v",
           "showlegend": true,
           "textposition": "auto",
           "type": "bar",
           "x": [
            "P001",
            "P001",
            "P001"
           ],
           "xaxis": "x",
           "y": [
            16712.66,
            23520.420000000002,
            61005.18
           ],
           "yaxis": "y"
          },
          {
           "alignmentgroup": "True",
           "hovertemplate": "Product_id=%{x}<br>Date=2024-11-01 00:00:00<br>Cumulative Sales=%{y}<extra></extra>",
           "legendgroup": "P003",
           "marker": {
            "color": "#FFA15A",
            "pattern": {
             "shape": ""
            }
           },
           "name": "P003",
           "offsetgroup": "P003",
           "orientation": "v",
           "showlegend": true,
           "textposition": "auto",
           "type": "bar",
           "x": [
            "P003",
            "P003",
            "P003"
           ],
           "xaxis": "x",
           "y": [
            36444.26,
            37239.07,
            69081.78
           ],
           "yaxis": "y"
          },
          {
           "alignmentgroup": "True",
           "hovertemplate": "Product_id=%{x}<br>Date=2024-11-01 00:00:00<br>Cumulative Sales=%{y}<extra></extra>",
           "legendgroup": "P006",
           "marker": {
            "color": "#19d3f3",
            "pattern": {
             "shape": ""
            }
           },
           "name": "P006",
           "offsetgroup": "P006",
           "orientation": "v",
           "showlegend": true,
           "textposition": "auto",
           "type": "bar",
           "x": [
            "P006",
            "P006",
            "P006"
           ],
           "xaxis": "x",
           "y": [
            40161.58,
            43381.729999999996,
            63941.53
           ],
           "yaxis": "y"
          },
          {
           "alignmentgroup": "True",
           "hovertemplate": "Product_id=%{x}<br>Date=2024-11-01 00:00:00<br>Cumulative Sales=%{y}<extra></extra>",
           "legendgroup": "P004",
           "marker": {
            "color": "#FF6692",
            "pattern": {
             "shape": ""
            }
           },
           "name": "P004",
           "offsetgroup": "P004",
           "orientation": "v",
           "showlegend": true,
           "textposition": "auto",
           "type": "bar",
           "x": [
            "P004"
           ],
           "xaxis": "x",
           "y": [
            46383.58
           ],
           "yaxis": "y"
          },
          {
           "alignmentgroup": "True",
           "hovertemplate": "Product_id=%{x}<br>Date=2024-11-01 00:00:00<br>Cumulative Sales=%{y}<extra></extra>",
           "legendgroup": "P008",
           "marker": {
            "color": "#B6E880",
            "pattern": {
             "shape": ""
            }
           },
           "name": "P008",
           "offsetgroup": "P008",
           "orientation": "v",
           "showlegend": true,
           "textposition": "auto",
           "type": "bar",
           "x": [
            "P008",
            "P008",
            "P008"
           ],
           "xaxis": "x",
           "y": [
            26765.72,
            43529.99,
            50273.56
           ],
           "yaxis": "y"
          }
         ],
         "name": "2024-11-01 00:00:00"
        },
        {
         "data": [
          {
           "alignmentgroup": "True",
           "hovertemplate": "Product_id=%{x}<br>Date=2024-11-07 00:00:00<br>Cumulative Sales=%{y}<extra></extra>",
           "legendgroup": "P002",
           "marker": {
            "color": "#636efa",
            "pattern": {
             "shape": ""
            }
           },
           "name": "P002",
           "offsetgroup": "P002",
           "orientation": "v",
           "showlegend": true,
           "textposition": "auto",
           "type": "bar",
           "x": [
            "P002",
            "P002",
            "P002",
            "P002",
            "P002"
           ],
           "xaxis": "x",
           "y": [
            34534.03,
            38856.09,
            99552.25,
            130109.31,
            135112.46
           ],
           "yaxis": "y"
          },
          {
           "alignmentgroup": "True",
           "hovertemplate": "Product_id=%{x}<br>Date=2024-11-07 00:00:00<br>Cumulative Sales=%{y}<extra></extra>",
           "legendgroup": "P005",
           "marker": {
            "color": "#EF553B",
            "pattern": {
             "shape": ""
            }
           },
           "name": "P005",
           "offsetgroup": "P005",
           "orientation": "v",
           "showlegend": true,
           "textposition": "auto",
           "type": "bar",
           "x": [
            "P005",
            "P005",
            "P005",
            "P005",
            "P005"
           ],
           "xaxis": "x",
           "y": [
            12663.66,
            22310.14,
            24989.33,
            25803,
            60814.45
           ],
           "yaxis": "y"
          },
          {
           "alignmentgroup": "True",
           "hovertemplate": "Product_id=%{x}<br>Date=2024-11-07 00:00:00<br>Cumulative Sales=%{y}<extra></extra>",
           "legendgroup": "P007",
           "marker": {
            "color": "#00cc96",
            "pattern": {
             "shape": ""
            }
           },
           "name": "P007",
           "offsetgroup": "P007",
           "orientation": "v",
           "showlegend": true,
           "textposition": "auto",
           "type": "bar",
           "x": [
            "P007",
            "P007"
           ],
           "xaxis": "x",
           "y": [
            8942.539999999999,
            62730.14
           ],
           "yaxis": "y"
          },
          {
           "alignmentgroup": "True",
           "hovertemplate": "Product_id=%{x}<br>Date=2024-11-07 00:00:00<br>Cumulative Sales=%{y}<extra></extra>",
           "legendgroup": "P001",
           "marker": {
            "color": "#ab63fa",
            "pattern": {
             "shape": ""
            }
           },
           "name": "P001",
           "offsetgroup": "P001",
           "orientation": "v",
           "showlegend": true,
           "textposition": "auto",
           "type": "bar",
           "x": [
            "P001",
            "P001",
            "P001"
           ],
           "xaxis": "x",
           "y": [
            48603.26,
            61733.29,
            62582.14
           ],
           "yaxis": "y"
          },
          {
           "alignmentgroup": "True",
           "hovertemplate": "Product_id=%{x}<br>Date=2024-11-07 00:00:00<br>Cumulative Sales=%{y}<extra></extra>",
           "legendgroup": "P003",
           "marker": {
            "color": "#FFA15A",
            "pattern": {
             "shape": ""
            }
           },
           "name": "P003",
           "offsetgroup": "P003",
           "orientation": "v",
           "showlegend": true,
           "textposition": "auto",
           "type": "bar",
           "x": [
            "P003",
            "P003",
            "P003"
           ],
           "xaxis": "x",
           "y": [
            22274.12,
            38582.52,
            64665.75
           ],
           "yaxis": "y"
          },
          {
           "alignmentgroup": "True",
           "hovertemplate": "Product_id=%{x}<br>Date=2024-11-07 00:00:00<br>Cumulative Sales=%{y}<extra></extra>",
           "legendgroup": "P006",
           "marker": {
            "color": "#19d3f3",
            "pattern": {
             "shape": ""
            }
           },
           "name": "P006",
           "offsetgroup": "P006",
           "orientation": "v",
           "showlegend": true,
           "textposition": "auto",
           "type": "bar",
           "x": [
            "P006",
            "P006",
            "P006",
            "P006",
            "P006",
            "P006",
            "P006"
           ],
           "xaxis": "x",
           "y": [
            29473.54,
            41699.159999999996,
            46636.96,
            49377.9,
            86978.84,
            91786.94,
            93124.4
           ],
           "yaxis": "y"
          },
          {
           "alignmentgroup": "True",
           "hovertemplate": "Product_id=%{x}<br>Date=2024-11-07 00:00:00<br>Cumulative Sales=%{y}<extra></extra>",
           "legendgroup": "P004",
           "marker": {
            "color": "#FF6692",
            "pattern": {
             "shape": ""
            }
           },
           "name": "P004",
           "offsetgroup": "P004",
           "orientation": "v",
           "showlegend": true,
           "textposition": "auto",
           "type": "bar",
           "x": [
            "P004",
            "P004",
            "P004",
            "P004"
           ],
           "xaxis": "x",
           "y": [
            12731.25,
            26158.46,
            46024.67,
            91548.56
           ],
           "yaxis": "y"
          },
          {
           "alignmentgroup": "True",
           "hovertemplate": "Product_id=%{x}<br>Date=2024-11-07 00:00:00<br>Cumulative Sales=%{y}<extra></extra>",
           "legendgroup": "P008",
           "marker": {
            "color": "#B6E880",
            "pattern": {
             "shape": ""
            }
           },
           "name": "P008",
           "offsetgroup": "P008",
           "orientation": "v",
           "showlegend": true,
           "textposition": "auto",
           "type": "bar",
           "x": [
            "P008",
            "P008",
            "P008",
            "P008",
            "P008",
            "P008",
            "P008"
           ],
           "xaxis": "x",
           "y": [
            16391.86,
            37751.41,
            44567.59,
            47273.63,
            58288.97,
            62255.86,
            74338.22
           ],
           "yaxis": "y"
          }
         ],
         "name": "2024-11-07 00:00:00"
        },
        {
         "data": [
          {
           "alignmentgroup": "True",
           "hovertemplate": "Product_id=%{x}<br>Date=2024-11-26 00:00:00<br>Cumulative Sales=%{y}<extra></extra>",
           "legendgroup": "P002",
           "marker": {
            "color": "#636efa",
            "pattern": {
             "shape": ""
            }
           },
           "name": "P002",
           "offsetgroup": "P002",
           "orientation": "v",
           "showlegend": true,
           "textposition": "auto",
           "type": "bar",
           "x": [
            "P002",
            "P002",
            "P002",
            "P002"
           ],
           "xaxis": "x",
           "y": [
            50823.76,
            94964.09,
            140342.34,
            160091.61
           ],
           "yaxis": "y"
          },
          {
           "alignmentgroup": "True",
           "hovertemplate": "Product_id=%{x}<br>Date=2024-11-26 00:00:00<br>Cumulative Sales=%{y}<extra></extra>",
           "legendgroup": "P005",
           "marker": {
            "color": "#EF553B",
            "pattern": {
             "shape": ""
            }
           },
           "name": "P005",
           "offsetgroup": "P005",
           "orientation": "v",
           "showlegend": true,
           "textposition": "auto",
           "type": "bar",
           "x": [
            "P005",
            "P005",
            "P005"
           ],
           "xaxis": "x",
           "y": [
            12466.79,
            17589.53,
            78892.9
           ],
           "yaxis": "y"
          },
          {
           "alignmentgroup": "True",
           "hovertemplate": "Product_id=%{x}<br>Date=2024-11-26 00:00:00<br>Cumulative Sales=%{y}<extra></extra>",
           "legendgroup": "P007",
           "marker": {
            "color": "#00cc96",
            "pattern": {
             "shape": ""
            }
           },
           "name": "P007",
           "offsetgroup": "P007",
           "orientation": "v",
           "showlegend": true,
           "textposition": "auto",
           "type": "bar",
           "x": [
            "P007",
            "P007",
            "P007",
            "P007",
            "P007"
           ],
           "xaxis": "x",
           "y": [
            27073.79,
            50770.96,
            77309.49,
            85581.89,
            90978.02
           ],
           "yaxis": "y"
          },
          {
           "alignmentgroup": "True",
           "hovertemplate": "Product_id=%{x}<br>Date=2024-11-26 00:00:00<br>Cumulative Sales=%{y}<extra></extra>",
           "legendgroup": "P001",
           "marker": {
            "color": "#ab63fa",
            "pattern": {
             "shape": ""
            }
           },
           "name": "P001",
           "offsetgroup": "P001",
           "orientation": "v",
           "showlegend": true,
           "textposition": "auto",
           "type": "bar",
           "x": [
            "P001",
            "P001"
           ],
           "xaxis": "x",
           "y": [
            25507.920000000002,
            29726.73
           ],
           "yaxis": "y"
          },
          {
           "alignmentgroup": "True",
           "hovertemplate": "Product_id=%{x}<br>Date=2024-11-26 00:00:00<br>Cumulative Sales=%{y}<extra></extra>",
           "legendgroup": "P003",
           "marker": {
            "color": "#FFA15A",
            "pattern": {
             "shape": ""
            }
           },
           "name": "P003",
           "offsetgroup": "P003",
           "orientation": "v",
           "showlegend": true,
           "textposition": "auto",
           "type": "bar",
           "x": [
            "P003",
            "P003",
            "P003",
            "P003"
           ],
           "xaxis": "x",
           "y": [
            19591.37,
            21302.11,
            28579.05,
            64364.89
           ],
           "yaxis": "y"
          },
          {
           "alignmentgroup": "True",
           "hovertemplate": "Product_id=%{x}<br>Date=2024-11-26 00:00:00<br>Cumulative Sales=%{y}<extra></extra>",
           "legendgroup": "P006",
           "marker": {
            "color": "#19d3f3",
            "pattern": {
             "shape": ""
            }
           },
           "name": "P006",
           "offsetgroup": "P006",
           "orientation": "v",
           "showlegend": true,
           "textposition": "auto",
           "type": "bar",
           "x": [
            "P006",
            "P006",
            "P006"
           ],
           "xaxis": "x",
           "y": [
            18426.44,
            43132.35,
            45242.1
           ],
           "yaxis": "y"
          },
          {
           "alignmentgroup": "True",
           "hovertemplate": "Product_id=%{x}<br>Date=2024-11-26 00:00:00<br>Cumulative Sales=%{y}<extra></extra>",
           "legendgroup": "P004",
           "marker": {
            "color": "#FF6692",
            "pattern": {
             "shape": ""
            }
           },
           "name": "P004",
           "offsetgroup": "P004",
           "orientation": "v",
           "showlegend": true,
           "textposition": "auto",
           "type": "bar",
           "x": [
            "P004",
            "P004",
            "P004",
            "P004"
           ],
           "xaxis": "x",
           "y": [
            41331.27,
            54780.43,
            59804.37,
            73792.9
           ],
           "yaxis": "y"
          },
          {
           "alignmentgroup": "True",
           "hovertemplate": "Product_id=%{x}<br>Date=2024-11-26 00:00:00<br>Cumulative Sales=%{y}<extra></extra>",
           "legendgroup": "P008",
           "marker": {
            "color": "#B6E880",
            "pattern": {
             "shape": ""
            }
           },
           "name": "P008",
           "offsetgroup": "P008",
           "orientation": "v",
           "showlegend": true,
           "textposition": "auto",
           "type": "bar",
           "x": [
            "P008",
            "P008",
            "P008",
            "P008",
            "P008"
           ],
           "xaxis": "x",
           "y": [
            7024.88,
            35701.3,
            38802.76,
            48710.12,
            66179.96
           ],
           "yaxis": "y"
          }
         ],
         "name": "2024-11-26 00:00:00"
        },
        {
         "data": [
          {
           "alignmentgroup": "True",
           "hovertemplate": "Product_id=%{x}<br>Date=2024-11-08 00:00:00<br>Cumulative Sales=%{y}<extra></extra>",
           "legendgroup": "P002",
           "marker": {
            "color": "#636efa",
            "pattern": {
             "shape": ""
            }
           },
           "name": "P002",
           "offsetgroup": "P002",
           "orientation": "v",
           "showlegend": true,
           "textposition": "auto",
           "type": "bar",
           "x": [
            "P002",
            "P002",
            "P002",
            "P002",
            "P002",
            "P002"
           ],
           "xaxis": "x",
           "y": [
            58182.44,
            77273.31,
            87762.67,
            117168.58,
            120316.91,
            123704.22
           ],
           "yaxis": "y"
          },
          {
           "alignmentgroup": "True",
           "hovertemplate": "Product_id=%{x}<br>Date=2024-11-08 00:00:00<br>Cumulative Sales=%{y}<extra></extra>",
           "legendgroup": "P005",
           "marker": {
            "color": "#EF553B",
            "pattern": {
             "shape": ""
            }
           },
           "name": "P005",
           "offsetgroup": "P005",
           "orientation": "v",
           "showlegend": true,
           "textposition": "auto",
           "type": "bar",
           "x": [
            "P005"
           ],
           "xaxis": "x",
           "y": [
            75895.58
           ],
           "yaxis": "y"
          },
          {
           "alignmentgroup": "True",
           "hovertemplate": "Product_id=%{x}<br>Date=2024-11-08 00:00:00<br>Cumulative Sales=%{y}<extra></extra>",
           "legendgroup": "P007",
           "marker": {
            "color": "#00cc96",
            "pattern": {
             "shape": ""
            }
           },
           "name": "P007",
           "offsetgroup": "P007",
           "orientation": "v",
           "showlegend": true,
           "textposition": "auto",
           "type": "bar",
           "x": [
            "P007",
            "P007",
            "P007",
            "P007"
           ],
           "xaxis": "x",
           "y": [
            20969.489999999998,
            33151.1,
            34868.68,
            68332.93
           ],
           "yaxis": "y"
          },
          {
           "alignmentgroup": "True",
           "hovertemplate": "Product_id=%{x}<br>Date=2024-11-08 00:00:00<br>Cumulative Sales=%{y}<extra></extra>",
           "legendgroup": "P001",
           "marker": {
            "color": "#ab63fa",
            "pattern": {
             "shape": ""
            }
           },
           "name": "P001",
           "offsetgroup": "P001",
           "orientation": "v",
           "showlegend": true,
           "textposition": "auto",
           "type": "bar",
           "x": [
            "P001",
            "P001"
           ],
           "xaxis": "x",
           "y": [
            22578.97,
            45487.94
           ],
           "yaxis": "y"
          },
          {
           "alignmentgroup": "True",
           "hovertemplate": "Product_id=%{x}<br>Date=2024-11-08 00:00:00<br>Cumulative Sales=%{y}<extra></extra>",
           "legendgroup": "P003",
           "marker": {
            "color": "#FFA15A",
            "pattern": {
             "shape": ""
            }
           },
           "name": "P003",
           "offsetgroup": "P003",
           "orientation": "v",
           "showlegend": true,
           "textposition": "auto",
           "type": "bar",
           "x": [
            "P003",
            "P003"
           ],
           "xaxis": "x",
           "y": [
            32174.11,
            49432.97
           ],
           "yaxis": "y"
          },
          {
           "alignmentgroup": "True",
           "hovertemplate": "Product_id=%{x}<br>Date=2024-11-08 00:00:00<br>Cumulative Sales=%{y}<extra></extra>",
           "legendgroup": "P006",
           "marker": {
            "color": "#19d3f3",
            "pattern": {
             "shape": ""
            }
           },
           "name": "P006",
           "offsetgroup": "P006",
           "orientation": "v",
           "showlegend": true,
           "textposition": "auto",
           "type": "bar",
           "x": [
            "P006",
            "P006",
            "P006"
           ],
           "xaxis": "x",
           "y": [
            8312.41,
            12442.449999999999,
            85110.83
           ],
           "yaxis": "y"
          },
          {
           "alignmentgroup": "True",
           "hovertemplate": "Product_id=%{x}<br>Date=2024-11-08 00:00:00<br>Cumulative Sales=%{y}<extra></extra>",
           "legendgroup": "P004",
           "marker": {
            "color": "#FF6692",
            "pattern": {
             "shape": ""
            }
           },
           "name": "P004",
           "offsetgroup": "P004",
           "orientation": "v",
           "showlegend": true,
           "textposition": "auto",
           "type": "bar",
           "x": [
            "P004",
            "P004",
            "P004",
            "P004",
            "P004"
           ],
           "xaxis": "x",
           "y": [
            24292.52,
            29654.88,
            50878.93,
            78283.7,
            86152.69
           ],
           "yaxis": "y"
          },
          {
           "alignmentgroup": "True",
           "hovertemplate": "Product_id=%{x}<br>Date=2024-11-08 00:00:00<br>Cumulative Sales=%{y}<extra></extra>",
           "legendgroup": "P008",
           "marker": {
            "color": "#B6E880",
            "pattern": {
             "shape": ""
            }
           },
           "name": "P008",
           "offsetgroup": "P008",
           "orientation": "v",
           "showlegend": true,
           "textposition": "auto",
           "type": "bar",
           "x": [
            "P008",
            "P008",
            "P008",
            "P008",
            "P008"
           ],
           "xaxis": "x",
           "y": [
            12460.43,
            25819.37,
            45670.89,
            80293.5,
            94122.77
           ],
           "yaxis": "y"
          }
         ],
         "name": "2024-11-08 00:00:00"
        }
       ],
       "layout": {
        "barmode": "relative",
        "legend": {
         "title": {
          "text": "Product_id"
         },
         "tracegroupgap": 0
        },
        "sliders": [
         {
          "active": 0,
          "currentvalue": {
           "prefix": "Date="
          },
          "len": 0.9,
          "pad": {
           "b": 10,
           "t": 60
          },
          "steps": [
           {
            "args": [
             [
              "2024-11-09 00:00:00"
             ],
             {
              "frame": {
               "duration": 0,
               "redraw": true
              },
              "fromcurrent": true,
              "mode": "immediate",
              "transition": {
               "duration": 0,
               "easing": "linear"
              }
             }
            ],
            "label": "2024-11-09 00:00:00",
            "method": "animate"
           },
           {
            "args": [
             [
              "2024-11-21 00:00:00"
             ],
             {
              "frame": {
               "duration": 0,
               "redraw": true
              },
              "fromcurrent": true,
              "mode": "immediate",
              "transition": {
               "duration": 0,
               "easing": "linear"
              }
             }
            ],
            "label": "2024-11-21 00:00:00",
            "method": "animate"
           },
           {
            "args": [
             [
              "2024-11-19 00:00:00"
             ],
             {
              "frame": {
               "duration": 0,
               "redraw": true
              },
              "fromcurrent": true,
              "mode": "immediate",
              "transition": {
               "duration": 0,
               "easing": "linear"
              }
             }
            ],
            "label": "2024-11-19 00:00:00",
            "method": "animate"
           },
           {
            "args": [
             [
              "2024-11-03 00:00:00"
             ],
             {
              "frame": {
               "duration": 0,
               "redraw": true
              },
              "fromcurrent": true,
              "mode": "immediate",
              "transition": {
               "duration": 0,
               "easing": "linear"
              }
             }
            ],
            "label": "2024-11-03 00:00:00",
            "method": "animate"
           },
           {
            "args": [
             [
              "2024-11-30 00:00:00"
             ],
             {
              "frame": {
               "duration": 0,
               "redraw": true
              },
              "fromcurrent": true,
              "mode": "immediate",
              "transition": {
               "duration": 0,
               "easing": "linear"
              }
             }
            ],
            "label": "2024-11-30 00:00:00",
            "method": "animate"
           },
           {
            "args": [
             [
              "2024-11-17 00:00:00"
             ],
             {
              "frame": {
               "duration": 0,
               "redraw": true
              },
              "fromcurrent": true,
              "mode": "immediate",
              "transition": {
               "duration": 0,
               "easing": "linear"
              }
             }
            ],
            "label": "2024-11-17 00:00:00",
            "method": "animate"
           },
           {
            "args": [
             [
              "2024-11-20 00:00:00"
             ],
             {
              "frame": {
               "duration": 0,
               "redraw": true
              },
              "fromcurrent": true,
              "mode": "immediate",
              "transition": {
               "duration": 0,
               "easing": "linear"
              }
             }
            ],
            "label": "2024-11-20 00:00:00",
            "method": "animate"
           },
           {
            "args": [
             [
              "2024-11-29 00:00:00"
             ],
             {
              "frame": {
               "duration": 0,
               "redraw": true
              },
              "fromcurrent": true,
              "mode": "immediate",
              "transition": {
               "duration": 0,
               "easing": "linear"
              }
             }
            ],
            "label": "2024-11-29 00:00:00",
            "method": "animate"
           },
           {
            "args": [
             [
              "2024-11-14 00:00:00"
             ],
             {
              "frame": {
               "duration": 0,
               "redraw": true
              },
              "fromcurrent": true,
              "mode": "immediate",
              "transition": {
               "duration": 0,
               "easing": "linear"
              }
             }
            ],
            "label": "2024-11-14 00:00:00",
            "method": "animate"
           },
           {
            "args": [
             [
              "2024-11-05 00:00:00"
             ],
             {
              "frame": {
               "duration": 0,
               "redraw": true
              },
              "fromcurrent": true,
              "mode": "immediate",
              "transition": {
               "duration": 0,
               "easing": "linear"
              }
             }
            ],
            "label": "2024-11-05 00:00:00",
            "method": "animate"
           },
           {
            "args": [
             [
              "2024-11-25 00:00:00"
             ],
             {
              "frame": {
               "duration": 0,
               "redraw": true
              },
              "fromcurrent": true,
              "mode": "immediate",
              "transition": {
               "duration": 0,
               "easing": "linear"
              }
             }
            ],
            "label": "2024-11-25 00:00:00",
            "method": "animate"
           },
           {
            "args": [
             [
              "2024-11-23 00:00:00"
             ],
             {
              "frame": {
               "duration": 0,
               "redraw": true
              },
              "fromcurrent": true,
              "mode": "immediate",
              "transition": {
               "duration": 0,
               "easing": "linear"
              }
             }
            ],
            "label": "2024-11-23 00:00:00",
            "method": "animate"
           },
           {
            "args": [
             [
              "2024-11-15 00:00:00"
             ],
             {
              "frame": {
               "duration": 0,
               "redraw": true
              },
              "fromcurrent": true,
              "mode": "immediate",
              "transition": {
               "duration": 0,
               "easing": "linear"
              }
             }
            ],
            "label": "2024-11-15 00:00:00",
            "method": "animate"
           },
           {
            "args": [
             [
              "2024-11-16 00:00:00"
             ],
             {
              "frame": {
               "duration": 0,
               "redraw": true
              },
              "fromcurrent": true,
              "mode": "immediate",
              "transition": {
               "duration": 0,
               "easing": "linear"
              }
             }
            ],
            "label": "2024-11-16 00:00:00",
            "method": "animate"
           },
           {
            "args": [
             [
              "2024-11-02 00:00:00"
             ],
             {
              "frame": {
               "duration": 0,
               "redraw": true
              },
              "fromcurrent": true,
              "mode": "immediate",
              "transition": {
               "duration": 0,
               "easing": "linear"
              }
             }
            ],
            "label": "2024-11-02 00:00:00",
            "method": "animate"
           },
           {
            "args": [
             [
              "2024-12-01 00:00:00"
             ],
             {
              "frame": {
               "duration": 0,
               "redraw": true
              },
              "fromcurrent": true,
              "mode": "immediate",
              "transition": {
               "duration": 0,
               "easing": "linear"
              }
             }
            ],
            "label": "2024-12-01 00:00:00",
            "method": "animate"
           },
           {
            "args": [
             [
              "2024-11-27 00:00:00"
             ],
             {
              "frame": {
               "duration": 0,
               "redraw": true
              },
              "fromcurrent": true,
              "mode": "immediate",
              "transition": {
               "duration": 0,
               "easing": "linear"
              }
             }
            ],
            "label": "2024-11-27 00:00:00",
            "method": "animate"
           },
           {
            "args": [
             [
              "2024-11-06 00:00:00"
             ],
             {
              "frame": {
               "duration": 0,
               "redraw": true
              },
              "fromcurrent": true,
              "mode": "immediate",
              "transition": {
               "duration": 0,
               "easing": "linear"
              }
             }
            ],
            "label": "2024-11-06 00:00:00",
            "method": "animate"
           },
           {
            "args": [
             [
              "2024-11-10 00:00:00"
             ],
             {
              "frame": {
               "duration": 0,
               "redraw": true
              },
              "fromcurrent": true,
              "mode": "immediate",
              "transition": {
               "duration": 0,
               "easing": "linear"
              }
             }
            ],
            "label": "2024-11-10 00:00:00",
            "method": "animate"
           },
           {
            "args": [
             [
              "2024-11-22 00:00:00"
             ],
             {
              "frame": {
               "duration": 0,
               "redraw": true
              },
              "fromcurrent": true,
              "mode": "immediate",
              "transition": {
               "duration": 0,
               "easing": "linear"
              }
             }
            ],
            "label": "2024-11-22 00:00:00",
            "method": "animate"
           },
           {
            "args": [
             [
              "2024-11-28 00:00:00"
             ],
             {
              "frame": {
               "duration": 0,
               "redraw": true
              },
              "fromcurrent": true,
              "mode": "immediate",
              "transition": {
               "duration": 0,
               "easing": "linear"
              }
             }
            ],
            "label": "2024-11-28 00:00:00",
            "method": "animate"
           },
           {
            "args": [
             [
              "2024-11-13 00:00:00"
             ],
             {
              "frame": {
               "duration": 0,
               "redraw": true
              },
              "fromcurrent": true,
              "mode": "immediate",
              "transition": {
               "duration": 0,
               "easing": "linear"
              }
             }
            ],
            "label": "2024-11-13 00:00:00",
            "method": "animate"
           },
           {
            "args": [
             [
              "2024-11-04 00:00:00"
             ],
             {
              "frame": {
               "duration": 0,
               "redraw": true
              },
              "fromcurrent": true,
              "mode": "immediate",
              "transition": {
               "duration": 0,
               "easing": "linear"
              }
             }
            ],
            "label": "2024-11-04 00:00:00",
            "method": "animate"
           },
           {
            "args": [
             [
              "2024-11-11 00:00:00"
             ],
             {
              "frame": {
               "duration": 0,
               "redraw": true
              },
              "fromcurrent": true,
              "mode": "immediate",
              "transition": {
               "duration": 0,
               "easing": "linear"
              }
             }
            ],
            "label": "2024-11-11 00:00:00",
            "method": "animate"
           },
           {
            "args": [
             [
              "2024-11-18 00:00:00"
             ],
             {
              "frame": {
               "duration": 0,
               "redraw": true
              },
              "fromcurrent": true,
              "mode": "immediate",
              "transition": {
               "duration": 0,
               "easing": "linear"
              }
             }
            ],
            "label": "2024-11-18 00:00:00",
            "method": "animate"
           },
           {
            "args": [
             [
              "2024-11-24 00:00:00"
             ],
             {
              "frame": {
               "duration": 0,
               "redraw": true
              },
              "fromcurrent": true,
              "mode": "immediate",
              "transition": {
               "duration": 0,
               "easing": "linear"
              }
             }
            ],
            "label": "2024-11-24 00:00:00",
            "method": "animate"
           },
           {
            "args": [
             [
              "2024-11-12 00:00:00"
             ],
             {
              "frame": {
               "duration": 0,
               "redraw": true
              },
              "fromcurrent": true,
              "mode": "immediate",
              "transition": {
               "duration": 0,
               "easing": "linear"
              }
             }
            ],
            "label": "2024-11-12 00:00:00",
            "method": "animate"
           },
           {
            "args": [
             [
              "2024-11-01 00:00:00"
             ],
             {
              "frame": {
               "duration": 0,
               "redraw": true
              },
              "fromcurrent": true,
              "mode": "immediate",
              "transition": {
               "duration": 0,
               "easing": "linear"
              }
             }
            ],
            "label": "2024-11-01 00:00:00",
            "method": "animate"
           },
           {
            "args": [
             [
              "2024-11-07 00:00:00"
             ],
             {
              "frame": {
               "duration": 0,
               "redraw": true
              },
              "fromcurrent": true,
              "mode": "immediate",
              "transition": {
               "duration": 0,
               "easing": "linear"
              }
             }
            ],
            "label": "2024-11-07 00:00:00",
            "method": "animate"
           },
           {
            "args": [
             [
              "2024-11-26 00:00:00"
             ],
             {
              "frame": {
               "duration": 0,
               "redraw": true
              },
              "fromcurrent": true,
              "mode": "immediate",
              "transition": {
               "duration": 0,
               "easing": "linear"
              }
             }
            ],
            "label": "2024-11-26 00:00:00",
            "method": "animate"
           },
           {
            "args": [
             [
              "2024-11-08 00:00:00"
             ],
             {
              "frame": {
               "duration": 0,
               "redraw": true
              },
              "fromcurrent": true,
              "mode": "immediate",
              "transition": {
               "duration": 0,
               "easing": "linear"
              }
             }
            ],
            "label": "2024-11-08 00:00:00",
            "method": "animate"
           }
          ],
          "x": 0.1,
          "xanchor": "left",
          "y": 0,
          "yanchor": "top"
         }
        ],
        "template": {
         "data": {
          "bar": [
           {
            "error_x": {
             "color": "#2a3f5f"
            },
            "error_y": {
             "color": "#2a3f5f"
            },
            "marker": {
             "line": {
              "color": "#E5ECF6",
              "width": 0.5
             },
             "pattern": {
              "fillmode": "overlay",
              "size": 10,
              "solidity": 0.2
             }
            },
            "type": "bar"
           }
          ],
          "barpolar": [
           {
            "marker": {
             "line": {
              "color": "#E5ECF6",
              "width": 0.5
             },
             "pattern": {
              "fillmode": "overlay",
              "size": 10,
              "solidity": 0.2
             }
            },
            "type": "barpolar"
           }
          ],
          "carpet": [
           {
            "aaxis": {
             "endlinecolor": "#2a3f5f",
             "gridcolor": "white",
             "linecolor": "white",
             "minorgridcolor": "white",
             "startlinecolor": "#2a3f5f"
            },
            "baxis": {
             "endlinecolor": "#2a3f5f",
             "gridcolor": "white",
             "linecolor": "white",
             "minorgridcolor": "white",
             "startlinecolor": "#2a3f5f"
            },
            "type": "carpet"
           }
          ],
          "choropleth": [
           {
            "colorbar": {
             "outlinewidth": 0,
             "ticks": ""
            },
            "type": "choropleth"
           }
          ],
          "contour": [
           {
            "colorbar": {
             "outlinewidth": 0,
             "ticks": ""
            },
            "colorscale": [
             [
              0,
              "#0d0887"
             ],
             [
              0.1111111111111111,
              "#46039f"
             ],
             [
              0.2222222222222222,
              "#7201a8"
             ],
             [
              0.3333333333333333,
              "#9c179e"
             ],
             [
              0.4444444444444444,
              "#bd3786"
             ],
             [
              0.5555555555555556,
              "#d8576b"
             ],
             [
              0.6666666666666666,
              "#ed7953"
             ],
             [
              0.7777777777777778,
              "#fb9f3a"
             ],
             [
              0.8888888888888888,
              "#fdca26"
             ],
             [
              1,
              "#f0f921"
             ]
            ],
            "type": "contour"
           }
          ],
          "contourcarpet": [
           {
            "colorbar": {
             "outlinewidth": 0,
             "ticks": ""
            },
            "type": "contourcarpet"
           }
          ],
          "heatmap": [
           {
            "colorbar": {
             "outlinewidth": 0,
             "ticks": ""
            },
            "colorscale": [
             [
              0,
              "#0d0887"
             ],
             [
              0.1111111111111111,
              "#46039f"
             ],
             [
              0.2222222222222222,
              "#7201a8"
             ],
             [
              0.3333333333333333,
              "#9c179e"
             ],
             [
              0.4444444444444444,
              "#bd3786"
             ],
             [
              0.5555555555555556,
              "#d8576b"
             ],
             [
              0.6666666666666666,
              "#ed7953"
             ],
             [
              0.7777777777777778,
              "#fb9f3a"
             ],
             [
              0.8888888888888888,
              "#fdca26"
             ],
             [
              1,
              "#f0f921"
             ]
            ],
            "type": "heatmap"
           }
          ],
          "heatmapgl": [
           {
            "colorbar": {
             "outlinewidth": 0,
             "ticks": ""
            },
            "colorscale": [
             [
              0,
              "#0d0887"
             ],
             [
              0.1111111111111111,
              "#46039f"
             ],
             [
              0.2222222222222222,
              "#7201a8"
             ],
             [
              0.3333333333333333,
              "#9c179e"
             ],
             [
              0.4444444444444444,
              "#bd3786"
             ],
             [
              0.5555555555555556,
              "#d8576b"
             ],
             [
              0.6666666666666666,
              "#ed7953"
             ],
             [
              0.7777777777777778,
              "#fb9f3a"
             ],
             [
              0.8888888888888888,
              "#fdca26"
             ],
             [
              1,
              "#f0f921"
             ]
            ],
            "type": "heatmapgl"
           }
          ],
          "histogram": [
           {
            "marker": {
             "pattern": {
              "fillmode": "overlay",
              "size": 10,
              "solidity": 0.2
             }
            },
            "type": "histogram"
           }
          ],
          "histogram2d": [
           {
            "colorbar": {
             "outlinewidth": 0,
             "ticks": ""
            },
            "colorscale": [
             [
              0,
              "#0d0887"
             ],
             [
              0.1111111111111111,
              "#46039f"
             ],
             [
              0.2222222222222222,
              "#7201a8"
             ],
             [
              0.3333333333333333,
              "#9c179e"
             ],
             [
              0.4444444444444444,
              "#bd3786"
             ],
             [
              0.5555555555555556,
              "#d8576b"
             ],
             [
              0.6666666666666666,
              "#ed7953"
             ],
             [
              0.7777777777777778,
              "#fb9f3a"
             ],
             [
              0.8888888888888888,
              "#fdca26"
             ],
             [
              1,
              "#f0f921"
             ]
            ],
            "type": "histogram2d"
           }
          ],
          "histogram2dcontour": [
           {
            "colorbar": {
             "outlinewidth": 0,
             "ticks": ""
            },
            "colorscale": [
             [
              0,
              "#0d0887"
             ],
             [
              0.1111111111111111,
              "#46039f"
             ],
             [
              0.2222222222222222,
              "#7201a8"
             ],
             [
              0.3333333333333333,
              "#9c179e"
             ],
             [
              0.4444444444444444,
              "#bd3786"
             ],
             [
              0.5555555555555556,
              "#d8576b"
             ],
             [
              0.6666666666666666,
              "#ed7953"
             ],
             [
              0.7777777777777778,
              "#fb9f3a"
             ],
             [
              0.8888888888888888,
              "#fdca26"
             ],
             [
              1,
              "#f0f921"
             ]
            ],
            "type": "histogram2dcontour"
           }
          ],
          "mesh3d": [
           {
            "colorbar": {
             "outlinewidth": 0,
             "ticks": ""
            },
            "type": "mesh3d"
           }
          ],
          "parcoords": [
           {
            "line": {
             "colorbar": {
              "outlinewidth": 0,
              "ticks": ""
             }
            },
            "type": "parcoords"
           }
          ],
          "pie": [
           {
            "automargin": true,
            "type": "pie"
           }
          ],
          "scatter": [
           {
            "fillpattern": {
             "fillmode": "overlay",
             "size": 10,
             "solidity": 0.2
            },
            "type": "scatter"
           }
          ],
          "scatter3d": [
           {
            "line": {
             "colorbar": {
              "outlinewidth": 0,
              "ticks": ""
             }
            },
            "marker": {
             "colorbar": {
              "outlinewidth": 0,
              "ticks": ""
             }
            },
            "type": "scatter3d"
           }
          ],
          "scattercarpet": [
           {
            "marker": {
             "colorbar": {
              "outlinewidth": 0,
              "ticks": ""
             }
            },
            "type": "scattercarpet"
           }
          ],
          "scattergeo": [
           {
            "marker": {
             "colorbar": {
              "outlinewidth": 0,
              "ticks": ""
             }
            },
            "type": "scattergeo"
           }
          ],
          "scattergl": [
           {
            "marker": {
             "colorbar": {
              "outlinewidth": 0,
              "ticks": ""
             }
            },
            "type": "scattergl"
           }
          ],
          "scattermapbox": [
           {
            "marker": {
             "colorbar": {
              "outlinewidth": 0,
              "ticks": ""
             }
            },
            "type": "scattermapbox"
           }
          ],
          "scatterpolar": [
           {
            "marker": {
             "colorbar": {
              "outlinewidth": 0,
              "ticks": ""
             }
            },
            "type": "scatterpolar"
           }
          ],
          "scatterpolargl": [
           {
            "marker": {
             "colorbar": {
              "outlinewidth": 0,
              "ticks": ""
             }
            },
            "type": "scatterpolargl"
           }
          ],
          "scatterternary": [
           {
            "marker": {
             "colorbar": {
              "outlinewidth": 0,
              "ticks": ""
             }
            },
            "type": "scatterternary"
           }
          ],
          "surface": [
           {
            "colorbar": {
             "outlinewidth": 0,
             "ticks": ""
            },
            "colorscale": [
             [
              0,
              "#0d0887"
             ],
             [
              0.1111111111111111,
              "#46039f"
             ],
             [
              0.2222222222222222,
              "#7201a8"
             ],
             [
              0.3333333333333333,
              "#9c179e"
             ],
             [
              0.4444444444444444,
              "#bd3786"
             ],
             [
              0.5555555555555556,
              "#d8576b"
             ],
             [
              0.6666666666666666,
              "#ed7953"
             ],
             [
              0.7777777777777778,
              "#fb9f3a"
             ],
             [
              0.8888888888888888,
              "#fdca26"
             ],
             [
              1,
              "#f0f921"
             ]
            ],
            "type": "surface"
           }
          ],
          "table": [
           {
            "cells": {
             "fill": {
              "color": "#EBF0F8"
             },
             "line": {
              "color": "white"
             }
            },
            "header": {
             "fill": {
              "color": "#C8D4E3"
             },
             "line": {
              "color": "white"
             }
            },
            "type": "table"
           }
          ]
         },
         "layout": {
          "annotationdefaults": {
           "arrowcolor": "#2a3f5f",
           "arrowhead": 0,
           "arrowwidth": 1
          },
          "autotypenumbers": "strict",
          "coloraxis": {
           "colorbar": {
            "outlinewidth": 0,
            "ticks": ""
           }
          },
          "colorscale": {
           "diverging": [
            [
             0,
             "#8e0152"
            ],
            [
             0.1,
             "#c51b7d"
            ],
            [
             0.2,
             "#de77ae"
            ],
            [
             0.3,
             "#f1b6da"
            ],
            [
             0.4,
             "#fde0ef"
            ],
            [
             0.5,
             "#f7f7f7"
            ],
            [
             0.6,
             "#e6f5d0"
            ],
            [
             0.7,
             "#b8e186"
            ],
            [
             0.8,
             "#7fbc41"
            ],
            [
             0.9,
             "#4d9221"
            ],
            [
             1,
             "#276419"
            ]
           ],
           "sequential": [
            [
             0,
             "#0d0887"
            ],
            [
             0.1111111111111111,
             "#46039f"
            ],
            [
             0.2222222222222222,
             "#7201a8"
            ],
            [
             0.3333333333333333,
             "#9c179e"
            ],
            [
             0.4444444444444444,
             "#bd3786"
            ],
            [
             0.5555555555555556,
             "#d8576b"
            ],
            [
             0.6666666666666666,
             "#ed7953"
            ],
            [
             0.7777777777777778,
             "#fb9f3a"
            ],
            [
             0.8888888888888888,
             "#fdca26"
            ],
            [
             1,
             "#f0f921"
            ]
           ],
           "sequentialminus": [
            [
             0,
             "#0d0887"
            ],
            [
             0.1111111111111111,
             "#46039f"
            ],
            [
             0.2222222222222222,
             "#7201a8"
            ],
            [
             0.3333333333333333,
             "#9c179e"
            ],
            [
             0.4444444444444444,
             "#bd3786"
            ],
            [
             0.5555555555555556,
             "#d8576b"
            ],
            [
             0.6666666666666666,
             "#ed7953"
            ],
            [
             0.7777777777777778,
             "#fb9f3a"
            ],
            [
             0.8888888888888888,
             "#fdca26"
            ],
            [
             1,
             "#f0f921"
            ]
           ]
          },
          "colorway": [
           "#636efa",
           "#EF553B",
           "#00cc96",
           "#ab63fa",
           "#FFA15A",
           "#19d3f3",
           "#FF6692",
           "#B6E880",
           "#FF97FF",
           "#FECB52"
          ],
          "font": {
           "color": "#2a3f5f"
          },
          "geo": {
           "bgcolor": "white",
           "lakecolor": "white",
           "landcolor": "#E5ECF6",
           "showlakes": true,
           "showland": true,
           "subunitcolor": "white"
          },
          "hoverlabel": {
           "align": "left"
          },
          "hovermode": "closest",
          "mapbox": {
           "style": "light"
          },
          "paper_bgcolor": "white",
          "plot_bgcolor": "#E5ECF6",
          "polar": {
           "angularaxis": {
            "gridcolor": "white",
            "linecolor": "white",
            "ticks": ""
           },
           "bgcolor": "#E5ECF6",
           "radialaxis": {
            "gridcolor": "white",
            "linecolor": "white",
            "ticks": ""
           }
          },
          "scene": {
           "xaxis": {
            "backgroundcolor": "#E5ECF6",
            "gridcolor": "white",
            "gridwidth": 2,
            "linecolor": "white",
            "showbackground": true,
            "ticks": "",
            "zerolinecolor": "white"
           },
           "yaxis": {
            "backgroundcolor": "#E5ECF6",
            "gridcolor": "white",
            "gridwidth": 2,
            "linecolor": "white",
            "showbackground": true,
            "ticks": "",
            "zerolinecolor": "white"
           },
           "zaxis": {
            "backgroundcolor": "#E5ECF6",
            "gridcolor": "white",
            "gridwidth": 2,
            "linecolor": "white",
            "showbackground": true,
            "ticks": "",
            "zerolinecolor": "white"
           }
          },
          "shapedefaults": {
           "line": {
            "color": "#2a3f5f"
           }
          },
          "ternary": {
           "aaxis": {
            "gridcolor": "white",
            "linecolor": "white",
            "ticks": ""
           },
           "baxis": {
            "gridcolor": "white",
            "linecolor": "white",
            "ticks": ""
           },
           "bgcolor": "#E5ECF6",
           "caxis": {
            "gridcolor": "white",
            "linecolor": "white",
            "ticks": ""
           }
          },
          "title": {
           "x": 0.05
          },
          "xaxis": {
           "automargin": true,
           "gridcolor": "white",
           "linecolor": "white",
           "ticks": "",
           "title": {
            "standoff": 15
           },
           "zerolinecolor": "white",
           "zerolinewidth": 2
          },
          "yaxis": {
           "automargin": true,
           "gridcolor": "white",
           "linecolor": "white",
           "ticks": "",
           "title": {
            "standoff": 15
           },
           "zerolinecolor": "white",
           "zerolinewidth": 2
          }
         }
        },
        "title": {
         "text": "Cumulative Sales of Products Over Time"
        },
        "updatemenus": [
         {
          "buttons": [
           {
            "args": [
             null,
             {
              "frame": {
               "duration": 500,
               "redraw": true
              },
              "fromcurrent": true,
              "mode": "immediate",
              "transition": {
               "duration": 500,
               "easing": "linear"
              }
             }
            ],
            "label": "&#9654;",
            "method": "animate"
           },
           {
            "args": [
             [
              null
             ],
             {
              "frame": {
               "duration": 0,
               "redraw": true
              },
              "fromcurrent": true,
              "mode": "immediate",
              "transition": {
               "duration": 0,
               "easing": "linear"
              }
             }
            ],
            "label": "&#9724;",
            "method": "animate"
           }
          ],
          "direction": "left",
          "pad": {
           "r": 10,
           "t": 70
          },
          "showactive": false,
          "type": "buttons",
          "x": 0.1,
          "xanchor": "right",
          "y": 0,
          "yanchor": "top"
         }
        ],
        "xaxis": {
         "anchor": "y",
         "categoryarray": [
          "P002",
          "P005",
          "P007",
          "P001",
          "P003",
          "P006",
          "P004",
          "P008"
         ],
         "categoryorder": "array",
         "domain": [
          0,
          1
         ],
         "title": {
          "text": "Product_id"
         }
        },
        "yaxis": {
         "anchor": "x",
         "domain": [
          0,
          1
         ],
         "range": [
          0,
          188163.68
         ],
         "title": {
          "text": "Cumulative Sales"
         }
        }
       }
      }
     },
     "metadata": {},
     "output_type": "display_data"
    }
   ],
   "source": [
    "# Calculate cumulative sales over time for each product\n",
    "df['Cumulative Sales'] = df.groupby('Product_id')['Sales Amount'].cumsum()\n",
    "\n",
    "fig = px.bar(\n",
    "    df, x='Product_id', y='Cumulative Sales', animation_frame='Date', color='Product_id',\n",
    "    title=\"Cumulative Sales of Products Over Time\",\n",
    "    range_y=[0, df['Cumulative Sales'].max()]\n",
    ")\n",
    "fig.show()\n"
   ]
  },
  {
   "cell_type": "markdown",
   "metadata": {},
   "source": [
    " Sales Amount by Customer Segment and Discount Level (Interactive Box Plot)"
   ]
  },
  {
   "cell_type": "code",
   "execution_count": null,
   "metadata": {},
   "outputs": [
    {
     "name": "stderr",
     "output_type": "stream",
     "text": [
      "c:\\Users\\Abhay\\anaconda3\\envs\\EDA\\lib\\site-packages\\plotly\\express\\_core.py:1985: FutureWarning:\n",
      "\n",
      "When grouping with a length-1 list-like, you will need to pass a length-1 tuple to get_group in a future version of pandas. Pass `(name,)` instead of `name` to silence this warning.\n",
      "\n"
     ]
    },
    {
     "data": {
      "application/vnd.plotly.v1+json": {
       "config": {
        "plotlyServerURL": "https://plot.ly"
       },
       "data": [
        {
         "alignmentgroup": "True",
         "boxpoints": "all",
         "hovertemplate": "Customer Segment=%{x}<br>Sales Amount=%{y}<extra></extra>",
         "legendgroup": "New",
         "marker": {
          "color": "#636efa"
         },
         "name": "New",
         "notched": false,
         "offsetgroup": "New",
         "orientation": "v",
         "showlegend": true,
         "type": "box",
         "x": [
          "New",
          "New",
          "New",
          "New",
          "New",
          "New",
          "New",
          "New",
          "New",
          "New",
          "New",
          "New",
          "New",
          "New",
          "New",
          "New",
          "New",
          "New",
          "New",
          "New",
          "New",
          "New",
          "New",
          "New",
          "New",
          "New",
          "New",
          "New",
          "New",
          "New",
          "New",
          "New",
          "New",
          "New",
          "New",
          "New",
          "New",
          "New",
          "New",
          "New",
          "New",
          "New",
          "New",
          "New",
          "New",
          "New",
          "New",
          "New",
          "New",
          "New",
          "New",
          "New",
          "New",
          "New",
          "New",
          "New",
          "New",
          "New",
          "New",
          "New",
          "New",
          "New",
          "New",
          "New",
          "New",
          "New",
          "New",
          "New",
          "New",
          "New",
          "New",
          "New",
          "New",
          "New",
          "New",
          "New",
          "New",
          "New",
          "New",
          "New",
          "New",
          "New",
          "New",
          "New",
          "New",
          "New",
          "New",
          "New",
          "New",
          "New",
          "New",
          "New",
          "New",
          "New",
          "New",
          "New",
          "New",
          "New",
          "New",
          "New",
          "New",
          "New",
          "New",
          "New",
          "New",
          "New",
          "New",
          "New",
          "New",
          "New",
          "New",
          "New",
          "New",
          "New",
          "New",
          "New",
          "New",
          "New",
          "New",
          "New",
          "New",
          "New",
          "New",
          "New",
          "New",
          "New",
          "New",
          "New",
          "New",
          "New",
          "New",
          "New",
          "New",
          "New",
          "New",
          "New",
          "New",
          "New",
          "New",
          "New",
          "New",
          "New",
          "New",
          "New",
          "New",
          "New",
          "New",
          "New",
          "New",
          "New",
          "New",
          "New",
          "New",
          "New",
          "New",
          "New",
          "New",
          "New",
          "New",
          "New",
          "New",
          "New",
          "New",
          "New",
          "New",
          "New",
          "New",
          "New",
          "New",
          "New",
          "New",
          "New",
          "New",
          "New",
          "New",
          "New",
          "New",
          "New",
          "New",
          "New",
          "New",
          "New",
          "New",
          "New",
          "New",
          "New",
          "New",
          "New",
          "New",
          "New",
          "New",
          "New",
          "New",
          "New",
          "New",
          "New",
          "New",
          "New",
          "New",
          "New",
          "New",
          "New",
          "New",
          "New",
          "New",
          "New",
          "New",
          "New",
          "New",
          "New",
          "New",
          "New",
          "New",
          "New",
          "New",
          "New",
          "New",
          "New",
          "New",
          "New",
          "New",
          "New",
          "New",
          "New",
          "New",
          "New",
          "New",
          "New",
          "New",
          "New",
          "New",
          "New",
          "New",
          "New",
          "New",
          "New",
          "New",
          "New",
          "New",
          "New",
          "New",
          "New",
          "New",
          "New",
          "New",
          "New",
          "New",
          "New",
          "New",
          "New",
          "New",
          "New",
          "New",
          "New",
          "New",
          "New",
          "New",
          "New",
          "New",
          "New",
          "New",
          "New",
          "New",
          "New",
          "New",
          "New",
          "New",
          "New",
          "New",
          "New",
          "New",
          "New",
          "New",
          "New",
          "New",
          "New",
          "New",
          "New",
          "New",
          "New",
          "New",
          "New",
          "New",
          "New",
          "New",
          "New",
          "New",
          "New",
          "New",
          "New",
          "New",
          "New",
          "New",
          "New",
          "New",
          "New",
          "New",
          "New",
          "New",
          "New",
          "New",
          "New",
          "New",
          "New",
          "New",
          "New",
          "New",
          "New",
          "New",
          "New",
          "New",
          "New",
          "New",
          "New",
          "New",
          "New",
          "New",
          "New",
          "New",
          "New",
          "New",
          "New",
          "New",
          "New",
          "New",
          "New",
          "New",
          "New",
          "New",
          "New",
          "New",
          "New",
          "New",
          "New",
          "New",
          "New",
          "New",
          "New",
          "New",
          "New",
          "New",
          "New",
          "New",
          "New",
          "New",
          "New",
          "New",
          "New",
          "New",
          "New",
          "New",
          "New",
          "New",
          "New",
          "New",
          "New",
          "New",
          "New",
          "New",
          "New",
          "New",
          "New",
          "New",
          "New",
          "New",
          "New",
          "New",
          "New",
          "New",
          "New",
          "New",
          "New",
          "New",
          "New",
          "New",
          "New",
          "New",
          "New",
          "New",
          "New",
          "New",
          "New",
          "New",
          "New",
          "New",
          "New",
          "New",
          "New",
          "New",
          "New",
          "New",
          "New",
          "New",
          "New",
          "New",
          "New",
          "New",
          "New",
          "New",
          "New",
          "New",
          "New",
          "New",
          "New",
          "New",
          "New",
          "New",
          "New",
          "New",
          "New",
          "New",
          "New",
          "New",
          "New",
          "New",
          "New",
          "New",
          "New",
          "New",
          "New",
          "New",
          "New",
          "New",
          "New",
          "New",
          "New"
         ],
         "x0": " ",
         "xaxis": "x",
         "y": [
          199.57,
          1279.78,
          1316.87,
          1404.44,
          891.87,
          674.88,
          1281.82,
          385.23,
          1348.09,
          438.41,
          837.13,
          1317.45,
          813.67,
          813.67,
          585.31,
          1194.64,
          212.69,
          1483.87,
          1497.49,
          872.92,
          897.22,
          674.2,
          910.15,
          1394.34,
          1117.71,
          251.99,
          701.51,
          917.71,
          308.8,
          630.61,
          1153.9,
          813.67,
          413.82,
          813.67,
          365.05,
          813.67,
          458.64,
          968.53,
          340.01,
          813.67,
          860.36,
          998.21,
          1333.28,
          1434.73,
          1169.43,
          1286.08,
          1278.68,
          938.15,
          1327.67,
          1400.37,
          236.43,
          519.42,
          1115.2,
          1017.93,
          1187.94,
          1225.52,
          813.67,
          909.59,
          813.67,
          1052.26,
          235.73,
          855.53,
          1299.13,
          1390.71,
          515.29,
          102.29,
          813.67,
          1398.07,
          1255.91,
          1397.66,
          1003.85,
          1107.91,
          328.41,
          1238.7,
          1106.84,
          813.67,
          1100.19,
          1219.58,
          1251.9,
          547.97,
          1370.01,
          767.8,
          1160.64,
          1086.47,
          564.25,
          1025.59,
          196.87,
          226.17,
          979.46,
          1456.08,
          919.26,
          1442.95,
          777.24,
          1107.4,
          444.7,
          698.49,
          241.38,
          770.75,
          321.5,
          442.29,
          456.69,
          1226.71,
          967.95,
          1450.42,
          946.35,
          331.14,
          1215.8,
          966.99,
          445.74,
          335.13,
          941.45,
          1196.37,
          511.98,
          598.3,
          1057.96,
          478.75,
          1040.85,
          1440.91,
          160.36,
          404.06,
          974.72,
          1264.79,
          813.67,
          423.82,
          680.31,
          1371.52,
          855.75,
          110.7,
          823.64,
          334.31,
          994.79,
          1289.36,
          911.37,
          1299.4,
          298.75,
          467.52,
          1375.02,
          978.24,
          1383.85,
          1355.91,
          622.57,
          1287.05,
          659.76,
          638.79,
          547.52,
          1323.43,
          583.37,
          1076.33,
          701.45,
          794.68,
          999.1,
          464.06,
          455.14,
          1332.05,
          657.68,
          705.18,
          1486.82,
          774.58,
          435.16,
          494.02,
          1353.2,
          100.99,
          144.09,
          1419.86,
          377.87,
          783.63,
          123.76,
          730.21,
          1351.81,
          406.96,
          691.86,
          749.6,
          672.19,
          413.23,
          670.69,
          813.67,
          659.63,
          321.72,
          1087.62,
          384.63,
          1228.59,
          686.4,
          1166.7,
          813.67,
          181.34,
          578.77,
          1050.44,
          1479.12,
          1013.86,
          501.94,
          1350.57,
          702.72,
          978.73,
          570.4,
          912.97,
          1030.44,
          421.25,
          1160.99,
          1032.34,
          813.67,
          598.69,
          605.95,
          794.81,
          622.82,
          488.22,
          861.08,
          757.06,
          1024.32,
          347.17,
          261.55,
          685.17,
          813.67,
          1171.13,
          1307.03,
          168.48,
          813.67,
          736.49,
          813.67,
          1298.84,
          515.61,
          553.09,
          381.24,
          813.67,
          813.67,
          857.57,
          102.93,
          813.67,
          309.24,
          527.37,
          946.74,
          982.16,
          608.42,
          215.89,
          262.87,
          451.86,
          138.54,
          813.67,
          1309.94,
          1105.01,
          1324.47,
          397.81,
          1076.13,
          813.67,
          1162.07,
          285.75,
          1211.75,
          1380.99,
          1009.38,
          380.34,
          463.87,
          1472.33,
          813.67,
          193.05,
          1277.64,
          549.78,
          585.1,
          562.19,
          1478.48,
          246.46,
          776.51,
          1018.85,
          493.01,
          813.67,
          788.83,
          673.35,
          596.68,
          1114.79,
          460.88,
          813.67,
          403.07,
          421.54,
          813.67,
          536.57,
          751.6,
          813.67,
          144.9,
          662.25,
          1119.18,
          611.26,
          1004.24,
          1094.46,
          334.91,
          1245.89,
          1360.56,
          1329.48,
          889.85,
          709.78,
          1064.65,
          444.95,
          1069.5,
          135.64,
          806.52,
          1262.59,
          311.26,
          816.03,
          813.67,
          813.67,
          638.57,
          1355.21,
          813.67,
          1151.46,
          813.67,
          729.4,
          134.97,
          171.57,
          725.15,
          1152.5,
          1070.58,
          1097.21,
          1122.05,
          1120.51,
          607.62,
          585.44,
          703.01,
          1333.22,
          1338.57,
          1396.19,
          1489.05,
          226.8,
          189.4,
          586.9,
          287.46,
          908.29,
          1008.99,
          1337.2,
          1137.07,
          1394.28,
          555.68,
          1299.27,
          239.91,
          1498.36,
          658.27,
          298.23,
          813.67,
          323.35,
          318.89,
          1321.88,
          997.04,
          1343.29,
          1126.76,
          849.1,
          813.67,
          418.98,
          1437.16,
          900.5,
          775.66,
          1041.85,
          749.79,
          1049.87,
          998.29,
          813.67,
          834.18,
          153.66,
          813.67,
          1272.38,
          361.71,
          526.71,
          1144.37,
          759.5,
          409.69,
          866.29,
          387.97,
          384.57,
          813.67,
          962.82,
          1046.34,
          1472.73,
          1143.81,
          934.34,
          813.67,
          425.56,
          999.63,
          728.11,
          321.04,
          226.17,
          813.67,
          166,
          670.19,
          1496.7,
          319.65,
          612.36,
          879.98,
          187.26,
          813.67,
          680.03,
          989.35,
          1293.79,
          813.67,
          952.98,
          1262,
          349.42,
          409.34,
          500.26,
          969.15,
          512.19,
          1340.78,
          759.17,
          1446.64,
          737.9,
          1424.61,
          332.3,
          813.67,
          382.31,
          813.67,
          820.8,
          999.23,
          485.64,
          858.35,
          910.61,
          585.92,
          485.33,
          865.1,
          534.57,
          476.64,
          1432.55,
          1228.92,
          683.51,
          581.96,
          710.33,
          402.92,
          387.18,
          705.55,
          897.42,
          998.53,
          1348.04,
          1052.76
         ],
         "y0": " ",
         "yaxis": "y"
        },
        {
         "alignmentgroup": "True",
         "boxpoints": "all",
         "hovertemplate": "Customer Segment=%{x}<br>Sales Amount=%{y}<extra></extra>",
         "legendgroup": "Regular",
         "marker": {
          "color": "#EF553B"
         },
         "name": "Regular",
         "notched": false,
         "offsetgroup": "Regular",
         "orientation": "v",
         "showlegend": true,
         "type": "box",
         "x": [
          "Regular",
          "Regular",
          "Regular",
          "Regular",
          "Regular",
          "Regular",
          "Regular",
          "Regular",
          "Regular",
          "Regular",
          "Regular",
          "Regular",
          "Regular",
          "Regular",
          "Regular",
          "Regular",
          "Regular",
          "Regular",
          "Regular",
          "Regular",
          "Regular",
          "Regular",
          "Regular",
          "Regular",
          "Regular",
          "Regular",
          "Regular",
          "Regular",
          "Regular",
          "Regular",
          "Regular",
          "Regular",
          "Regular",
          "Regular",
          "Regular",
          "Regular",
          "Regular",
          "Regular",
          "Regular",
          "Regular",
          "Regular",
          "Regular",
          "Regular",
          "Regular",
          "Regular",
          "Regular",
          "Regular",
          "Regular",
          "Regular",
          "Regular",
          "Regular",
          "Regular",
          "Regular",
          "Regular",
          "Regular",
          "Regular",
          "Regular",
          "Regular",
          "Regular",
          "Regular",
          "Regular",
          "Regular",
          "Regular",
          "Regular",
          "Regular",
          "Regular",
          "Regular",
          "Regular",
          "Regular",
          "Regular",
          "Regular",
          "Regular",
          "Regular",
          "Regular",
          "Regular",
          "Regular",
          "Regular",
          "Regular",
          "Regular",
          "Regular",
          "Regular",
          "Regular",
          "Regular",
          "Regular",
          "Regular",
          "Regular",
          "Regular",
          "Regular",
          "Regular",
          "Regular",
          "Regular",
          "Regular",
          "Regular",
          "Regular",
          "Regular",
          "Regular",
          "Regular",
          "Regular",
          "Regular",
          "Regular",
          "Regular",
          "Regular",
          "Regular",
          "Regular",
          "Regular",
          "Regular",
          "Regular",
          "Regular",
          "Regular",
          "Regular",
          "Regular",
          "Regular",
          "Regular",
          "Regular",
          "Regular",
          "Regular",
          "Regular",
          "Regular",
          "Regular",
          "Regular",
          "Regular",
          "Regular",
          "Regular",
          "Regular",
          "Regular",
          "Regular",
          "Regular",
          "Regular",
          "Regular",
          "Regular",
          "Regular",
          "Regular",
          "Regular",
          "Regular",
          "Regular",
          "Regular",
          "Regular",
          "Regular",
          "Regular",
          "Regular",
          "Regular",
          "Regular",
          "Regular",
          "Regular",
          "Regular",
          "Regular",
          "Regular",
          "Regular",
          "Regular",
          "Regular",
          "Regular",
          "Regular",
          "Regular",
          "Regular",
          "Regular",
          "Regular",
          "Regular",
          "Regular",
          "Regular",
          "Regular",
          "Regular",
          "Regular",
          "Regular",
          "Regular",
          "Regular",
          "Regular",
          "Regular",
          "Regular",
          "Regular",
          "Regular",
          "Regular",
          "Regular",
          "Regular",
          "Regular",
          "Regular",
          "Regular",
          "Regular",
          "Regular",
          "Regular",
          "Regular",
          "Regular",
          "Regular",
          "Regular",
          "Regular",
          "Regular",
          "Regular",
          "Regular",
          "Regular",
          "Regular",
          "Regular",
          "Regular",
          "Regular",
          "Regular",
          "Regular",
          "Regular",
          "Regular",
          "Regular",
          "Regular",
          "Regular",
          "Regular",
          "Regular",
          "Regular",
          "Regular",
          "Regular",
          "Regular",
          "Regular",
          "Regular",
          "Regular",
          "Regular",
          "Regular",
          "Regular",
          "Regular",
          "Regular",
          "Regular",
          "Regular",
          "Regular",
          "Regular",
          "Regular",
          "Regular",
          "Regular",
          "Regular",
          "Regular",
          "Regular",
          "Regular",
          "Regular",
          "Regular",
          "Regular",
          "Regular",
          "Regular",
          "Regular",
          "Regular",
          "Regular",
          "Regular",
          "Regular",
          "Regular",
          "Regular",
          "Regular",
          "Regular",
          "Regular",
          "Regular",
          "Regular",
          "Regular",
          "Regular",
          "Regular",
          "Regular",
          "Regular",
          "Regular",
          "Regular",
          "Regular",
          "Regular",
          "Regular",
          "Regular",
          "Regular",
          "Regular",
          "Regular",
          "Regular",
          "Regular",
          "Regular",
          "Regular",
          "Regular",
          "Regular",
          "Regular",
          "Regular",
          "Regular",
          "Regular",
          "Regular",
          "Regular",
          "Regular",
          "Regular",
          "Regular",
          "Regular",
          "Regular",
          "Regular"
         ],
         "x0": " ",
         "xaxis": "x",
         "y": [
          755.12,
          1414.32,
          1307.87,
          215.77,
          608.73,
          258.17,
          818.48,
          1278.29,
          683.1,
          1109.35,
          1180.64,
          1475.44,
          1399.78,
          105.74,
          1390.63,
          1038.84,
          145.52,
          1009.56,
          794.77,
          894.43,
          1071.56,
          852.58,
          1481.79,
          181.83,
          246.79,
          909.88,
          813.67,
          813.67,
          813.67,
          133.13,
          261.66,
          258.77,
          734.89,
          1415.3,
          1083.12,
          1026.98,
          998.33,
          305.17,
          1418.61,
          578.69,
          1401.93,
          979.73,
          1063.61,
          1389.59,
          436.75,
          1430.4,
          904.88,
          813.67,
          1167.57,
          569.09,
          734.5,
          246.25,
          662.69,
          1442.4,
          843.57,
          799.18,
          404.05,
          1185.29,
          1170.54,
          166.65,
          795.66,
          1284.75,
          939.93,
          588.96,
          1094.63,
          1468.97,
          550.22,
          813.67,
          1289.1,
          1051.49,
          943.04,
          1163.76,
          1003.3,
          815.82,
          1410.69,
          955.88,
          1064.36,
          1415.12,
          1430.23,
          813.67,
          335.69,
          337.14,
          1248.95,
          813.67,
          813.67,
          286.89,
          647.72,
          1081.5,
          219.72,
          1141.85,
          169.12,
          813.67,
          174.84,
          1390.5,
          732.37,
          511.41,
          110.73,
          1490.84,
          1201.09,
          251.65,
          874.13,
          719.78,
          782.73,
          941.86,
          1202.61,
          813.67,
          773.96,
          1472.07,
          1099.48,
          301.53,
          552.09,
          215.13,
          146.67,
          863.63,
          1342.53,
          436.47,
          1224.91,
          236.37,
          1461.48,
          813.67,
          220.11,
          801.59,
          690.93,
          126.18,
          1330.9,
          930.44,
          813.67,
          813.67,
          154.28,
          415.6,
          1316.05,
          289.94,
          1440.19,
          249.38,
          930.72,
          1369.52,
          1414.54,
          663.52,
          140.24,
          1120.47,
          499.27,
          813.67,
          1453.44,
          1392.32,
          187.46,
          1207.93,
          489.84,
          922.85,
          514.91,
          813.67,
          797.71,
          380.87,
          686,
          553.82,
          1237.17,
          302.53,
          1261.23,
          1084.35,
          1129.01,
          269.64,
          1044.23,
          1184.98,
          813.67,
          640.65,
          814.72,
          277.46,
          813.67,
          275.59,
          859.85,
          1040.7,
          1008.65,
          1234.55,
          830.63,
          413.6,
          594.26,
          1289.26,
          896.8,
          869.71,
          229.83,
          570.18,
          713.62,
          207.8,
          209.75,
          657.03,
          1119.88,
          1033.8,
          284.45,
          272.06,
          1453.58,
          1190.99,
          1318.14,
          564.52,
          1199,
          846.35,
          401.13,
          813.67,
          174.4,
          1391.5,
          1313.53,
          452.93,
          813.67,
          440.25,
          584.29,
          1225.17,
          282.22,
          1130.1,
          165.26,
          1373.13,
          1147.34,
          1324.34,
          367.42,
          1395.42,
          228.28,
          682.72,
          386.3,
          1420.78,
          679.2,
          1303.55,
          1390.88,
          1103.76,
          591.88,
          1136.58,
          528.84,
          960.47,
          566.13,
          1275.99,
          1228.92,
          561.76,
          144.55,
          1198.24,
          813.67,
          900.05,
          1390.89,
          813.67,
          918.76,
          187.87,
          925.17,
          609.19,
          827.54,
          224.1,
          456.85,
          997.35,
          286.25,
          927.41,
          299.57,
          935.96,
          661.15,
          813.67,
          523.45,
          359.26,
          899.05,
          434.16,
          1433.85,
          641.96,
          1021.91,
          113.05,
          249.76,
          813.67,
          630.17,
          708.16,
          806.55,
          563.42,
          645.02,
          253.39,
          1439.37,
          1069.28,
          379.02,
          1209.25,
          1149.63,
          266.62,
          369.66,
          697.75,
          364.04
         ],
         "y0": " ",
         "yaxis": "y"
        },
        {
         "alignmentgroup": "True",
         "boxpoints": "all",
         "hovertemplate": "Customer Segment=%{x}<br>Sales Amount=%{y}<extra></extra>",
         "legendgroup": "Premium",
         "marker": {
          "color": "#00cc96"
         },
         "name": "Premium",
         "notched": false,
         "offsetgroup": "Premium",
         "orientation": "v",
         "showlegend": true,
         "type": "box",
         "x": [
          "Premium",
          "Premium",
          "Premium",
          "Premium",
          "Premium",
          "Premium",
          "Premium",
          "Premium",
          "Premium",
          "Premium",
          "Premium",
          "Premium",
          "Premium",
          "Premium",
          "Premium",
          "Premium",
          "Premium",
          "Premium",
          "Premium",
          "Premium",
          "Premium",
          "Premium",
          "Premium",
          "Premium",
          "Premium",
          "Premium",
          "Premium",
          "Premium",
          "Premium",
          "Premium",
          "Premium",
          "Premium",
          "Premium",
          "Premium",
          "Premium",
          "Premium",
          "Premium",
          "Premium",
          "Premium",
          "Premium",
          "Premium",
          "Premium",
          "Premium",
          "Premium",
          "Premium",
          "Premium",
          "Premium",
          "Premium",
          "Premium",
          "Premium",
          "Premium",
          "Premium",
          "Premium",
          "Premium",
          "Premium",
          "Premium",
          "Premium",
          "Premium",
          "Premium",
          "Premium",
          "Premium",
          "Premium",
          "Premium",
          "Premium",
          "Premium",
          "Premium",
          "Premium",
          "Premium",
          "Premium",
          "Premium",
          "Premium",
          "Premium",
          "Premium",
          "Premium",
          "Premium",
          "Premium",
          "Premium",
          "Premium",
          "Premium",
          "Premium",
          "Premium",
          "Premium",
          "Premium",
          "Premium",
          "Premium",
          "Premium",
          "Premium",
          "Premium",
          "Premium",
          "Premium",
          "Premium",
          "Premium",
          "Premium",
          "Premium",
          "Premium",
          "Premium",
          "Premium",
          "Premium",
          "Premium",
          "Premium",
          "Premium",
          "Premium",
          "Premium",
          "Premium",
          "Premium",
          "Premium",
          "Premium",
          "Premium",
          "Premium",
          "Premium",
          "Premium",
          "Premium",
          "Premium",
          "Premium",
          "Premium",
          "Premium",
          "Premium",
          "Premium",
          "Premium",
          "Premium",
          "Premium",
          "Premium",
          "Premium",
          "Premium",
          "Premium",
          "Premium",
          "Premium",
          "Premium",
          "Premium",
          "Premium",
          "Premium",
          "Premium",
          "Premium",
          "Premium",
          "Premium",
          "Premium",
          "Premium",
          "Premium",
          "Premium",
          "Premium",
          "Premium",
          "Premium",
          "Premium",
          "Premium",
          "Premium",
          "Premium",
          "Premium",
          "Premium",
          "Premium",
          "Premium",
          "Premium",
          "Premium",
          "Premium",
          "Premium",
          "Premium",
          "Premium",
          "Premium",
          "Premium",
          "Premium",
          "Premium",
          "Premium",
          "Premium",
          "Premium",
          "Premium",
          "Premium",
          "Premium",
          "Premium",
          "Premium",
          "Premium",
          "Premium",
          "Premium",
          "Premium",
          "Premium",
          "Premium",
          "Premium",
          "Premium",
          "Premium",
          "Premium",
          "Premium",
          "Premium",
          "Premium",
          "Premium",
          "Premium",
          "Premium",
          "Premium",
          "Premium",
          "Premium",
          "Premium",
          "Premium",
          "Premium",
          "Premium",
          "Premium",
          "Premium",
          "Premium",
          "Premium",
          "Premium",
          "Premium",
          "Premium",
          "Premium",
          "Premium",
          "Premium",
          "Premium",
          "Premium",
          "Premium",
          "Premium",
          "Premium",
          "Premium",
          "Premium",
          "Premium",
          "Premium",
          "Premium",
          "Premium",
          "Premium",
          "Premium",
          "Premium",
          "Premium",
          "Premium",
          "Premium",
          "Premium",
          "Premium",
          "Premium",
          "Premium",
          "Premium",
          "Premium",
          "Premium",
          "Premium",
          "Premium",
          "Premium",
          "Premium",
          "Premium",
          "Premium",
          "Premium",
          "Premium",
          "Premium",
          "Premium",
          "Premium",
          "Premium",
          "Premium",
          "Premium",
          "Premium",
          "Premium",
          "Premium",
          "Premium",
          "Premium",
          "Premium",
          "Premium",
          "Premium",
          "Premium",
          "Premium",
          "Premium",
          "Premium",
          "Premium",
          "Premium",
          "Premium",
          "Premium",
          "Premium",
          "Premium",
          "Premium",
          "Premium",
          "Premium",
          "Premium",
          "Premium",
          "Premium",
          "Premium",
          "Premium",
          "Premium",
          "Premium",
          "Premium",
          "Premium",
          "Premium",
          "Premium",
          "Premium",
          "Premium",
          "Premium",
          "Premium",
          "Premium",
          "Premium",
          "Premium",
          "Premium",
          "Premium",
          "Premium",
          "Premium",
          "Premium",
          "Premium",
          "Premium",
          "Premium",
          "Premium",
          "Premium",
          "Premium",
          "Premium",
          "Premium",
          "Premium",
          "Premium",
          "Premium",
          "Premium",
          "Premium",
          "Premium",
          "Premium",
          "Premium",
          "Premium",
          "Premium"
         ],
         "x0": " ",
         "xaxis": "x",
         "y": [
          160.09,
          500.71,
          1473.68,
          837.98,
          561.26,
          868.24,
          813.67,
          1317.86,
          488.95,
          1272.1,
          320.72,
          612.83,
          813.67,
          535.9,
          1104.38,
          989.42,
          1428.69,
          437.96,
          1294.33,
          839.77,
          1184.66,
          221.48,
          482.09,
          643.67,
          1255.56,
          802.18,
          351.92,
          305.62,
          924,
          915.45,
          1252.91,
          722.72,
          170.34,
          515.23,
          1206.75,
          577.18,
          411.34,
          909.97,
          387.3,
          902.91,
          917.88,
          573.83,
          898.5,
          915.49,
          734.96,
          813.67,
          676.01,
          714.85,
          1003.36,
          813.67,
          859.35,
          632.22,
          1466.35,
          638.93,
          217.62,
          1193.15,
          1204.12,
          559.47,
          982.25,
          627.28,
          1324.92,
          413.93,
          813.67,
          1005.54,
          493.02,
          197.49,
          279.65,
          1377.13,
          430.18,
          283.58,
          1167.45,
          111.55,
          666.01,
          1084.36,
          1003.62,
          1032.06,
          813.67,
          644.73,
          512.28,
          246.14,
          813.67,
          813.67,
          371.11,
          954.68,
          923.12,
          245.11,
          931.06,
          877.6,
          146.88,
          1109.79,
          556.9,
          813.67,
          520.61,
          123.11,
          1362.77,
          541.7,
          249.32,
          365.54,
          892.21,
          953.56,
          702.19,
          868.52,
          603.42,
          642.34,
          509.2,
          308.14,
          422.5,
          1223.48,
          813.67,
          551.43,
          1265.18,
          1292.07,
          1464.75,
          1051.35,
          623.65,
          1016.52,
          813.67,
          257.74,
          792.65,
          1356.9,
          813.67,
          408.19,
          168.25,
          813.67,
          371.6,
          181.59,
          1196.35,
          499.57,
          856.96,
          189.24,
          264.1,
          1468.56,
          614.75,
          1037.6,
          1103.3,
          1451.58,
          925.1,
          1349.22,
          358.91,
          1451.14,
          859.54,
          868.71,
          813.67,
          529.78,
          573.65,
          547.5,
          813.67,
          899.17,
          990.71,
          106.06,
          813.67,
          1126.82,
          420.16,
          681.24,
          1183.86,
          1439.48,
          1166.79,
          813.67,
          466.97,
          1432.67,
          1030.91,
          184.68,
          1425.32,
          1199.4,
          462.19,
          271.16,
          339.9,
          904.94,
          853.86,
          1366.23,
          1294.72,
          440.23,
          813.67,
          1254.81,
          1112.08,
          1463.54,
          1322.42,
          930.75,
          590.77,
          320.78,
          176.87,
          924.08,
          113.21,
          1452.91,
          120.75,
          1425.13,
          343.41,
          999.55,
          974.29,
          813.67,
          880.34,
          1084.5,
          1018.93,
          656.72,
          993.4,
          728.9,
          981.14,
          1194.12,
          1446.79,
          290.45,
          726.7,
          942.91,
          1045.94,
          302.88,
          636.93,
          172.16,
          813.67,
          159.39,
          489.85,
          624.49,
          1087.19,
          415.79,
          1097.55,
          1173.56,
          1386.19,
          355.85,
          310.04,
          441.6,
          843.72,
          721.73,
          143.73,
          1407.43,
          1278.99,
          1449.66,
          1472.78,
          806.26,
          206.78,
          1445.86,
          292.17,
          350.7,
          1380.25,
          1455.83,
          815.71,
          637.04,
          813.67,
          257.15,
          202.47,
          300.86,
          851.29,
          813.67,
          473.36,
          1383.49,
          1373.03,
          903.62,
          587.93,
          1002.35,
          234.58,
          774.22,
          1435.8,
          635.77,
          341.98,
          1449,
          213.77,
          483.49,
          813.67,
          813.67,
          813.67,
          405.55,
          391.24,
          579.45,
          813.67,
          622.46,
          848.85,
          596.16,
          1383.71,
          1018.65,
          895.62,
          1043.5,
          1012.96,
          381.47,
          813.67,
          972.88,
          557.04,
          1108.56,
          813.67,
          291.27,
          308.53,
          212.52,
          559.71,
          377.04,
          1487.08,
          813.67,
          675.04,
          295.7,
          470.35,
          813.67,
          840.03,
          1211.37,
          813.67,
          1267.21,
          483.72,
          1242.78,
          191.67,
          389.85,
          788.48,
          755.5,
          1345.25,
          1323.56,
          391.8,
          1474.29,
          1249.33
         ],
         "y0": " ",
         "yaxis": "y"
        }
       ],
       "layout": {
        "boxmode": "overlay",
        "legend": {
         "title": {
          "text": "Customer Segment"
         },
         "tracegroupgap": 0
        },
        "template": {
         "data": {
          "bar": [
           {
            "error_x": {
             "color": "#2a3f5f"
            },
            "error_y": {
             "color": "#2a3f5f"
            },
            "marker": {
             "line": {
              "color": "#E5ECF6",
              "width": 0.5
             },
             "pattern": {
              "fillmode": "overlay",
              "size": 10,
              "solidity": 0.2
             }
            },
            "type": "bar"
           }
          ],
          "barpolar": [
           {
            "marker": {
             "line": {
              "color": "#E5ECF6",
              "width": 0.5
             },
             "pattern": {
              "fillmode": "overlay",
              "size": 10,
              "solidity": 0.2
             }
            },
            "type": "barpolar"
           }
          ],
          "carpet": [
           {
            "aaxis": {
             "endlinecolor": "#2a3f5f",
             "gridcolor": "white",
             "linecolor": "white",
             "minorgridcolor": "white",
             "startlinecolor": "#2a3f5f"
            },
            "baxis": {
             "endlinecolor": "#2a3f5f",
             "gridcolor": "white",
             "linecolor": "white",
             "minorgridcolor": "white",
             "startlinecolor": "#2a3f5f"
            },
            "type": "carpet"
           }
          ],
          "choropleth": [
           {
            "colorbar": {
             "outlinewidth": 0,
             "ticks": ""
            },
            "type": "choropleth"
           }
          ],
          "contour": [
           {
            "colorbar": {
             "outlinewidth": 0,
             "ticks": ""
            },
            "colorscale": [
             [
              0,
              "#0d0887"
             ],
             [
              0.1111111111111111,
              "#46039f"
             ],
             [
              0.2222222222222222,
              "#7201a8"
             ],
             [
              0.3333333333333333,
              "#9c179e"
             ],
             [
              0.4444444444444444,
              "#bd3786"
             ],
             [
              0.5555555555555556,
              "#d8576b"
             ],
             [
              0.6666666666666666,
              "#ed7953"
             ],
             [
              0.7777777777777778,
              "#fb9f3a"
             ],
             [
              0.8888888888888888,
              "#fdca26"
             ],
             [
              1,
              "#f0f921"
             ]
            ],
            "type": "contour"
           }
          ],
          "contourcarpet": [
           {
            "colorbar": {
             "outlinewidth": 0,
             "ticks": ""
            },
            "type": "contourcarpet"
           }
          ],
          "heatmap": [
           {
            "colorbar": {
             "outlinewidth": 0,
             "ticks": ""
            },
            "colorscale": [
             [
              0,
              "#0d0887"
             ],
             [
              0.1111111111111111,
              "#46039f"
             ],
             [
              0.2222222222222222,
              "#7201a8"
             ],
             [
              0.3333333333333333,
              "#9c179e"
             ],
             [
              0.4444444444444444,
              "#bd3786"
             ],
             [
              0.5555555555555556,
              "#d8576b"
             ],
             [
              0.6666666666666666,
              "#ed7953"
             ],
             [
              0.7777777777777778,
              "#fb9f3a"
             ],
             [
              0.8888888888888888,
              "#fdca26"
             ],
             [
              1,
              "#f0f921"
             ]
            ],
            "type": "heatmap"
           }
          ],
          "heatmapgl": [
           {
            "colorbar": {
             "outlinewidth": 0,
             "ticks": ""
            },
            "colorscale": [
             [
              0,
              "#0d0887"
             ],
             [
              0.1111111111111111,
              "#46039f"
             ],
             [
              0.2222222222222222,
              "#7201a8"
             ],
             [
              0.3333333333333333,
              "#9c179e"
             ],
             [
              0.4444444444444444,
              "#bd3786"
             ],
             [
              0.5555555555555556,
              "#d8576b"
             ],
             [
              0.6666666666666666,
              "#ed7953"
             ],
             [
              0.7777777777777778,
              "#fb9f3a"
             ],
             [
              0.8888888888888888,
              "#fdca26"
             ],
             [
              1,
              "#f0f921"
             ]
            ],
            "type": "heatmapgl"
           }
          ],
          "histogram": [
           {
            "marker": {
             "pattern": {
              "fillmode": "overlay",
              "size": 10,
              "solidity": 0.2
             }
            },
            "type": "histogram"
           }
          ],
          "histogram2d": [
           {
            "colorbar": {
             "outlinewidth": 0,
             "ticks": ""
            },
            "colorscale": [
             [
              0,
              "#0d0887"
             ],
             [
              0.1111111111111111,
              "#46039f"
             ],
             [
              0.2222222222222222,
              "#7201a8"
             ],
             [
              0.3333333333333333,
              "#9c179e"
             ],
             [
              0.4444444444444444,
              "#bd3786"
             ],
             [
              0.5555555555555556,
              "#d8576b"
             ],
             [
              0.6666666666666666,
              "#ed7953"
             ],
             [
              0.7777777777777778,
              "#fb9f3a"
             ],
             [
              0.8888888888888888,
              "#fdca26"
             ],
             [
              1,
              "#f0f921"
             ]
            ],
            "type": "histogram2d"
           }
          ],
          "histogram2dcontour": [
           {
            "colorbar": {
             "outlinewidth": 0,
             "ticks": ""
            },
            "colorscale": [
             [
              0,
              "#0d0887"
             ],
             [
              0.1111111111111111,
              "#46039f"
             ],
             [
              0.2222222222222222,
              "#7201a8"
             ],
             [
              0.3333333333333333,
              "#9c179e"
             ],
             [
              0.4444444444444444,
              "#bd3786"
             ],
             [
              0.5555555555555556,
              "#d8576b"
             ],
             [
              0.6666666666666666,
              "#ed7953"
             ],
             [
              0.7777777777777778,
              "#fb9f3a"
             ],
             [
              0.8888888888888888,
              "#fdca26"
             ],
             [
              1,
              "#f0f921"
             ]
            ],
            "type": "histogram2dcontour"
           }
          ],
          "mesh3d": [
           {
            "colorbar": {
             "outlinewidth": 0,
             "ticks": ""
            },
            "type": "mesh3d"
           }
          ],
          "parcoords": [
           {
            "line": {
             "colorbar": {
              "outlinewidth": 0,
              "ticks": ""
             }
            },
            "type": "parcoords"
           }
          ],
          "pie": [
           {
            "automargin": true,
            "type": "pie"
           }
          ],
          "scatter": [
           {
            "fillpattern": {
             "fillmode": "overlay",
             "size": 10,
             "solidity": 0.2
            },
            "type": "scatter"
           }
          ],
          "scatter3d": [
           {
            "line": {
             "colorbar": {
              "outlinewidth": 0,
              "ticks": ""
             }
            },
            "marker": {
             "colorbar": {
              "outlinewidth": 0,
              "ticks": ""
             }
            },
            "type": "scatter3d"
           }
          ],
          "scattercarpet": [
           {
            "marker": {
             "colorbar": {
              "outlinewidth": 0,
              "ticks": ""
             }
            },
            "type": "scattercarpet"
           }
          ],
          "scattergeo": [
           {
            "marker": {
             "colorbar": {
              "outlinewidth": 0,
              "ticks": ""
             }
            },
            "type": "scattergeo"
           }
          ],
          "scattergl": [
           {
            "marker": {
             "colorbar": {
              "outlinewidth": 0,
              "ticks": ""
             }
            },
            "type": "scattergl"
           }
          ],
          "scattermapbox": [
           {
            "marker": {
             "colorbar": {
              "outlinewidth": 0,
              "ticks": ""
             }
            },
            "type": "scattermapbox"
           }
          ],
          "scatterpolar": [
           {
            "marker": {
             "colorbar": {
              "outlinewidth": 0,
              "ticks": ""
             }
            },
            "type": "scatterpolar"
           }
          ],
          "scatterpolargl": [
           {
            "marker": {
             "colorbar": {
              "outlinewidth": 0,
              "ticks": ""
             }
            },
            "type": "scatterpolargl"
           }
          ],
          "scatterternary": [
           {
            "marker": {
             "colorbar": {
              "outlinewidth": 0,
              "ticks": ""
             }
            },
            "type": "scatterternary"
           }
          ],
          "surface": [
           {
            "colorbar": {
             "outlinewidth": 0,
             "ticks": ""
            },
            "colorscale": [
             [
              0,
              "#0d0887"
             ],
             [
              0.1111111111111111,
              "#46039f"
             ],
             [
              0.2222222222222222,
              "#7201a8"
             ],
             [
              0.3333333333333333,
              "#9c179e"
             ],
             [
              0.4444444444444444,
              "#bd3786"
             ],
             [
              0.5555555555555556,
              "#d8576b"
             ],
             [
              0.6666666666666666,
              "#ed7953"
             ],
             [
              0.7777777777777778,
              "#fb9f3a"
             ],
             [
              0.8888888888888888,
              "#fdca26"
             ],
             [
              1,
              "#f0f921"
             ]
            ],
            "type": "surface"
           }
          ],
          "table": [
           {
            "cells": {
             "fill": {
              "color": "#EBF0F8"
             },
             "line": {
              "color": "white"
             }
            },
            "header": {
             "fill": {
              "color": "#C8D4E3"
             },
             "line": {
              "color": "white"
             }
            },
            "type": "table"
           }
          ]
         },
         "layout": {
          "annotationdefaults": {
           "arrowcolor": "#2a3f5f",
           "arrowhead": 0,
           "arrowwidth": 1
          },
          "autotypenumbers": "strict",
          "coloraxis": {
           "colorbar": {
            "outlinewidth": 0,
            "ticks": ""
           }
          },
          "colorscale": {
           "diverging": [
            [
             0,
             "#8e0152"
            ],
            [
             0.1,
             "#c51b7d"
            ],
            [
             0.2,
             "#de77ae"
            ],
            [
             0.3,
             "#f1b6da"
            ],
            [
             0.4,
             "#fde0ef"
            ],
            [
             0.5,
             "#f7f7f7"
            ],
            [
             0.6,
             "#e6f5d0"
            ],
            [
             0.7,
             "#b8e186"
            ],
            [
             0.8,
             "#7fbc41"
            ],
            [
             0.9,
             "#4d9221"
            ],
            [
             1,
             "#276419"
            ]
           ],
           "sequential": [
            [
             0,
             "#0d0887"
            ],
            [
             0.1111111111111111,
             "#46039f"
            ],
            [
             0.2222222222222222,
             "#7201a8"
            ],
            [
             0.3333333333333333,
             "#9c179e"
            ],
            [
             0.4444444444444444,
             "#bd3786"
            ],
            [
             0.5555555555555556,
             "#d8576b"
            ],
            [
             0.6666666666666666,
             "#ed7953"
            ],
            [
             0.7777777777777778,
             "#fb9f3a"
            ],
            [
             0.8888888888888888,
             "#fdca26"
            ],
            [
             1,
             "#f0f921"
            ]
           ],
           "sequentialminus": [
            [
             0,
             "#0d0887"
            ],
            [
             0.1111111111111111,
             "#46039f"
            ],
            [
             0.2222222222222222,
             "#7201a8"
            ],
            [
             0.3333333333333333,
             "#9c179e"
            ],
            [
             0.4444444444444444,
             "#bd3786"
            ],
            [
             0.5555555555555556,
             "#d8576b"
            ],
            [
             0.6666666666666666,
             "#ed7953"
            ],
            [
             0.7777777777777778,
             "#fb9f3a"
            ],
            [
             0.8888888888888888,
             "#fdca26"
            ],
            [
             1,
             "#f0f921"
            ]
           ]
          },
          "colorway": [
           "#636efa",
           "#EF553B",
           "#00cc96",
           "#ab63fa",
           "#FFA15A",
           "#19d3f3",
           "#FF6692",
           "#B6E880",
           "#FF97FF",
           "#FECB52"
          ],
          "font": {
           "color": "#2a3f5f"
          },
          "geo": {
           "bgcolor": "white",
           "lakecolor": "white",
           "landcolor": "#E5ECF6",
           "showlakes": true,
           "showland": true,
           "subunitcolor": "white"
          },
          "hoverlabel": {
           "align": "left"
          },
          "hovermode": "closest",
          "mapbox": {
           "style": "light"
          },
          "paper_bgcolor": "white",
          "plot_bgcolor": "#E5ECF6",
          "polar": {
           "angularaxis": {
            "gridcolor": "white",
            "linecolor": "white",
            "ticks": ""
           },
           "bgcolor": "#E5ECF6",
           "radialaxis": {
            "gridcolor": "white",
            "linecolor": "white",
            "ticks": ""
           }
          },
          "scene": {
           "xaxis": {
            "backgroundcolor": "#E5ECF6",
            "gridcolor": "white",
            "gridwidth": 2,
            "linecolor": "white",
            "showbackground": true,
            "ticks": "",
            "zerolinecolor": "white"
           },
           "yaxis": {
            "backgroundcolor": "#E5ECF6",
            "gridcolor": "white",
            "gridwidth": 2,
            "linecolor": "white",
            "showbackground": true,
            "ticks": "",
            "zerolinecolor": "white"
           },
           "zaxis": {
            "backgroundcolor": "#E5ECF6",
            "gridcolor": "white",
            "gridwidth": 2,
            "linecolor": "white",
            "showbackground": true,
            "ticks": "",
            "zerolinecolor": "white"
           }
          },
          "shapedefaults": {
           "line": {
            "color": "#2a3f5f"
           }
          },
          "ternary": {
           "aaxis": {
            "gridcolor": "white",
            "linecolor": "white",
            "ticks": ""
           },
           "baxis": {
            "gridcolor": "white",
            "linecolor": "white",
            "ticks": ""
           },
           "bgcolor": "#E5ECF6",
           "caxis": {
            "gridcolor": "white",
            "linecolor": "white",
            "ticks": ""
           }
          },
          "title": {
           "x": 0.05
          },
          "xaxis": {
           "automargin": true,
           "gridcolor": "white",
           "linecolor": "white",
           "ticks": "",
           "title": {
            "standoff": 15
           },
           "zerolinecolor": "white",
           "zerolinewidth": 2
          },
          "yaxis": {
           "automargin": true,
           "gridcolor": "white",
           "linecolor": "white",
           "ticks": "",
           "title": {
            "standoff": 15
           },
           "zerolinecolor": "white",
           "zerolinewidth": 2
          }
         }
        },
        "title": {
         "text": "Sales Amount Distribution by Customer Segment"
        },
        "xaxis": {
         "anchor": "y",
         "categoryarray": [
          "New",
          "Regular",
          "Premium"
         ],
         "categoryorder": "array",
         "domain": [
          0,
          1
         ],
         "title": {
          "text": "Customer Segment"
         }
        },
        "yaxis": {
         "anchor": "x",
         "domain": [
          0,
          1
         ],
         "title": {
          "text": "Sales Amount"
         }
        }
       }
      }
     },
     "metadata": {},
     "output_type": "display_data"
    }
   ],
   "source": [
    "fig = px.box(\n",
    "    df, x='Customer Segment', y='Sales Amount', color='Customer Segment',\n",
    "    title='Sales Amount Distribution by Customer Segment',\n",
    "    points=\"all\", # show all points for more insight\n",
    ")\n",
    "fig.show()\n"
   ]
  },
  {
   "cell_type": "code",
   "execution_count": null,
   "metadata": {},
   "outputs": [],
   "source": []
  }
 ],
 "metadata": {
  "kernelspec": {
   "display_name": "EDA",
   "language": "python",
   "name": "python3"
  },
  "language_info": {
   "codemirror_mode": {
    "name": "ipython",
    "version": 3
   },
   "file_extension": ".py",
   "mimetype": "text/x-python",
   "name": "python",
   "nbconvert_exporter": "python",
   "pygments_lexer": "ipython3",
   "version": "3.9.16"
  }
 },
 "nbformat": 4,
 "nbformat_minor": 2
}
